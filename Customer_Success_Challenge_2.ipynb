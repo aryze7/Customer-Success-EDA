{
 "cells": [
  {
   "cell_type": "markdown",
   "metadata": {},
   "source": [
    "# Customer Success Challenge\n",
    "## Importing libraries\n"
   ]
  },
  {
   "cell_type": "code",
   "execution_count": 1,
   "metadata": {},
   "outputs": [],
   "source": [
    "import pandas as pd \n",
    "import numpy as np\n",
    "import plotly.express as px\n",
    "import plotly.graph_objects as go\n",
    "pd.set_option('display.max_columns', 100)\n",
    "pd.options.plotting.backend='plotly'\n",
    "import warnings\n",
    "warnings.filterwarnings('ignore')"
   ]
  },
  {
   "cell_type": "markdown",
   "metadata": {},
   "source": [
    "## Reading the excel worksheet and exploring the data format\n"
   ]
  },
  {
   "cell_type": "code",
   "execution_count": 2,
   "metadata": {},
   "outputs": [
    {
     "data": {
      "text/html": [
       "<div><div id=84758ea0-3039-4a08-a0ec-093e3a7b77a2 style=\"display:none; background-color:#9D6CFF; color:white; width:200px; height:30px; padding-left:5px; border-radius:4px; flex-direction:row; justify-content:space-around; align-items:center;\" onmouseover=\"this.style.backgroundColor='#BA9BF8'\" onmouseout=\"this.style.backgroundColor='#9D6CFF'\" onclick=\"window.commands?.execute('create-mitosheet-from-dataframe-output');\">See Full Dataframe in Mito</div> <script> if (window.commands.hasCommand('create-mitosheet-from-dataframe-output')) document.getElementById('84758ea0-3039-4a08-a0ec-093e3a7b77a2').style.display = 'flex' </script> <table border=\"1\" class=\"dataframe\">\n",
       "  <thead>\n",
       "    <tr style=\"text-align: right;\">\n",
       "      <th></th>\n",
       "      <th>Id</th>\n",
       "      <th>Name</th>\n",
       "      <th>Href</th>\n",
       "      <th>_ExternalId</th>\n",
       "      <th>Receipt No</th>\n",
       "      <th>Customer No</th>\n",
       "      <th>Shop Date</th>\n",
       "      <th>Store</th>\n",
       "      <th>NPS Label</th>\n",
       "      <th>NPS Score</th>\n",
       "      <th>Likelihood To Shop Again</th>\n",
       "      <th>Customer Satisfaction Score</th>\n",
       "      <th>Category</th>\n",
       "      <th>Question</th>\n",
       "      <th>Comment</th>\n",
       "      <th>Total Spend</th>\n",
       "      <th>Age</th>\n",
       "      <th>Age Group</th>\n",
       "      <th>Gender</th>\n",
       "      <th>Price</th>\n",
       "      <th>Availability</th>\n",
       "      <th>Service</th>\n",
       "      <th>Information</th>\n",
       "      <th>Requested Callback</th>\n",
       "      <th>Time Of Day</th>\n",
       "      <th>Region</th>\n",
       "      <th>Division</th>\n",
       "      <th>Comment Tags</th>\n",
       "    </tr>\n",
       "  </thead>\n",
       "  <tbody>\n",
       "    <tr>\n",
       "      <th>0</th>\n",
       "      <td>0</td>\n",
       "      <td>Detractor</td>\n",
       "      <td>NaN</td>\n",
       "      <td>10</td>\n",
       "      <td>40323</td>\n",
       "      <td>9902292</td>\n",
       "      <td>2014-10-02T11:00:00</td>\n",
       "      <td>Bankstown</td>\n",
       "      <td>Detractor</td>\n",
       "      <td>5</td>\n",
       "      <td>6</td>\n",
       "      <td>5</td>\n",
       "      <td>Product Quality Comments</td>\n",
       "      <td>Product Quality Dissatisfaction Comments</td>\n",
       "      <td>Some of the garments I was interested in most were dirty. I was dissatisfied with this seeing as though I was purchasing gifts for newborns.</td>\n",
       "      <td>$887.75</td>\n",
       "      <td>44</td>\n",
       "      <td>40-49</td>\n",
       "      <td>Female</td>\n",
       "      <td>Worse</td>\n",
       "      <td>Worse</td>\n",
       "      <td>Worse</td>\n",
       "      <td>Worse</td>\n",
       "      <td>No</td>\n",
       "      <td>11am</td>\n",
       "      <td>Region 2</td>\n",
       "      <td>Apparel</td>\n",
       "      <td>Cleanliness, Buy, Apparel, Purchase, Quality, unhappy,</td>\n",
       "    </tr>\n",
       "    <tr>\n",
       "      <th>1</th>\n",
       "      <td>2</td>\n",
       "      <td>Neutral</td>\n",
       "      <td>NaN</td>\n",
       "      <td>10001</td>\n",
       "      <td>87232</td>\n",
       "      <td>6548111</td>\n",
       "      <td>2014-10-02T11:00:00</td>\n",
       "      <td>Fremantle</td>\n",
       "      <td>Neutral</td>\n",
       "      <td>8</td>\n",
       "      <td>8</td>\n",
       "      <td>8</td>\n",
       "      <td>Satisfaction Comments</td>\n",
       "      <td>Satisfaction Comments</td>\n",
       "      <td>Shop nicely arranged could find what I wanted easily, happy friendly staff</td>\n",
       "      <td>$441.57</td>\n",
       "      <td>71</td>\n",
       "      <td>60+</td>\n",
       "      <td>Female</td>\n",
       "      <td>Worse</td>\n",
       "      <td>Worse</td>\n",
       "      <td>Worse</td>\n",
       "      <td>Worse</td>\n",
       "      <td>Yes</td>\n",
       "      <td>11am</td>\n",
       "      <td>Region 2</td>\n",
       "      <td>Other</td>\n",
       "      <td>Staff, Friendly, Happy, Service, Shopping,</td>\n",
       "    </tr>\n",
       "    <tr>\n",
       "      <th>2</th>\n",
       "      <td>3</td>\n",
       "      <td>Neutral</td>\n",
       "      <td>NaN</td>\n",
       "      <td>10005</td>\n",
       "      <td>91864</td>\n",
       "      <td>6332969</td>\n",
       "      <td>2014-10-02T11:00:00</td>\n",
       "      <td>Chadstone</td>\n",
       "      <td>Neutral</td>\n",
       "      <td>8</td>\n",
       "      <td>8</td>\n",
       "      <td>8</td>\n",
       "      <td>Satisfaction Comments</td>\n",
       "      <td>Satisfaction Comments</td>\n",
       "      <td>you had the item I wanted at a reasonable price</td>\n",
       "      <td>$327.09</td>\n",
       "      <td>56</td>\n",
       "      <td>50-59</td>\n",
       "      <td>Male</td>\n",
       "      <td>Worse</td>\n",
       "      <td>Better</td>\n",
       "      <td>Same</td>\n",
       "      <td>Worse</td>\n",
       "      <td>No</td>\n",
       "      <td>11am</td>\n",
       "      <td>Region 3</td>\n",
       "      <td>House</td>\n",
       "      <td>Staff, Item, Price, Range,</td>\n",
       "    </tr>\n",
       "    <tr>\n",
       "      <th>3</th>\n",
       "      <td>5</td>\n",
       "      <td>Promoter</td>\n",
       "      <td>NaN</td>\n",
       "      <td>10009</td>\n",
       "      <td>72154</td>\n",
       "      <td>1125720</td>\n",
       "      <td>2014-10-02T11:00:00</td>\n",
       "      <td>Perth CBD</td>\n",
       "      <td>Promoter</td>\n",
       "      <td>9</td>\n",
       "      <td>10</td>\n",
       "      <td>8</td>\n",
       "      <td>Satisfaction Comments</td>\n",
       "      <td>Satisfaction Comments</td>\n",
       "      <td>Happy and helpfull</td>\n",
       "      <td>$848.26</td>\n",
       "      <td>47</td>\n",
       "      <td>40-49</td>\n",
       "      <td>Female</td>\n",
       "      <td>Worse</td>\n",
       "      <td>Better</td>\n",
       "      <td>Worse</td>\n",
       "      <td>Worse</td>\n",
       "      <td>Yes</td>\n",
       "      <td>11am</td>\n",
       "      <td>Region 4</td>\n",
       "      <td>Other</td>\n",
       "      <td>Happy, Service,</td>\n",
       "    </tr>\n",
       "    <tr>\n",
       "      <th>4</th>\n",
       "      <td>6</td>\n",
       "      <td>Promoter</td>\n",
       "      <td>NaN</td>\n",
       "      <td>10010</td>\n",
       "      <td>71470</td>\n",
       "      <td>1495545</td>\n",
       "      <td>2014-10-02T17:00:00</td>\n",
       "      <td>Katanning</td>\n",
       "      <td>Promoter</td>\n",
       "      <td>9</td>\n",
       "      <td>9</td>\n",
       "      <td>8</td>\n",
       "      <td>Satisfaction Comments</td>\n",
       "      <td>Satisfaction Comments</td>\n",
       "      <td>Whenever I asked for help they patiently assist me.</td>\n",
       "      <td>$304.24</td>\n",
       "      <td>66</td>\n",
       "      <td>60+</td>\n",
       "      <td>Female</td>\n",
       "      <td>Same</td>\n",
       "      <td>Better</td>\n",
       "      <td>Better</td>\n",
       "      <td>Worse</td>\n",
       "      <td>Yes</td>\n",
       "      <td>5pm</td>\n",
       "      <td>Region 3</td>\n",
       "      <td>House</td>\n",
       "      <td>Staff</td>\n",
       "    </tr>\n",
       "  </tbody>\n",
       "</table></div>"
      ],
      "text/plain": [
       "   Id       Name  Href  _ExternalId  Receipt No  Customer No  \\\n",
       "0   0  Detractor   NaN           10       40323      9902292   \n",
       "1   2    Neutral   NaN        10001       87232      6548111   \n",
       "2   3    Neutral   NaN        10005       91864      6332969   \n",
       "3   5   Promoter   NaN        10009       72154      1125720   \n",
       "4   6   Promoter   NaN        10010       71470      1495545   \n",
       "\n",
       "             Shop Date      Store  NPS Label  NPS Score  \\\n",
       "0  2014-10-02T11:00:00  Bankstown  Detractor          5   \n",
       "1  2014-10-02T11:00:00  Fremantle    Neutral          8   \n",
       "2  2014-10-02T11:00:00  Chadstone    Neutral          8   \n",
       "3  2014-10-02T11:00:00  Perth CBD   Promoter          9   \n",
       "4  2014-10-02T17:00:00  Katanning   Promoter          9   \n",
       "\n",
       "   Likelihood To Shop Again  Customer Satisfaction Score  \\\n",
       "0                         6                            5   \n",
       "1                         8                            8   \n",
       "2                         8                            8   \n",
       "3                        10                            8   \n",
       "4                         9                            8   \n",
       "\n",
       "                   Category                                  Question  \\\n",
       "0  Product Quality Comments  Product Quality Dissatisfaction Comments   \n",
       "1     Satisfaction Comments                     Satisfaction Comments   \n",
       "2     Satisfaction Comments                     Satisfaction Comments   \n",
       "3     Satisfaction Comments                     Satisfaction Comments   \n",
       "4     Satisfaction Comments                     Satisfaction Comments   \n",
       "\n",
       "                                             Comment Total Spend  Age  \\\n",
       "0  Some of the garments I was interested in most ...     $887.75   44   \n",
       "1  Shop nicely arranged could find what I wanted ...     $441.57   71   \n",
       "2    you had the item I wanted at a reasonable price     $327.09   56   \n",
       "3                                 Happy and helpfull     $848.26   47   \n",
       "4  Whenever I asked for help they patiently assis...     $304.24   66   \n",
       "\n",
       "  Age Group  Gender  Price Availability Service Information  \\\n",
       "0     40-49  Female  Worse        Worse   Worse       Worse   \n",
       "1       60+  Female  Worse        Worse   Worse       Worse   \n",
       "2     50-59    Male  Worse       Better    Same       Worse   \n",
       "3     40-49  Female  Worse       Better   Worse       Worse   \n",
       "4       60+  Female   Same       Better  Better       Worse   \n",
       "\n",
       "  Requested Callback Time Of Day    Region Division  \\\n",
       "0                 No        11am  Region 2  Apparel   \n",
       "1                Yes        11am  Region 2    Other   \n",
       "2                 No        11am  Region 3    House   \n",
       "3                Yes        11am  Region 4    Other   \n",
       "4                Yes         5pm  Region 3    House   \n",
       "\n",
       "                                        Comment Tags  \n",
       "0  Cleanliness, Buy, Apparel, Purchase, Quality, ...  \n",
       "1        Staff, Friendly, Happy, Service, Shopping,   \n",
       "2                        Staff, Item, Price, Range,   \n",
       "3                                   Happy, Service,   \n",
       "4                                              Staff  "
      ]
     },
     "execution_count": 2,
     "metadata": {},
     "output_type": "execute_result"
    }
   ],
   "source": [
    "xls_file = pd.ExcelFile('Customer Data Analyst - Skills Test (BlueMountain).xls')\n",
    "customer_data = pd.read_excel(xls_file, 'Excel Export')\n",
    "customer_data.head()"
   ]
  },
  {
   "cell_type": "code",
   "execution_count": 3,
   "metadata": {},
   "outputs": [
    {
     "data": {
      "text/plain": [
       "Id                               int64\n",
       "Name                            object\n",
       "Href                           float64\n",
       "_ExternalId                      int64\n",
       "Receipt No                       int64\n",
       "Customer No                      int64\n",
       "Shop Date                       object\n",
       "Store                           object\n",
       "NPS Label                       object\n",
       "NPS Score                        int64\n",
       "Likelihood To Shop Again         int64\n",
       "Customer Satisfaction Score      int64\n",
       "Category                        object\n",
       "Question                        object\n",
       "Comment                         object\n",
       "Total Spend                     object\n",
       "Age                              int64\n",
       "Age Group                       object\n",
       "Gender                          object\n",
       "Price                           object\n",
       "Availability                    object\n",
       "Service                         object\n",
       "Information                     object\n",
       "Requested Callback              object\n",
       "Time Of Day                     object\n",
       "Region                          object\n",
       "Division                        object\n",
       "Comment Tags                    object\n",
       "dtype: object"
      ]
     },
     "execution_count": 3,
     "metadata": {},
     "output_type": "execute_result"
    }
   ],
   "source": [
    "customer_data.dtypes"
   ]
  },
  {
   "cell_type": "markdown",
   "metadata": {},
   "source": [
    "# Stats on Data: \n",
    "## The below stats tell us a lot about the data, few of the immediate key findings are: \n",
    "1. Looking at the Likelihood of customers to return and shop again, the average is 7.5 out of 10. Few customers have rated 0, which means they wouldn't be shopping again. \n",
    "2. Customer satisfaction score hits an average of 7/10, while the maximum score ever recorded in the data is 8 with the least being 4. \n",
    "3. The average age of shoppers is 48, with the maximum age of customer being 77 and minimum age of customer being 18 that have shopped in store. "
   ]
  },
  {
   "cell_type": "code",
   "execution_count": 4,
   "metadata": {},
   "outputs": [
    {
     "data": {
      "text/html": [
       "<div><div id=700c8a17-a1a9-4254-8219-1f9d0836f04c style=\"display:none; background-color:#9D6CFF; color:white; width:200px; height:30px; padding-left:5px; border-radius:4px; flex-direction:row; justify-content:space-around; align-items:center;\" onmouseover=\"this.style.backgroundColor='#BA9BF8'\" onmouseout=\"this.style.backgroundColor='#9D6CFF'\" onclick=\"window.commands?.execute('create-mitosheet-from-dataframe-output');\">See Full Dataframe in Mito</div> <script> if (window.commands.hasCommand('create-mitosheet-from-dataframe-output')) document.getElementById('700c8a17-a1a9-4254-8219-1f9d0836f04c').style.display = 'flex' </script> <table border=\"1\" class=\"dataframe\">\n",
       "  <thead>\n",
       "    <tr style=\"text-align: right;\">\n",
       "      <th></th>\n",
       "      <th>Id</th>\n",
       "      <th>Href</th>\n",
       "      <th>_ExternalId</th>\n",
       "      <th>Receipt No</th>\n",
       "      <th>Customer No</th>\n",
       "      <th>NPS Score</th>\n",
       "      <th>Likelihood To Shop Again</th>\n",
       "      <th>Customer Satisfaction Score</th>\n",
       "      <th>Age</th>\n",
       "    </tr>\n",
       "  </thead>\n",
       "  <tbody>\n",
       "    <tr>\n",
       "      <th>count</th>\n",
       "      <td>3212.000000</td>\n",
       "      <td>0.0</td>\n",
       "      <td>3212.000000</td>\n",
       "      <td>3212.000000</td>\n",
       "      <td>3.212000e+03</td>\n",
       "      <td>3212.000000</td>\n",
       "      <td>3212.000000</td>\n",
       "      <td>3212.000000</td>\n",
       "      <td>3212.000000</td>\n",
       "    </tr>\n",
       "    <tr>\n",
       "      <th>mean</th>\n",
       "      <td>2100.769303</td>\n",
       "      <td>NaN</td>\n",
       "      <td>7768.525841</td>\n",
       "      <td>50549.420299</td>\n",
       "      <td>5.114535e+06</td>\n",
       "      <td>7.547634</td>\n",
       "      <td>7.555417</td>\n",
       "      <td>7.179016</td>\n",
       "      <td>48.066936</td>\n",
       "    </tr>\n",
       "    <tr>\n",
       "      <th>std</th>\n",
       "      <td>1228.711205</td>\n",
       "      <td>NaN</td>\n",
       "      <td>4111.825070</td>\n",
       "      <td>28367.984870</td>\n",
       "      <td>2.913550e+06</td>\n",
       "      <td>1.221334</td>\n",
       "      <td>2.101973</td>\n",
       "      <td>1.263737</td>\n",
       "      <td>17.328387</td>\n",
       "    </tr>\n",
       "    <tr>\n",
       "      <th>min</th>\n",
       "      <td>0.000000</td>\n",
       "      <td>NaN</td>\n",
       "      <td>3.000000</td>\n",
       "      <td>1010.000000</td>\n",
       "      <td>1.019760e+05</td>\n",
       "      <td>5.000000</td>\n",
       "      <td>0.000000</td>\n",
       "      <td>4.000000</td>\n",
       "      <td>18.000000</td>\n",
       "    </tr>\n",
       "    <tr>\n",
       "      <th>25%</th>\n",
       "      <td>1019.750000</td>\n",
       "      <td>NaN</td>\n",
       "      <td>4722.000000</td>\n",
       "      <td>25987.750000</td>\n",
       "      <td>2.568726e+06</td>\n",
       "      <td>7.000000</td>\n",
       "      <td>6.000000</td>\n",
       "      <td>6.000000</td>\n",
       "      <td>33.000000</td>\n",
       "    </tr>\n",
       "    <tr>\n",
       "      <th>50%</th>\n",
       "      <td>2081.500000</td>\n",
       "      <td>NaN</td>\n",
       "      <td>8012.000000</td>\n",
       "      <td>50039.500000</td>\n",
       "      <td>5.109123e+06</td>\n",
       "      <td>8.000000</td>\n",
       "      <td>8.000000</td>\n",
       "      <td>8.000000</td>\n",
       "      <td>48.000000</td>\n",
       "    </tr>\n",
       "    <tr>\n",
       "      <th>75%</th>\n",
       "      <td>3171.250000</td>\n",
       "      <td>NaN</td>\n",
       "      <td>11072.500000</td>\n",
       "      <td>74933.750000</td>\n",
       "      <td>7.639817e+06</td>\n",
       "      <td>8.000000</td>\n",
       "      <td>9.000000</td>\n",
       "      <td>8.000000</td>\n",
       "      <td>64.000000</td>\n",
       "    </tr>\n",
       "    <tr>\n",
       "      <th>max</th>\n",
       "      <td>4250.000000</td>\n",
       "      <td>NaN</td>\n",
       "      <td>14829.000000</td>\n",
       "      <td>100979.000000</td>\n",
       "      <td>1.008906e+07</td>\n",
       "      <td>9.000000</td>\n",
       "      <td>10.000000</td>\n",
       "      <td>8.000000</td>\n",
       "      <td>77.000000</td>\n",
       "    </tr>\n",
       "  </tbody>\n",
       "</table></div>"
      ],
      "text/plain": [
       "                Id  Href   _ExternalId     Receipt No   Customer No  \\\n",
       "count  3212.000000   0.0   3212.000000    3212.000000  3.212000e+03   \n",
       "mean   2100.769303   NaN   7768.525841   50549.420299  5.114535e+06   \n",
       "std    1228.711205   NaN   4111.825070   28367.984870  2.913550e+06   \n",
       "min       0.000000   NaN      3.000000    1010.000000  1.019760e+05   \n",
       "25%    1019.750000   NaN   4722.000000   25987.750000  2.568726e+06   \n",
       "50%    2081.500000   NaN   8012.000000   50039.500000  5.109123e+06   \n",
       "75%    3171.250000   NaN  11072.500000   74933.750000  7.639817e+06   \n",
       "max    4250.000000   NaN  14829.000000  100979.000000  1.008906e+07   \n",
       "\n",
       "         NPS Score  Likelihood To Shop Again  Customer Satisfaction Score  \\\n",
       "count  3212.000000               3212.000000                  3212.000000   \n",
       "mean      7.547634                  7.555417                     7.179016   \n",
       "std       1.221334                  2.101973                     1.263737   \n",
       "min       5.000000                  0.000000                     4.000000   \n",
       "25%       7.000000                  6.000000                     6.000000   \n",
       "50%       8.000000                  8.000000                     8.000000   \n",
       "75%       8.000000                  9.000000                     8.000000   \n",
       "max       9.000000                 10.000000                     8.000000   \n",
       "\n",
       "               Age  \n",
       "count  3212.000000  \n",
       "mean     48.066936  \n",
       "std      17.328387  \n",
       "min      18.000000  \n",
       "25%      33.000000  \n",
       "50%      48.000000  \n",
       "75%      64.000000  \n",
       "max      77.000000  "
      ]
     },
     "execution_count": 4,
     "metadata": {},
     "output_type": "execute_result"
    }
   ],
   "source": [
    "customer_data.describe()\n"
   ]
  },
  {
   "cell_type": "markdown",
   "metadata": {},
   "source": [
    "# Branch wise analysis: "
   ]
  },
  {
   "cell_type": "code",
   "execution_count": 5,
   "metadata": {},
   "outputs": [],
   "source": [
    "branch_data = customer_data[['Store','Likelihood To Shop Again','Customer Satisfaction Score','Total Spend','Age','Gender','Price','Availability','Service','Information','Time Of Day', 'Division','Requested Callback']]"
   ]
  },
  {
   "cell_type": "markdown",
   "metadata": {},
   "source": [
    "## Looks like there are a lot of branches(261 Infact), lets visualise each of the variables with respect to branch to find out more."
   ]
  },
  {
   "cell_type": "code",
   "execution_count": 6,
   "metadata": {},
   "outputs": [
    {
     "data": {
      "text/plain": [
       "array(['Bankstown', 'Fremantle', 'Chadstone', 'Perth CBD', 'Katanning',\n",
       "       'Ocean Shores', 'Edwardstown', 'Helensvale', 'Hoppers Crossing',\n",
       "       'Albany', 'Kadina', 'Castlemaine', 'Glenorchy', 'Tea Tree Plaza',\n",
       "       'Campbelltown', 'Seymour', 'Bullcreek', 'Warrawong', 'Epping',\n",
       "       'Brisbane CBD', 'Yass', '5224-Unknown', 'Ararat', 'Golden Grove',\n",
       "       'Charlestown', 'Mt. Gravatt', 'Plenty Valley', 'Northland',\n",
       "       'Knox City', 'Gladstone', 'Mornington', 'Reynella', 'Penrith',\n",
       "       'Point Cook', 'Carlingford', 'Forest Hill', 'Waurn Ponds',\n",
       "       'Morisset', 'Sefton Park', 'Meadow Springs', 'Hornsby', 'Nowra',\n",
       "       'Cannot find store', 'Innaloo', 'Ballarat', 'Strathpine',\n",
       "       'Warringah Mall', 'Rockhampton', 'Stanthorpe', 'Ringwood',\n",
       "       'Buranda', 'Dandenong', 'Eastgardens', 'Camberwell', 'Hobart',\n",
       "       'Burwood', 'Pakenham', 'Warrnambool', 'Chatswood', 'Rockingham',\n",
       "       'Cairns', 'Armadale', 'Capalaba', 'Bega', 'Port Macquarie',\n",
       "       'Glen Waverley', '5991-Unknown', 'Victor Harbor', 'Frankston',\n",
       "       'Macquarie', 'Templestowe', 'Flemington', 'Highpoint',\n",
       "       'Victoria Park', 'Joondalup', 'Roselands', 'Liverpool', 'Canberra',\n",
       "       'Chirnside Park', 'Bundaberg', 'Fountain Gate', 'Wetherill Park',\n",
       "       'Geraldton', 'Bowen', 'Gympie', 'Morayfield', 'Dalby',\n",
       "       'Parramatta', 'Erina', 'Miranda', 'Elizabeth', 'Watergardens',\n",
       "       'Ipswich', 'North Lakes', 'Leichhardt', 'Rhodes', 'Blacktown',\n",
       "       'Queanbeyan', 'Broadway', 'Geelong', 'Robina', 'Castle Hill',\n",
       "       'Wodonga', 'Benalla', 'Marion', 'Airport West', 'Ballina',\n",
       "       'Yarrawonga', 'St Marys', 'Southland', 'Clare', 'Broadmeadows',\n",
       "       'Midland', 'Tuggeranong', '6545-Unknown', 'Palmerston', 'Kotara',\n",
       "       'Winmalee', 'Greensborough', '6548-Unknown', 'Mt. Druitt',\n",
       "       'Centrepoint', 'Tenterfield', 'Tuggerah', 'West Lakes',\n",
       "       'Springwood', 'Carousel', 'Mildura', 'Melbourne CBD',\n",
       "       'McLaren Vale', 'Lismore City', 'Southport', 'Mareeba',\n",
       "       'Wonthaggi', 'Charters Towers', 'Batemans Bay', 'Tumut',\n",
       "       'Inverell', 'Shell Harbour', 'Bondi', 'Morley', 'Chermside',\n",
       "       'Maroochydore', 'Launceston', 'Bentleigh', 'Wagga Wagga', 'Berri',\n",
       "       'Unley', 'Castletown', 'Port Pirie', 'Hervey Bay', 'Craigieburn',\n",
       "       'Mt. Ommaney', 'Mowbray', 'Sunbury', 'Gawler', 'Sale',\n",
       "       'Fulham Gardens', 'Langwarrin', 'Toombul', 'The Willows', 'Yamba',\n",
       "       'Warragul', 'Caroline Springs', 'Merrylands', 'Picton',\n",
       "       'Pacific Fair', 'Bendigo', 'Lithgow', 'Bunbury', 'Burnie', 'Dubbo',\n",
       "       'Whitford City', 'Kippa Ring', 'Mackay', 'Somerville',\n",
       "       'Tweed Heads', 'Forest Lake', '6491-Unknown', 'Rouse Hill',\n",
       "       'Grafton', 'Newton', 'Belconnen', 'Coffs Harbour', 'NT Outlet',\n",
       "       'Tamworth', 'Carindale', 'Morwell', 'Rockdale', 'Taree', 'Kempsey',\n",
       "       'Macarthur Square', 'Indooroopilly', 'Busselton', 'Bairnsdale',\n",
       "       '6386-Unknown', 'Doncaster', 'Earlville', 'Glendale', 'Ayr',\n",
       "       'Hurstville', 'Runaway Bay', 'Albury', 'Stirling', 'Ulladulla',\n",
       "       'Myrtleford', 'Leongatha', 'Glenquarie', 'Glenn Innes', 'Cowra',\n",
       "       'Casino', 'Toowoomba', 'Yeppoon', 'Katoomba', 'Colac',\n",
       "       'Noosa Junction', 'Hollywood Plaza', 'Bribie Island', 'Goulburn',\n",
       "       'Innisfail', 'Gunnedah', 'Weston Creek', 'Bathurst',\n",
       "       'Waverley Gardens', 'Browns Plains', 'Deniliquin', 'Katherine',\n",
       "       'Gilgandra', '5648-Unknown', 'Mt. Gambier', 'Mawson Lakes',\n",
       "       'Broome', 'Sarina', 'Camden', 'Port Douglas', 'Cannonvale',\n",
       "       'Harbourtown (SA Outlet)', 'Kalgoorlie', 'Whyalla', 'Moree',\n",
       "       'Woodend', 'Charleville', 'Echuca', 'Esperance', 'Portland',\n",
       "       'Griffith', 'Bass Hill', '5000-Unknown', 'Forbes', 'Swan Hill',\n",
       "       'Ingham', 'Merimbula', 'Windsor', '5827-Unknown', 'Ocean Grove',\n",
       "       'Narracoorte', 'Hamilton', 'Cobram', 'Rosebud', 'Shepparton',\n",
       "       'Manjimup'], dtype=object)"
      ]
     },
     "execution_count": 6,
     "metadata": {},
     "output_type": "execute_result"
    }
   ],
   "source": [
    "branch_data['Store'].unique()"
   ]
  },
  {
   "cell_type": "code",
   "execution_count": 7,
   "metadata": {},
   "outputs": [],
   "source": [
    "branch_likelihood  = branch_data[['Store','Likelihood To Shop Again']]\n",
    "\n",
    "branch_likelihood = branch_likelihood.groupby(branch_likelihood['Store']).mean().sort_values(by = ['Likelihood To Shop Again'], ascending = False)\n"
   ]
  },
  {
   "cell_type": "markdown",
   "metadata": {},
   "source": [
    "## Store vs Likelihood to Shop Again: \n",
    "1. 17 stores have a Likelihood score of 10. \n",
    "2. 18 stores have a Likelihood score less than 6. \n",
    "3. Rest of the stores have a score ranging between 6 to 9. \n"
   ]
  },
  {
   "cell_type": "code",
   "execution_count": 8,
   "metadata": {},
   "outputs": [
    {
     "data": {
      "application/vnd.plotly.v1+json": {
       "config": {
        "plotlyServerURL": "https://plot.ly"
       },
       "data": [
        {
         "alignmentgroup": "True",
         "hovertemplate": "variable=Likelihood To Shop Again<br>Store=%{x}<br>value=%{y}<extra></extra>",
         "legendgroup": "Likelihood To Shop Again",
         "marker": {
          "color": "#636efa",
          "pattern": {
           "shape": ""
          }
         },
         "name": "Likelihood To Shop Again",
         "offsetgroup": "Likelihood To Shop Again",
         "orientation": "v",
         "showlegend": true,
         "textposition": "auto",
         "type": "bar",
         "x": [
          "Portland",
          "Taree",
          "Ocean Grove",
          "Dubbo",
          "Glenquarie",
          "Glenn Innes",
          "Mowbray",
          "Sarina",
          "Shepparton",
          "Moree",
          "Gilgandra",
          "Deniliquin",
          "6545-Unknown",
          "Windsor",
          "Whyalla",
          "6386-Unknown",
          "5224-Unknown",
          "Castlemaine",
          "Craigieburn",
          "Ararat",
          "Tamworth",
          "Airport West",
          "Casino",
          "Runaway Bay",
          "Yass",
          "Inverell",
          "Knox City",
          "Manjimup",
          "Lismore City",
          "Cobram",
          "Noosa Junction",
          "Woodend",
          "Cowra",
          "Gunnedah",
          "Fulham Gardens",
          "Hamilton",
          "6491-Unknown",
          "Swan Hill",
          "Grafton",
          "Tenterfield",
          "Mildura",
          "Katanning",
          "Katoomba",
          "St Marys",
          "Castletown",
          "Albany",
          "Morwell",
          "Bathurst",
          "Ayr",
          "Picton",
          "Forest Lake",
          "Batemans Bay",
          "Glenorchy",
          "Ballarat",
          "Sale",
          "Palmerston",
          "Winmalee",
          "Marion",
          "Greensborough",
          "Penrith",
          "Reynella",
          "Pacific Fair",
          "Geraldton",
          "Kadina",
          "Mackay",
          "Mt. Druitt",
          "Armadale",
          "Bundaberg",
          "Plenty Valley",
          "Dandenong",
          "Berri",
          "Parramatta",
          "Dalby",
          "Langwarrin",
          "Launceston",
          "Roselands",
          "Bentleigh",
          "Hurstville",
          "Chermside",
          "Charters Towers",
          "Edwardstown",
          "Bunbury",
          "Wonthaggi",
          "Rockingham",
          "Rouse Hill",
          "Somerville",
          "Joondalup",
          "Browns Plains",
          "Springwood",
          "Eastgardens",
          "Toowoomba",
          "Stanthorpe",
          "Mt. Gambier",
          "Port Douglas",
          "Tumut",
          "Ingham",
          "Clare",
          "Kempsey",
          "Cairns",
          "Colac",
          "Caroline Springs",
          "Goulburn",
          "Mornington",
          "6548-Unknown",
          "Charleville",
          "Leongatha",
          "Seymour",
          "Merimbula",
          "Gawler",
          "5827-Unknown",
          "Frankston",
          "Broome",
          "Watergardens",
          "Southland",
          "Helensvale",
          "Glen Waverley",
          "Warringah Mall",
          "Forest Hill",
          "Buranda",
          "Waurn Ponds",
          "Leichhardt",
          "Mt. Ommaney",
          "Waverley Gardens",
          "Carlingford",
          "Innaloo",
          "Hollywood Plaza",
          "Earlville",
          "Doncaster",
          "Erina",
          "West Lakes",
          "Hobart",
          "Chatswood",
          "Wetherill Park",
          "Victoria Park",
          "Tuggerah",
          "Point Cook",
          "Castle Hill",
          "Belconnen",
          "Melbourne CBD",
          "Burwood",
          "Tuggeranong",
          "Miranda",
          "Macquarie",
          "Golden Grove",
          "Mareeba",
          "Albury",
          "Broadway",
          "Ulladulla",
          "Bribie Island",
          "Innisfail",
          "Ringwood",
          "Kotara",
          "Pakenham",
          "Burnie",
          "Indooroopilly",
          "Brisbane CBD",
          "Sunbury",
          "Capalaba",
          "Wodonga",
          "Merrylands",
          "Warrawong",
          "Carindale",
          "Bullcreek",
          "Camberwell",
          "Maroochydore",
          "Perth CBD",
          "Morley",
          "Sefton Park",
          "Toombul",
          "Hornsby",
          "Highpoint",
          "Chadstone",
          "Carousel",
          "Campbelltown",
          "Morayfield",
          "Port Macquarie",
          "Rockhampton",
          "Macarthur Square",
          "Hoppers Crossing",
          "Unley",
          "Liverpool",
          "Bendigo",
          "Bega",
          "Queanbeyan",
          "Rosebud",
          "5648-Unknown",
          "Bairnsdale",
          "Templestowe",
          "Flemington",
          "Busselton",
          "Nowra",
          "Echuca",
          "Griffith",
          "Esperance",
          "NT Outlet",
          "Lithgow",
          "Mt. Gravatt",
          "North Lakes",
          "Fountain Gate",
          "Warrnambool",
          "Bondi",
          "Rhodes",
          "Newton",
          "Chirnside Park",
          "Robina",
          "Mawson Lakes",
          "Midland",
          "Myrtleford",
          "Elizabeth",
          "Bankstown",
          "Ocean Shores",
          "Tweed Heads",
          "Canberra",
          "Camden",
          "Morisset",
          "Meadow Springs",
          "Ipswich",
          "Hervey Bay",
          "Coffs Harbour",
          "Rockdale",
          "McLaren Vale",
          "Whitford City",
          "Stirling",
          "Tea Tree Plaza",
          "Charlestown",
          "Gympie",
          "Benalla",
          "Centrepoint",
          "Yamba",
          "Fremantle",
          "Northland",
          "The Willows",
          "Blacktown",
          "Shell Harbour",
          "Geelong",
          "Epping",
          "Broadmeadows",
          "Harbourtown (SA Outlet)",
          "5991-Unknown",
          "Bass Hill",
          "Bowen",
          "Port Pirie",
          "Weston Creek",
          "Glendale",
          "Warragul",
          "Southport",
          "Wagga Wagga",
          "Cannot find store",
          "Strathpine",
          "Yeppoon",
          "Katherine",
          "Cannonvale",
          "Forbes",
          "Narracoorte",
          "Ballina",
          "Gladstone",
          "Kalgoorlie",
          "Kippa Ring",
          "Victor Harbor",
          "Yarrawonga",
          "5000-Unknown"
         ],
         "xaxis": "x",
         "y": [
          10,
          10,
          10,
          10,
          10,
          10,
          10,
          10,
          10,
          10,
          10,
          10,
          10,
          10,
          10,
          10,
          10,
          9.6,
          9.6,
          9.555555555555555,
          9.555555555555555,
          9.529411764705882,
          9.333333333333334,
          9.333333333333334,
          9.307692307692308,
          9.2,
          9.1875,
          9,
          9,
          9,
          9,
          9,
          9,
          9,
          9,
          9,
          9,
          9,
          9,
          9,
          8.857142857142858,
          8.857142857142858,
          8.818181818181818,
          8.8,
          8.689655172413794,
          8.67741935483871,
          8.666666666666666,
          8.666666666666666,
          8.666666666666666,
          8.666666666666666,
          8.642857142857142,
          8.571428571428571,
          8.545454545454545,
          8.533333333333333,
          8.529411764705882,
          8.5,
          8.5,
          8.5,
          8.5,
          8.470588235294118,
          8.470588235294118,
          8.461538461538462,
          8.454545454545455,
          8.454545454545455,
          8.421052631578947,
          8.4,
          8.4,
          8.346153846153847,
          8.333333333333334,
          8.333333333333334,
          8.333333333333334,
          8.294117647058824,
          8.285714285714286,
          8.272727272727273,
          8.266666666666667,
          8.25,
          8.25,
          8.25,
          8.242424242424242,
          8.2,
          8.195121951219512,
          8.181818181818182,
          8.181818181818182,
          8.175,
          8.142857142857142,
          8.125,
          8.11111111111111,
          8.11111111111111,
          8.1,
          8.095238095238095,
          8,
          8,
          8,
          8,
          8,
          8,
          8,
          8,
          8,
          8,
          8,
          8,
          8,
          8,
          8,
          8,
          8,
          8,
          8,
          8,
          8,
          8,
          7.954545454545454,
          7.944444444444445,
          7.9411764705882355,
          7.916666666666667,
          7.896551724137931,
          7.875,
          7.833333333333333,
          7.818181818181818,
          7.8125,
          7.8,
          7.8,
          7.794117647058823,
          7.761904761904762,
          7.75,
          7.75,
          7.75,
          7.75,
          7.72,
          7.72,
          7.717948717948718,
          7.714285714285714,
          7.714285714285714,
          7.709677419354839,
          7.708333333333333,
          7.6923076923076925,
          7.666666666666667,
          7.628571428571429,
          7.620689655172414,
          7.611111111111111,
          7.6,
          7.590909090909091,
          7.571428571428571,
          7.555555555555555,
          7.545454545454546,
          7.5,
          7.5,
          7.5,
          7.5,
          7.466666666666667,
          7.466666666666667,
          7.454545454545454,
          7.454545454545454,
          7.454545454545454,
          7.441860465116279,
          7.4375,
          7.416666666666667,
          7.4,
          7.4,
          7.388888888888889,
          7.32,
          7.314285714285714,
          7.3076923076923075,
          7.304347826086956,
          7.294117647058823,
          7.288888888888889,
          7.285714285714286,
          7.266666666666667,
          7.260869565217392,
          7.258064516129032,
          7.25,
          7.25,
          7.238095238095238,
          7.2,
          7.1923076923076925,
          7.148148148148148,
          7.142857142857143,
          7.129032258064516,
          7.076923076923077,
          7.074074074074074,
          7.071428571428571,
          7,
          7,
          7,
          7,
          7,
          7,
          7,
          7,
          7,
          7,
          7,
          7,
          7,
          7,
          6.9411764705882355,
          6.928571428571429,
          6.92,
          6.9,
          6.892857142857143,
          6.869565217391305,
          6.866666666666666,
          6.857142857142857,
          6.851851851851852,
          6.833333333333333,
          6.833333333333333,
          6.8,
          6.7727272727272725,
          6.769230769230769,
          6.714285714285714,
          6.6923076923076925,
          6.666666666666667,
          6.6,
          6.555555555555555,
          6.555555555555555,
          6.55,
          6.545454545454546,
          6.5,
          6.5,
          6.461538461538462,
          6.4,
          6.363636363636363,
          6.357142857142857,
          6.296296296296297,
          6.25,
          6.25,
          6.2,
          6.2,
          6.166666666666667,
          6.15625,
          6.153846153846154,
          6.142857142857143,
          6.125,
          6.111111111111111,
          6,
          6,
          6,
          6,
          6,
          6,
          6,
          6,
          5.7272727272727275,
          5.666666666666667,
          5.615384615384615,
          5.5,
          5.333333333333333,
          5.230769230769231,
          5.181818181818182,
          5,
          5,
          5,
          5,
          5,
          4.5,
          4.444444444444445,
          4.4,
          4.285714285714286,
          4,
          3
         ],
         "yaxis": "y"
        }
       ],
       "layout": {
        "barmode": "relative",
        "legend": {
         "title": {
          "text": "variable"
         },
         "tracegroupgap": 0
        },
        "template": {
         "data": {
          "bar": [
           {
            "error_x": {
             "color": "#2a3f5f"
            },
            "error_y": {
             "color": "#2a3f5f"
            },
            "marker": {
             "line": {
              "color": "#E5ECF6",
              "width": 0.5
             },
             "pattern": {
              "fillmode": "overlay",
              "size": 10,
              "solidity": 0.2
             }
            },
            "type": "bar"
           }
          ],
          "barpolar": [
           {
            "marker": {
             "line": {
              "color": "#E5ECF6",
              "width": 0.5
             },
             "pattern": {
              "fillmode": "overlay",
              "size": 10,
              "solidity": 0.2
             }
            },
            "type": "barpolar"
           }
          ],
          "carpet": [
           {
            "aaxis": {
             "endlinecolor": "#2a3f5f",
             "gridcolor": "white",
             "linecolor": "white",
             "minorgridcolor": "white",
             "startlinecolor": "#2a3f5f"
            },
            "baxis": {
             "endlinecolor": "#2a3f5f",
             "gridcolor": "white",
             "linecolor": "white",
             "minorgridcolor": "white",
             "startlinecolor": "#2a3f5f"
            },
            "type": "carpet"
           }
          ],
          "choropleth": [
           {
            "colorbar": {
             "outlinewidth": 0,
             "ticks": ""
            },
            "type": "choropleth"
           }
          ],
          "contour": [
           {
            "colorbar": {
             "outlinewidth": 0,
             "ticks": ""
            },
            "colorscale": [
             [
              0,
              "#0d0887"
             ],
             [
              0.1111111111111111,
              "#46039f"
             ],
             [
              0.2222222222222222,
              "#7201a8"
             ],
             [
              0.3333333333333333,
              "#9c179e"
             ],
             [
              0.4444444444444444,
              "#bd3786"
             ],
             [
              0.5555555555555556,
              "#d8576b"
             ],
             [
              0.6666666666666666,
              "#ed7953"
             ],
             [
              0.7777777777777778,
              "#fb9f3a"
             ],
             [
              0.8888888888888888,
              "#fdca26"
             ],
             [
              1,
              "#f0f921"
             ]
            ],
            "type": "contour"
           }
          ],
          "contourcarpet": [
           {
            "colorbar": {
             "outlinewidth": 0,
             "ticks": ""
            },
            "type": "contourcarpet"
           }
          ],
          "heatmap": [
           {
            "colorbar": {
             "outlinewidth": 0,
             "ticks": ""
            },
            "colorscale": [
             [
              0,
              "#0d0887"
             ],
             [
              0.1111111111111111,
              "#46039f"
             ],
             [
              0.2222222222222222,
              "#7201a8"
             ],
             [
              0.3333333333333333,
              "#9c179e"
             ],
             [
              0.4444444444444444,
              "#bd3786"
             ],
             [
              0.5555555555555556,
              "#d8576b"
             ],
             [
              0.6666666666666666,
              "#ed7953"
             ],
             [
              0.7777777777777778,
              "#fb9f3a"
             ],
             [
              0.8888888888888888,
              "#fdca26"
             ],
             [
              1,
              "#f0f921"
             ]
            ],
            "type": "heatmap"
           }
          ],
          "heatmapgl": [
           {
            "colorbar": {
             "outlinewidth": 0,
             "ticks": ""
            },
            "colorscale": [
             [
              0,
              "#0d0887"
             ],
             [
              0.1111111111111111,
              "#46039f"
             ],
             [
              0.2222222222222222,
              "#7201a8"
             ],
             [
              0.3333333333333333,
              "#9c179e"
             ],
             [
              0.4444444444444444,
              "#bd3786"
             ],
             [
              0.5555555555555556,
              "#d8576b"
             ],
             [
              0.6666666666666666,
              "#ed7953"
             ],
             [
              0.7777777777777778,
              "#fb9f3a"
             ],
             [
              0.8888888888888888,
              "#fdca26"
             ],
             [
              1,
              "#f0f921"
             ]
            ],
            "type": "heatmapgl"
           }
          ],
          "histogram": [
           {
            "marker": {
             "pattern": {
              "fillmode": "overlay",
              "size": 10,
              "solidity": 0.2
             }
            },
            "type": "histogram"
           }
          ],
          "histogram2d": [
           {
            "colorbar": {
             "outlinewidth": 0,
             "ticks": ""
            },
            "colorscale": [
             [
              0,
              "#0d0887"
             ],
             [
              0.1111111111111111,
              "#46039f"
             ],
             [
              0.2222222222222222,
              "#7201a8"
             ],
             [
              0.3333333333333333,
              "#9c179e"
             ],
             [
              0.4444444444444444,
              "#bd3786"
             ],
             [
              0.5555555555555556,
              "#d8576b"
             ],
             [
              0.6666666666666666,
              "#ed7953"
             ],
             [
              0.7777777777777778,
              "#fb9f3a"
             ],
             [
              0.8888888888888888,
              "#fdca26"
             ],
             [
              1,
              "#f0f921"
             ]
            ],
            "type": "histogram2d"
           }
          ],
          "histogram2dcontour": [
           {
            "colorbar": {
             "outlinewidth": 0,
             "ticks": ""
            },
            "colorscale": [
             [
              0,
              "#0d0887"
             ],
             [
              0.1111111111111111,
              "#46039f"
             ],
             [
              0.2222222222222222,
              "#7201a8"
             ],
             [
              0.3333333333333333,
              "#9c179e"
             ],
             [
              0.4444444444444444,
              "#bd3786"
             ],
             [
              0.5555555555555556,
              "#d8576b"
             ],
             [
              0.6666666666666666,
              "#ed7953"
             ],
             [
              0.7777777777777778,
              "#fb9f3a"
             ],
             [
              0.8888888888888888,
              "#fdca26"
             ],
             [
              1,
              "#f0f921"
             ]
            ],
            "type": "histogram2dcontour"
           }
          ],
          "mesh3d": [
           {
            "colorbar": {
             "outlinewidth": 0,
             "ticks": ""
            },
            "type": "mesh3d"
           }
          ],
          "parcoords": [
           {
            "line": {
             "colorbar": {
              "outlinewidth": 0,
              "ticks": ""
             }
            },
            "type": "parcoords"
           }
          ],
          "pie": [
           {
            "automargin": true,
            "type": "pie"
           }
          ],
          "scatter": [
           {
            "marker": {
             "colorbar": {
              "outlinewidth": 0,
              "ticks": ""
             }
            },
            "type": "scatter"
           }
          ],
          "scatter3d": [
           {
            "line": {
             "colorbar": {
              "outlinewidth": 0,
              "ticks": ""
             }
            },
            "marker": {
             "colorbar": {
              "outlinewidth": 0,
              "ticks": ""
             }
            },
            "type": "scatter3d"
           }
          ],
          "scattercarpet": [
           {
            "marker": {
             "colorbar": {
              "outlinewidth": 0,
              "ticks": ""
             }
            },
            "type": "scattercarpet"
           }
          ],
          "scattergeo": [
           {
            "marker": {
             "colorbar": {
              "outlinewidth": 0,
              "ticks": ""
             }
            },
            "type": "scattergeo"
           }
          ],
          "scattergl": [
           {
            "marker": {
             "colorbar": {
              "outlinewidth": 0,
              "ticks": ""
             }
            },
            "type": "scattergl"
           }
          ],
          "scattermapbox": [
           {
            "marker": {
             "colorbar": {
              "outlinewidth": 0,
              "ticks": ""
             }
            },
            "type": "scattermapbox"
           }
          ],
          "scatterpolar": [
           {
            "marker": {
             "colorbar": {
              "outlinewidth": 0,
              "ticks": ""
             }
            },
            "type": "scatterpolar"
           }
          ],
          "scatterpolargl": [
           {
            "marker": {
             "colorbar": {
              "outlinewidth": 0,
              "ticks": ""
             }
            },
            "type": "scatterpolargl"
           }
          ],
          "scatterternary": [
           {
            "marker": {
             "colorbar": {
              "outlinewidth": 0,
              "ticks": ""
             }
            },
            "type": "scatterternary"
           }
          ],
          "surface": [
           {
            "colorbar": {
             "outlinewidth": 0,
             "ticks": ""
            },
            "colorscale": [
             [
              0,
              "#0d0887"
             ],
             [
              0.1111111111111111,
              "#46039f"
             ],
             [
              0.2222222222222222,
              "#7201a8"
             ],
             [
              0.3333333333333333,
              "#9c179e"
             ],
             [
              0.4444444444444444,
              "#bd3786"
             ],
             [
              0.5555555555555556,
              "#d8576b"
             ],
             [
              0.6666666666666666,
              "#ed7953"
             ],
             [
              0.7777777777777778,
              "#fb9f3a"
             ],
             [
              0.8888888888888888,
              "#fdca26"
             ],
             [
              1,
              "#f0f921"
             ]
            ],
            "type": "surface"
           }
          ],
          "table": [
           {
            "cells": {
             "fill": {
              "color": "#EBF0F8"
             },
             "line": {
              "color": "white"
             }
            },
            "header": {
             "fill": {
              "color": "#C8D4E3"
             },
             "line": {
              "color": "white"
             }
            },
            "type": "table"
           }
          ]
         },
         "layout": {
          "annotationdefaults": {
           "arrowcolor": "#2a3f5f",
           "arrowhead": 0,
           "arrowwidth": 1
          },
          "autotypenumbers": "strict",
          "coloraxis": {
           "colorbar": {
            "outlinewidth": 0,
            "ticks": ""
           }
          },
          "colorscale": {
           "diverging": [
            [
             0,
             "#8e0152"
            ],
            [
             0.1,
             "#c51b7d"
            ],
            [
             0.2,
             "#de77ae"
            ],
            [
             0.3,
             "#f1b6da"
            ],
            [
             0.4,
             "#fde0ef"
            ],
            [
             0.5,
             "#f7f7f7"
            ],
            [
             0.6,
             "#e6f5d0"
            ],
            [
             0.7,
             "#b8e186"
            ],
            [
             0.8,
             "#7fbc41"
            ],
            [
             0.9,
             "#4d9221"
            ],
            [
             1,
             "#276419"
            ]
           ],
           "sequential": [
            [
             0,
             "#0d0887"
            ],
            [
             0.1111111111111111,
             "#46039f"
            ],
            [
             0.2222222222222222,
             "#7201a8"
            ],
            [
             0.3333333333333333,
             "#9c179e"
            ],
            [
             0.4444444444444444,
             "#bd3786"
            ],
            [
             0.5555555555555556,
             "#d8576b"
            ],
            [
             0.6666666666666666,
             "#ed7953"
            ],
            [
             0.7777777777777778,
             "#fb9f3a"
            ],
            [
             0.8888888888888888,
             "#fdca26"
            ],
            [
             1,
             "#f0f921"
            ]
           ],
           "sequentialminus": [
            [
             0,
             "#0d0887"
            ],
            [
             0.1111111111111111,
             "#46039f"
            ],
            [
             0.2222222222222222,
             "#7201a8"
            ],
            [
             0.3333333333333333,
             "#9c179e"
            ],
            [
             0.4444444444444444,
             "#bd3786"
            ],
            [
             0.5555555555555556,
             "#d8576b"
            ],
            [
             0.6666666666666666,
             "#ed7953"
            ],
            [
             0.7777777777777778,
             "#fb9f3a"
            ],
            [
             0.8888888888888888,
             "#fdca26"
            ],
            [
             1,
             "#f0f921"
            ]
           ]
          },
          "colorway": [
           "#636efa",
           "#EF553B",
           "#00cc96",
           "#ab63fa",
           "#FFA15A",
           "#19d3f3",
           "#FF6692",
           "#B6E880",
           "#FF97FF",
           "#FECB52"
          ],
          "font": {
           "color": "#2a3f5f"
          },
          "geo": {
           "bgcolor": "white",
           "lakecolor": "white",
           "landcolor": "#E5ECF6",
           "showlakes": true,
           "showland": true,
           "subunitcolor": "white"
          },
          "hoverlabel": {
           "align": "left"
          },
          "hovermode": "closest",
          "mapbox": {
           "style": "light"
          },
          "paper_bgcolor": "white",
          "plot_bgcolor": "#E5ECF6",
          "polar": {
           "angularaxis": {
            "gridcolor": "white",
            "linecolor": "white",
            "ticks": ""
           },
           "bgcolor": "#E5ECF6",
           "radialaxis": {
            "gridcolor": "white",
            "linecolor": "white",
            "ticks": ""
           }
          },
          "scene": {
           "xaxis": {
            "backgroundcolor": "#E5ECF6",
            "gridcolor": "white",
            "gridwidth": 2,
            "linecolor": "white",
            "showbackground": true,
            "ticks": "",
            "zerolinecolor": "white"
           },
           "yaxis": {
            "backgroundcolor": "#E5ECF6",
            "gridcolor": "white",
            "gridwidth": 2,
            "linecolor": "white",
            "showbackground": true,
            "ticks": "",
            "zerolinecolor": "white"
           },
           "zaxis": {
            "backgroundcolor": "#E5ECF6",
            "gridcolor": "white",
            "gridwidth": 2,
            "linecolor": "white",
            "showbackground": true,
            "ticks": "",
            "zerolinecolor": "white"
           }
          },
          "shapedefaults": {
           "line": {
            "color": "#2a3f5f"
           }
          },
          "ternary": {
           "aaxis": {
            "gridcolor": "white",
            "linecolor": "white",
            "ticks": ""
           },
           "baxis": {
            "gridcolor": "white",
            "linecolor": "white",
            "ticks": ""
           },
           "bgcolor": "#E5ECF6",
           "caxis": {
            "gridcolor": "white",
            "linecolor": "white",
            "ticks": ""
           }
          },
          "title": {
           "x": 0.05
          },
          "xaxis": {
           "automargin": true,
           "gridcolor": "white",
           "linecolor": "white",
           "ticks": "",
           "title": {
            "standoff": 15
           },
           "zerolinecolor": "white",
           "zerolinewidth": 2
          },
          "yaxis": {
           "automargin": true,
           "gridcolor": "white",
           "linecolor": "white",
           "ticks": "",
           "title": {
            "standoff": 15
           },
           "zerolinecolor": "white",
           "zerolinewidth": 2
          }
         }
        },
        "title": {
         "text": "Average rating of Likelihood to Shop Again per branch"
        },
        "xaxis": {
         "anchor": "y",
         "domain": [
          0,
          1
         ],
         "title": {
          "text": "Store"
         }
        },
        "yaxis": {
         "anchor": "x",
         "domain": [
          0,
          1
         ],
         "title": {
          "text": "value"
         }
        }
       }
      }
     },
     "metadata": {},
     "output_type": "display_data"
    }
   ],
   "source": [
    "branch_likelihood.plot(kind = 'bar', title = 'Average rating of Likelihood to Shop Again per branch')\n"
   ]
  },
  {
   "cell_type": "code",
   "execution_count": 9,
   "metadata": {},
   "outputs": [
    {
     "name": "stdout",
     "output_type": "stream",
     "text": [
      "17               Likelihood To Shop Again\n",
      "Store                                 \n",
      "Portland                          10.0\n",
      "Taree                             10.0\n",
      "Ocean Grove                       10.0\n",
      "Dubbo                             10.0\n",
      "Glenquarie                        10.0\n",
      "Glenn Innes                       10.0\n",
      "Mowbray                           10.0\n",
      "Sarina                            10.0\n",
      "Shepparton                        10.0\n",
      "Moree                             10.0\n",
      "Gilgandra                         10.0\n",
      "Deniliquin                        10.0\n",
      "6545-Unknown                      10.0\n",
      "Windsor                           10.0\n",
      "Whyalla                           10.0\n",
      "6386-Unknown                      10.0\n",
      "5224-Unknown                      10.0\n"
     ]
    }
   ],
   "source": [
    "print(len(branch_likelihood[branch_likelihood['Likelihood To Shop Again'] ==  10]), branch_likelihood[branch_likelihood['Likelihood To Shop Again'] == 10])"
   ]
  },
  {
   "cell_type": "code",
   "execution_count": 10,
   "metadata": {},
   "outputs": [
    {
     "name": "stdout",
     "output_type": "stream",
     "text": [
      "18                    Likelihood To Shop Again\n",
      "Store                                      \n",
      "Glendale                           5.727273\n",
      "Warragul                           5.666667\n",
      "Southport                          5.615385\n",
      "Wagga Wagga                        5.500000\n",
      "Cannot find store                  5.333333\n",
      "Strathpine                         5.230769\n",
      "Yeppoon                            5.181818\n",
      "Katherine                          5.000000\n",
      "Cannonvale                         5.000000\n",
      "Forbes                             5.000000\n",
      "Narracoorte                        5.000000\n",
      "Ballina                            5.000000\n",
      "Gladstone                          4.500000\n",
      "Kalgoorlie                         4.444444\n",
      "Kippa Ring                         4.400000\n",
      "Victor Harbor                      4.285714\n",
      "Yarrawonga                         4.000000\n",
      "5000-Unknown                       3.000000\n"
     ]
    }
   ],
   "source": [
    "print(len(branch_likelihood[branch_likelihood['Likelihood To Shop Again'] < 6]), branch_likelihood[branch_likelihood['Likelihood To Shop Again'] < 6])"
   ]
  },
  {
   "cell_type": "markdown",
   "metadata": {},
   "source": [
    "# Store VS Customer Satisfaction \n",
    "## From the previous stats analyis, we know that the highest customer satisfaction recorded was 8.\n",
    "1. 167 Stores out of 261 have Customer Satisfaction score higher than 7 which holds 64% of Stores in business. \n",
    "2. 80 Stores out of 261 have Customer Satisfaction score of 8, which again is the highest ever recorded. This hold upto 31% of the stores. \n",
    "3. 15 Stores have Customer Satisfaction score less than 6. "
   ]
  },
  {
   "cell_type": "code",
   "execution_count": 11,
   "metadata": {},
   "outputs": [],
   "source": [
    "branch_customerSatisfaction  = branch_data[['Store', 'Customer Satisfaction Score']]\n",
    "branch_customerSatisfaction = branch_customerSatisfaction.groupby(branch_customerSatisfaction['Store']).mean().sort_values(by = ['Customer Satisfaction Score'], ascending = False)"
   ]
  },
  {
   "cell_type": "code",
   "execution_count": 12,
   "metadata": {},
   "outputs": [
    {
     "data": {
      "application/vnd.plotly.v1+json": {
       "config": {
        "plotlyServerURL": "https://plot.ly"
       },
       "data": [
        {
         "alignmentgroup": "True",
         "hovertemplate": "variable=Customer Satisfaction Score<br>Store=%{x}<br>value=%{y}<extra></extra>",
         "legendgroup": "Customer Satisfaction Score",
         "marker": {
          "color": "#636efa",
          "pattern": {
           "shape": ""
          }
         },
         "name": "Customer Satisfaction Score",
         "offsetgroup": "Customer Satisfaction Score",
         "orientation": "v",
         "showlegend": true,
         "textposition": "auto",
         "type": "bar",
         "x": [
          "Hervey Bay",
          "Mt. Ommaney",
          "NT Outlet",
          "Epping",
          "Narracoorte",
          "Waverley Gardens",
          "Dubbo",
          "Deniliquin",
          "Noosa Junction",
          "Craigieburn",
          "Cowra",
          "Colac",
          "Coffs Harbour",
          "Weston Creek",
          "Clare",
          "Nowra",
          "Ocean Grove",
          "Palmerston",
          "Centrepoint",
          "Picton",
          "Casino",
          "Port Douglas",
          "Caroline Springs",
          "Myrtleford",
          "Mt. Gambier",
          "Cannonvale",
          "Mt. Druitt",
          "Inverell",
          "Katherine",
          "Kempsey",
          "Kippa Ring",
          "Leongatha",
          "Lismore City",
          "Lithgow",
          "Mackay",
          "Harbourtown (SA Outlet)",
          "Manjimup",
          "Gunnedah",
          "Grafton",
          "Glenquarie",
          "Glenn Innes",
          "Merimbula",
          "Merrylands",
          "Gilgandra",
          "Gawler",
          "Fulham Gardens",
          "Moree",
          "Mowbray",
          "Whitford City",
          "Charters Towers",
          "Port Pirie",
          "Taree",
          "Windsor",
          "Shell Harbour",
          "Shepparton",
          "Springwood",
          "Tumut",
          "Batemans Bay",
          "Sunbury",
          "Swan Hill",
          "Yamba",
          "Ayr",
          "Seymour",
          "Ararat",
          "Tenterfield",
          "Albany",
          "6548-Unknown",
          "6545-Unknown",
          "6491-Unknown",
          "6386-Unknown",
          "Yass",
          "5648-Unknown",
          "Bribie Island",
          "5224-Unknown",
          "Whyalla",
          "Sarina",
          "Broome",
          "Busselton",
          "Ulladulla",
          "Runaway Bay",
          "Melbourne CBD",
          "Airport West",
          "Sale",
          "Rockhampton",
          "Bundaberg",
          "Parramatta",
          "Carindale",
          "Somerville",
          "Carlingford",
          "Camberwell",
          "Marion",
          "Helensvale",
          "Mt. Gravatt",
          "Kadina",
          "Stirling",
          "Earlville",
          "Port Macquarie",
          "Rockingham",
          "Castlemaine",
          "Launceston",
          "Greensborough",
          "Toombul",
          "Golden Grove",
          "Mildura",
          "Browns Plains",
          "Elizabeth",
          "Eastgardens",
          "Langwarrin",
          "Geraldton",
          "Wonthaggi",
          "Warringah Mall",
          "Southland",
          "Doncaster",
          "Sefton Park",
          "Katanning",
          "Chirnside Park",
          "Castletown",
          "West Lakes",
          "Armadale",
          "Warrnambool",
          "Bullcreek",
          "Pacific Fair",
          "Belconnen",
          "Macarthur Square",
          "Victoria Park",
          "Maroochydore",
          "Ringwood",
          "Kotara",
          "Tamworth",
          "Toowoomba",
          "Berri",
          "Frankston",
          "Warragul",
          "Ballarat",
          "Geelong",
          "Brisbane CBD",
          "Glenorchy",
          "Edwardstown",
          "The Willows",
          "Reynella",
          "Innaloo",
          "Bendigo",
          "Chatswood",
          "Indooroopilly",
          "Hollywood Plaza",
          "Hurstville",
          "Unley",
          "Castle Hill",
          "North Lakes",
          "Chermside",
          "Broadmeadows",
          "Fountain Gate",
          "Newton",
          "Wetherill Park",
          "Ocean Shores",
          "Knox City",
          "Tuggeranong",
          "Morayfield",
          "Hoppers Crossing",
          "Campbelltown",
          "Albury",
          "Bunbury",
          "Yeppoon",
          "Charlestown",
          "Tuggerah",
          "Penrith",
          "Bondi",
          "Mawson Lakes",
          "Glen Waverley",
          "Macquarie",
          "Winmalee",
          "Southport",
          "Robina",
          "Morwell",
          "Burwood",
          "Hobart",
          "Glendale",
          "Katoomba",
          "Waurn Ponds",
          "Northland",
          "Forest Hill",
          "Highpoint",
          "Burnie",
          "McLaren Vale",
          "Carousel",
          "Bentleigh",
          "Warrawong",
          "St Marys",
          "Cairns",
          "Ipswich",
          "Plenty Valley",
          "Chadstone",
          "Tweed Heads",
          "Morley",
          "Point Cook",
          "Midland",
          "Queanbeyan",
          "Pakenham",
          "Forest Lake",
          "Joondalup",
          "Hornsby",
          "Mareeba",
          "Meadow Springs",
          "Miranda",
          "Liverpool",
          "Erina",
          "Broadway",
          "Wodonga",
          "Capalaba",
          "Victor Harbor",
          "Innisfail",
          "Fremantle",
          "Mornington",
          "Rockdale",
          "Buranda",
          "Perth CBD",
          "Bankstown",
          "Dandenong",
          "Watergardens",
          "Strathpine",
          "Blacktown",
          "Rouse Hill",
          "Roselands",
          "Rhodes",
          "Bairnsdale",
          "Canberra",
          "Tea Tree Plaza",
          "Leichhardt",
          "Wagga Wagga",
          "Yarrawonga",
          "Woodend",
          "5000-Unknown",
          "Templestowe",
          "Griffith",
          "Cobram",
          "Stanthorpe",
          "Flemington",
          "Bega",
          "Bathurst",
          "Cannot find store",
          "Goulburn",
          "Hamilton",
          "5991-Unknown",
          "5827-Unknown",
          "Rosebud",
          "Charleville",
          "Gympie",
          "Benalla",
          "Morisset",
          "Dalby",
          "Kalgoorlie",
          "Bowen",
          "Esperance",
          "Forbes",
          "Gladstone",
          "Ballina",
          "Ingham",
          "Portland",
          "Echuca",
          "Camden",
          "Bass Hill"
         ],
         "xaxis": "x",
         "y": [
          8,
          8,
          8,
          8,
          8,
          8,
          8,
          8,
          8,
          8,
          8,
          8,
          8,
          8,
          8,
          8,
          8,
          8,
          8,
          8,
          8,
          8,
          8,
          8,
          8,
          8,
          8,
          8,
          8,
          8,
          8,
          8,
          8,
          8,
          8,
          8,
          8,
          8,
          8,
          8,
          8,
          8,
          8,
          8,
          8,
          8,
          8,
          8,
          8,
          8,
          8,
          8,
          8,
          8,
          8,
          8,
          8,
          8,
          8,
          8,
          8,
          8,
          8,
          8,
          8,
          8,
          8,
          8,
          8,
          8,
          8,
          8,
          8,
          8,
          8,
          8,
          8,
          8,
          8,
          8,
          7.942857142857143,
          7.882352941176471,
          7.823529411764706,
          7.777777777777778,
          7.769230769230769,
          7.764705882352941,
          7.76,
          7.75,
          7.705882352941177,
          7.6923076923076925,
          7.666666666666667,
          7.647058823529412,
          7.647058823529412,
          7.636363636363637,
          7.636363636363637,
          7.625,
          7.615384615384615,
          7.6,
          7.6,
          7.6,
          7.6,
          7.6,
          7.571428571428571,
          7.571428571428571,
          7.555555555555555,
          7.545454545454546,
          7.523809523809524,
          7.454545454545454,
          7.454545454545454,
          7.454545454545454,
          7.448275862068965,
          7.444444444444445,
          7.4375,
          7.428571428571429,
          7.428571428571429,
          7.428571428571429,
          7.413793103448276,
          7.4,
          7.4,
          7.4,
          7.4,
          7.384615384615385,
          7.380952380952381,
          7.357142857142857,
          7.357142857142857,
          7.3478260869565215,
          7.333333333333333,
          7.333333333333333,
          7.333333333333333,
          7.333333333333333,
          7.333333333333333,
          7.333333333333333,
          7.333333333333333,
          7.333333333333333,
          7.333333333333333,
          7.325581395348837,
          7.318181818181818,
          7.317073170731708,
          7.3076923076923075,
          7.294117647058823,
          7.285714285714286,
          7.285714285714286,
          7.282051282051282,
          7.2727272727272725,
          7.25,
          7.25,
          7.230769230769231,
          7.230769230769231,
          7.214285714285714,
          7.212121212121212,
          7.2,
          7.2,
          7.2,
          7.142857142857143,
          7.142857142857143,
          7.125,
          7.111111111111111,
          7.1,
          7.096774193548387,
          7.095238095238095,
          7.090909090909091,
          7.090909090909091,
          7.090909090909091,
          7.074074074074074,
          7.064516129032258,
          7.0588235294117645,
          7.035714285714286,
          7,
          7,
          7,
          7,
          7,
          7,
          7,
          6.931034482758621,
          6.92,
          6.909090909090909,
          6.909090909090909,
          6.909090909090909,
          6.875,
          6.875,
          6.870967741935484,
          6.863636363636363,
          6.846153846153846,
          6.833333333333333,
          6.833333333333333,
          6.833333333333333,
          6.8,
          6.8,
          6.8,
          6.8,
          6.785714285714286,
          6.769230769230769,
          6.7555555555555555,
          6.75,
          6.75,
          6.75,
          6.7272727272727275,
          6.714285714285714,
          6.703703703703703,
          6.695652173913044,
          6.666666666666667,
          6.666666666666667,
          6.666666666666667,
          6.62962962962963,
          6.625,
          6.611111111111111,
          6.6,
          6.583333333333333,
          6.571428571428571,
          6.5,
          6.5,
          6.5,
          6.5,
          6.5,
          6.4411764705882355,
          6.384615384615385,
          6.333333333333333,
          6.318181818181818,
          6.3076923076923075,
          6.285714285714286,
          6.285714285714286,
          6.25,
          6.217391304347826,
          6.2,
          6.111111111111111,
          6.071428571428571,
          6.0625,
          6,
          6,
          6,
          6,
          6,
          6,
          6,
          6,
          6,
          6,
          6,
          6,
          6,
          6,
          6,
          6,
          6,
          6,
          5.75,
          5.75,
          5.666666666666667,
          5.642857142857143,
          5.555555555555555,
          5,
          5,
          5,
          5,
          5,
          5,
          5,
          5,
          4.4,
          4
         ],
         "yaxis": "y"
        }
       ],
       "layout": {
        "barmode": "relative",
        "legend": {
         "title": {
          "text": "variable"
         },
         "tracegroupgap": 0
        },
        "template": {
         "data": {
          "bar": [
           {
            "error_x": {
             "color": "#2a3f5f"
            },
            "error_y": {
             "color": "#2a3f5f"
            },
            "marker": {
             "line": {
              "color": "#E5ECF6",
              "width": 0.5
             },
             "pattern": {
              "fillmode": "overlay",
              "size": 10,
              "solidity": 0.2
             }
            },
            "type": "bar"
           }
          ],
          "barpolar": [
           {
            "marker": {
             "line": {
              "color": "#E5ECF6",
              "width": 0.5
             },
             "pattern": {
              "fillmode": "overlay",
              "size": 10,
              "solidity": 0.2
             }
            },
            "type": "barpolar"
           }
          ],
          "carpet": [
           {
            "aaxis": {
             "endlinecolor": "#2a3f5f",
             "gridcolor": "white",
             "linecolor": "white",
             "minorgridcolor": "white",
             "startlinecolor": "#2a3f5f"
            },
            "baxis": {
             "endlinecolor": "#2a3f5f",
             "gridcolor": "white",
             "linecolor": "white",
             "minorgridcolor": "white",
             "startlinecolor": "#2a3f5f"
            },
            "type": "carpet"
           }
          ],
          "choropleth": [
           {
            "colorbar": {
             "outlinewidth": 0,
             "ticks": ""
            },
            "type": "choropleth"
           }
          ],
          "contour": [
           {
            "colorbar": {
             "outlinewidth": 0,
             "ticks": ""
            },
            "colorscale": [
             [
              0,
              "#0d0887"
             ],
             [
              0.1111111111111111,
              "#46039f"
             ],
             [
              0.2222222222222222,
              "#7201a8"
             ],
             [
              0.3333333333333333,
              "#9c179e"
             ],
             [
              0.4444444444444444,
              "#bd3786"
             ],
             [
              0.5555555555555556,
              "#d8576b"
             ],
             [
              0.6666666666666666,
              "#ed7953"
             ],
             [
              0.7777777777777778,
              "#fb9f3a"
             ],
             [
              0.8888888888888888,
              "#fdca26"
             ],
             [
              1,
              "#f0f921"
             ]
            ],
            "type": "contour"
           }
          ],
          "contourcarpet": [
           {
            "colorbar": {
             "outlinewidth": 0,
             "ticks": ""
            },
            "type": "contourcarpet"
           }
          ],
          "heatmap": [
           {
            "colorbar": {
             "outlinewidth": 0,
             "ticks": ""
            },
            "colorscale": [
             [
              0,
              "#0d0887"
             ],
             [
              0.1111111111111111,
              "#46039f"
             ],
             [
              0.2222222222222222,
              "#7201a8"
             ],
             [
              0.3333333333333333,
              "#9c179e"
             ],
             [
              0.4444444444444444,
              "#bd3786"
             ],
             [
              0.5555555555555556,
              "#d8576b"
             ],
             [
              0.6666666666666666,
              "#ed7953"
             ],
             [
              0.7777777777777778,
              "#fb9f3a"
             ],
             [
              0.8888888888888888,
              "#fdca26"
             ],
             [
              1,
              "#f0f921"
             ]
            ],
            "type": "heatmap"
           }
          ],
          "heatmapgl": [
           {
            "colorbar": {
             "outlinewidth": 0,
             "ticks": ""
            },
            "colorscale": [
             [
              0,
              "#0d0887"
             ],
             [
              0.1111111111111111,
              "#46039f"
             ],
             [
              0.2222222222222222,
              "#7201a8"
             ],
             [
              0.3333333333333333,
              "#9c179e"
             ],
             [
              0.4444444444444444,
              "#bd3786"
             ],
             [
              0.5555555555555556,
              "#d8576b"
             ],
             [
              0.6666666666666666,
              "#ed7953"
             ],
             [
              0.7777777777777778,
              "#fb9f3a"
             ],
             [
              0.8888888888888888,
              "#fdca26"
             ],
             [
              1,
              "#f0f921"
             ]
            ],
            "type": "heatmapgl"
           }
          ],
          "histogram": [
           {
            "marker": {
             "pattern": {
              "fillmode": "overlay",
              "size": 10,
              "solidity": 0.2
             }
            },
            "type": "histogram"
           }
          ],
          "histogram2d": [
           {
            "colorbar": {
             "outlinewidth": 0,
             "ticks": ""
            },
            "colorscale": [
             [
              0,
              "#0d0887"
             ],
             [
              0.1111111111111111,
              "#46039f"
             ],
             [
              0.2222222222222222,
              "#7201a8"
             ],
             [
              0.3333333333333333,
              "#9c179e"
             ],
             [
              0.4444444444444444,
              "#bd3786"
             ],
             [
              0.5555555555555556,
              "#d8576b"
             ],
             [
              0.6666666666666666,
              "#ed7953"
             ],
             [
              0.7777777777777778,
              "#fb9f3a"
             ],
             [
              0.8888888888888888,
              "#fdca26"
             ],
             [
              1,
              "#f0f921"
             ]
            ],
            "type": "histogram2d"
           }
          ],
          "histogram2dcontour": [
           {
            "colorbar": {
             "outlinewidth": 0,
             "ticks": ""
            },
            "colorscale": [
             [
              0,
              "#0d0887"
             ],
             [
              0.1111111111111111,
              "#46039f"
             ],
             [
              0.2222222222222222,
              "#7201a8"
             ],
             [
              0.3333333333333333,
              "#9c179e"
             ],
             [
              0.4444444444444444,
              "#bd3786"
             ],
             [
              0.5555555555555556,
              "#d8576b"
             ],
             [
              0.6666666666666666,
              "#ed7953"
             ],
             [
              0.7777777777777778,
              "#fb9f3a"
             ],
             [
              0.8888888888888888,
              "#fdca26"
             ],
             [
              1,
              "#f0f921"
             ]
            ],
            "type": "histogram2dcontour"
           }
          ],
          "mesh3d": [
           {
            "colorbar": {
             "outlinewidth": 0,
             "ticks": ""
            },
            "type": "mesh3d"
           }
          ],
          "parcoords": [
           {
            "line": {
             "colorbar": {
              "outlinewidth": 0,
              "ticks": ""
             }
            },
            "type": "parcoords"
           }
          ],
          "pie": [
           {
            "automargin": true,
            "type": "pie"
           }
          ],
          "scatter": [
           {
            "marker": {
             "colorbar": {
              "outlinewidth": 0,
              "ticks": ""
             }
            },
            "type": "scatter"
           }
          ],
          "scatter3d": [
           {
            "line": {
             "colorbar": {
              "outlinewidth": 0,
              "ticks": ""
             }
            },
            "marker": {
             "colorbar": {
              "outlinewidth": 0,
              "ticks": ""
             }
            },
            "type": "scatter3d"
           }
          ],
          "scattercarpet": [
           {
            "marker": {
             "colorbar": {
              "outlinewidth": 0,
              "ticks": ""
             }
            },
            "type": "scattercarpet"
           }
          ],
          "scattergeo": [
           {
            "marker": {
             "colorbar": {
              "outlinewidth": 0,
              "ticks": ""
             }
            },
            "type": "scattergeo"
           }
          ],
          "scattergl": [
           {
            "marker": {
             "colorbar": {
              "outlinewidth": 0,
              "ticks": ""
             }
            },
            "type": "scattergl"
           }
          ],
          "scattermapbox": [
           {
            "marker": {
             "colorbar": {
              "outlinewidth": 0,
              "ticks": ""
             }
            },
            "type": "scattermapbox"
           }
          ],
          "scatterpolar": [
           {
            "marker": {
             "colorbar": {
              "outlinewidth": 0,
              "ticks": ""
             }
            },
            "type": "scatterpolar"
           }
          ],
          "scatterpolargl": [
           {
            "marker": {
             "colorbar": {
              "outlinewidth": 0,
              "ticks": ""
             }
            },
            "type": "scatterpolargl"
           }
          ],
          "scatterternary": [
           {
            "marker": {
             "colorbar": {
              "outlinewidth": 0,
              "ticks": ""
             }
            },
            "type": "scatterternary"
           }
          ],
          "surface": [
           {
            "colorbar": {
             "outlinewidth": 0,
             "ticks": ""
            },
            "colorscale": [
             [
              0,
              "#0d0887"
             ],
             [
              0.1111111111111111,
              "#46039f"
             ],
             [
              0.2222222222222222,
              "#7201a8"
             ],
             [
              0.3333333333333333,
              "#9c179e"
             ],
             [
              0.4444444444444444,
              "#bd3786"
             ],
             [
              0.5555555555555556,
              "#d8576b"
             ],
             [
              0.6666666666666666,
              "#ed7953"
             ],
             [
              0.7777777777777778,
              "#fb9f3a"
             ],
             [
              0.8888888888888888,
              "#fdca26"
             ],
             [
              1,
              "#f0f921"
             ]
            ],
            "type": "surface"
           }
          ],
          "table": [
           {
            "cells": {
             "fill": {
              "color": "#EBF0F8"
             },
             "line": {
              "color": "white"
             }
            },
            "header": {
             "fill": {
              "color": "#C8D4E3"
             },
             "line": {
              "color": "white"
             }
            },
            "type": "table"
           }
          ]
         },
         "layout": {
          "annotationdefaults": {
           "arrowcolor": "#2a3f5f",
           "arrowhead": 0,
           "arrowwidth": 1
          },
          "autotypenumbers": "strict",
          "coloraxis": {
           "colorbar": {
            "outlinewidth": 0,
            "ticks": ""
           }
          },
          "colorscale": {
           "diverging": [
            [
             0,
             "#8e0152"
            ],
            [
             0.1,
             "#c51b7d"
            ],
            [
             0.2,
             "#de77ae"
            ],
            [
             0.3,
             "#f1b6da"
            ],
            [
             0.4,
             "#fde0ef"
            ],
            [
             0.5,
             "#f7f7f7"
            ],
            [
             0.6,
             "#e6f5d0"
            ],
            [
             0.7,
             "#b8e186"
            ],
            [
             0.8,
             "#7fbc41"
            ],
            [
             0.9,
             "#4d9221"
            ],
            [
             1,
             "#276419"
            ]
           ],
           "sequential": [
            [
             0,
             "#0d0887"
            ],
            [
             0.1111111111111111,
             "#46039f"
            ],
            [
             0.2222222222222222,
             "#7201a8"
            ],
            [
             0.3333333333333333,
             "#9c179e"
            ],
            [
             0.4444444444444444,
             "#bd3786"
            ],
            [
             0.5555555555555556,
             "#d8576b"
            ],
            [
             0.6666666666666666,
             "#ed7953"
            ],
            [
             0.7777777777777778,
             "#fb9f3a"
            ],
            [
             0.8888888888888888,
             "#fdca26"
            ],
            [
             1,
             "#f0f921"
            ]
           ],
           "sequentialminus": [
            [
             0,
             "#0d0887"
            ],
            [
             0.1111111111111111,
             "#46039f"
            ],
            [
             0.2222222222222222,
             "#7201a8"
            ],
            [
             0.3333333333333333,
             "#9c179e"
            ],
            [
             0.4444444444444444,
             "#bd3786"
            ],
            [
             0.5555555555555556,
             "#d8576b"
            ],
            [
             0.6666666666666666,
             "#ed7953"
            ],
            [
             0.7777777777777778,
             "#fb9f3a"
            ],
            [
             0.8888888888888888,
             "#fdca26"
            ],
            [
             1,
             "#f0f921"
            ]
           ]
          },
          "colorway": [
           "#636efa",
           "#EF553B",
           "#00cc96",
           "#ab63fa",
           "#FFA15A",
           "#19d3f3",
           "#FF6692",
           "#B6E880",
           "#FF97FF",
           "#FECB52"
          ],
          "font": {
           "color": "#2a3f5f"
          },
          "geo": {
           "bgcolor": "white",
           "lakecolor": "white",
           "landcolor": "#E5ECF6",
           "showlakes": true,
           "showland": true,
           "subunitcolor": "white"
          },
          "hoverlabel": {
           "align": "left"
          },
          "hovermode": "closest",
          "mapbox": {
           "style": "light"
          },
          "paper_bgcolor": "white",
          "plot_bgcolor": "#E5ECF6",
          "polar": {
           "angularaxis": {
            "gridcolor": "white",
            "linecolor": "white",
            "ticks": ""
           },
           "bgcolor": "#E5ECF6",
           "radialaxis": {
            "gridcolor": "white",
            "linecolor": "white",
            "ticks": ""
           }
          },
          "scene": {
           "xaxis": {
            "backgroundcolor": "#E5ECF6",
            "gridcolor": "white",
            "gridwidth": 2,
            "linecolor": "white",
            "showbackground": true,
            "ticks": "",
            "zerolinecolor": "white"
           },
           "yaxis": {
            "backgroundcolor": "#E5ECF6",
            "gridcolor": "white",
            "gridwidth": 2,
            "linecolor": "white",
            "showbackground": true,
            "ticks": "",
            "zerolinecolor": "white"
           },
           "zaxis": {
            "backgroundcolor": "#E5ECF6",
            "gridcolor": "white",
            "gridwidth": 2,
            "linecolor": "white",
            "showbackground": true,
            "ticks": "",
            "zerolinecolor": "white"
           }
          },
          "shapedefaults": {
           "line": {
            "color": "#2a3f5f"
           }
          },
          "ternary": {
           "aaxis": {
            "gridcolor": "white",
            "linecolor": "white",
            "ticks": ""
           },
           "baxis": {
            "gridcolor": "white",
            "linecolor": "white",
            "ticks": ""
           },
           "bgcolor": "#E5ECF6",
           "caxis": {
            "gridcolor": "white",
            "linecolor": "white",
            "ticks": ""
           }
          },
          "title": {
           "x": 0.05
          },
          "xaxis": {
           "automargin": true,
           "gridcolor": "white",
           "linecolor": "white",
           "ticks": "",
           "title": {
            "standoff": 15
           },
           "zerolinecolor": "white",
           "zerolinewidth": 2
          },
          "yaxis": {
           "automargin": true,
           "gridcolor": "white",
           "linecolor": "white",
           "ticks": "",
           "title": {
            "standoff": 15
           },
           "zerolinecolor": "white",
           "zerolinewidth": 2
          }
         }
        },
        "title": {
         "text": "Average rating of Customer Satisfaction per branch"
        },
        "xaxis": {
         "anchor": "y",
         "domain": [
          0,
          1
         ],
         "title": {
          "text": "Store"
         }
        },
        "yaxis": {
         "anchor": "x",
         "domain": [
          0,
          1
         ],
         "title": {
          "text": "value"
         }
        }
       }
      }
     },
     "metadata": {},
     "output_type": "display_data"
    }
   ],
   "source": [
    "branch_customerSatisfaction.plot(kind = 'bar', title = 'Average rating of Customer Satisfaction per branch')"
   ]
  },
  {
   "cell_type": "markdown",
   "metadata": {},
   "source": [
    "## Stores with Customer Staisfaction Score greater than 7"
   ]
  },
  {
   "cell_type": "code",
   "execution_count": 13,
   "metadata": {},
   "outputs": [
    {
     "name": "stdout",
     "output_type": "stream",
     "text": [
      "167              Customer Satisfaction Score\n",
      "Store                                   \n",
      "Hervey Bay                      8.000000\n",
      "Mt. Ommaney                     8.000000\n",
      "NT Outlet                       8.000000\n",
      "Epping                          8.000000\n",
      "Narracoorte                     8.000000\n",
      "...                                  ...\n",
      "Yeppoon                         7.090909\n",
      "Charlestown                     7.074074\n",
      "Tuggerah                        7.064516\n",
      "Penrith                         7.058824\n",
      "Bondi                           7.035714\n",
      "\n",
      "[167 rows x 1 columns]\n"
     ]
    }
   ],
   "source": [
    "print(len(branch_customerSatisfaction[branch_customerSatisfaction['Customer Satisfaction Score'] > 7]),branch_customerSatisfaction[branch_customerSatisfaction['Customer Satisfaction Score'] > 7])"
   ]
  },
  {
   "cell_type": "markdown",
   "metadata": {},
   "source": [
    "## Stores with highest Customer Staisfaction Score recorded."
   ]
  },
  {
   "cell_type": "code",
   "execution_count": 14,
   "metadata": {},
   "outputs": [
    {
     "name": "stdout",
     "output_type": "stream",
     "text": [
      "80              Customer Satisfaction Score\n",
      "Store                                   \n",
      "Hervey Bay                           8.0\n",
      "Mt. Ommaney                          8.0\n",
      "NT Outlet                            8.0\n",
      "Epping                               8.0\n",
      "Narracoorte                          8.0\n",
      "...                                  ...\n",
      "Sarina                               8.0\n",
      "Broome                               8.0\n",
      "Busselton                            8.0\n",
      "Ulladulla                            8.0\n",
      "Runaway Bay                          8.0\n",
      "\n",
      "[80 rows x 1 columns]\n"
     ]
    }
   ],
   "source": [
    "print(len(branch_customerSatisfaction[branch_customerSatisfaction['Customer Satisfaction Score'] == 8]),branch_customerSatisfaction[branch_customerSatisfaction['Customer Satisfaction Score'] == 8])"
   ]
  },
  {
   "cell_type": "markdown",
   "metadata": {},
   "source": [
    "## Stores with Customer Staisfaction Score lower than 6."
   ]
  },
  {
   "cell_type": "code",
   "execution_count": 15,
   "metadata": {},
   "outputs": [
    {
     "name": "stdout",
     "output_type": "stream",
     "text": [
      "15             Customer Satisfaction Score\n",
      "Store                                  \n",
      "Gympie                         5.750000\n",
      "Benalla                        5.750000\n",
      "Morisset                       5.666667\n",
      "Dalby                          5.642857\n",
      "Kalgoorlie                     5.555556\n",
      "Bowen                          5.000000\n",
      "Esperance                      5.000000\n",
      "Forbes                         5.000000\n",
      "Gladstone                      5.000000\n",
      "Ballina                        5.000000\n",
      "Ingham                         5.000000\n",
      "Portland                       5.000000\n",
      "Echuca                         5.000000\n",
      "Camden                         4.400000\n",
      "Bass Hill                      4.000000\n"
     ]
    }
   ],
   "source": [
    "print(len(branch_customerSatisfaction[branch_customerSatisfaction['Customer Satisfaction Score'] < 6]),branch_customerSatisfaction[branch_customerSatisfaction['Customer Satisfaction Score'] < 6])"
   ]
  },
  {
   "cell_type": "markdown",
   "metadata": {},
   "source": [
    "# Exploring the stores with lower customer satisfaction and thier likelihood to shop again:\n",
    "## For this we will be looking closely at the 15 stores that have a Customer Satisfaction Score lower than 6. "
   ]
  },
  {
   "cell_type": "code",
   "execution_count": 16,
   "metadata": {},
   "outputs": [],
   "source": [
    "branch_likelihood_cs = branch_data[['Store', 'Likelihood To Shop Again', 'Customer Satisfaction Score']]\n",
    "branch_likelihood_cs = branch_likelihood_cs[branch_likelihood_cs['Customer Satisfaction Score'] < 6]\n",
    "branch_likelihood_cs = branch_likelihood_cs.groupby(branch_likelihood_cs['Store']).mean().reset_index().sort_values(by = ['Customer Satisfaction Score'], ascending = False)"
   ]
  },
  {
   "cell_type": "code",
   "execution_count": 17,
   "metadata": {},
   "outputs": [
    {
     "data": {
      "text/html": [
       "<div><div id=6a023ed0-baae-4841-b6a3-63c1eed92097 style=\"display:none; background-color:#9D6CFF; color:white; width:200px; height:30px; padding-left:5px; border-radius:4px; flex-direction:row; justify-content:space-around; align-items:center;\" onmouseover=\"this.style.backgroundColor='#BA9BF8'\" onmouseout=\"this.style.backgroundColor='#9D6CFF'\" onclick=\"window.commands?.execute('create-mitosheet-from-dataframe-output');\">See Full Dataframe in Mito</div> <script> if (window.commands.hasCommand('create-mitosheet-from-dataframe-output')) document.getElementById('6a023ed0-baae-4841-b6a3-63c1eed92097').style.display = 'flex' </script> <table border=\"1\" class=\"dataframe\">\n",
       "  <thead>\n",
       "    <tr style=\"text-align: right;\">\n",
       "      <th></th>\n",
       "      <th>Likelihood To Shop Again</th>\n",
       "      <th>Customer Satisfaction Score</th>\n",
       "    </tr>\n",
       "  </thead>\n",
       "  <tbody>\n",
       "    <tr>\n",
       "      <th>count</th>\n",
       "      <td>131.000000</td>\n",
       "      <td>131.000000</td>\n",
       "    </tr>\n",
       "    <tr>\n",
       "      <th>mean</th>\n",
       "      <td>6.269779</td>\n",
       "      <td>4.826732</td>\n",
       "    </tr>\n",
       "    <tr>\n",
       "      <th>std</th>\n",
       "      <td>2.129532</td>\n",
       "      <td>0.320148</td>\n",
       "    </tr>\n",
       "    <tr>\n",
       "      <th>min</th>\n",
       "      <td>1.000000</td>\n",
       "      <td>4.000000</td>\n",
       "    </tr>\n",
       "    <tr>\n",
       "      <th>25%</th>\n",
       "      <td>5.000000</td>\n",
       "      <td>4.690476</td>\n",
       "    </tr>\n",
       "    <tr>\n",
       "      <th>50%</th>\n",
       "      <td>6.200000</td>\n",
       "      <td>5.000000</td>\n",
       "    </tr>\n",
       "    <tr>\n",
       "      <th>75%</th>\n",
       "      <td>7.732143</td>\n",
       "      <td>5.000000</td>\n",
       "    </tr>\n",
       "    <tr>\n",
       "      <th>max</th>\n",
       "      <td>10.000000</td>\n",
       "      <td>5.000000</td>\n",
       "    </tr>\n",
       "  </tbody>\n",
       "</table></div>"
      ],
      "text/plain": [
       "       Likelihood To Shop Again  Customer Satisfaction Score\n",
       "count                131.000000                   131.000000\n",
       "mean                   6.269779                     4.826732\n",
       "std                    2.129532                     0.320148\n",
       "min                    1.000000                     4.000000\n",
       "25%                    5.000000                     4.690476\n",
       "50%                    6.200000                     5.000000\n",
       "75%                    7.732143                     5.000000\n",
       "max                   10.000000                     5.000000"
      ]
     },
     "execution_count": 17,
     "metadata": {},
     "output_type": "execute_result"
    }
   ],
   "source": [
    "branch_likelihood_cs.describe()"
   ]
  },
  {
   "cell_type": "markdown",
   "metadata": {},
   "source": [
    "## What does the plot say?\n",
    "### From the plot, seems like most stores have Likelihood score of 5 and above, even though the customer satisfaction score is low. "
   ]
  },
  {
   "cell_type": "code",
   "execution_count": 18,
   "metadata": {},
   "outputs": [
    {
     "data": {
      "application/vnd.plotly.v1+json": {
       "config": {
        "plotlyServerURL": "https://plot.ly"
       },
       "data": [
        {
         "alignmentgroup": "True",
         "hovertemplate": "Store=%{x}<br>Likelihood To Shop Again=%{y}<br>Customer Satisfaction Score=%{marker.color}<extra></extra>",
         "legendgroup": "",
         "marker": {
          "color": [
           5,
           5,
           5,
           5,
           5,
           5,
           5,
           5,
           5,
           5,
           5,
           5,
           5,
           5,
           5,
           5,
           5,
           5,
           5,
           5,
           5,
           5,
           5,
           5,
           5,
           5,
           5,
           5,
           5,
           5,
           5,
           5,
           5,
           5,
           5,
           5,
           5,
           5,
           5,
           5,
           5,
           5,
           5,
           5,
           5,
           5,
           5,
           5,
           5,
           5,
           5,
           5,
           5,
           5,
           5,
           5,
           5,
           5,
           5,
           5,
           5,
           5,
           5,
           5,
           5,
           5,
           5,
           5,
           5,
           5,
           5,
           5,
           5,
           5,
           5,
           5,
           5,
           5,
           5,
           5,
           5,
           5,
           5,
           5,
           5,
           5,
           5,
           5,
           5,
           5,
           5,
           5,
           5,
           5,
           5,
           5,
           4.714285714285714,
           4.714285714285714,
           4.666666666666667,
           4.666666666666667,
           4.625,
           4.615384615384615,
           4.6,
           4.6,
           4.6,
           4.583333333333333,
           4.571428571428571,
           4.571428571428571,
           4.5,
           4.5,
           4.5,
           4.5,
           4.461538461538462,
           4.428571428571429,
           4.4,
           4.4,
           4.375,
           4.375,
           4.333333333333333,
           4,
           4,
           4,
           4,
           4,
           4,
           4,
           4,
           4,
           4,
           4,
           4
          ],
          "coloraxis": "coloraxis",
          "pattern": {
           "shape": ""
          }
         },
         "name": "",
         "offsetgroup": "",
         "orientation": "v",
         "showlegend": false,
         "textposition": "auto",
         "type": "bar",
         "x": [
          "Innaloo",
          "Macarthur Square",
          "Newton",
          "Morwell",
          "Mornington",
          "Morayfield",
          "Miranda",
          "Mildura",
          "Midland",
          "Mawson Lakes",
          "Maroochydore",
          "Mareeba",
          "Macquarie",
          "Liverpool",
          "Golden Grove",
          "Launceston",
          "Knox City",
          "Katoomba",
          "Ipswich",
          "Innisfail",
          "Bairnsdale",
          "Ingham",
          "Hurstville",
          "Hollywood Plaza",
          "Hobart",
          "Highpoint",
          "Penrith",
          "Portland",
          "Queanbeyan",
          "Reynella",
          "Wodonga",
          "West Lakes",
          "Waurn Ponds",
          "Watergardens",
          "Warrnambool",
          "Warringah Mall",
          "Warrawong",
          "Victoria Park",
          "Victor Harbor",
          "Unley",
          "Tuggeranong",
          "Toowoomba",
          "The Willows",
          "Tamworth",
          "Strathpine",
          "St Marys",
          "Southport",
          "Southland",
          "Sale",
          "Rouse Hill",
          "Roselands",
          "Rockdale",
          "Ringwood",
          "Gympie",
          "Wonthaggi",
          "Glenorchy",
          "Campbelltown",
          "Ballina",
          "Dandenong",
          "Chatswood",
          "Castletown",
          "Carousel",
          "Carlingford",
          "Capalaba",
          "Cannot find store",
          "Canberra",
          "Bathurst",
          "Earlville",
          "Cairns",
          "Burwood",
          "Burnie",
          "Bundaberg",
          "Bunbury",
          "Bullcreek",
          "Brisbane CBD",
          "Bowen",
          "Belconnen",
          "Doncaster",
          "Charlestown",
          "Eastgardens",
          "Erina",
          "Glendale",
          "Glen Waverley",
          "Gladstone",
          "Geraldton",
          "Fremantle",
          "Fountain Gate",
          "Forest Lake",
          "Forest Hill",
          "Forbes",
          "Ballarat",
          "Flemington",
          "Esperance",
          "Benalla",
          "Echuca",
          "Elizabeth",
          "Leichhardt",
          "Joondalup",
          "Hornsby",
          "Chermside",
          "Robina",
          "Morley",
          "Bankstown",
          "Bondi",
          "Tea Tree Plaza",
          "Perth CBD",
          "Edwardstown",
          "Hoppers Crossing",
          "Tuggerah",
          "Broadway",
          "Morisset",
          "Northland",
          "Chadstone",
          "North Lakes",
          "Buranda",
          "Camden",
          "Dalby",
          "Rhodes",
          "McLaren Vale",
          "Wagga Wagga",
          "Bass Hill",
          "Parramatta",
          "Bentleigh",
          "Blacktown",
          "Tweed Heads",
          "Rockingham",
          "Point Cook",
          "Goulburn",
          "Meadow Springs",
          "Kalgoorlie",
          "5991-Unknown"
         ],
         "xaxis": "x",
         "y": [
          10,
          5,
          8,
          9,
          6.6,
          4.5,
          9,
          8,
          6.666666666666667,
          5,
          5,
          5,
          7.666666666666667,
          5.909090909090909,
          7,
          8,
          10,
          5,
          10,
          7,
          5,
          8,
          7,
          5,
          7.6,
          7.285714285714286,
          8,
          10,
          10,
          9,
          7,
          9,
          8,
          5,
          3,
          6,
          6,
          6.333333333333333,
          3,
          7,
          8,
          5,
          2,
          10,
          2,
          9,
          1,
          7.5,
          6,
          5,
          6.2,
          6,
          10,
          5,
          5,
          9,
          6,
          5,
          8.666666666666666,
          6,
          7.333333333333333,
          5.5,
          7,
          5,
          5.125,
          4,
          8.5,
          1,
          9,
          8.2,
          7.714285714285714,
          7,
          4,
          7,
          7,
          6,
          1,
          5,
          1,
          5,
          9,
          4,
          6,
          4.5,
          7,
          5,
          6,
          8,
          6.2,
          5,
          10,
          6,
          7,
          5,
          7,
          7,
          7,
          5.857142857142857,
          3,
          8.666666666666666,
          5.25,
          5.769230769230769,
          5.2,
          5.2,
          6.4,
          6.166666666666667,
          8.571428571428571,
          7,
          7.5,
          7.5,
          5.5,
          2.25,
          4.461538461538462,
          5.714285714285714,
          7.4,
          6.6,
          7.75,
          4.75,
          7.833333333333333,
          3,
          6,
          5,
          6,
          3,
          3,
          10,
          7,
          8,
          5,
          1,
          7
         ],
         "yaxis": "y"
        }
       ],
       "layout": {
        "barmode": "relative",
        "coloraxis": {
         "colorbar": {
          "title": {
           "text": "Customer Satisfaction Score"
          }
         },
         "colorscale": [
          [
           0,
           "rgb(84,48,5)"
          ],
          [
           0.1,
           "rgb(140,81,10)"
          ],
          [
           0.2,
           "rgb(191,129,45)"
          ],
          [
           0.3,
           "rgb(223,194,125)"
          ],
          [
           0.4,
           "rgb(246,232,195)"
          ],
          [
           0.5,
           "rgb(245,245,245)"
          ],
          [
           0.6,
           "rgb(199,234,229)"
          ],
          [
           0.7,
           "rgb(128,205,193)"
          ],
          [
           0.8,
           "rgb(53,151,143)"
          ],
          [
           0.9,
           "rgb(1,102,94)"
          ],
          [
           1,
           "rgb(0,60,48)"
          ]
         ]
        },
        "legend": {
         "tracegroupgap": 0
        },
        "template": {
         "data": {
          "bar": [
           {
            "error_x": {
             "color": "#2a3f5f"
            },
            "error_y": {
             "color": "#2a3f5f"
            },
            "marker": {
             "line": {
              "color": "#E5ECF6",
              "width": 0.5
             },
             "pattern": {
              "fillmode": "overlay",
              "size": 10,
              "solidity": 0.2
             }
            },
            "type": "bar"
           }
          ],
          "barpolar": [
           {
            "marker": {
             "line": {
              "color": "#E5ECF6",
              "width": 0.5
             },
             "pattern": {
              "fillmode": "overlay",
              "size": 10,
              "solidity": 0.2
             }
            },
            "type": "barpolar"
           }
          ],
          "carpet": [
           {
            "aaxis": {
             "endlinecolor": "#2a3f5f",
             "gridcolor": "white",
             "linecolor": "white",
             "minorgridcolor": "white",
             "startlinecolor": "#2a3f5f"
            },
            "baxis": {
             "endlinecolor": "#2a3f5f",
             "gridcolor": "white",
             "linecolor": "white",
             "minorgridcolor": "white",
             "startlinecolor": "#2a3f5f"
            },
            "type": "carpet"
           }
          ],
          "choropleth": [
           {
            "colorbar": {
             "outlinewidth": 0,
             "ticks": ""
            },
            "type": "choropleth"
           }
          ],
          "contour": [
           {
            "colorbar": {
             "outlinewidth": 0,
             "ticks": ""
            },
            "colorscale": [
             [
              0,
              "#0d0887"
             ],
             [
              0.1111111111111111,
              "#46039f"
             ],
             [
              0.2222222222222222,
              "#7201a8"
             ],
             [
              0.3333333333333333,
              "#9c179e"
             ],
             [
              0.4444444444444444,
              "#bd3786"
             ],
             [
              0.5555555555555556,
              "#d8576b"
             ],
             [
              0.6666666666666666,
              "#ed7953"
             ],
             [
              0.7777777777777778,
              "#fb9f3a"
             ],
             [
              0.8888888888888888,
              "#fdca26"
             ],
             [
              1,
              "#f0f921"
             ]
            ],
            "type": "contour"
           }
          ],
          "contourcarpet": [
           {
            "colorbar": {
             "outlinewidth": 0,
             "ticks": ""
            },
            "type": "contourcarpet"
           }
          ],
          "heatmap": [
           {
            "colorbar": {
             "outlinewidth": 0,
             "ticks": ""
            },
            "colorscale": [
             [
              0,
              "#0d0887"
             ],
             [
              0.1111111111111111,
              "#46039f"
             ],
             [
              0.2222222222222222,
              "#7201a8"
             ],
             [
              0.3333333333333333,
              "#9c179e"
             ],
             [
              0.4444444444444444,
              "#bd3786"
             ],
             [
              0.5555555555555556,
              "#d8576b"
             ],
             [
              0.6666666666666666,
              "#ed7953"
             ],
             [
              0.7777777777777778,
              "#fb9f3a"
             ],
             [
              0.8888888888888888,
              "#fdca26"
             ],
             [
              1,
              "#f0f921"
             ]
            ],
            "type": "heatmap"
           }
          ],
          "heatmapgl": [
           {
            "colorbar": {
             "outlinewidth": 0,
             "ticks": ""
            },
            "colorscale": [
             [
              0,
              "#0d0887"
             ],
             [
              0.1111111111111111,
              "#46039f"
             ],
             [
              0.2222222222222222,
              "#7201a8"
             ],
             [
              0.3333333333333333,
              "#9c179e"
             ],
             [
              0.4444444444444444,
              "#bd3786"
             ],
             [
              0.5555555555555556,
              "#d8576b"
             ],
             [
              0.6666666666666666,
              "#ed7953"
             ],
             [
              0.7777777777777778,
              "#fb9f3a"
             ],
             [
              0.8888888888888888,
              "#fdca26"
             ],
             [
              1,
              "#f0f921"
             ]
            ],
            "type": "heatmapgl"
           }
          ],
          "histogram": [
           {
            "marker": {
             "pattern": {
              "fillmode": "overlay",
              "size": 10,
              "solidity": 0.2
             }
            },
            "type": "histogram"
           }
          ],
          "histogram2d": [
           {
            "colorbar": {
             "outlinewidth": 0,
             "ticks": ""
            },
            "colorscale": [
             [
              0,
              "#0d0887"
             ],
             [
              0.1111111111111111,
              "#46039f"
             ],
             [
              0.2222222222222222,
              "#7201a8"
             ],
             [
              0.3333333333333333,
              "#9c179e"
             ],
             [
              0.4444444444444444,
              "#bd3786"
             ],
             [
              0.5555555555555556,
              "#d8576b"
             ],
             [
              0.6666666666666666,
              "#ed7953"
             ],
             [
              0.7777777777777778,
              "#fb9f3a"
             ],
             [
              0.8888888888888888,
              "#fdca26"
             ],
             [
              1,
              "#f0f921"
             ]
            ],
            "type": "histogram2d"
           }
          ],
          "histogram2dcontour": [
           {
            "colorbar": {
             "outlinewidth": 0,
             "ticks": ""
            },
            "colorscale": [
             [
              0,
              "#0d0887"
             ],
             [
              0.1111111111111111,
              "#46039f"
             ],
             [
              0.2222222222222222,
              "#7201a8"
             ],
             [
              0.3333333333333333,
              "#9c179e"
             ],
             [
              0.4444444444444444,
              "#bd3786"
             ],
             [
              0.5555555555555556,
              "#d8576b"
             ],
             [
              0.6666666666666666,
              "#ed7953"
             ],
             [
              0.7777777777777778,
              "#fb9f3a"
             ],
             [
              0.8888888888888888,
              "#fdca26"
             ],
             [
              1,
              "#f0f921"
             ]
            ],
            "type": "histogram2dcontour"
           }
          ],
          "mesh3d": [
           {
            "colorbar": {
             "outlinewidth": 0,
             "ticks": ""
            },
            "type": "mesh3d"
           }
          ],
          "parcoords": [
           {
            "line": {
             "colorbar": {
              "outlinewidth": 0,
              "ticks": ""
             }
            },
            "type": "parcoords"
           }
          ],
          "pie": [
           {
            "automargin": true,
            "type": "pie"
           }
          ],
          "scatter": [
           {
            "marker": {
             "colorbar": {
              "outlinewidth": 0,
              "ticks": ""
             }
            },
            "type": "scatter"
           }
          ],
          "scatter3d": [
           {
            "line": {
             "colorbar": {
              "outlinewidth": 0,
              "ticks": ""
             }
            },
            "marker": {
             "colorbar": {
              "outlinewidth": 0,
              "ticks": ""
             }
            },
            "type": "scatter3d"
           }
          ],
          "scattercarpet": [
           {
            "marker": {
             "colorbar": {
              "outlinewidth": 0,
              "ticks": ""
             }
            },
            "type": "scattercarpet"
           }
          ],
          "scattergeo": [
           {
            "marker": {
             "colorbar": {
              "outlinewidth": 0,
              "ticks": ""
             }
            },
            "type": "scattergeo"
           }
          ],
          "scattergl": [
           {
            "marker": {
             "colorbar": {
              "outlinewidth": 0,
              "ticks": ""
             }
            },
            "type": "scattergl"
           }
          ],
          "scattermapbox": [
           {
            "marker": {
             "colorbar": {
              "outlinewidth": 0,
              "ticks": ""
             }
            },
            "type": "scattermapbox"
           }
          ],
          "scatterpolar": [
           {
            "marker": {
             "colorbar": {
              "outlinewidth": 0,
              "ticks": ""
             }
            },
            "type": "scatterpolar"
           }
          ],
          "scatterpolargl": [
           {
            "marker": {
             "colorbar": {
              "outlinewidth": 0,
              "ticks": ""
             }
            },
            "type": "scatterpolargl"
           }
          ],
          "scatterternary": [
           {
            "marker": {
             "colorbar": {
              "outlinewidth": 0,
              "ticks": ""
             }
            },
            "type": "scatterternary"
           }
          ],
          "surface": [
           {
            "colorbar": {
             "outlinewidth": 0,
             "ticks": ""
            },
            "colorscale": [
             [
              0,
              "#0d0887"
             ],
             [
              0.1111111111111111,
              "#46039f"
             ],
             [
              0.2222222222222222,
              "#7201a8"
             ],
             [
              0.3333333333333333,
              "#9c179e"
             ],
             [
              0.4444444444444444,
              "#bd3786"
             ],
             [
              0.5555555555555556,
              "#d8576b"
             ],
             [
              0.6666666666666666,
              "#ed7953"
             ],
             [
              0.7777777777777778,
              "#fb9f3a"
             ],
             [
              0.8888888888888888,
              "#fdca26"
             ],
             [
              1,
              "#f0f921"
             ]
            ],
            "type": "surface"
           }
          ],
          "table": [
           {
            "cells": {
             "fill": {
              "color": "#EBF0F8"
             },
             "line": {
              "color": "white"
             }
            },
            "header": {
             "fill": {
              "color": "#C8D4E3"
             },
             "line": {
              "color": "white"
             }
            },
            "type": "table"
           }
          ]
         },
         "layout": {
          "annotationdefaults": {
           "arrowcolor": "#2a3f5f",
           "arrowhead": 0,
           "arrowwidth": 1
          },
          "autotypenumbers": "strict",
          "coloraxis": {
           "colorbar": {
            "outlinewidth": 0,
            "ticks": ""
           }
          },
          "colorscale": {
           "diverging": [
            [
             0,
             "#8e0152"
            ],
            [
             0.1,
             "#c51b7d"
            ],
            [
             0.2,
             "#de77ae"
            ],
            [
             0.3,
             "#f1b6da"
            ],
            [
             0.4,
             "#fde0ef"
            ],
            [
             0.5,
             "#f7f7f7"
            ],
            [
             0.6,
             "#e6f5d0"
            ],
            [
             0.7,
             "#b8e186"
            ],
            [
             0.8,
             "#7fbc41"
            ],
            [
             0.9,
             "#4d9221"
            ],
            [
             1,
             "#276419"
            ]
           ],
           "sequential": [
            [
             0,
             "#0d0887"
            ],
            [
             0.1111111111111111,
             "#46039f"
            ],
            [
             0.2222222222222222,
             "#7201a8"
            ],
            [
             0.3333333333333333,
             "#9c179e"
            ],
            [
             0.4444444444444444,
             "#bd3786"
            ],
            [
             0.5555555555555556,
             "#d8576b"
            ],
            [
             0.6666666666666666,
             "#ed7953"
            ],
            [
             0.7777777777777778,
             "#fb9f3a"
            ],
            [
             0.8888888888888888,
             "#fdca26"
            ],
            [
             1,
             "#f0f921"
            ]
           ],
           "sequentialminus": [
            [
             0,
             "#0d0887"
            ],
            [
             0.1111111111111111,
             "#46039f"
            ],
            [
             0.2222222222222222,
             "#7201a8"
            ],
            [
             0.3333333333333333,
             "#9c179e"
            ],
            [
             0.4444444444444444,
             "#bd3786"
            ],
            [
             0.5555555555555556,
             "#d8576b"
            ],
            [
             0.6666666666666666,
             "#ed7953"
            ],
            [
             0.7777777777777778,
             "#fb9f3a"
            ],
            [
             0.8888888888888888,
             "#fdca26"
            ],
            [
             1,
             "#f0f921"
            ]
           ]
          },
          "colorway": [
           "#636efa",
           "#EF553B",
           "#00cc96",
           "#ab63fa",
           "#FFA15A",
           "#19d3f3",
           "#FF6692",
           "#B6E880",
           "#FF97FF",
           "#FECB52"
          ],
          "font": {
           "color": "#2a3f5f"
          },
          "geo": {
           "bgcolor": "white",
           "lakecolor": "white",
           "landcolor": "#E5ECF6",
           "showlakes": true,
           "showland": true,
           "subunitcolor": "white"
          },
          "hoverlabel": {
           "align": "left"
          },
          "hovermode": "closest",
          "mapbox": {
           "style": "light"
          },
          "paper_bgcolor": "white",
          "plot_bgcolor": "#E5ECF6",
          "polar": {
           "angularaxis": {
            "gridcolor": "white",
            "linecolor": "white",
            "ticks": ""
           },
           "bgcolor": "#E5ECF6",
           "radialaxis": {
            "gridcolor": "white",
            "linecolor": "white",
            "ticks": ""
           }
          },
          "scene": {
           "xaxis": {
            "backgroundcolor": "#E5ECF6",
            "gridcolor": "white",
            "gridwidth": 2,
            "linecolor": "white",
            "showbackground": true,
            "ticks": "",
            "zerolinecolor": "white"
           },
           "yaxis": {
            "backgroundcolor": "#E5ECF6",
            "gridcolor": "white",
            "gridwidth": 2,
            "linecolor": "white",
            "showbackground": true,
            "ticks": "",
            "zerolinecolor": "white"
           },
           "zaxis": {
            "backgroundcolor": "#E5ECF6",
            "gridcolor": "white",
            "gridwidth": 2,
            "linecolor": "white",
            "showbackground": true,
            "ticks": "",
            "zerolinecolor": "white"
           }
          },
          "shapedefaults": {
           "line": {
            "color": "#2a3f5f"
           }
          },
          "ternary": {
           "aaxis": {
            "gridcolor": "white",
            "linecolor": "white",
            "ticks": ""
           },
           "baxis": {
            "gridcolor": "white",
            "linecolor": "white",
            "ticks": ""
           },
           "bgcolor": "#E5ECF6",
           "caxis": {
            "gridcolor": "white",
            "linecolor": "white",
            "ticks": ""
           }
          },
          "title": {
           "x": 0.05
          },
          "xaxis": {
           "automargin": true,
           "gridcolor": "white",
           "linecolor": "white",
           "ticks": "",
           "title": {
            "standoff": 15
           },
           "zerolinecolor": "white",
           "zerolinewidth": 2
          },
          "yaxis": {
           "automargin": true,
           "gridcolor": "white",
           "linecolor": "white",
           "ticks": "",
           "title": {
            "standoff": 15
           },
           "zerolinecolor": "white",
           "zerolinewidth": 2
          }
         }
        },
        "title": {
         "text": "Customer Satisfaction VS Likehihood to Shop Again(Store-Wise)"
        },
        "xaxis": {
         "anchor": "y",
         "domain": [
          0,
          1
         ],
         "title": {
          "text": "Store"
         }
        },
        "yaxis": {
         "anchor": "x",
         "domain": [
          0,
          1
         ],
         "title": {
          "text": "Likelihood To Shop Again"
         }
        }
       }
      }
     },
     "metadata": {},
     "output_type": "display_data"
    }
   ],
   "source": [
    "px.bar(branch_likelihood_cs, x = 'Store', color = 'Customer Satisfaction Score', y= 'Likelihood To Shop Again', title= \"Customer Satisfaction VS Likehihood to Shop Again(Store-Wise)\", color_continuous_scale=px.colors.diverging.BrBG)"
   ]
  },
  {
   "cell_type": "markdown",
   "metadata": {},
   "source": [
    "## Let's take a closer look at the stores that have Likelihood score lower than 5 for more detalied analysis.\n",
    "### This plot shows us that, there is a corrleation between customer satisfaction score and likelihood to shop again. \n",
    "#### Stores Wagga Wagga, Blacktown, Tweed Heads and Kalgoorlie have Likelihood score of 3 with a customer satisfaction score of 4. \n",
    "#### Stores Southport, Earlville, Belconnen, Charlestown although having a decent customer satisfaction score 5, the likelihood to shop again reamins at 1. The same goes for Stores The Willows, Strathpine which have similar customer satisfaction scores but hold a likelihood score of 2. "
   ]
  },
  {
   "cell_type": "code",
   "execution_count": 19,
   "metadata": {},
   "outputs": [
    {
     "data": {
      "application/vnd.plotly.v1+json": {
       "config": {
        "plotlyServerURL": "https://plot.ly"
       },
       "data": [
        {
         "alignmentgroup": "True",
         "hovertemplate": "Store=%{x}<br>Likelihood To Shop Again=%{y}<br>Customer Satisfaction Score=%{marker.color}<extra></extra>",
         "legendgroup": "",
         "marker": {
          "color": [
           5,
           5,
           5,
           5,
           5,
           5,
           5,
           5,
           5,
           5,
           5,
           5,
           5,
           4.666666666666667,
           4.5,
           4.461538461538462,
           4.375,
           4,
           4,
           4,
           4
          ],
          "coloraxis": "coloraxis",
          "pattern": {
           "shape": ""
          }
         },
         "name": "",
         "offsetgroup": "",
         "orientation": "v",
         "showlegend": false,
         "textposition": "auto",
         "type": "bar",
         "x": [
          "Morayfield",
          "Warrnambool",
          "Victor Harbor",
          "The Willows",
          "Strathpine",
          "Southport",
          "Canberra",
          "Earlville",
          "Bunbury",
          "Belconnen",
          "Charlestown",
          "Glendale",
          "Gladstone",
          "Hornsby",
          "Northland",
          "Chadstone",
          "Rhodes",
          "Wagga Wagga",
          "Blacktown",
          "Tweed Heads",
          "Kalgoorlie"
         ],
         "xaxis": "x",
         "y": [
          4.5,
          3,
          3,
          2,
          2,
          1,
          4,
          1,
          4,
          1,
          1,
          4,
          4.5,
          3,
          2.25,
          4.461538461538462,
          4.75,
          3,
          3,
          3,
          1
         ],
         "yaxis": "y"
        }
       ],
       "layout": {
        "barmode": "relative",
        "coloraxis": {
         "colorbar": {
          "title": {
           "text": "Customer Satisfaction Score"
          }
         },
         "colorscale": [
          [
           0,
           "rgb(84,48,5)"
          ],
          [
           0.1,
           "rgb(140,81,10)"
          ],
          [
           0.2,
           "rgb(191,129,45)"
          ],
          [
           0.3,
           "rgb(223,194,125)"
          ],
          [
           0.4,
           "rgb(246,232,195)"
          ],
          [
           0.5,
           "rgb(245,245,245)"
          ],
          [
           0.6,
           "rgb(199,234,229)"
          ],
          [
           0.7,
           "rgb(128,205,193)"
          ],
          [
           0.8,
           "rgb(53,151,143)"
          ],
          [
           0.9,
           "rgb(1,102,94)"
          ],
          [
           1,
           "rgb(0,60,48)"
          ]
         ]
        },
        "legend": {
         "tracegroupgap": 0
        },
        "template": {
         "data": {
          "bar": [
           {
            "error_x": {
             "color": "#2a3f5f"
            },
            "error_y": {
             "color": "#2a3f5f"
            },
            "marker": {
             "line": {
              "color": "#E5ECF6",
              "width": 0.5
             },
             "pattern": {
              "fillmode": "overlay",
              "size": 10,
              "solidity": 0.2
             }
            },
            "type": "bar"
           }
          ],
          "barpolar": [
           {
            "marker": {
             "line": {
              "color": "#E5ECF6",
              "width": 0.5
             },
             "pattern": {
              "fillmode": "overlay",
              "size": 10,
              "solidity": 0.2
             }
            },
            "type": "barpolar"
           }
          ],
          "carpet": [
           {
            "aaxis": {
             "endlinecolor": "#2a3f5f",
             "gridcolor": "white",
             "linecolor": "white",
             "minorgridcolor": "white",
             "startlinecolor": "#2a3f5f"
            },
            "baxis": {
             "endlinecolor": "#2a3f5f",
             "gridcolor": "white",
             "linecolor": "white",
             "minorgridcolor": "white",
             "startlinecolor": "#2a3f5f"
            },
            "type": "carpet"
           }
          ],
          "choropleth": [
           {
            "colorbar": {
             "outlinewidth": 0,
             "ticks": ""
            },
            "type": "choropleth"
           }
          ],
          "contour": [
           {
            "colorbar": {
             "outlinewidth": 0,
             "ticks": ""
            },
            "colorscale": [
             [
              0,
              "#0d0887"
             ],
             [
              0.1111111111111111,
              "#46039f"
             ],
             [
              0.2222222222222222,
              "#7201a8"
             ],
             [
              0.3333333333333333,
              "#9c179e"
             ],
             [
              0.4444444444444444,
              "#bd3786"
             ],
             [
              0.5555555555555556,
              "#d8576b"
             ],
             [
              0.6666666666666666,
              "#ed7953"
             ],
             [
              0.7777777777777778,
              "#fb9f3a"
             ],
             [
              0.8888888888888888,
              "#fdca26"
             ],
             [
              1,
              "#f0f921"
             ]
            ],
            "type": "contour"
           }
          ],
          "contourcarpet": [
           {
            "colorbar": {
             "outlinewidth": 0,
             "ticks": ""
            },
            "type": "contourcarpet"
           }
          ],
          "heatmap": [
           {
            "colorbar": {
             "outlinewidth": 0,
             "ticks": ""
            },
            "colorscale": [
             [
              0,
              "#0d0887"
             ],
             [
              0.1111111111111111,
              "#46039f"
             ],
             [
              0.2222222222222222,
              "#7201a8"
             ],
             [
              0.3333333333333333,
              "#9c179e"
             ],
             [
              0.4444444444444444,
              "#bd3786"
             ],
             [
              0.5555555555555556,
              "#d8576b"
             ],
             [
              0.6666666666666666,
              "#ed7953"
             ],
             [
              0.7777777777777778,
              "#fb9f3a"
             ],
             [
              0.8888888888888888,
              "#fdca26"
             ],
             [
              1,
              "#f0f921"
             ]
            ],
            "type": "heatmap"
           }
          ],
          "heatmapgl": [
           {
            "colorbar": {
             "outlinewidth": 0,
             "ticks": ""
            },
            "colorscale": [
             [
              0,
              "#0d0887"
             ],
             [
              0.1111111111111111,
              "#46039f"
             ],
             [
              0.2222222222222222,
              "#7201a8"
             ],
             [
              0.3333333333333333,
              "#9c179e"
             ],
             [
              0.4444444444444444,
              "#bd3786"
             ],
             [
              0.5555555555555556,
              "#d8576b"
             ],
             [
              0.6666666666666666,
              "#ed7953"
             ],
             [
              0.7777777777777778,
              "#fb9f3a"
             ],
             [
              0.8888888888888888,
              "#fdca26"
             ],
             [
              1,
              "#f0f921"
             ]
            ],
            "type": "heatmapgl"
           }
          ],
          "histogram": [
           {
            "marker": {
             "pattern": {
              "fillmode": "overlay",
              "size": 10,
              "solidity": 0.2
             }
            },
            "type": "histogram"
           }
          ],
          "histogram2d": [
           {
            "colorbar": {
             "outlinewidth": 0,
             "ticks": ""
            },
            "colorscale": [
             [
              0,
              "#0d0887"
             ],
             [
              0.1111111111111111,
              "#46039f"
             ],
             [
              0.2222222222222222,
              "#7201a8"
             ],
             [
              0.3333333333333333,
              "#9c179e"
             ],
             [
              0.4444444444444444,
              "#bd3786"
             ],
             [
              0.5555555555555556,
              "#d8576b"
             ],
             [
              0.6666666666666666,
              "#ed7953"
             ],
             [
              0.7777777777777778,
              "#fb9f3a"
             ],
             [
              0.8888888888888888,
              "#fdca26"
             ],
             [
              1,
              "#f0f921"
             ]
            ],
            "type": "histogram2d"
           }
          ],
          "histogram2dcontour": [
           {
            "colorbar": {
             "outlinewidth": 0,
             "ticks": ""
            },
            "colorscale": [
             [
              0,
              "#0d0887"
             ],
             [
              0.1111111111111111,
              "#46039f"
             ],
             [
              0.2222222222222222,
              "#7201a8"
             ],
             [
              0.3333333333333333,
              "#9c179e"
             ],
             [
              0.4444444444444444,
              "#bd3786"
             ],
             [
              0.5555555555555556,
              "#d8576b"
             ],
             [
              0.6666666666666666,
              "#ed7953"
             ],
             [
              0.7777777777777778,
              "#fb9f3a"
             ],
             [
              0.8888888888888888,
              "#fdca26"
             ],
             [
              1,
              "#f0f921"
             ]
            ],
            "type": "histogram2dcontour"
           }
          ],
          "mesh3d": [
           {
            "colorbar": {
             "outlinewidth": 0,
             "ticks": ""
            },
            "type": "mesh3d"
           }
          ],
          "parcoords": [
           {
            "line": {
             "colorbar": {
              "outlinewidth": 0,
              "ticks": ""
             }
            },
            "type": "parcoords"
           }
          ],
          "pie": [
           {
            "automargin": true,
            "type": "pie"
           }
          ],
          "scatter": [
           {
            "marker": {
             "colorbar": {
              "outlinewidth": 0,
              "ticks": ""
             }
            },
            "type": "scatter"
           }
          ],
          "scatter3d": [
           {
            "line": {
             "colorbar": {
              "outlinewidth": 0,
              "ticks": ""
             }
            },
            "marker": {
             "colorbar": {
              "outlinewidth": 0,
              "ticks": ""
             }
            },
            "type": "scatter3d"
           }
          ],
          "scattercarpet": [
           {
            "marker": {
             "colorbar": {
              "outlinewidth": 0,
              "ticks": ""
             }
            },
            "type": "scattercarpet"
           }
          ],
          "scattergeo": [
           {
            "marker": {
             "colorbar": {
              "outlinewidth": 0,
              "ticks": ""
             }
            },
            "type": "scattergeo"
           }
          ],
          "scattergl": [
           {
            "marker": {
             "colorbar": {
              "outlinewidth": 0,
              "ticks": ""
             }
            },
            "type": "scattergl"
           }
          ],
          "scattermapbox": [
           {
            "marker": {
             "colorbar": {
              "outlinewidth": 0,
              "ticks": ""
             }
            },
            "type": "scattermapbox"
           }
          ],
          "scatterpolar": [
           {
            "marker": {
             "colorbar": {
              "outlinewidth": 0,
              "ticks": ""
             }
            },
            "type": "scatterpolar"
           }
          ],
          "scatterpolargl": [
           {
            "marker": {
             "colorbar": {
              "outlinewidth": 0,
              "ticks": ""
             }
            },
            "type": "scatterpolargl"
           }
          ],
          "scatterternary": [
           {
            "marker": {
             "colorbar": {
              "outlinewidth": 0,
              "ticks": ""
             }
            },
            "type": "scatterternary"
           }
          ],
          "surface": [
           {
            "colorbar": {
             "outlinewidth": 0,
             "ticks": ""
            },
            "colorscale": [
             [
              0,
              "#0d0887"
             ],
             [
              0.1111111111111111,
              "#46039f"
             ],
             [
              0.2222222222222222,
              "#7201a8"
             ],
             [
              0.3333333333333333,
              "#9c179e"
             ],
             [
              0.4444444444444444,
              "#bd3786"
             ],
             [
              0.5555555555555556,
              "#d8576b"
             ],
             [
              0.6666666666666666,
              "#ed7953"
             ],
             [
              0.7777777777777778,
              "#fb9f3a"
             ],
             [
              0.8888888888888888,
              "#fdca26"
             ],
             [
              1,
              "#f0f921"
             ]
            ],
            "type": "surface"
           }
          ],
          "table": [
           {
            "cells": {
             "fill": {
              "color": "#EBF0F8"
             },
             "line": {
              "color": "white"
             }
            },
            "header": {
             "fill": {
              "color": "#C8D4E3"
             },
             "line": {
              "color": "white"
             }
            },
            "type": "table"
           }
          ]
         },
         "layout": {
          "annotationdefaults": {
           "arrowcolor": "#2a3f5f",
           "arrowhead": 0,
           "arrowwidth": 1
          },
          "autotypenumbers": "strict",
          "coloraxis": {
           "colorbar": {
            "outlinewidth": 0,
            "ticks": ""
           }
          },
          "colorscale": {
           "diverging": [
            [
             0,
             "#8e0152"
            ],
            [
             0.1,
             "#c51b7d"
            ],
            [
             0.2,
             "#de77ae"
            ],
            [
             0.3,
             "#f1b6da"
            ],
            [
             0.4,
             "#fde0ef"
            ],
            [
             0.5,
             "#f7f7f7"
            ],
            [
             0.6,
             "#e6f5d0"
            ],
            [
             0.7,
             "#b8e186"
            ],
            [
             0.8,
             "#7fbc41"
            ],
            [
             0.9,
             "#4d9221"
            ],
            [
             1,
             "#276419"
            ]
           ],
           "sequential": [
            [
             0,
             "#0d0887"
            ],
            [
             0.1111111111111111,
             "#46039f"
            ],
            [
             0.2222222222222222,
             "#7201a8"
            ],
            [
             0.3333333333333333,
             "#9c179e"
            ],
            [
             0.4444444444444444,
             "#bd3786"
            ],
            [
             0.5555555555555556,
             "#d8576b"
            ],
            [
             0.6666666666666666,
             "#ed7953"
            ],
            [
             0.7777777777777778,
             "#fb9f3a"
            ],
            [
             0.8888888888888888,
             "#fdca26"
            ],
            [
             1,
             "#f0f921"
            ]
           ],
           "sequentialminus": [
            [
             0,
             "#0d0887"
            ],
            [
             0.1111111111111111,
             "#46039f"
            ],
            [
             0.2222222222222222,
             "#7201a8"
            ],
            [
             0.3333333333333333,
             "#9c179e"
            ],
            [
             0.4444444444444444,
             "#bd3786"
            ],
            [
             0.5555555555555556,
             "#d8576b"
            ],
            [
             0.6666666666666666,
             "#ed7953"
            ],
            [
             0.7777777777777778,
             "#fb9f3a"
            ],
            [
             0.8888888888888888,
             "#fdca26"
            ],
            [
             1,
             "#f0f921"
            ]
           ]
          },
          "colorway": [
           "#636efa",
           "#EF553B",
           "#00cc96",
           "#ab63fa",
           "#FFA15A",
           "#19d3f3",
           "#FF6692",
           "#B6E880",
           "#FF97FF",
           "#FECB52"
          ],
          "font": {
           "color": "#2a3f5f"
          },
          "geo": {
           "bgcolor": "white",
           "lakecolor": "white",
           "landcolor": "#E5ECF6",
           "showlakes": true,
           "showland": true,
           "subunitcolor": "white"
          },
          "hoverlabel": {
           "align": "left"
          },
          "hovermode": "closest",
          "mapbox": {
           "style": "light"
          },
          "paper_bgcolor": "white",
          "plot_bgcolor": "#E5ECF6",
          "polar": {
           "angularaxis": {
            "gridcolor": "white",
            "linecolor": "white",
            "ticks": ""
           },
           "bgcolor": "#E5ECF6",
           "radialaxis": {
            "gridcolor": "white",
            "linecolor": "white",
            "ticks": ""
           }
          },
          "scene": {
           "xaxis": {
            "backgroundcolor": "#E5ECF6",
            "gridcolor": "white",
            "gridwidth": 2,
            "linecolor": "white",
            "showbackground": true,
            "ticks": "",
            "zerolinecolor": "white"
           },
           "yaxis": {
            "backgroundcolor": "#E5ECF6",
            "gridcolor": "white",
            "gridwidth": 2,
            "linecolor": "white",
            "showbackground": true,
            "ticks": "",
            "zerolinecolor": "white"
           },
           "zaxis": {
            "backgroundcolor": "#E5ECF6",
            "gridcolor": "white",
            "gridwidth": 2,
            "linecolor": "white",
            "showbackground": true,
            "ticks": "",
            "zerolinecolor": "white"
           }
          },
          "shapedefaults": {
           "line": {
            "color": "#2a3f5f"
           }
          },
          "ternary": {
           "aaxis": {
            "gridcolor": "white",
            "linecolor": "white",
            "ticks": ""
           },
           "baxis": {
            "gridcolor": "white",
            "linecolor": "white",
            "ticks": ""
           },
           "bgcolor": "#E5ECF6",
           "caxis": {
            "gridcolor": "white",
            "linecolor": "white",
            "ticks": ""
           }
          },
          "title": {
           "x": 0.05
          },
          "xaxis": {
           "automargin": true,
           "gridcolor": "white",
           "linecolor": "white",
           "ticks": "",
           "title": {
            "standoff": 15
           },
           "zerolinecolor": "white",
           "zerolinewidth": 2
          },
          "yaxis": {
           "automargin": true,
           "gridcolor": "white",
           "linecolor": "white",
           "ticks": "",
           "title": {
            "standoff": 15
           },
           "zerolinecolor": "white",
           "zerolinewidth": 2
          }
         }
        },
        "title": {
         "text": "Customer Satisfaction VS Likehihood to Shop Again(Store-Wise)"
        },
        "xaxis": {
         "anchor": "y",
         "domain": [
          0,
          1
         ],
         "title": {
          "text": "Store"
         }
        },
        "yaxis": {
         "anchor": "x",
         "domain": [
          0,
          1
         ],
         "title": {
          "text": "Likelihood To Shop Again"
         }
        }
       }
      }
     },
     "metadata": {},
     "output_type": "display_data"
    }
   ],
   "source": [
    "px.bar(branch_likelihood_cs[branch_likelihood_cs['Likelihood To Shop Again'] < 5], x = 'Store', color = 'Customer Satisfaction Score', y= 'Likelihood To Shop Again', title= \"Customer Satisfaction VS Likehihood to Shop Again(Store-Wise)\", color_continuous_scale=px.colors.diverging.BrBG)"
   ]
  },
  {
   "cell_type": "markdown",
   "metadata": {},
   "source": [
    "## Branch-Wise Revenue Generation(Customer Expenditure)\n",
    "### We'll be looking at Total Revenue the branches generated, to know which branch generates the most revenue. This can also answer the questions from customer satisfaction score analysis and see if the branches revenue generation depends on customer's satisfaction. "
   ]
  },
  {
   "cell_type": "code",
   "execution_count": 20,
   "metadata": {},
   "outputs": [],
   "source": [
    "branch_spend = branch_data[['Store', 'Total Spend']]\n",
    "branch_spend['Total Spend'] = branch_spend['Total Spend'].str.strip('$')\n",
    "branch_spend['Total Spend'] = pd.to_numeric(branch_spend['Total Spend'])"
   ]
  },
  {
   "cell_type": "code",
   "execution_count": 21,
   "metadata": {},
   "outputs": [],
   "source": [
    "branch_spend = branch_spend.groupby(branch_spend['Store']).sum().reset_index().sort_values(by = ['Total Spend'], ascending = False)"
   ]
  },
  {
   "cell_type": "markdown",
   "metadata": {},
   "source": [
    "## From the plot below, we can see the top revenue generating store as well as the least revenue generating stores. \n",
    "### But we might be wondering if customer staisfaction really matters when it comes to revenue generation. Well, lets find out. "
   ]
  },
  {
   "cell_type": "code",
   "execution_count": 22,
   "metadata": {},
   "outputs": [
    {
     "data": {
      "application/vnd.plotly.v1+json": {
       "config": {
        "plotlyServerURL": "https://plot.ly"
       },
       "data": [
        {
         "alignmentgroup": "True",
         "hovertemplate": "Store=%{x}<br>Total Spend=%{y}<extra></extra>",
         "legendgroup": "",
         "marker": {
          "color": "#636efa",
          "pattern": {
           "shape": ""
          }
         },
         "name": "",
         "offsetgroup": "",
         "orientation": "v",
         "showlegend": false,
         "textposition": "auto",
         "type": "bar",
         "x": [
          "Chadstone",
          "North Lakes",
          "Rockingham",
          "Morley",
          "Edwardstown",
          "Brisbane CBD",
          "Southland",
          "Highpoint",
          "Northland",
          "Chermside",
          "Melbourne CBD",
          "Bullcreek",
          "Chatswood",
          "Hoppers Crossing",
          "Tuggerah",
          "Carlingford",
          "Bondi",
          "Castletown",
          "Albany",
          "Burwood",
          "Hobart",
          "Joondalup",
          "Warringah Mall",
          "Rockhampton",
          "Port Macquarie",
          "Bundaberg",
          "Liverpool",
          "Rhodes",
          "Carindale",
          "Charlestown",
          "Robina",
          "McLaren Vale",
          "Point Cook",
          "Fountain Gate",
          "Forest Hill",
          "Warrawong",
          "Mackay",
          "Ipswich",
          "Perth CBD",
          "Burnie",
          "Sefton Park",
          "Glenorchy",
          "Macquarie",
          "West Lakes",
          "Watergardens",
          "Belconnen",
          "Morayfield",
          "Airport West",
          "Hornsby",
          "Campbelltown",
          "Maroochydore",
          "Armadale",
          "Sale",
          "Innaloo",
          "Erina",
          "Midland",
          "Helensvale",
          "Tuggeranong",
          "Mt. Gravatt",
          "Broadway",
          "Chirnside Park",
          "Waurn Ponds",
          "Parramatta",
          "Fremantle",
          "Greensborough",
          "Bankstown",
          "Carousel",
          "Eastgardens",
          "Dalby",
          "Leichhardt",
          "Plenty Valley",
          "The Willows",
          "Geelong",
          "Doncaster",
          "Earlville",
          "Reynella",
          "Penrith",
          "Sunbury",
          "Somerville",
          "Camberwell",
          "Kotara",
          "Forest Lake",
          "Newton",
          "Palmerston",
          "Tea Tree Plaza",
          "Shell Harbour",
          "Strathpine",
          "Launceston",
          "Macarthur Square",
          "Victoria Park",
          "Ringwood",
          "Tenterfield",
          "Bendigo",
          "Albury",
          "Mildura",
          "Toowoomba",
          "Glen Waverley",
          "Toombul",
          "Fulham Gardens",
          "Frankston",
          "Unley",
          "Cannot find store",
          "Elizabeth",
          "Yeppoon",
          "Yass",
          "Miranda",
          "Queanbeyan",
          "Cairns",
          "Castle Hill",
          "Whitford City",
          "Geraldton",
          "Tweed Heads",
          "Indooroopilly",
          "Knox City",
          "Southport",
          "Glendale",
          "Ballarat",
          "Springwood",
          "Bunbury",
          "Golden Grove",
          "Bentleigh",
          "Hervey Bay",
          "Centrepoint",
          "Buranda",
          "Kadina",
          "Bathurst",
          "Katoomba",
          "Marion",
          "Langwarrin",
          "Meadow Springs",
          "Roselands",
          "Stirling",
          "Castlemaine",
          "Pacific Fair",
          "Kalgoorlie",
          "Wonthaggi",
          "Waverley Gardens",
          "Blacktown",
          "Morisset",
          "Mornington",
          "Warrnambool",
          "Wetherill Park",
          "Ocean Shores",
          "Rouse Hill",
          "Dandenong",
          "Coffs Harbour",
          "Pakenham",
          "Ararat",
          "Hurstville",
          "Victor Harbor",
          "Canberra",
          "Flemington",
          "Grafton",
          "Mareeba",
          "Lithgow",
          "Tamworth",
          "Browns Plains",
          "Mowbray",
          "Batemans Bay",
          "Morwell",
          "Capalaba",
          "Camden",
          "Myrtleford",
          "Mt. Ommaney",
          "Hollywood Plaza",
          "Merrylands",
          "Katanning",
          "Inverell",
          "Picton",
          "Kippa Ring",
          "Templestowe",
          "Mt. Gambier",
          "Yamba",
          "Busselton",
          "6545-Unknown",
          "6548-Unknown",
          "Winmalee",
          "Mawson Lakes",
          "Warragul",
          "Broadmeadows",
          "Taree",
          "Runaway Bay",
          "Wodonga",
          "Craigieburn",
          "Mt. Druitt",
          "Ulladulla",
          "Bairnsdale",
          "Gladstone",
          "Berri",
          "Stanthorpe",
          "5000-Unknown",
          "Goulburn",
          "Gympie",
          "NT Outlet",
          "Bribie Island",
          "Nowra",
          "Forbes",
          "6491-Unknown",
          "St Marys",
          "Rockdale",
          "Whyalla",
          "Glenn Innes",
          "Benalla",
          "Bowen",
          "Yarrawonga",
          "5991-Unknown",
          "Seymour",
          "Swan Hill",
          "Port Pirie",
          "Ocean Grove",
          "Gunnedah",
          "Innisfail",
          "Gilgandra",
          "Cannonvale",
          "Ballina",
          "Broome",
          "Charters Towers",
          "Narracoorte",
          "Cowra",
          "Hamilton",
          "Epping",
          "Portland",
          "Bega",
          "Casino",
          "Ingham",
          "Clare",
          "Echuca",
          "Moree",
          "Merimbula",
          "Shepparton",
          "Leongatha",
          "Deniliquin",
          "Ayr",
          "Cobram",
          "Weston Creek",
          "5827-Unknown",
          "Port Douglas",
          "Wagga Wagga",
          "Esperance",
          "Glenquarie",
          "Griffith",
          "Harbourtown (SA Outlet)",
          "Charleville",
          "Sarina",
          "Dubbo",
          "Rosebud",
          "6386-Unknown",
          "5648-Unknown",
          "Woodend",
          "Colac",
          "5224-Unknown",
          "Bass Hill",
          "Gawler",
          "Windsor",
          "Noosa Junction",
          "Lismore City",
          "Kempsey",
          "Caroline Springs",
          "Manjimup",
          "Katherine",
          "Tumut"
         ],
         "xaxis": "x",
         "y": [
          27937.67,
          23028.02,
          22445.829999999998,
          21941.71,
          21788.29,
          21741.579999999998,
          19890.06,
          19526.21,
          18247.36,
          18033.32,
          17750.24,
          17699.48,
          17454.09,
          16949.81,
          16636.57,
          16150.05,
          16131.23,
          15937.03,
          15147.44,
          15002.210000000001,
          14786.25,
          14310.14,
          14195.07,
          14105.55,
          14090.91,
          13541.02,
          13303.42,
          13202.94,
          13191.99,
          12891.539999999999,
          12827.67,
          12737.62,
          12697.05,
          12647.33,
          12610.86,
          12314.24,
          12252.82,
          12237.1,
          12181.77,
          11553.94,
          11408.74,
          11390.65,
          11360.81,
          11358,
          11064.73,
          11002.64,
          10822.08,
          10751.36,
          10721.99,
          10697.07,
          10591.56,
          10504.69,
          10446.17,
          10426.62,
          10341.86,
          10253.97,
          10244.56,
          10202.93,
          10196.87,
          10157.880000000001,
          10093.12,
          10049.48,
          9976.18,
          9912.7,
          9860.64,
          9646.14,
          9641.55,
          9467.19,
          9003.98,
          8725.710000000001,
          8630.48,
          8624.14,
          8619.41,
          8496.05,
          8418.33,
          8369.18,
          8294.67,
          8284.76,
          8239.29,
          8049.9400000000005,
          8018.48,
          7992.08,
          7952.24,
          7917.01,
          7794.64,
          7700.1,
          7595.09,
          7586.85,
          7534.62,
          7522.58,
          7441.36,
          7413.28,
          7305.2699999999995,
          7152.63,
          7138.88,
          7104.7,
          7061.47,
          7036.4,
          6998.9400000000005,
          6972.4,
          6899.3,
          6835.25,
          6815.16,
          6783.13,
          6775.27,
          6707.01,
          6660.3,
          6660.29,
          6659.6,
          6616.79,
          6602.6,
          6506.26,
          6427.889999999999,
          6351.14,
          6205.85,
          6137.27,
          5999.85,
          5878.68,
          5733.93,
          5678.96,
          5626.719999999999,
          5612.09,
          5587.44,
          5533.08,
          5469.51,
          5376.41,
          5362.74,
          5252.21,
          5214.59,
          5202.88,
          5159.5199999999995,
          5142.26,
          5117.9,
          5022.72,
          5013.1900000000005,
          4949.860000000001,
          4936.05,
          4861.99,
          4845.17,
          4819.58,
          4819.03,
          4672.85,
          4663.04,
          4627.46,
          4605.17,
          4598.29,
          4598.1,
          4314.53,
          4282.83,
          4191.61,
          4168.63,
          3878.9,
          3874.0499999999997,
          3717.94,
          3701.9,
          3579.78,
          3540.85,
          3429.87,
          3399.3999999999996,
          3236.8,
          3108.08,
          3092.13,
          3040.63,
          3020.02,
          3002.04,
          2975.45,
          2926.89,
          2847.9700000000003,
          2828.34,
          2697.34,
          2668.25,
          2610.1299999999997,
          2597.76,
          2567.65,
          2561.63,
          2556.79,
          2553.31,
          2552.4700000000003,
          2528.5699999999997,
          2525.92,
          2478.08,
          2430.98,
          2427.63,
          2337.75,
          2335.76,
          2310.56,
          2227.6800000000003,
          2125.79,
          2066.21,
          2001.69,
          1974.51,
          1955.79,
          1902.69,
          1882.1999999999998,
          1875.1299999999999,
          1857.7,
          1853.36,
          1811.5900000000001,
          1802.85,
          1788.7800000000002,
          1756.06,
          1734.56,
          1722.19,
          1662.81,
          1656.71,
          1610.71,
          1599.81,
          1581.38,
          1575.18,
          1473.04,
          1455.76,
          1444.02,
          1435.46,
          1434.53,
          1406.35,
          1396.15,
          1381.75,
          1359.26,
          1353.91,
          1262.0500000000002,
          1206.5500000000002,
          1187.3400000000001,
          1166.68,
          1163.53,
          1143.15,
          1116.95,
          1090.19,
          1069.24,
          1066.3200000000002,
          1020.83,
          1013.02,
          1011.4200000000001,
          999.73,
          972.96,
          966.05,
          953.48,
          933.47,
          923.72,
          923.53,
          894.6999999999999,
          893.38,
          888.86,
          867.29,
          847.62,
          842.54,
          770.97,
          762.6200000000001,
          704.24,
          662.76,
          607.3,
          598.4,
          546.05,
          515.45,
          501.38,
          457.86,
          321.04,
          289.67,
          203.64,
          167.96,
          128.12,
          84.28
         ],
         "yaxis": "y"
        }
       ],
       "layout": {
        "barmode": "relative",
        "legend": {
         "tracegroupgap": 0
        },
        "template": {
         "data": {
          "bar": [
           {
            "error_x": {
             "color": "#2a3f5f"
            },
            "error_y": {
             "color": "#2a3f5f"
            },
            "marker": {
             "line": {
              "color": "#E5ECF6",
              "width": 0.5
             },
             "pattern": {
              "fillmode": "overlay",
              "size": 10,
              "solidity": 0.2
             }
            },
            "type": "bar"
           }
          ],
          "barpolar": [
           {
            "marker": {
             "line": {
              "color": "#E5ECF6",
              "width": 0.5
             },
             "pattern": {
              "fillmode": "overlay",
              "size": 10,
              "solidity": 0.2
             }
            },
            "type": "barpolar"
           }
          ],
          "carpet": [
           {
            "aaxis": {
             "endlinecolor": "#2a3f5f",
             "gridcolor": "white",
             "linecolor": "white",
             "minorgridcolor": "white",
             "startlinecolor": "#2a3f5f"
            },
            "baxis": {
             "endlinecolor": "#2a3f5f",
             "gridcolor": "white",
             "linecolor": "white",
             "minorgridcolor": "white",
             "startlinecolor": "#2a3f5f"
            },
            "type": "carpet"
           }
          ],
          "choropleth": [
           {
            "colorbar": {
             "outlinewidth": 0,
             "ticks": ""
            },
            "type": "choropleth"
           }
          ],
          "contour": [
           {
            "colorbar": {
             "outlinewidth": 0,
             "ticks": ""
            },
            "colorscale": [
             [
              0,
              "#0d0887"
             ],
             [
              0.1111111111111111,
              "#46039f"
             ],
             [
              0.2222222222222222,
              "#7201a8"
             ],
             [
              0.3333333333333333,
              "#9c179e"
             ],
             [
              0.4444444444444444,
              "#bd3786"
             ],
             [
              0.5555555555555556,
              "#d8576b"
             ],
             [
              0.6666666666666666,
              "#ed7953"
             ],
             [
              0.7777777777777778,
              "#fb9f3a"
             ],
             [
              0.8888888888888888,
              "#fdca26"
             ],
             [
              1,
              "#f0f921"
             ]
            ],
            "type": "contour"
           }
          ],
          "contourcarpet": [
           {
            "colorbar": {
             "outlinewidth": 0,
             "ticks": ""
            },
            "type": "contourcarpet"
           }
          ],
          "heatmap": [
           {
            "colorbar": {
             "outlinewidth": 0,
             "ticks": ""
            },
            "colorscale": [
             [
              0,
              "#0d0887"
             ],
             [
              0.1111111111111111,
              "#46039f"
             ],
             [
              0.2222222222222222,
              "#7201a8"
             ],
             [
              0.3333333333333333,
              "#9c179e"
             ],
             [
              0.4444444444444444,
              "#bd3786"
             ],
             [
              0.5555555555555556,
              "#d8576b"
             ],
             [
              0.6666666666666666,
              "#ed7953"
             ],
             [
              0.7777777777777778,
              "#fb9f3a"
             ],
             [
              0.8888888888888888,
              "#fdca26"
             ],
             [
              1,
              "#f0f921"
             ]
            ],
            "type": "heatmap"
           }
          ],
          "heatmapgl": [
           {
            "colorbar": {
             "outlinewidth": 0,
             "ticks": ""
            },
            "colorscale": [
             [
              0,
              "#0d0887"
             ],
             [
              0.1111111111111111,
              "#46039f"
             ],
             [
              0.2222222222222222,
              "#7201a8"
             ],
             [
              0.3333333333333333,
              "#9c179e"
             ],
             [
              0.4444444444444444,
              "#bd3786"
             ],
             [
              0.5555555555555556,
              "#d8576b"
             ],
             [
              0.6666666666666666,
              "#ed7953"
             ],
             [
              0.7777777777777778,
              "#fb9f3a"
             ],
             [
              0.8888888888888888,
              "#fdca26"
             ],
             [
              1,
              "#f0f921"
             ]
            ],
            "type": "heatmapgl"
           }
          ],
          "histogram": [
           {
            "marker": {
             "pattern": {
              "fillmode": "overlay",
              "size": 10,
              "solidity": 0.2
             }
            },
            "type": "histogram"
           }
          ],
          "histogram2d": [
           {
            "colorbar": {
             "outlinewidth": 0,
             "ticks": ""
            },
            "colorscale": [
             [
              0,
              "#0d0887"
             ],
             [
              0.1111111111111111,
              "#46039f"
             ],
             [
              0.2222222222222222,
              "#7201a8"
             ],
             [
              0.3333333333333333,
              "#9c179e"
             ],
             [
              0.4444444444444444,
              "#bd3786"
             ],
             [
              0.5555555555555556,
              "#d8576b"
             ],
             [
              0.6666666666666666,
              "#ed7953"
             ],
             [
              0.7777777777777778,
              "#fb9f3a"
             ],
             [
              0.8888888888888888,
              "#fdca26"
             ],
             [
              1,
              "#f0f921"
             ]
            ],
            "type": "histogram2d"
           }
          ],
          "histogram2dcontour": [
           {
            "colorbar": {
             "outlinewidth": 0,
             "ticks": ""
            },
            "colorscale": [
             [
              0,
              "#0d0887"
             ],
             [
              0.1111111111111111,
              "#46039f"
             ],
             [
              0.2222222222222222,
              "#7201a8"
             ],
             [
              0.3333333333333333,
              "#9c179e"
             ],
             [
              0.4444444444444444,
              "#bd3786"
             ],
             [
              0.5555555555555556,
              "#d8576b"
             ],
             [
              0.6666666666666666,
              "#ed7953"
             ],
             [
              0.7777777777777778,
              "#fb9f3a"
             ],
             [
              0.8888888888888888,
              "#fdca26"
             ],
             [
              1,
              "#f0f921"
             ]
            ],
            "type": "histogram2dcontour"
           }
          ],
          "mesh3d": [
           {
            "colorbar": {
             "outlinewidth": 0,
             "ticks": ""
            },
            "type": "mesh3d"
           }
          ],
          "parcoords": [
           {
            "line": {
             "colorbar": {
              "outlinewidth": 0,
              "ticks": ""
             }
            },
            "type": "parcoords"
           }
          ],
          "pie": [
           {
            "automargin": true,
            "type": "pie"
           }
          ],
          "scatter": [
           {
            "marker": {
             "colorbar": {
              "outlinewidth": 0,
              "ticks": ""
             }
            },
            "type": "scatter"
           }
          ],
          "scatter3d": [
           {
            "line": {
             "colorbar": {
              "outlinewidth": 0,
              "ticks": ""
             }
            },
            "marker": {
             "colorbar": {
              "outlinewidth": 0,
              "ticks": ""
             }
            },
            "type": "scatter3d"
           }
          ],
          "scattercarpet": [
           {
            "marker": {
             "colorbar": {
              "outlinewidth": 0,
              "ticks": ""
             }
            },
            "type": "scattercarpet"
           }
          ],
          "scattergeo": [
           {
            "marker": {
             "colorbar": {
              "outlinewidth": 0,
              "ticks": ""
             }
            },
            "type": "scattergeo"
           }
          ],
          "scattergl": [
           {
            "marker": {
             "colorbar": {
              "outlinewidth": 0,
              "ticks": ""
             }
            },
            "type": "scattergl"
           }
          ],
          "scattermapbox": [
           {
            "marker": {
             "colorbar": {
              "outlinewidth": 0,
              "ticks": ""
             }
            },
            "type": "scattermapbox"
           }
          ],
          "scatterpolar": [
           {
            "marker": {
             "colorbar": {
              "outlinewidth": 0,
              "ticks": ""
             }
            },
            "type": "scatterpolar"
           }
          ],
          "scatterpolargl": [
           {
            "marker": {
             "colorbar": {
              "outlinewidth": 0,
              "ticks": ""
             }
            },
            "type": "scatterpolargl"
           }
          ],
          "scatterternary": [
           {
            "marker": {
             "colorbar": {
              "outlinewidth": 0,
              "ticks": ""
             }
            },
            "type": "scatterternary"
           }
          ],
          "surface": [
           {
            "colorbar": {
             "outlinewidth": 0,
             "ticks": ""
            },
            "colorscale": [
             [
              0,
              "#0d0887"
             ],
             [
              0.1111111111111111,
              "#46039f"
             ],
             [
              0.2222222222222222,
              "#7201a8"
             ],
             [
              0.3333333333333333,
              "#9c179e"
             ],
             [
              0.4444444444444444,
              "#bd3786"
             ],
             [
              0.5555555555555556,
              "#d8576b"
             ],
             [
              0.6666666666666666,
              "#ed7953"
             ],
             [
              0.7777777777777778,
              "#fb9f3a"
             ],
             [
              0.8888888888888888,
              "#fdca26"
             ],
             [
              1,
              "#f0f921"
             ]
            ],
            "type": "surface"
           }
          ],
          "table": [
           {
            "cells": {
             "fill": {
              "color": "#EBF0F8"
             },
             "line": {
              "color": "white"
             }
            },
            "header": {
             "fill": {
              "color": "#C8D4E3"
             },
             "line": {
              "color": "white"
             }
            },
            "type": "table"
           }
          ]
         },
         "layout": {
          "annotationdefaults": {
           "arrowcolor": "#2a3f5f",
           "arrowhead": 0,
           "arrowwidth": 1
          },
          "autotypenumbers": "strict",
          "coloraxis": {
           "colorbar": {
            "outlinewidth": 0,
            "ticks": ""
           }
          },
          "colorscale": {
           "diverging": [
            [
             0,
             "#8e0152"
            ],
            [
             0.1,
             "#c51b7d"
            ],
            [
             0.2,
             "#de77ae"
            ],
            [
             0.3,
             "#f1b6da"
            ],
            [
             0.4,
             "#fde0ef"
            ],
            [
             0.5,
             "#f7f7f7"
            ],
            [
             0.6,
             "#e6f5d0"
            ],
            [
             0.7,
             "#b8e186"
            ],
            [
             0.8,
             "#7fbc41"
            ],
            [
             0.9,
             "#4d9221"
            ],
            [
             1,
             "#276419"
            ]
           ],
           "sequential": [
            [
             0,
             "#0d0887"
            ],
            [
             0.1111111111111111,
             "#46039f"
            ],
            [
             0.2222222222222222,
             "#7201a8"
            ],
            [
             0.3333333333333333,
             "#9c179e"
            ],
            [
             0.4444444444444444,
             "#bd3786"
            ],
            [
             0.5555555555555556,
             "#d8576b"
            ],
            [
             0.6666666666666666,
             "#ed7953"
            ],
            [
             0.7777777777777778,
             "#fb9f3a"
            ],
            [
             0.8888888888888888,
             "#fdca26"
            ],
            [
             1,
             "#f0f921"
            ]
           ],
           "sequentialminus": [
            [
             0,
             "#0d0887"
            ],
            [
             0.1111111111111111,
             "#46039f"
            ],
            [
             0.2222222222222222,
             "#7201a8"
            ],
            [
             0.3333333333333333,
             "#9c179e"
            ],
            [
             0.4444444444444444,
             "#bd3786"
            ],
            [
             0.5555555555555556,
             "#d8576b"
            ],
            [
             0.6666666666666666,
             "#ed7953"
            ],
            [
             0.7777777777777778,
             "#fb9f3a"
            ],
            [
             0.8888888888888888,
             "#fdca26"
            ],
            [
             1,
             "#f0f921"
            ]
           ]
          },
          "colorway": [
           "#636efa",
           "#EF553B",
           "#00cc96",
           "#ab63fa",
           "#FFA15A",
           "#19d3f3",
           "#FF6692",
           "#B6E880",
           "#FF97FF",
           "#FECB52"
          ],
          "font": {
           "color": "#2a3f5f"
          },
          "geo": {
           "bgcolor": "white",
           "lakecolor": "white",
           "landcolor": "#E5ECF6",
           "showlakes": true,
           "showland": true,
           "subunitcolor": "white"
          },
          "hoverlabel": {
           "align": "left"
          },
          "hovermode": "closest",
          "mapbox": {
           "style": "light"
          },
          "paper_bgcolor": "white",
          "plot_bgcolor": "#E5ECF6",
          "polar": {
           "angularaxis": {
            "gridcolor": "white",
            "linecolor": "white",
            "ticks": ""
           },
           "bgcolor": "#E5ECF6",
           "radialaxis": {
            "gridcolor": "white",
            "linecolor": "white",
            "ticks": ""
           }
          },
          "scene": {
           "xaxis": {
            "backgroundcolor": "#E5ECF6",
            "gridcolor": "white",
            "gridwidth": 2,
            "linecolor": "white",
            "showbackground": true,
            "ticks": "",
            "zerolinecolor": "white"
           },
           "yaxis": {
            "backgroundcolor": "#E5ECF6",
            "gridcolor": "white",
            "gridwidth": 2,
            "linecolor": "white",
            "showbackground": true,
            "ticks": "",
            "zerolinecolor": "white"
           },
           "zaxis": {
            "backgroundcolor": "#E5ECF6",
            "gridcolor": "white",
            "gridwidth": 2,
            "linecolor": "white",
            "showbackground": true,
            "ticks": "",
            "zerolinecolor": "white"
           }
          },
          "shapedefaults": {
           "line": {
            "color": "#2a3f5f"
           }
          },
          "ternary": {
           "aaxis": {
            "gridcolor": "white",
            "linecolor": "white",
            "ticks": ""
           },
           "baxis": {
            "gridcolor": "white",
            "linecolor": "white",
            "ticks": ""
           },
           "bgcolor": "#E5ECF6",
           "caxis": {
            "gridcolor": "white",
            "linecolor": "white",
            "ticks": ""
           }
          },
          "title": {
           "x": 0.05
          },
          "xaxis": {
           "automargin": true,
           "gridcolor": "white",
           "linecolor": "white",
           "ticks": "",
           "title": {
            "standoff": 15
           },
           "zerolinecolor": "white",
           "zerolinewidth": 2
          },
          "yaxis": {
           "automargin": true,
           "gridcolor": "white",
           "linecolor": "white",
           "ticks": "",
           "title": {
            "standoff": 15
           },
           "zerolinecolor": "white",
           "zerolinewidth": 2
          }
         }
        },
        "title": {
         "text": "Revenue Generation(Total Customer Spendings) across branches"
        },
        "xaxis": {
         "anchor": "y",
         "domain": [
          0,
          1
         ],
         "title": {
          "text": "Store"
         }
        },
        "yaxis": {
         "anchor": "x",
         "domain": [
          0,
          1
         ],
         "title": {
          "text": "Total Spend"
         }
        }
       }
      }
     },
     "metadata": {},
     "output_type": "display_data"
    }
   ],
   "source": [
    "px.bar(branch_spend, x = 'Store', y = 'Total Spend', title = 'Revenue Generation(Total Customer Spendings) across branches')"
   ]
  },
  {
   "cell_type": "code",
   "execution_count": 23,
   "metadata": {},
   "outputs": [],
   "source": [
    "customer_spend_satisfaction = branch_spend.merge(branch_customerSatisfaction, how = 'left', left_on= 'Store', right_on= 'Store')"
   ]
  },
  {
   "cell_type": "markdown",
   "metadata": {},
   "source": [
    "### The below graph sparks some crucial insights. \n",
    "### The Stores to the left that generate more than 5k revenue have customer satisfaction score higher than 5. \n",
    "### Whereas the stores generating 5k or below have customer rating 5 or less. Yes, the stores to the very right that generated less than 1k in revenue have customer satisfaction score higher than 7, this is because the very few customers might have visited the store or only a handfull might have took part in rating the customer satisfaction. "
   ]
  },
  {
   "cell_type": "code",
   "execution_count": 24,
   "metadata": {},
   "outputs": [
    {
     "data": {
      "application/vnd.plotly.v1+json": {
       "config": {
        "plotlyServerURL": "https://plot.ly"
       },
       "data": [
        {
         "alignmentgroup": "True",
         "hovertemplate": "Store=%{x}<br>Total Spend=%{y}<br>Customer Satisfaction Score=%{marker.color}<extra></extra>",
         "legendgroup": "",
         "marker": {
          "color": [
           6.785714285714286,
           7.214285714285714,
           7.6,
           6.7555555555555555,
           7.317073170731708,
           7.325581395348837,
           7.444444444444445,
           6.870967741935484,
           6.875,
           7.212121212121212,
           7.942857142857143,
           7.4,
           7.282051282051282,
           7.096774193548387,
           7.064516129032258,
           7.705882352941177,
           7.035714285714286,
           7.413793103448276,
           8,
           6.931034482758621,
           6.92,
           6.703703703703703,
           7.448275862068965,
           7.777777777777778,
           7.615384615384615,
           7.769230769230769,
           6.62962962962963,
           6.217391304347826,
           7.76,
           7.074074074074074,
           7,
           6.846153846153846,
           6.75,
           7.2,
           6.875,
           6.833333333333333,
           8,
           6.8,
           6.4411764705882355,
           6.863636363636363,
           7.428571428571429,
           7.318181818181818,
           7,
           7.4,
           6.318181818181818,
           7.380952380952381,
           7.1,
           7.882352941176471,
           6.695652173913044,
           7.095238095238095,
           7.3478260869565215,
           7.4,
           7.823529411764706,
           7.285714285714286,
           6.625,
           6.75,
           7.647058823529412,
           7.111111111111111,
           7.647058823529412,
           6.611111111111111,
           7.428571428571429,
           6.909090909090909,
           7.764705882352941,
           6.5,
           7.6,
           6.384615384615385,
           6.833333333333333,
           7.523809523809524,
           5.642857142857143,
           6.0625,
           6.8,
           7.3076923076923075,
           7.333333333333333,
           7.4375,
           7.625,
           7.294117647058823,
           7.0588235294117645,
           8,
           7.75,
           7.6923076923076925,
           7.333333333333333,
           6.714285714285714,
           7.2,
           8,
           6.071428571428571,
           8,
           6.3076923076923075,
           7.6,
           7.357142857142857,
           7.357142857142857,
           7.333333333333333,
           8,
           7.285714285714286,
           7.090909090909091,
           7.571428571428571,
           7.333333333333333,
           7,
           7.6,
           8,
           7.333333333333333,
           7.230769230769231,
           6,
           7.545454545454546,
           7.090909090909091,
           8,
           6.666666666666667,
           6.75,
           6.8,
           7.230769230769231,
           8,
           7.454545454545454,
           6.769230769230769,
           7.2727272727272725,
           7.125,
           7,
           6.909090909090909,
           7.333333333333333,
           8,
           7.090909090909091,
           7.571428571428571,
           6.833333333333333,
           8,
           8,
           6.5,
           7.636363636363637,
           6,
           6.909090909090909,
           7.666666666666667,
           7.454545454545454,
           6.666666666666667,
           6.25,
           7.636363636363637,
           7.6,
           7.384615384615385,
           5.555555555555555,
           7.454545454545454,
           8,
           6.285714285714286,
           5.666666666666667,
           6.5,
           7.4,
           7.142857142857143,
           7.142857142857143,
           6.285714285714286,
           6.333333333333333,
           8,
           6.7272727272727275,
           8,
           7.25,
           6.571428571428571,
           6.111111111111111,
           6,
           8,
           6.666666666666667,
           8,
           7.333333333333333,
           7.555555555555555,
           8,
           8,
           7,
           6.583333333333333,
           4.4,
           8,
           8,
           7.25,
           8,
           7.428571428571429,
           8,
           8,
           8,
           6,
           8,
           8,
           8,
           8,
           8,
           7,
           7,
           7.333333333333333,
           7.2,
           8,
           8,
           6.6,
           8,
           8,
           8,
           6.2,
           5,
           7.333333333333333,
           6,
           6,
           6,
           5.75,
           8,
           8,
           8,
           5,
           8,
           6.8,
           6.5,
           8,
           8,
           5.75,
           5,
           6,
           6,
           8,
           8,
           8,
           8,
           8,
           6.5,
           8,
           8,
           5,
           8,
           8,
           8,
           8,
           6,
           8,
           5,
           6,
           8,
           5,
           8,
           5,
           8,
           8,
           8,
           8,
           8,
           8,
           6,
           8,
           6,
           8,
           6,
           5,
           8,
           6,
           8,
           6,
           8,
           8,
           6,
           8,
           8,
           6,
           8,
           8,
           4,
           8,
           8,
           8,
           8,
           8,
           8,
           8,
           8,
           8
          ],
          "coloraxis": "coloraxis",
          "pattern": {
           "shape": ""
          }
         },
         "name": "",
         "offsetgroup": "",
         "orientation": "v",
         "showlegend": false,
         "textposition": "auto",
         "type": "bar",
         "x": [
          "Chadstone",
          "North Lakes",
          "Rockingham",
          "Morley",
          "Edwardstown",
          "Brisbane CBD",
          "Southland",
          "Highpoint",
          "Northland",
          "Chermside",
          "Melbourne CBD",
          "Bullcreek",
          "Chatswood",
          "Hoppers Crossing",
          "Tuggerah",
          "Carlingford",
          "Bondi",
          "Castletown",
          "Albany",
          "Burwood",
          "Hobart",
          "Joondalup",
          "Warringah Mall",
          "Rockhampton",
          "Port Macquarie",
          "Bundaberg",
          "Liverpool",
          "Rhodes",
          "Carindale",
          "Charlestown",
          "Robina",
          "McLaren Vale",
          "Point Cook",
          "Fountain Gate",
          "Forest Hill",
          "Warrawong",
          "Mackay",
          "Ipswich",
          "Perth CBD",
          "Burnie",
          "Sefton Park",
          "Glenorchy",
          "Macquarie",
          "West Lakes",
          "Watergardens",
          "Belconnen",
          "Morayfield",
          "Airport West",
          "Hornsby",
          "Campbelltown",
          "Maroochydore",
          "Armadale",
          "Sale",
          "Innaloo",
          "Erina",
          "Midland",
          "Helensvale",
          "Tuggeranong",
          "Mt. Gravatt",
          "Broadway",
          "Chirnside Park",
          "Waurn Ponds",
          "Parramatta",
          "Fremantle",
          "Greensborough",
          "Bankstown",
          "Carousel",
          "Eastgardens",
          "Dalby",
          "Leichhardt",
          "Plenty Valley",
          "The Willows",
          "Geelong",
          "Doncaster",
          "Earlville",
          "Reynella",
          "Penrith",
          "Sunbury",
          "Somerville",
          "Camberwell",
          "Kotara",
          "Forest Lake",
          "Newton",
          "Palmerston",
          "Tea Tree Plaza",
          "Shell Harbour",
          "Strathpine",
          "Launceston",
          "Macarthur Square",
          "Victoria Park",
          "Ringwood",
          "Tenterfield",
          "Bendigo",
          "Albury",
          "Mildura",
          "Toowoomba",
          "Glen Waverley",
          "Toombul",
          "Fulham Gardens",
          "Frankston",
          "Unley",
          "Cannot find store",
          "Elizabeth",
          "Yeppoon",
          "Yass",
          "Miranda",
          "Queanbeyan",
          "Cairns",
          "Castle Hill",
          "Whitford City",
          "Geraldton",
          "Tweed Heads",
          "Indooroopilly",
          "Knox City",
          "Southport",
          "Glendale",
          "Ballarat",
          "Springwood",
          "Bunbury",
          "Golden Grove",
          "Bentleigh",
          "Hervey Bay",
          "Centrepoint",
          "Buranda",
          "Kadina",
          "Bathurst",
          "Katoomba",
          "Marion",
          "Langwarrin",
          "Meadow Springs",
          "Roselands",
          "Stirling",
          "Castlemaine",
          "Pacific Fair",
          "Kalgoorlie",
          "Wonthaggi",
          "Waverley Gardens",
          "Blacktown",
          "Morisset",
          "Mornington",
          "Warrnambool",
          "Wetherill Park",
          "Ocean Shores",
          "Rouse Hill",
          "Dandenong",
          "Coffs Harbour",
          "Pakenham",
          "Ararat",
          "Hurstville",
          "Victor Harbor",
          "Canberra",
          "Flemington",
          "Grafton",
          "Mareeba",
          "Lithgow",
          "Tamworth",
          "Browns Plains",
          "Mowbray",
          "Batemans Bay",
          "Morwell",
          "Capalaba",
          "Camden",
          "Myrtleford",
          "Mt. Ommaney",
          "Hollywood Plaza",
          "Merrylands",
          "Katanning",
          "Inverell",
          "Picton",
          "Kippa Ring",
          "Templestowe",
          "Mt. Gambier",
          "Yamba",
          "Busselton",
          "6545-Unknown",
          "6548-Unknown",
          "Winmalee",
          "Mawson Lakes",
          "Warragul",
          "Broadmeadows",
          "Taree",
          "Runaway Bay",
          "Wodonga",
          "Craigieburn",
          "Mt. Druitt",
          "Ulladulla",
          "Bairnsdale",
          "Gladstone",
          "Berri",
          "Stanthorpe",
          "5000-Unknown",
          "Goulburn",
          "Gympie",
          "NT Outlet",
          "Bribie Island",
          "Nowra",
          "Forbes",
          "6491-Unknown",
          "St Marys",
          "Rockdale",
          "Whyalla",
          "Glenn Innes",
          "Benalla",
          "Bowen",
          "Yarrawonga",
          "5991-Unknown",
          "Seymour",
          "Swan Hill",
          "Port Pirie",
          "Ocean Grove",
          "Gunnedah",
          "Innisfail",
          "Gilgandra",
          "Cannonvale",
          "Ballina",
          "Broome",
          "Charters Towers",
          "Narracoorte",
          "Cowra",
          "Hamilton",
          "Epping",
          "Portland",
          "Bega",
          "Casino",
          "Ingham",
          "Clare",
          "Echuca",
          "Moree",
          "Merimbula",
          "Shepparton",
          "Leongatha",
          "Deniliquin",
          "Ayr",
          "Cobram",
          "Weston Creek",
          "5827-Unknown",
          "Port Douglas",
          "Wagga Wagga",
          "Esperance",
          "Glenquarie",
          "Griffith",
          "Harbourtown (SA Outlet)",
          "Charleville",
          "Sarina",
          "Dubbo",
          "Rosebud",
          "6386-Unknown",
          "5648-Unknown",
          "Woodend",
          "Colac",
          "5224-Unknown",
          "Bass Hill",
          "Gawler",
          "Windsor",
          "Noosa Junction",
          "Lismore City",
          "Kempsey",
          "Caroline Springs",
          "Manjimup",
          "Katherine",
          "Tumut"
         ],
         "xaxis": "x",
         "y": [
          27937.67,
          23028.02,
          22445.829999999998,
          21941.71,
          21788.29,
          21741.579999999998,
          19890.06,
          19526.21,
          18247.36,
          18033.32,
          17750.24,
          17699.48,
          17454.09,
          16949.81,
          16636.57,
          16150.05,
          16131.23,
          15937.03,
          15147.44,
          15002.210000000001,
          14786.25,
          14310.14,
          14195.07,
          14105.55,
          14090.91,
          13541.02,
          13303.42,
          13202.94,
          13191.99,
          12891.539999999999,
          12827.67,
          12737.62,
          12697.05,
          12647.33,
          12610.86,
          12314.24,
          12252.82,
          12237.1,
          12181.77,
          11553.94,
          11408.74,
          11390.65,
          11360.81,
          11358,
          11064.73,
          11002.64,
          10822.08,
          10751.36,
          10721.99,
          10697.07,
          10591.56,
          10504.69,
          10446.17,
          10426.62,
          10341.86,
          10253.97,
          10244.56,
          10202.93,
          10196.87,
          10157.880000000001,
          10093.12,
          10049.48,
          9976.18,
          9912.7,
          9860.64,
          9646.14,
          9641.55,
          9467.19,
          9003.98,
          8725.710000000001,
          8630.48,
          8624.14,
          8619.41,
          8496.05,
          8418.33,
          8369.18,
          8294.67,
          8284.76,
          8239.29,
          8049.9400000000005,
          8018.48,
          7992.08,
          7952.24,
          7917.01,
          7794.64,
          7700.1,
          7595.09,
          7586.85,
          7534.62,
          7522.58,
          7441.36,
          7413.28,
          7305.2699999999995,
          7152.63,
          7138.88,
          7104.7,
          7061.47,
          7036.4,
          6998.9400000000005,
          6972.4,
          6899.3,
          6835.25,
          6815.16,
          6783.13,
          6775.27,
          6707.01,
          6660.3,
          6660.29,
          6659.6,
          6616.79,
          6602.6,
          6506.26,
          6427.889999999999,
          6351.14,
          6205.85,
          6137.27,
          5999.85,
          5878.68,
          5733.93,
          5678.96,
          5626.719999999999,
          5612.09,
          5587.44,
          5533.08,
          5469.51,
          5376.41,
          5362.74,
          5252.21,
          5214.59,
          5202.88,
          5159.5199999999995,
          5142.26,
          5117.9,
          5022.72,
          5013.1900000000005,
          4949.860000000001,
          4936.05,
          4861.99,
          4845.17,
          4819.58,
          4819.03,
          4672.85,
          4663.04,
          4627.46,
          4605.17,
          4598.29,
          4598.1,
          4314.53,
          4282.83,
          4191.61,
          4168.63,
          3878.9,
          3874.0499999999997,
          3717.94,
          3701.9,
          3579.78,
          3540.85,
          3429.87,
          3399.3999999999996,
          3236.8,
          3108.08,
          3092.13,
          3040.63,
          3020.02,
          3002.04,
          2975.45,
          2926.89,
          2847.9700000000003,
          2828.34,
          2697.34,
          2668.25,
          2610.1299999999997,
          2597.76,
          2567.65,
          2561.63,
          2556.79,
          2553.31,
          2552.4700000000003,
          2528.5699999999997,
          2525.92,
          2478.08,
          2430.98,
          2427.63,
          2337.75,
          2335.76,
          2310.56,
          2227.6800000000003,
          2125.79,
          2066.21,
          2001.69,
          1974.51,
          1955.79,
          1902.69,
          1882.1999999999998,
          1875.1299999999999,
          1857.7,
          1853.36,
          1811.5900000000001,
          1802.85,
          1788.7800000000002,
          1756.06,
          1734.56,
          1722.19,
          1662.81,
          1656.71,
          1610.71,
          1599.81,
          1581.38,
          1575.18,
          1473.04,
          1455.76,
          1444.02,
          1435.46,
          1434.53,
          1406.35,
          1396.15,
          1381.75,
          1359.26,
          1353.91,
          1262.0500000000002,
          1206.5500000000002,
          1187.3400000000001,
          1166.68,
          1163.53,
          1143.15,
          1116.95,
          1090.19,
          1069.24,
          1066.3200000000002,
          1020.83,
          1013.02,
          1011.4200000000001,
          999.73,
          972.96,
          966.05,
          953.48,
          933.47,
          923.72,
          923.53,
          894.6999999999999,
          893.38,
          888.86,
          867.29,
          847.62,
          842.54,
          770.97,
          762.6200000000001,
          704.24,
          662.76,
          607.3,
          598.4,
          546.05,
          515.45,
          501.38,
          457.86,
          321.04,
          289.67,
          203.64,
          167.96,
          128.12,
          84.28
         ],
         "yaxis": "y"
        }
       ],
       "layout": {
        "barmode": "relative",
        "coloraxis": {
         "colorbar": {
          "title": {
           "text": "Customer Satisfaction Score"
          }
         },
         "colorscale": [
          [
           0,
           "rgb(84,48,5)"
          ],
          [
           0.1,
           "rgb(140,81,10)"
          ],
          [
           0.2,
           "rgb(191,129,45)"
          ],
          [
           0.3,
           "rgb(223,194,125)"
          ],
          [
           0.4,
           "rgb(246,232,195)"
          ],
          [
           0.5,
           "rgb(245,245,245)"
          ],
          [
           0.6,
           "rgb(199,234,229)"
          ],
          [
           0.7,
           "rgb(128,205,193)"
          ],
          [
           0.8,
           "rgb(53,151,143)"
          ],
          [
           0.9,
           "rgb(1,102,94)"
          ],
          [
           1,
           "rgb(0,60,48)"
          ]
         ]
        },
        "legend": {
         "tracegroupgap": 0
        },
        "template": {
         "data": {
          "bar": [
           {
            "error_x": {
             "color": "#2a3f5f"
            },
            "error_y": {
             "color": "#2a3f5f"
            },
            "marker": {
             "line": {
              "color": "#E5ECF6",
              "width": 0.5
             },
             "pattern": {
              "fillmode": "overlay",
              "size": 10,
              "solidity": 0.2
             }
            },
            "type": "bar"
           }
          ],
          "barpolar": [
           {
            "marker": {
             "line": {
              "color": "#E5ECF6",
              "width": 0.5
             },
             "pattern": {
              "fillmode": "overlay",
              "size": 10,
              "solidity": 0.2
             }
            },
            "type": "barpolar"
           }
          ],
          "carpet": [
           {
            "aaxis": {
             "endlinecolor": "#2a3f5f",
             "gridcolor": "white",
             "linecolor": "white",
             "minorgridcolor": "white",
             "startlinecolor": "#2a3f5f"
            },
            "baxis": {
             "endlinecolor": "#2a3f5f",
             "gridcolor": "white",
             "linecolor": "white",
             "minorgridcolor": "white",
             "startlinecolor": "#2a3f5f"
            },
            "type": "carpet"
           }
          ],
          "choropleth": [
           {
            "colorbar": {
             "outlinewidth": 0,
             "ticks": ""
            },
            "type": "choropleth"
           }
          ],
          "contour": [
           {
            "colorbar": {
             "outlinewidth": 0,
             "ticks": ""
            },
            "colorscale": [
             [
              0,
              "#0d0887"
             ],
             [
              0.1111111111111111,
              "#46039f"
             ],
             [
              0.2222222222222222,
              "#7201a8"
             ],
             [
              0.3333333333333333,
              "#9c179e"
             ],
             [
              0.4444444444444444,
              "#bd3786"
             ],
             [
              0.5555555555555556,
              "#d8576b"
             ],
             [
              0.6666666666666666,
              "#ed7953"
             ],
             [
              0.7777777777777778,
              "#fb9f3a"
             ],
             [
              0.8888888888888888,
              "#fdca26"
             ],
             [
              1,
              "#f0f921"
             ]
            ],
            "type": "contour"
           }
          ],
          "contourcarpet": [
           {
            "colorbar": {
             "outlinewidth": 0,
             "ticks": ""
            },
            "type": "contourcarpet"
           }
          ],
          "heatmap": [
           {
            "colorbar": {
             "outlinewidth": 0,
             "ticks": ""
            },
            "colorscale": [
             [
              0,
              "#0d0887"
             ],
             [
              0.1111111111111111,
              "#46039f"
             ],
             [
              0.2222222222222222,
              "#7201a8"
             ],
             [
              0.3333333333333333,
              "#9c179e"
             ],
             [
              0.4444444444444444,
              "#bd3786"
             ],
             [
              0.5555555555555556,
              "#d8576b"
             ],
             [
              0.6666666666666666,
              "#ed7953"
             ],
             [
              0.7777777777777778,
              "#fb9f3a"
             ],
             [
              0.8888888888888888,
              "#fdca26"
             ],
             [
              1,
              "#f0f921"
             ]
            ],
            "type": "heatmap"
           }
          ],
          "heatmapgl": [
           {
            "colorbar": {
             "outlinewidth": 0,
             "ticks": ""
            },
            "colorscale": [
             [
              0,
              "#0d0887"
             ],
             [
              0.1111111111111111,
              "#46039f"
             ],
             [
              0.2222222222222222,
              "#7201a8"
             ],
             [
              0.3333333333333333,
              "#9c179e"
             ],
             [
              0.4444444444444444,
              "#bd3786"
             ],
             [
              0.5555555555555556,
              "#d8576b"
             ],
             [
              0.6666666666666666,
              "#ed7953"
             ],
             [
              0.7777777777777778,
              "#fb9f3a"
             ],
             [
              0.8888888888888888,
              "#fdca26"
             ],
             [
              1,
              "#f0f921"
             ]
            ],
            "type": "heatmapgl"
           }
          ],
          "histogram": [
           {
            "marker": {
             "pattern": {
              "fillmode": "overlay",
              "size": 10,
              "solidity": 0.2
             }
            },
            "type": "histogram"
           }
          ],
          "histogram2d": [
           {
            "colorbar": {
             "outlinewidth": 0,
             "ticks": ""
            },
            "colorscale": [
             [
              0,
              "#0d0887"
             ],
             [
              0.1111111111111111,
              "#46039f"
             ],
             [
              0.2222222222222222,
              "#7201a8"
             ],
             [
              0.3333333333333333,
              "#9c179e"
             ],
             [
              0.4444444444444444,
              "#bd3786"
             ],
             [
              0.5555555555555556,
              "#d8576b"
             ],
             [
              0.6666666666666666,
              "#ed7953"
             ],
             [
              0.7777777777777778,
              "#fb9f3a"
             ],
             [
              0.8888888888888888,
              "#fdca26"
             ],
             [
              1,
              "#f0f921"
             ]
            ],
            "type": "histogram2d"
           }
          ],
          "histogram2dcontour": [
           {
            "colorbar": {
             "outlinewidth": 0,
             "ticks": ""
            },
            "colorscale": [
             [
              0,
              "#0d0887"
             ],
             [
              0.1111111111111111,
              "#46039f"
             ],
             [
              0.2222222222222222,
              "#7201a8"
             ],
             [
              0.3333333333333333,
              "#9c179e"
             ],
             [
              0.4444444444444444,
              "#bd3786"
             ],
             [
              0.5555555555555556,
              "#d8576b"
             ],
             [
              0.6666666666666666,
              "#ed7953"
             ],
             [
              0.7777777777777778,
              "#fb9f3a"
             ],
             [
              0.8888888888888888,
              "#fdca26"
             ],
             [
              1,
              "#f0f921"
             ]
            ],
            "type": "histogram2dcontour"
           }
          ],
          "mesh3d": [
           {
            "colorbar": {
             "outlinewidth": 0,
             "ticks": ""
            },
            "type": "mesh3d"
           }
          ],
          "parcoords": [
           {
            "line": {
             "colorbar": {
              "outlinewidth": 0,
              "ticks": ""
             }
            },
            "type": "parcoords"
           }
          ],
          "pie": [
           {
            "automargin": true,
            "type": "pie"
           }
          ],
          "scatter": [
           {
            "marker": {
             "colorbar": {
              "outlinewidth": 0,
              "ticks": ""
             }
            },
            "type": "scatter"
           }
          ],
          "scatter3d": [
           {
            "line": {
             "colorbar": {
              "outlinewidth": 0,
              "ticks": ""
             }
            },
            "marker": {
             "colorbar": {
              "outlinewidth": 0,
              "ticks": ""
             }
            },
            "type": "scatter3d"
           }
          ],
          "scattercarpet": [
           {
            "marker": {
             "colorbar": {
              "outlinewidth": 0,
              "ticks": ""
             }
            },
            "type": "scattercarpet"
           }
          ],
          "scattergeo": [
           {
            "marker": {
             "colorbar": {
              "outlinewidth": 0,
              "ticks": ""
             }
            },
            "type": "scattergeo"
           }
          ],
          "scattergl": [
           {
            "marker": {
             "colorbar": {
              "outlinewidth": 0,
              "ticks": ""
             }
            },
            "type": "scattergl"
           }
          ],
          "scattermapbox": [
           {
            "marker": {
             "colorbar": {
              "outlinewidth": 0,
              "ticks": ""
             }
            },
            "type": "scattermapbox"
           }
          ],
          "scatterpolar": [
           {
            "marker": {
             "colorbar": {
              "outlinewidth": 0,
              "ticks": ""
             }
            },
            "type": "scatterpolar"
           }
          ],
          "scatterpolargl": [
           {
            "marker": {
             "colorbar": {
              "outlinewidth": 0,
              "ticks": ""
             }
            },
            "type": "scatterpolargl"
           }
          ],
          "scatterternary": [
           {
            "marker": {
             "colorbar": {
              "outlinewidth": 0,
              "ticks": ""
             }
            },
            "type": "scatterternary"
           }
          ],
          "surface": [
           {
            "colorbar": {
             "outlinewidth": 0,
             "ticks": ""
            },
            "colorscale": [
             [
              0,
              "#0d0887"
             ],
             [
              0.1111111111111111,
              "#46039f"
             ],
             [
              0.2222222222222222,
              "#7201a8"
             ],
             [
              0.3333333333333333,
              "#9c179e"
             ],
             [
              0.4444444444444444,
              "#bd3786"
             ],
             [
              0.5555555555555556,
              "#d8576b"
             ],
             [
              0.6666666666666666,
              "#ed7953"
             ],
             [
              0.7777777777777778,
              "#fb9f3a"
             ],
             [
              0.8888888888888888,
              "#fdca26"
             ],
             [
              1,
              "#f0f921"
             ]
            ],
            "type": "surface"
           }
          ],
          "table": [
           {
            "cells": {
             "fill": {
              "color": "#EBF0F8"
             },
             "line": {
              "color": "white"
             }
            },
            "header": {
             "fill": {
              "color": "#C8D4E3"
             },
             "line": {
              "color": "white"
             }
            },
            "type": "table"
           }
          ]
         },
         "layout": {
          "annotationdefaults": {
           "arrowcolor": "#2a3f5f",
           "arrowhead": 0,
           "arrowwidth": 1
          },
          "autotypenumbers": "strict",
          "coloraxis": {
           "colorbar": {
            "outlinewidth": 0,
            "ticks": ""
           }
          },
          "colorscale": {
           "diverging": [
            [
             0,
             "#8e0152"
            ],
            [
             0.1,
             "#c51b7d"
            ],
            [
             0.2,
             "#de77ae"
            ],
            [
             0.3,
             "#f1b6da"
            ],
            [
             0.4,
             "#fde0ef"
            ],
            [
             0.5,
             "#f7f7f7"
            ],
            [
             0.6,
             "#e6f5d0"
            ],
            [
             0.7,
             "#b8e186"
            ],
            [
             0.8,
             "#7fbc41"
            ],
            [
             0.9,
             "#4d9221"
            ],
            [
             1,
             "#276419"
            ]
           ],
           "sequential": [
            [
             0,
             "#0d0887"
            ],
            [
             0.1111111111111111,
             "#46039f"
            ],
            [
             0.2222222222222222,
             "#7201a8"
            ],
            [
             0.3333333333333333,
             "#9c179e"
            ],
            [
             0.4444444444444444,
             "#bd3786"
            ],
            [
             0.5555555555555556,
             "#d8576b"
            ],
            [
             0.6666666666666666,
             "#ed7953"
            ],
            [
             0.7777777777777778,
             "#fb9f3a"
            ],
            [
             0.8888888888888888,
             "#fdca26"
            ],
            [
             1,
             "#f0f921"
            ]
           ],
           "sequentialminus": [
            [
             0,
             "#0d0887"
            ],
            [
             0.1111111111111111,
             "#46039f"
            ],
            [
             0.2222222222222222,
             "#7201a8"
            ],
            [
             0.3333333333333333,
             "#9c179e"
            ],
            [
             0.4444444444444444,
             "#bd3786"
            ],
            [
             0.5555555555555556,
             "#d8576b"
            ],
            [
             0.6666666666666666,
             "#ed7953"
            ],
            [
             0.7777777777777778,
             "#fb9f3a"
            ],
            [
             0.8888888888888888,
             "#fdca26"
            ],
            [
             1,
             "#f0f921"
            ]
           ]
          },
          "colorway": [
           "#636efa",
           "#EF553B",
           "#00cc96",
           "#ab63fa",
           "#FFA15A",
           "#19d3f3",
           "#FF6692",
           "#B6E880",
           "#FF97FF",
           "#FECB52"
          ],
          "font": {
           "color": "#2a3f5f"
          },
          "geo": {
           "bgcolor": "white",
           "lakecolor": "white",
           "landcolor": "#E5ECF6",
           "showlakes": true,
           "showland": true,
           "subunitcolor": "white"
          },
          "hoverlabel": {
           "align": "left"
          },
          "hovermode": "closest",
          "mapbox": {
           "style": "light"
          },
          "paper_bgcolor": "white",
          "plot_bgcolor": "#E5ECF6",
          "polar": {
           "angularaxis": {
            "gridcolor": "white",
            "linecolor": "white",
            "ticks": ""
           },
           "bgcolor": "#E5ECF6",
           "radialaxis": {
            "gridcolor": "white",
            "linecolor": "white",
            "ticks": ""
           }
          },
          "scene": {
           "xaxis": {
            "backgroundcolor": "#E5ECF6",
            "gridcolor": "white",
            "gridwidth": 2,
            "linecolor": "white",
            "showbackground": true,
            "ticks": "",
            "zerolinecolor": "white"
           },
           "yaxis": {
            "backgroundcolor": "#E5ECF6",
            "gridcolor": "white",
            "gridwidth": 2,
            "linecolor": "white",
            "showbackground": true,
            "ticks": "",
            "zerolinecolor": "white"
           },
           "zaxis": {
            "backgroundcolor": "#E5ECF6",
            "gridcolor": "white",
            "gridwidth": 2,
            "linecolor": "white",
            "showbackground": true,
            "ticks": "",
            "zerolinecolor": "white"
           }
          },
          "shapedefaults": {
           "line": {
            "color": "#2a3f5f"
           }
          },
          "ternary": {
           "aaxis": {
            "gridcolor": "white",
            "linecolor": "white",
            "ticks": ""
           },
           "baxis": {
            "gridcolor": "white",
            "linecolor": "white",
            "ticks": ""
           },
           "bgcolor": "#E5ECF6",
           "caxis": {
            "gridcolor": "white",
            "linecolor": "white",
            "ticks": ""
           }
          },
          "title": {
           "x": 0.05
          },
          "xaxis": {
           "automargin": true,
           "gridcolor": "white",
           "linecolor": "white",
           "ticks": "",
           "title": {
            "standoff": 15
           },
           "zerolinecolor": "white",
           "zerolinewidth": 2
          },
          "yaxis": {
           "automargin": true,
           "gridcolor": "white",
           "linecolor": "white",
           "ticks": "",
           "title": {
            "standoff": 15
           },
           "zerolinecolor": "white",
           "zerolinewidth": 2
          }
         }
        },
        "title": {
         "text": "Revenue Generation(Total Customer Spendings) VS Customer Satisfaction across branches"
        },
        "xaxis": {
         "anchor": "y",
         "domain": [
          0,
          1
         ],
         "title": {
          "text": "Store"
         }
        },
        "yaxis": {
         "anchor": "x",
         "domain": [
          0,
          1
         ],
         "title": {
          "text": "Total Spend"
         }
        }
       }
      }
     },
     "metadata": {},
     "output_type": "display_data"
    }
   ],
   "source": [
    "px.bar(customer_spend_satisfaction, x = 'Store', y = 'Total Spend', color = 'Customer Satisfaction Score', title = 'Revenue Generation(Total Customer Spendings) VS Customer Satisfaction across branches',color_continuous_scale=px.colors.diverging.BrBG)"
   ]
  },
  {
   "cell_type": "markdown",
   "metadata": {},
   "source": [
    "## Let's visualize the same plot but the stores that generated revenue less than 5k. \n",
    "### There are a total of 126 stores that generated 5k or less in revenue. However there are only 10 stores that have customer satisfaction score of 5 or less. The Stores being Camden, Gladstone, Forbes, Bowen, Ballina, Portland, Ingham, Echuca, Esperance, Bass Hill. \n"
   ]
  },
  {
   "cell_type": "code",
   "execution_count": 25,
   "metadata": {},
   "outputs": [
    {
     "data": {
      "application/vnd.plotly.v1+json": {
       "config": {
        "plotlyServerURL": "https://plot.ly"
       },
       "data": [
        {
         "alignmentgroup": "True",
         "hovertemplate": "Store=%{x}<br>Total Spend=%{y}<br>Customer Satisfaction Score=%{marker.color}<extra></extra>",
         "legendgroup": "",
         "marker": {
          "color": [
           7.454545454545454,
           8,
           6.285714285714286,
           5.666666666666667,
           6.5,
           7.4,
           7.142857142857143,
           7.142857142857143,
           6.285714285714286,
           6.333333333333333,
           8,
           6.7272727272727275,
           8,
           7.25,
           6.571428571428571,
           6.111111111111111,
           6,
           8,
           6.666666666666667,
           8,
           7.333333333333333,
           7.555555555555555,
           8,
           8,
           7,
           6.583333333333333,
           4.4,
           8,
           8,
           7.25,
           8,
           7.428571428571429,
           8,
           8,
           8,
           6,
           8,
           8,
           8,
           8,
           8,
           7,
           7,
           7.333333333333333,
           7.2,
           8,
           8,
           6.6,
           8,
           8,
           8,
           6.2,
           5,
           7.333333333333333,
           6,
           6,
           6,
           5.75,
           8,
           8,
           8,
           5,
           8,
           6.8,
           6.5,
           8,
           8,
           5.75,
           5,
           6,
           6,
           8,
           8,
           8,
           8,
           8,
           6.5,
           8,
           8,
           5,
           8,
           8,
           8,
           8,
           6,
           8,
           5,
           6,
           8,
           5,
           8,
           5,
           8,
           8,
           8,
           8,
           8,
           8,
           6,
           8,
           6,
           8,
           6,
           5,
           8,
           6,
           8,
           6,
           8,
           8,
           6,
           8,
           8,
           6,
           8,
           8,
           4,
           8,
           8,
           8,
           8,
           8,
           8,
           8,
           8,
           8
          ],
          "coloraxis": "coloraxis",
          "pattern": {
           "shape": ""
          }
         },
         "name": "",
         "offsetgroup": "",
         "orientation": "v",
         "showlegend": false,
         "textposition": "auto",
         "type": "bar",
         "x": [
          "Wonthaggi",
          "Waverley Gardens",
          "Blacktown",
          "Morisset",
          "Mornington",
          "Warrnambool",
          "Wetherill Park",
          "Ocean Shores",
          "Rouse Hill",
          "Dandenong",
          "Coffs Harbour",
          "Pakenham",
          "Ararat",
          "Hurstville",
          "Victor Harbor",
          "Canberra",
          "Flemington",
          "Grafton",
          "Mareeba",
          "Lithgow",
          "Tamworth",
          "Browns Plains",
          "Mowbray",
          "Batemans Bay",
          "Morwell",
          "Capalaba",
          "Camden",
          "Myrtleford",
          "Mt. Ommaney",
          "Hollywood Plaza",
          "Merrylands",
          "Katanning",
          "Inverell",
          "Picton",
          "Kippa Ring",
          "Templestowe",
          "Mt. Gambier",
          "Yamba",
          "Busselton",
          "6545-Unknown",
          "6548-Unknown",
          "Winmalee",
          "Mawson Lakes",
          "Warragul",
          "Broadmeadows",
          "Taree",
          "Runaway Bay",
          "Wodonga",
          "Craigieburn",
          "Mt. Druitt",
          "Ulladulla",
          "Bairnsdale",
          "Gladstone",
          "Berri",
          "Stanthorpe",
          "5000-Unknown",
          "Goulburn",
          "Gympie",
          "NT Outlet",
          "Bribie Island",
          "Nowra",
          "Forbes",
          "6491-Unknown",
          "St Marys",
          "Rockdale",
          "Whyalla",
          "Glenn Innes",
          "Benalla",
          "Bowen",
          "Yarrawonga",
          "5991-Unknown",
          "Seymour",
          "Swan Hill",
          "Port Pirie",
          "Ocean Grove",
          "Gunnedah",
          "Innisfail",
          "Gilgandra",
          "Cannonvale",
          "Ballina",
          "Broome",
          "Charters Towers",
          "Narracoorte",
          "Cowra",
          "Hamilton",
          "Epping",
          "Portland",
          "Bega",
          "Casino",
          "Ingham",
          "Clare",
          "Echuca",
          "Moree",
          "Merimbula",
          "Shepparton",
          "Leongatha",
          "Deniliquin",
          "Ayr",
          "Cobram",
          "Weston Creek",
          "5827-Unknown",
          "Port Douglas",
          "Wagga Wagga",
          "Esperance",
          "Glenquarie",
          "Griffith",
          "Harbourtown (SA Outlet)",
          "Charleville",
          "Sarina",
          "Dubbo",
          "Rosebud",
          "6386-Unknown",
          "5648-Unknown",
          "Woodend",
          "Colac",
          "5224-Unknown",
          "Bass Hill",
          "Gawler",
          "Windsor",
          "Noosa Junction",
          "Lismore City",
          "Kempsey",
          "Caroline Springs",
          "Manjimup",
          "Katherine",
          "Tumut"
         ],
         "xaxis": "x",
         "y": [
          4949.860000000001,
          4936.05,
          4861.99,
          4845.17,
          4819.58,
          4819.03,
          4672.85,
          4663.04,
          4627.46,
          4605.17,
          4598.29,
          4598.1,
          4314.53,
          4282.83,
          4191.61,
          4168.63,
          3878.9,
          3874.0499999999997,
          3717.94,
          3701.9,
          3579.78,
          3540.85,
          3429.87,
          3399.3999999999996,
          3236.8,
          3108.08,
          3092.13,
          3040.63,
          3020.02,
          3002.04,
          2975.45,
          2926.89,
          2847.9700000000003,
          2828.34,
          2697.34,
          2668.25,
          2610.1299999999997,
          2597.76,
          2567.65,
          2561.63,
          2556.79,
          2553.31,
          2552.4700000000003,
          2528.5699999999997,
          2525.92,
          2478.08,
          2430.98,
          2427.63,
          2337.75,
          2335.76,
          2310.56,
          2227.6800000000003,
          2125.79,
          2066.21,
          2001.69,
          1974.51,
          1955.79,
          1902.69,
          1882.1999999999998,
          1875.1299999999999,
          1857.7,
          1853.36,
          1811.5900000000001,
          1802.85,
          1788.7800000000002,
          1756.06,
          1734.56,
          1722.19,
          1662.81,
          1656.71,
          1610.71,
          1599.81,
          1581.38,
          1575.18,
          1473.04,
          1455.76,
          1444.02,
          1435.46,
          1434.53,
          1406.35,
          1396.15,
          1381.75,
          1359.26,
          1353.91,
          1262.0500000000002,
          1206.5500000000002,
          1187.3400000000001,
          1166.68,
          1163.53,
          1143.15,
          1116.95,
          1090.19,
          1069.24,
          1066.3200000000002,
          1020.83,
          1013.02,
          1011.4200000000001,
          999.73,
          972.96,
          966.05,
          953.48,
          933.47,
          923.72,
          923.53,
          894.6999999999999,
          893.38,
          888.86,
          867.29,
          847.62,
          842.54,
          770.97,
          762.6200000000001,
          704.24,
          662.76,
          607.3,
          598.4,
          546.05,
          515.45,
          501.38,
          457.86,
          321.04,
          289.67,
          203.64,
          167.96,
          128.12,
          84.28
         ],
         "yaxis": "y"
        }
       ],
       "layout": {
        "barmode": "relative",
        "coloraxis": {
         "colorbar": {
          "title": {
           "text": "Customer Satisfaction Score"
          }
         },
         "colorscale": [
          [
           0,
           "rgb(84,48,5)"
          ],
          [
           0.1,
           "rgb(140,81,10)"
          ],
          [
           0.2,
           "rgb(191,129,45)"
          ],
          [
           0.3,
           "rgb(223,194,125)"
          ],
          [
           0.4,
           "rgb(246,232,195)"
          ],
          [
           0.5,
           "rgb(245,245,245)"
          ],
          [
           0.6,
           "rgb(199,234,229)"
          ],
          [
           0.7,
           "rgb(128,205,193)"
          ],
          [
           0.8,
           "rgb(53,151,143)"
          ],
          [
           0.9,
           "rgb(1,102,94)"
          ],
          [
           1,
           "rgb(0,60,48)"
          ]
         ]
        },
        "legend": {
         "tracegroupgap": 0
        },
        "template": {
         "data": {
          "bar": [
           {
            "error_x": {
             "color": "#2a3f5f"
            },
            "error_y": {
             "color": "#2a3f5f"
            },
            "marker": {
             "line": {
              "color": "#E5ECF6",
              "width": 0.5
             },
             "pattern": {
              "fillmode": "overlay",
              "size": 10,
              "solidity": 0.2
             }
            },
            "type": "bar"
           }
          ],
          "barpolar": [
           {
            "marker": {
             "line": {
              "color": "#E5ECF6",
              "width": 0.5
             },
             "pattern": {
              "fillmode": "overlay",
              "size": 10,
              "solidity": 0.2
             }
            },
            "type": "barpolar"
           }
          ],
          "carpet": [
           {
            "aaxis": {
             "endlinecolor": "#2a3f5f",
             "gridcolor": "white",
             "linecolor": "white",
             "minorgridcolor": "white",
             "startlinecolor": "#2a3f5f"
            },
            "baxis": {
             "endlinecolor": "#2a3f5f",
             "gridcolor": "white",
             "linecolor": "white",
             "minorgridcolor": "white",
             "startlinecolor": "#2a3f5f"
            },
            "type": "carpet"
           }
          ],
          "choropleth": [
           {
            "colorbar": {
             "outlinewidth": 0,
             "ticks": ""
            },
            "type": "choropleth"
           }
          ],
          "contour": [
           {
            "colorbar": {
             "outlinewidth": 0,
             "ticks": ""
            },
            "colorscale": [
             [
              0,
              "#0d0887"
             ],
             [
              0.1111111111111111,
              "#46039f"
             ],
             [
              0.2222222222222222,
              "#7201a8"
             ],
             [
              0.3333333333333333,
              "#9c179e"
             ],
             [
              0.4444444444444444,
              "#bd3786"
             ],
             [
              0.5555555555555556,
              "#d8576b"
             ],
             [
              0.6666666666666666,
              "#ed7953"
             ],
             [
              0.7777777777777778,
              "#fb9f3a"
             ],
             [
              0.8888888888888888,
              "#fdca26"
             ],
             [
              1,
              "#f0f921"
             ]
            ],
            "type": "contour"
           }
          ],
          "contourcarpet": [
           {
            "colorbar": {
             "outlinewidth": 0,
             "ticks": ""
            },
            "type": "contourcarpet"
           }
          ],
          "heatmap": [
           {
            "colorbar": {
             "outlinewidth": 0,
             "ticks": ""
            },
            "colorscale": [
             [
              0,
              "#0d0887"
             ],
             [
              0.1111111111111111,
              "#46039f"
             ],
             [
              0.2222222222222222,
              "#7201a8"
             ],
             [
              0.3333333333333333,
              "#9c179e"
             ],
             [
              0.4444444444444444,
              "#bd3786"
             ],
             [
              0.5555555555555556,
              "#d8576b"
             ],
             [
              0.6666666666666666,
              "#ed7953"
             ],
             [
              0.7777777777777778,
              "#fb9f3a"
             ],
             [
              0.8888888888888888,
              "#fdca26"
             ],
             [
              1,
              "#f0f921"
             ]
            ],
            "type": "heatmap"
           }
          ],
          "heatmapgl": [
           {
            "colorbar": {
             "outlinewidth": 0,
             "ticks": ""
            },
            "colorscale": [
             [
              0,
              "#0d0887"
             ],
             [
              0.1111111111111111,
              "#46039f"
             ],
             [
              0.2222222222222222,
              "#7201a8"
             ],
             [
              0.3333333333333333,
              "#9c179e"
             ],
             [
              0.4444444444444444,
              "#bd3786"
             ],
             [
              0.5555555555555556,
              "#d8576b"
             ],
             [
              0.6666666666666666,
              "#ed7953"
             ],
             [
              0.7777777777777778,
              "#fb9f3a"
             ],
             [
              0.8888888888888888,
              "#fdca26"
             ],
             [
              1,
              "#f0f921"
             ]
            ],
            "type": "heatmapgl"
           }
          ],
          "histogram": [
           {
            "marker": {
             "pattern": {
              "fillmode": "overlay",
              "size": 10,
              "solidity": 0.2
             }
            },
            "type": "histogram"
           }
          ],
          "histogram2d": [
           {
            "colorbar": {
             "outlinewidth": 0,
             "ticks": ""
            },
            "colorscale": [
             [
              0,
              "#0d0887"
             ],
             [
              0.1111111111111111,
              "#46039f"
             ],
             [
              0.2222222222222222,
              "#7201a8"
             ],
             [
              0.3333333333333333,
              "#9c179e"
             ],
             [
              0.4444444444444444,
              "#bd3786"
             ],
             [
              0.5555555555555556,
              "#d8576b"
             ],
             [
              0.6666666666666666,
              "#ed7953"
             ],
             [
              0.7777777777777778,
              "#fb9f3a"
             ],
             [
              0.8888888888888888,
              "#fdca26"
             ],
             [
              1,
              "#f0f921"
             ]
            ],
            "type": "histogram2d"
           }
          ],
          "histogram2dcontour": [
           {
            "colorbar": {
             "outlinewidth": 0,
             "ticks": ""
            },
            "colorscale": [
             [
              0,
              "#0d0887"
             ],
             [
              0.1111111111111111,
              "#46039f"
             ],
             [
              0.2222222222222222,
              "#7201a8"
             ],
             [
              0.3333333333333333,
              "#9c179e"
             ],
             [
              0.4444444444444444,
              "#bd3786"
             ],
             [
              0.5555555555555556,
              "#d8576b"
             ],
             [
              0.6666666666666666,
              "#ed7953"
             ],
             [
              0.7777777777777778,
              "#fb9f3a"
             ],
             [
              0.8888888888888888,
              "#fdca26"
             ],
             [
              1,
              "#f0f921"
             ]
            ],
            "type": "histogram2dcontour"
           }
          ],
          "mesh3d": [
           {
            "colorbar": {
             "outlinewidth": 0,
             "ticks": ""
            },
            "type": "mesh3d"
           }
          ],
          "parcoords": [
           {
            "line": {
             "colorbar": {
              "outlinewidth": 0,
              "ticks": ""
             }
            },
            "type": "parcoords"
           }
          ],
          "pie": [
           {
            "automargin": true,
            "type": "pie"
           }
          ],
          "scatter": [
           {
            "marker": {
             "colorbar": {
              "outlinewidth": 0,
              "ticks": ""
             }
            },
            "type": "scatter"
           }
          ],
          "scatter3d": [
           {
            "line": {
             "colorbar": {
              "outlinewidth": 0,
              "ticks": ""
             }
            },
            "marker": {
             "colorbar": {
              "outlinewidth": 0,
              "ticks": ""
             }
            },
            "type": "scatter3d"
           }
          ],
          "scattercarpet": [
           {
            "marker": {
             "colorbar": {
              "outlinewidth": 0,
              "ticks": ""
             }
            },
            "type": "scattercarpet"
           }
          ],
          "scattergeo": [
           {
            "marker": {
             "colorbar": {
              "outlinewidth": 0,
              "ticks": ""
             }
            },
            "type": "scattergeo"
           }
          ],
          "scattergl": [
           {
            "marker": {
             "colorbar": {
              "outlinewidth": 0,
              "ticks": ""
             }
            },
            "type": "scattergl"
           }
          ],
          "scattermapbox": [
           {
            "marker": {
             "colorbar": {
              "outlinewidth": 0,
              "ticks": ""
             }
            },
            "type": "scattermapbox"
           }
          ],
          "scatterpolar": [
           {
            "marker": {
             "colorbar": {
              "outlinewidth": 0,
              "ticks": ""
             }
            },
            "type": "scatterpolar"
           }
          ],
          "scatterpolargl": [
           {
            "marker": {
             "colorbar": {
              "outlinewidth": 0,
              "ticks": ""
             }
            },
            "type": "scatterpolargl"
           }
          ],
          "scatterternary": [
           {
            "marker": {
             "colorbar": {
              "outlinewidth": 0,
              "ticks": ""
             }
            },
            "type": "scatterternary"
           }
          ],
          "surface": [
           {
            "colorbar": {
             "outlinewidth": 0,
             "ticks": ""
            },
            "colorscale": [
             [
              0,
              "#0d0887"
             ],
             [
              0.1111111111111111,
              "#46039f"
             ],
             [
              0.2222222222222222,
              "#7201a8"
             ],
             [
              0.3333333333333333,
              "#9c179e"
             ],
             [
              0.4444444444444444,
              "#bd3786"
             ],
             [
              0.5555555555555556,
              "#d8576b"
             ],
             [
              0.6666666666666666,
              "#ed7953"
             ],
             [
              0.7777777777777778,
              "#fb9f3a"
             ],
             [
              0.8888888888888888,
              "#fdca26"
             ],
             [
              1,
              "#f0f921"
             ]
            ],
            "type": "surface"
           }
          ],
          "table": [
           {
            "cells": {
             "fill": {
              "color": "#EBF0F8"
             },
             "line": {
              "color": "white"
             }
            },
            "header": {
             "fill": {
              "color": "#C8D4E3"
             },
             "line": {
              "color": "white"
             }
            },
            "type": "table"
           }
          ]
         },
         "layout": {
          "annotationdefaults": {
           "arrowcolor": "#2a3f5f",
           "arrowhead": 0,
           "arrowwidth": 1
          },
          "autotypenumbers": "strict",
          "coloraxis": {
           "colorbar": {
            "outlinewidth": 0,
            "ticks": ""
           }
          },
          "colorscale": {
           "diverging": [
            [
             0,
             "#8e0152"
            ],
            [
             0.1,
             "#c51b7d"
            ],
            [
             0.2,
             "#de77ae"
            ],
            [
             0.3,
             "#f1b6da"
            ],
            [
             0.4,
             "#fde0ef"
            ],
            [
             0.5,
             "#f7f7f7"
            ],
            [
             0.6,
             "#e6f5d0"
            ],
            [
             0.7,
             "#b8e186"
            ],
            [
             0.8,
             "#7fbc41"
            ],
            [
             0.9,
             "#4d9221"
            ],
            [
             1,
             "#276419"
            ]
           ],
           "sequential": [
            [
             0,
             "#0d0887"
            ],
            [
             0.1111111111111111,
             "#46039f"
            ],
            [
             0.2222222222222222,
             "#7201a8"
            ],
            [
             0.3333333333333333,
             "#9c179e"
            ],
            [
             0.4444444444444444,
             "#bd3786"
            ],
            [
             0.5555555555555556,
             "#d8576b"
            ],
            [
             0.6666666666666666,
             "#ed7953"
            ],
            [
             0.7777777777777778,
             "#fb9f3a"
            ],
            [
             0.8888888888888888,
             "#fdca26"
            ],
            [
             1,
             "#f0f921"
            ]
           ],
           "sequentialminus": [
            [
             0,
             "#0d0887"
            ],
            [
             0.1111111111111111,
             "#46039f"
            ],
            [
             0.2222222222222222,
             "#7201a8"
            ],
            [
             0.3333333333333333,
             "#9c179e"
            ],
            [
             0.4444444444444444,
             "#bd3786"
            ],
            [
             0.5555555555555556,
             "#d8576b"
            ],
            [
             0.6666666666666666,
             "#ed7953"
            ],
            [
             0.7777777777777778,
             "#fb9f3a"
            ],
            [
             0.8888888888888888,
             "#fdca26"
            ],
            [
             1,
             "#f0f921"
            ]
           ]
          },
          "colorway": [
           "#636efa",
           "#EF553B",
           "#00cc96",
           "#ab63fa",
           "#FFA15A",
           "#19d3f3",
           "#FF6692",
           "#B6E880",
           "#FF97FF",
           "#FECB52"
          ],
          "font": {
           "color": "#2a3f5f"
          },
          "geo": {
           "bgcolor": "white",
           "lakecolor": "white",
           "landcolor": "#E5ECF6",
           "showlakes": true,
           "showland": true,
           "subunitcolor": "white"
          },
          "hoverlabel": {
           "align": "left"
          },
          "hovermode": "closest",
          "mapbox": {
           "style": "light"
          },
          "paper_bgcolor": "white",
          "plot_bgcolor": "#E5ECF6",
          "polar": {
           "angularaxis": {
            "gridcolor": "white",
            "linecolor": "white",
            "ticks": ""
           },
           "bgcolor": "#E5ECF6",
           "radialaxis": {
            "gridcolor": "white",
            "linecolor": "white",
            "ticks": ""
           }
          },
          "scene": {
           "xaxis": {
            "backgroundcolor": "#E5ECF6",
            "gridcolor": "white",
            "gridwidth": 2,
            "linecolor": "white",
            "showbackground": true,
            "ticks": "",
            "zerolinecolor": "white"
           },
           "yaxis": {
            "backgroundcolor": "#E5ECF6",
            "gridcolor": "white",
            "gridwidth": 2,
            "linecolor": "white",
            "showbackground": true,
            "ticks": "",
            "zerolinecolor": "white"
           },
           "zaxis": {
            "backgroundcolor": "#E5ECF6",
            "gridcolor": "white",
            "gridwidth": 2,
            "linecolor": "white",
            "showbackground": true,
            "ticks": "",
            "zerolinecolor": "white"
           }
          },
          "shapedefaults": {
           "line": {
            "color": "#2a3f5f"
           }
          },
          "ternary": {
           "aaxis": {
            "gridcolor": "white",
            "linecolor": "white",
            "ticks": ""
           },
           "baxis": {
            "gridcolor": "white",
            "linecolor": "white",
            "ticks": ""
           },
           "bgcolor": "#E5ECF6",
           "caxis": {
            "gridcolor": "white",
            "linecolor": "white",
            "ticks": ""
           }
          },
          "title": {
           "x": 0.05
          },
          "xaxis": {
           "automargin": true,
           "gridcolor": "white",
           "linecolor": "white",
           "ticks": "",
           "title": {
            "standoff": 15
           },
           "zerolinecolor": "white",
           "zerolinewidth": 2
          },
          "yaxis": {
           "automargin": true,
           "gridcolor": "white",
           "linecolor": "white",
           "ticks": "",
           "title": {
            "standoff": 15
           },
           "zerolinecolor": "white",
           "zerolinewidth": 2
          }
         }
        },
        "title": {
         "text": "Revenue Generation(Total Customer Spendings) VS Customer Satisfaction across branches"
        },
        "xaxis": {
         "anchor": "y",
         "domain": [
          0,
          1
         ],
         "title": {
          "text": "Store"
         }
        },
        "yaxis": {
         "anchor": "x",
         "domain": [
          0,
          1
         ],
         "title": {
          "text": "Total Spend"
         }
        }
       }
      }
     },
     "metadata": {},
     "output_type": "display_data"
    }
   ],
   "source": [
    "px.bar(customer_spend_satisfaction[customer_spend_satisfaction['Total Spend'] < 5001], x = 'Store', y = 'Total Spend', color = 'Customer Satisfaction Score', title = 'Revenue Generation(Total Customer Spendings) VS Customer Satisfaction across branches',color_continuous_scale=px.colors.diverging.BrBG)"
   ]
  },
  {
   "cell_type": "code",
   "execution_count": 26,
   "metadata": {},
   "outputs": [
    {
     "name": "stdout",
     "output_type": "stream",
     "text": [
      "Number of stores that generated more than 5k in revenue:  135 \n",
      " Number of stores that generated 5k or less in revenue:  126\n"
     ]
    }
   ],
   "source": [
    "print('Number of stores that generated more than 5k in revenue: ',len(customer_spend_satisfaction[customer_spend_satisfaction['Total Spend'] > 5000]),'\\n Number of stores that generated 5k or less in revenue: ',len(customer_spend_satisfaction[customer_spend_satisfaction['Total Spend'] < 5001]))"
   ]
  },
  {
   "cell_type": "code",
   "execution_count": 27,
   "metadata": {},
   "outputs": [
    {
     "data": {
      "text/html": [
       "<div><div id=35453e8f-4ed7-4772-9cbf-1b26b6d89eec style=\"display:none; background-color:#9D6CFF; color:white; width:200px; height:30px; padding-left:5px; border-radius:4px; flex-direction:row; justify-content:space-around; align-items:center;\" onmouseover=\"this.style.backgroundColor='#BA9BF8'\" onmouseout=\"this.style.backgroundColor='#9D6CFF'\" onclick=\"window.commands?.execute('create-mitosheet-from-dataframe-output');\">See Full Dataframe in Mito</div> <script> if (window.commands.hasCommand('create-mitosheet-from-dataframe-output')) document.getElementById('35453e8f-4ed7-4772-9cbf-1b26b6d89eec').style.display = 'flex' </script> <table border=\"1\" class=\"dataframe\">\n",
       "  <thead>\n",
       "    <tr style=\"text-align: right;\">\n",
       "      <th></th>\n",
       "      <th>Store</th>\n",
       "      <th>Total Spend</th>\n",
       "      <th>Customer Satisfaction Score</th>\n",
       "    </tr>\n",
       "  </thead>\n",
       "  <tbody>\n",
       "    <tr>\n",
       "      <th>161</th>\n",
       "      <td>Camden</td>\n",
       "      <td>3092.13</td>\n",
       "      <td>4.4</td>\n",
       "    </tr>\n",
       "    <tr>\n",
       "      <th>187</th>\n",
       "      <td>Gladstone</td>\n",
       "      <td>2125.79</td>\n",
       "      <td>5.0</td>\n",
       "    </tr>\n",
       "    <tr>\n",
       "      <th>196</th>\n",
       "      <td>Forbes</td>\n",
       "      <td>1853.36</td>\n",
       "      <td>5.0</td>\n",
       "    </tr>\n",
       "    <tr>\n",
       "      <th>203</th>\n",
       "      <td>Bowen</td>\n",
       "      <td>1662.81</td>\n",
       "      <td>5.0</td>\n",
       "    </tr>\n",
       "    <tr>\n",
       "      <th>214</th>\n",
       "      <td>Ballina</td>\n",
       "      <td>1406.35</td>\n",
       "      <td>5.0</td>\n",
       "    </tr>\n",
       "    <tr>\n",
       "      <th>221</th>\n",
       "      <td>Portland</td>\n",
       "      <td>1187.34</td>\n",
       "      <td>5.0</td>\n",
       "    </tr>\n",
       "    <tr>\n",
       "      <th>224</th>\n",
       "      <td>Ingham</td>\n",
       "      <td>1143.15</td>\n",
       "      <td>5.0</td>\n",
       "    </tr>\n",
       "    <tr>\n",
       "      <th>226</th>\n",
       "      <td>Echuca</td>\n",
       "      <td>1090.19</td>\n",
       "      <td>5.0</td>\n",
       "    </tr>\n",
       "    <tr>\n",
       "      <th>238</th>\n",
       "      <td>Esperance</td>\n",
       "      <td>923.53</td>\n",
       "      <td>5.0</td>\n",
       "    </tr>\n",
       "    <tr>\n",
       "      <th>251</th>\n",
       "      <td>Bass Hill</td>\n",
       "      <td>546.05</td>\n",
       "      <td>4.0</td>\n",
       "    </tr>\n",
       "  </tbody>\n",
       "</table></div>"
      ],
      "text/plain": [
       "         Store  Total Spend  Customer Satisfaction Score\n",
       "161     Camden      3092.13                          4.4\n",
       "187  Gladstone      2125.79                          5.0\n",
       "196     Forbes      1853.36                          5.0\n",
       "203      Bowen      1662.81                          5.0\n",
       "214    Ballina      1406.35                          5.0\n",
       "221   Portland      1187.34                          5.0\n",
       "224     Ingham      1143.15                          5.0\n",
       "226     Echuca      1090.19                          5.0\n",
       "238  Esperance       923.53                          5.0\n",
       "251  Bass Hill       546.05                          4.0"
      ]
     },
     "execution_count": 27,
     "metadata": {},
     "output_type": "execute_result"
    }
   ],
   "source": [
    "customer_spend_satisfaction[(customer_spend_satisfaction['Total Spend'] < 5001) & (customer_spend_satisfaction['Customer Satisfaction Score'] <= 5)]"
   ]
  },
  {
   "cell_type": "markdown",
   "metadata": {},
   "source": [
    "## Analysing Pricing reviews among the branches\n",
    "### From the plot below, a crucial insight can be noted. Customers find the pricing to be worse more often than same or better than competitors. \n",
    "### This is something that has to be addressed to improve customer satisfaction. "
   ]
  },
  {
   "cell_type": "code",
   "execution_count": 28,
   "metadata": {},
   "outputs": [],
   "source": [
    "branch_pricing = branch_data[['Store', 'Price']]\n",
    "branch_pricing = pd.concat([branch_pricing, pd.get_dummies(branch_pricing.Price)], axis = 1)\n",
    "branch_pricing = branch_pricing.drop(['Price'], axis = 1)\n",
    "branch_pricing = branch_pricing.groupby(branch_pricing['Store']).sum().reset_index()"
   ]
  },
  {
   "cell_type": "code",
   "execution_count": 29,
   "metadata": {},
   "outputs": [
    {
     "data": {
      "application/vnd.plotly.v1+json": {
       "config": {
        "plotlyServerURL": "https://plot.ly"
       },
       "data": [
        {
         "name": "Same",
         "type": "bar",
         "x": [
          "5000-Unknown",
          "5224-Unknown",
          "5648-Unknown",
          "5827-Unknown",
          "5991-Unknown",
          "6386-Unknown",
          "6491-Unknown",
          "6545-Unknown",
          "6548-Unknown",
          "Airport West",
          "Albany",
          "Albury",
          "Ararat",
          "Armadale",
          "Ayr",
          "Bairnsdale",
          "Ballarat",
          "Ballina",
          "Bankstown",
          "Bass Hill",
          "Batemans Bay",
          "Bathurst",
          "Bega",
          "Belconnen",
          "Benalla",
          "Bendigo",
          "Bentleigh",
          "Berri",
          "Blacktown",
          "Bondi",
          "Bowen",
          "Bribie Island",
          "Brisbane CBD",
          "Broadmeadows",
          "Broadway",
          "Broome",
          "Browns Plains",
          "Bullcreek",
          "Bunbury",
          "Bundaberg",
          "Buranda",
          "Burnie",
          "Burwood",
          "Busselton",
          "Cairns",
          "Camberwell",
          "Camden",
          "Campbelltown",
          "Canberra",
          "Cannonvale",
          "Cannot find store",
          "Capalaba",
          "Carindale",
          "Carlingford",
          "Caroline Springs",
          "Carousel",
          "Casino",
          "Castle Hill",
          "Castlemaine",
          "Castletown",
          "Centrepoint",
          "Chadstone",
          "Charlestown",
          "Charleville",
          "Charters Towers",
          "Chatswood",
          "Chermside",
          "Chirnside Park",
          "Clare",
          "Cobram",
          "Coffs Harbour",
          "Colac",
          "Cowra",
          "Craigieburn",
          "Dalby",
          "Dandenong",
          "Deniliquin",
          "Doncaster",
          "Dubbo",
          "Earlville",
          "Eastgardens",
          "Echuca",
          "Edwardstown",
          "Elizabeth",
          "Epping",
          "Erina",
          "Esperance",
          "Flemington",
          "Forbes",
          "Forest Hill",
          "Forest Lake",
          "Fountain Gate",
          "Frankston",
          "Fremantle",
          "Fulham Gardens",
          "Gawler",
          "Geelong",
          "Geraldton",
          "Gilgandra",
          "Gladstone",
          "Glen Waverley",
          "Glendale",
          "Glenn Innes",
          "Glenorchy",
          "Glenquarie",
          "Golden Grove",
          "Goulburn",
          "Grafton",
          "Greensborough",
          "Griffith",
          "Gunnedah",
          "Gympie",
          "Hamilton",
          "Harbourtown (SA Outlet)",
          "Helensvale",
          "Hervey Bay",
          "Highpoint",
          "Hobart",
          "Hollywood Plaza",
          "Hoppers Crossing",
          "Hornsby",
          "Hurstville",
          "Indooroopilly",
          "Ingham",
          "Innaloo",
          "Innisfail",
          "Inverell",
          "Ipswich",
          "Joondalup",
          "Kadina",
          "Kalgoorlie",
          "Katanning",
          "Katherine",
          "Katoomba",
          "Kempsey",
          "Kippa Ring",
          "Knox City",
          "Kotara",
          "Langwarrin",
          "Launceston",
          "Leichhardt",
          "Leongatha",
          "Lismore City",
          "Lithgow",
          "Liverpool",
          "Macarthur Square",
          "Mackay",
          "Macquarie",
          "Manjimup",
          "Mareeba",
          "Marion",
          "Maroochydore",
          "Mawson Lakes",
          "McLaren Vale",
          "Meadow Springs",
          "Melbourne CBD",
          "Merimbula",
          "Merrylands",
          "Midland",
          "Mildura",
          "Miranda",
          "Morayfield",
          "Moree",
          "Morisset",
          "Morley",
          "Mornington",
          "Morwell",
          "Mowbray",
          "Mt. Druitt",
          "Mt. Gambier",
          "Mt. Gravatt",
          "Mt. Ommaney",
          "Myrtleford",
          "NT Outlet",
          "Narracoorte",
          "Newton",
          "Noosa Junction",
          "North Lakes",
          "Northland",
          "Nowra",
          "Ocean Grove",
          "Ocean Shores",
          "Pacific Fair",
          "Pakenham",
          "Palmerston",
          "Parramatta",
          "Penrith",
          "Perth CBD",
          "Picton",
          "Plenty Valley",
          "Point Cook",
          "Port Douglas",
          "Port Macquarie",
          "Port Pirie",
          "Portland",
          "Queanbeyan",
          "Reynella",
          "Rhodes",
          "Ringwood",
          "Robina",
          "Rockdale",
          "Rockhampton",
          "Rockingham",
          "Rosebud",
          "Roselands",
          "Rouse Hill",
          "Runaway Bay",
          "Sale",
          "Sarina",
          "Sefton Park",
          "Seymour",
          "Shell Harbour",
          "Shepparton",
          "Somerville",
          "Southland",
          "Southport",
          "Springwood",
          "St Marys",
          "Stanthorpe",
          "Stirling",
          "Strathpine",
          "Sunbury",
          "Swan Hill",
          "Tamworth",
          "Taree",
          "Tea Tree Plaza",
          "Templestowe",
          "Tenterfield",
          "The Willows",
          "Toombul",
          "Toowoomba",
          "Tuggerah",
          "Tuggeranong",
          "Tumut",
          "Tweed Heads",
          "Ulladulla",
          "Unley",
          "Victor Harbor",
          "Victoria Park",
          "Wagga Wagga",
          "Warragul",
          "Warrawong",
          "Warringah Mall",
          "Warrnambool",
          "Watergardens",
          "Waurn Ponds",
          "Waverley Gardens",
          "West Lakes",
          "Weston Creek",
          "Wetherill Park",
          "Whitford City",
          "Whyalla",
          "Windsor",
          "Winmalee",
          "Wodonga",
          "Wonthaggi",
          "Woodend",
          "Yamba",
          "Yarrawonga",
          "Yass",
          "Yeppoon"
         ],
         "y": [
          0,
          1,
          0,
          0,
          1,
          0,
          0,
          0,
          1,
          2,
          4,
          0,
          0,
          5,
          0,
          0,
          4,
          0,
          3,
          0,
          1,
          2,
          0,
          3,
          1,
          1,
          1,
          1,
          1,
          2,
          0,
          1,
          7,
          2,
          4,
          0,
          0,
          6,
          2,
          2,
          3,
          2,
          3,
          0,
          5,
          3,
          1,
          4,
          1,
          0,
          0,
          1,
          6,
          3,
          0,
          4,
          1,
          3,
          3,
          6,
          2,
          9,
          4,
          0,
          0,
          3,
          4,
          2,
          0,
          0,
          0,
          0,
          1,
          1,
          1,
          1,
          0,
          1,
          0,
          3,
          5,
          0,
          4,
          6,
          0,
          2,
          0,
          1,
          1,
          2,
          2,
          3,
          3,
          2,
          4,
          0,
          4,
          0,
          0,
          1,
          2,
          1,
          0,
          0,
          0,
          3,
          0,
          1,
          3,
          0,
          0,
          1,
          0,
          0,
          3,
          1,
          6,
          3,
          1,
          3,
          9,
          0,
          3,
          0,
          2,
          0,
          0,
          1,
          5,
          1,
          3,
          3,
          0,
          2,
          0,
          0,
          1,
          4,
          1,
          2,
          2,
          2,
          0,
          1,
          5,
          0,
          3,
          3,
          0,
          1,
          1,
          2,
          1,
          5,
          1,
          3,
          0,
          2,
          3,
          1,
          3,
          4,
          0,
          3,
          7,
          2,
          2,
          3,
          2,
          1,
          3,
          1,
          0,
          1,
          1,
          3,
          2,
          7,
          5,
          0,
          0,
          1,
          2,
          2,
          1,
          1,
          2,
          4,
          1,
          3,
          4,
          0,
          3,
          0,
          0,
          2,
          2,
          3,
          1,
          4,
          0,
          6,
          5,
          1,
          4,
          0,
          2,
          2,
          0,
          4,
          0,
          1,
          0,
          8,
          5,
          2,
          2,
          1,
          0,
          2,
          0,
          1,
          0,
          1,
          0,
          0,
          1,
          2,
          1,
          2,
          2,
          5,
          2,
          0,
          2,
          0,
          1,
          1,
          0,
          2,
          0,
          5,
          1,
          2,
          4,
          2,
          1,
          4,
          0,
          1,
          3,
          1,
          0,
          1,
          2,
          2,
          0,
          1,
          1,
          1,
          1
         ]
        },
        {
         "name": "Worse",
         "type": "bar",
         "x": [
          "5000-Unknown",
          "5224-Unknown",
          "5648-Unknown",
          "5827-Unknown",
          "5991-Unknown",
          "6386-Unknown",
          "6491-Unknown",
          "6545-Unknown",
          "6548-Unknown",
          "Airport West",
          "Albany",
          "Albury",
          "Ararat",
          "Armadale",
          "Ayr",
          "Bairnsdale",
          "Ballarat",
          "Ballina",
          "Bankstown",
          "Bass Hill",
          "Batemans Bay",
          "Bathurst",
          "Bega",
          "Belconnen",
          "Benalla",
          "Bendigo",
          "Bentleigh",
          "Berri",
          "Blacktown",
          "Bondi",
          "Bowen",
          "Bribie Island",
          "Brisbane CBD",
          "Broadmeadows",
          "Broadway",
          "Broome",
          "Browns Plains",
          "Bullcreek",
          "Bunbury",
          "Bundaberg",
          "Buranda",
          "Burnie",
          "Burwood",
          "Busselton",
          "Cairns",
          "Camberwell",
          "Camden",
          "Campbelltown",
          "Canberra",
          "Cannonvale",
          "Cannot find store",
          "Capalaba",
          "Carindale",
          "Carlingford",
          "Caroline Springs",
          "Carousel",
          "Casino",
          "Castle Hill",
          "Castlemaine",
          "Castletown",
          "Centrepoint",
          "Chadstone",
          "Charlestown",
          "Charleville",
          "Charters Towers",
          "Chatswood",
          "Chermside",
          "Chirnside Park",
          "Clare",
          "Cobram",
          "Coffs Harbour",
          "Colac",
          "Cowra",
          "Craigieburn",
          "Dalby",
          "Dandenong",
          "Deniliquin",
          "Doncaster",
          "Dubbo",
          "Earlville",
          "Eastgardens",
          "Echuca",
          "Edwardstown",
          "Elizabeth",
          "Epping",
          "Erina",
          "Esperance",
          "Flemington",
          "Forbes",
          "Forest Hill",
          "Forest Lake",
          "Fountain Gate",
          "Frankston",
          "Fremantle",
          "Fulham Gardens",
          "Gawler",
          "Geelong",
          "Geraldton",
          "Gilgandra",
          "Gladstone",
          "Glen Waverley",
          "Glendale",
          "Glenn Innes",
          "Glenorchy",
          "Glenquarie",
          "Golden Grove",
          "Goulburn",
          "Grafton",
          "Greensborough",
          "Griffith",
          "Gunnedah",
          "Gympie",
          "Hamilton",
          "Harbourtown (SA Outlet)",
          "Helensvale",
          "Hervey Bay",
          "Highpoint",
          "Hobart",
          "Hollywood Plaza",
          "Hoppers Crossing",
          "Hornsby",
          "Hurstville",
          "Indooroopilly",
          "Ingham",
          "Innaloo",
          "Innisfail",
          "Inverell",
          "Ipswich",
          "Joondalup",
          "Kadina",
          "Kalgoorlie",
          "Katanning",
          "Katherine",
          "Katoomba",
          "Kempsey",
          "Kippa Ring",
          "Knox City",
          "Kotara",
          "Langwarrin",
          "Launceston",
          "Leichhardt",
          "Leongatha",
          "Lismore City",
          "Lithgow",
          "Liverpool",
          "Macarthur Square",
          "Mackay",
          "Macquarie",
          "Manjimup",
          "Mareeba",
          "Marion",
          "Maroochydore",
          "Mawson Lakes",
          "McLaren Vale",
          "Meadow Springs",
          "Melbourne CBD",
          "Merimbula",
          "Merrylands",
          "Midland",
          "Mildura",
          "Miranda",
          "Morayfield",
          "Moree",
          "Morisset",
          "Morley",
          "Mornington",
          "Morwell",
          "Mowbray",
          "Mt. Druitt",
          "Mt. Gambier",
          "Mt. Gravatt",
          "Mt. Ommaney",
          "Myrtleford",
          "NT Outlet",
          "Narracoorte",
          "Newton",
          "Noosa Junction",
          "North Lakes",
          "Northland",
          "Nowra",
          "Ocean Grove",
          "Ocean Shores",
          "Pacific Fair",
          "Pakenham",
          "Palmerston",
          "Parramatta",
          "Penrith",
          "Perth CBD",
          "Picton",
          "Plenty Valley",
          "Point Cook",
          "Port Douglas",
          "Port Macquarie",
          "Port Pirie",
          "Portland",
          "Queanbeyan",
          "Reynella",
          "Rhodes",
          "Ringwood",
          "Robina",
          "Rockdale",
          "Rockhampton",
          "Rockingham",
          "Rosebud",
          "Roselands",
          "Rouse Hill",
          "Runaway Bay",
          "Sale",
          "Sarina",
          "Sefton Park",
          "Seymour",
          "Shell Harbour",
          "Shepparton",
          "Somerville",
          "Southland",
          "Southport",
          "Springwood",
          "St Marys",
          "Stanthorpe",
          "Stirling",
          "Strathpine",
          "Sunbury",
          "Swan Hill",
          "Tamworth",
          "Taree",
          "Tea Tree Plaza",
          "Templestowe",
          "Tenterfield",
          "The Willows",
          "Toombul",
          "Toowoomba",
          "Tuggerah",
          "Tuggeranong",
          "Tumut",
          "Tweed Heads",
          "Ulladulla",
          "Unley",
          "Victor Harbor",
          "Victoria Park",
          "Wagga Wagga",
          "Warragul",
          "Warrawong",
          "Warringah Mall",
          "Warrnambool",
          "Watergardens",
          "Waurn Ponds",
          "Waverley Gardens",
          "West Lakes",
          "Weston Creek",
          "Wetherill Park",
          "Whitford City",
          "Whyalla",
          "Windsor",
          "Winmalee",
          "Wodonga",
          "Wonthaggi",
          "Woodend",
          "Yamba",
          "Yarrawonga",
          "Yass",
          "Yeppoon"
         ],
         "y": [
          3,
          1,
          1,
          1,
          3,
          2,
          2,
          1,
          1,
          10,
          17,
          7,
          7,
          11,
          2,
          4,
          10,
          3,
          7,
          1,
          4,
          1,
          1,
          13,
          1,
          9,
          8,
          2,
          4,
          16,
          3,
          2,
          23,
          2,
          10,
          1,
          7,
          19,
          4,
          17,
          5,
          16,
          16,
          2,
          7,
          9,
          3,
          14,
          4,
          1,
          12,
          8,
          14,
          19,
          1,
          14,
          2,
          7,
          3,
          14,
          11,
          32,
          13,
          1,
          3,
          17,
          18,
          12,
          0,
          1,
          4,
          2,
          2,
          2,
          9,
          5,
          1,
          10,
          2,
          8,
          12,
          0,
          28,
          11,
          1,
          8,
          1,
          2,
          2,
          11,
          9,
          16,
          8,
          13,
          6,
          1,
          6,
          9,
          2,
          3,
          9,
          7,
          1,
          14,
          0,
          7,
          3,
          4,
          15,
          2,
          0,
          3,
          2,
          1,
          10,
          5,
          19,
          15,
          3,
          22,
          8,
          6,
          6,
          2,
          11,
          2,
          3,
          16,
          16,
          7,
          3,
          2,
          1,
          4,
          0,
          2,
          11,
          10,
          7,
          9,
          10,
          0,
          1,
          5,
          16,
          11,
          12,
          15,
          0,
          5,
          10,
          15,
          3,
          13,
          5,
          18,
          1,
          2,
          15,
          9,
          12,
          12,
          1,
          5,
          28,
          4,
          2,
          2,
          2,
          3,
          8,
          4,
          4,
          1,
          1,
          9,
          0,
          24,
          16,
          0,
          2,
          4,
          6,
          7,
          8,
          12,
          9,
          17,
          3,
          9,
          9,
          1,
          16,
          3,
          1,
          7,
          7,
          14,
          10,
          16,
          2,
          15,
          23,
          1,
          5,
          4,
          1,
          13,
          1,
          11,
          1,
          13,
          2,
          6,
          22,
          7,
          7,
          2,
          3,
          8,
          7,
          12,
          1,
          3,
          4,
          12,
          2,
          7,
          6,
          11,
          11,
          16,
          10,
          1,
          9,
          2,
          4,
          5,
          8,
          2,
          5,
          5,
          17,
          8,
          13,
          11,
          4,
          15,
          1,
          4,
          11,
          2,
          1,
          3,
          1,
          8,
          2,
          4,
          1,
          9,
          7
         ]
        },
        {
         "name": "Better",
         "type": "bar",
         "x": [
          "5000-Unknown",
          "5224-Unknown",
          "5648-Unknown",
          "5827-Unknown",
          "5991-Unknown",
          "6386-Unknown",
          "6491-Unknown",
          "6545-Unknown",
          "6548-Unknown",
          "Airport West",
          "Albany",
          "Albury",
          "Ararat",
          "Armadale",
          "Ayr",
          "Bairnsdale",
          "Ballarat",
          "Ballina",
          "Bankstown",
          "Bass Hill",
          "Batemans Bay",
          "Bathurst",
          "Bega",
          "Belconnen",
          "Benalla",
          "Bendigo",
          "Bentleigh",
          "Berri",
          "Blacktown",
          "Bondi",
          "Bowen",
          "Bribie Island",
          "Brisbane CBD",
          "Broadmeadows",
          "Broadway",
          "Broome",
          "Browns Plains",
          "Bullcreek",
          "Bunbury",
          "Bundaberg",
          "Buranda",
          "Burnie",
          "Burwood",
          "Busselton",
          "Cairns",
          "Camberwell",
          "Camden",
          "Campbelltown",
          "Canberra",
          "Cannonvale",
          "Cannot find store",
          "Capalaba",
          "Carindale",
          "Carlingford",
          "Caroline Springs",
          "Carousel",
          "Casino",
          "Castle Hill",
          "Castlemaine",
          "Castletown",
          "Centrepoint",
          "Chadstone",
          "Charlestown",
          "Charleville",
          "Charters Towers",
          "Chatswood",
          "Chermside",
          "Chirnside Park",
          "Clare",
          "Cobram",
          "Coffs Harbour",
          "Colac",
          "Cowra",
          "Craigieburn",
          "Dalby",
          "Dandenong",
          "Deniliquin",
          "Doncaster",
          "Dubbo",
          "Earlville",
          "Eastgardens",
          "Echuca",
          "Edwardstown",
          "Elizabeth",
          "Epping",
          "Erina",
          "Esperance",
          "Flemington",
          "Forbes",
          "Forest Hill",
          "Forest Lake",
          "Fountain Gate",
          "Frankston",
          "Fremantle",
          "Fulham Gardens",
          "Gawler",
          "Geelong",
          "Geraldton",
          "Gilgandra",
          "Gladstone",
          "Glen Waverley",
          "Glendale",
          "Glenn Innes",
          "Glenorchy",
          "Glenquarie",
          "Golden Grove",
          "Goulburn",
          "Grafton",
          "Greensborough",
          "Griffith",
          "Gunnedah",
          "Gympie",
          "Hamilton",
          "Harbourtown (SA Outlet)",
          "Helensvale",
          "Hervey Bay",
          "Highpoint",
          "Hobart",
          "Hollywood Plaza",
          "Hoppers Crossing",
          "Hornsby",
          "Hurstville",
          "Indooroopilly",
          "Ingham",
          "Innaloo",
          "Innisfail",
          "Inverell",
          "Ipswich",
          "Joondalup",
          "Kadina",
          "Kalgoorlie",
          "Katanning",
          "Katherine",
          "Katoomba",
          "Kempsey",
          "Kippa Ring",
          "Knox City",
          "Kotara",
          "Langwarrin",
          "Launceston",
          "Leichhardt",
          "Leongatha",
          "Lismore City",
          "Lithgow",
          "Liverpool",
          "Macarthur Square",
          "Mackay",
          "Macquarie",
          "Manjimup",
          "Mareeba",
          "Marion",
          "Maroochydore",
          "Mawson Lakes",
          "McLaren Vale",
          "Meadow Springs",
          "Melbourne CBD",
          "Merimbula",
          "Merrylands",
          "Midland",
          "Mildura",
          "Miranda",
          "Morayfield",
          "Moree",
          "Morisset",
          "Morley",
          "Mornington",
          "Morwell",
          "Mowbray",
          "Mt. Druitt",
          "Mt. Gambier",
          "Mt. Gravatt",
          "Mt. Ommaney",
          "Myrtleford",
          "NT Outlet",
          "Narracoorte",
          "Newton",
          "Noosa Junction",
          "North Lakes",
          "Northland",
          "Nowra",
          "Ocean Grove",
          "Ocean Shores",
          "Pacific Fair",
          "Pakenham",
          "Palmerston",
          "Parramatta",
          "Penrith",
          "Perth CBD",
          "Picton",
          "Plenty Valley",
          "Point Cook",
          "Port Douglas",
          "Port Macquarie",
          "Port Pirie",
          "Portland",
          "Queanbeyan",
          "Reynella",
          "Rhodes",
          "Ringwood",
          "Robina",
          "Rockdale",
          "Rockhampton",
          "Rockingham",
          "Rosebud",
          "Roselands",
          "Rouse Hill",
          "Runaway Bay",
          "Sale",
          "Sarina",
          "Sefton Park",
          "Seymour",
          "Shell Harbour",
          "Shepparton",
          "Somerville",
          "Southland",
          "Southport",
          "Springwood",
          "St Marys",
          "Stanthorpe",
          "Stirling",
          "Strathpine",
          "Sunbury",
          "Swan Hill",
          "Tamworth",
          "Taree",
          "Tea Tree Plaza",
          "Templestowe",
          "Tenterfield",
          "The Willows",
          "Toombul",
          "Toowoomba",
          "Tuggerah",
          "Tuggeranong",
          "Tumut",
          "Tweed Heads",
          "Ulladulla",
          "Unley",
          "Victor Harbor",
          "Victoria Park",
          "Wagga Wagga",
          "Warragul",
          "Warrawong",
          "Warringah Mall",
          "Warrnambool",
          "Watergardens",
          "Waurn Ponds",
          "Waverley Gardens",
          "West Lakes",
          "Weston Creek",
          "Wetherill Park",
          "Whitford City",
          "Whyalla",
          "Windsor",
          "Winmalee",
          "Wodonga",
          "Wonthaggi",
          "Woodend",
          "Yamba",
          "Yarrawonga",
          "Yass",
          "Yeppoon"
         ],
         "y": [
          0,
          0,
          1,
          1,
          0,
          0,
          0,
          2,
          2,
          5,
          10,
          4,
          2,
          4,
          1,
          1,
          1,
          0,
          3,
          1,
          2,
          6,
          1,
          5,
          2,
          4,
          3,
          0,
          2,
          10,
          0,
          1,
          13,
          1,
          4,
          1,
          2,
          10,
          5,
          7,
          4,
          4,
          10,
          2,
          3,
          1,
          1,
          3,
          4,
          1,
          3,
          3,
          5,
          12,
          0,
          6,
          0,
          3,
          4,
          9,
          2,
          15,
          10,
          1,
          2,
          19,
          11,
          7,
          2,
          1,
          4,
          0,
          1,
          2,
          4,
          3,
          1,
          5,
          0,
          5,
          4,
          2,
          9,
          5,
          1,
          6,
          1,
          3,
          0,
          11,
          3,
          6,
          4,
          3,
          2,
          0,
          8,
          2,
          0,
          0,
          1,
          3,
          1,
          8,
          2,
          4,
          1,
          1,
          2,
          0,
          2,
          0,
          0,
          1,
          4,
          5,
          6,
          7,
          4,
          6,
          6,
          2,
          2,
          0,
          8,
          2,
          2,
          3,
          6,
          3,
          3,
          2,
          0,
          5,
          1,
          3,
          4,
          1,
          3,
          4,
          4,
          0,
          0,
          1,
          6,
          3,
          4,
          4,
          1,
          3,
          1,
          6,
          2,
          8,
          3,
          14,
          1,
          1,
          6,
          4,
          0,
          4,
          1,
          1,
          10,
          4,
          2,
          1,
          1,
          1,
          6,
          0,
          1,
          1,
          0,
          3,
          0,
          11,
          11,
          3,
          0,
          2,
          5,
          2,
          3,
          4,
          6,
          13,
          2,
          3,
          11,
          0,
          7,
          1,
          1,
          3,
          8,
          6,
          4,
          7,
          2,
          6,
          12,
          0,
          3,
          3,
          0,
          2,
          1,
          6,
          1,
          2,
          0,
          2,
          9,
          4,
          1,
          2,
          0,
          1,
          6,
          3,
          1,
          5,
          1,
          2,
          2,
          4,
          6,
          2,
          2,
          10,
          6,
          1,
          2,
          2,
          8,
          1,
          6,
          0,
          1,
          8,
          11,
          0,
          5,
          9,
          5,
          6,
          1,
          2,
          1,
          0,
          1,
          0,
          2,
          1,
          0,
          0,
          1,
          3,
          3
         ]
        }
       ],
       "layout": {
        "barmode": "stack",
        "template": {
         "data": {
          "bar": [
           {
            "error_x": {
             "color": "#2a3f5f"
            },
            "error_y": {
             "color": "#2a3f5f"
            },
            "marker": {
             "line": {
              "color": "#E5ECF6",
              "width": 0.5
             },
             "pattern": {
              "fillmode": "overlay",
              "size": 10,
              "solidity": 0.2
             }
            },
            "type": "bar"
           }
          ],
          "barpolar": [
           {
            "marker": {
             "line": {
              "color": "#E5ECF6",
              "width": 0.5
             },
             "pattern": {
              "fillmode": "overlay",
              "size": 10,
              "solidity": 0.2
             }
            },
            "type": "barpolar"
           }
          ],
          "carpet": [
           {
            "aaxis": {
             "endlinecolor": "#2a3f5f",
             "gridcolor": "white",
             "linecolor": "white",
             "minorgridcolor": "white",
             "startlinecolor": "#2a3f5f"
            },
            "baxis": {
             "endlinecolor": "#2a3f5f",
             "gridcolor": "white",
             "linecolor": "white",
             "minorgridcolor": "white",
             "startlinecolor": "#2a3f5f"
            },
            "type": "carpet"
           }
          ],
          "choropleth": [
           {
            "colorbar": {
             "outlinewidth": 0,
             "ticks": ""
            },
            "type": "choropleth"
           }
          ],
          "contour": [
           {
            "colorbar": {
             "outlinewidth": 0,
             "ticks": ""
            },
            "colorscale": [
             [
              0,
              "#0d0887"
             ],
             [
              0.1111111111111111,
              "#46039f"
             ],
             [
              0.2222222222222222,
              "#7201a8"
             ],
             [
              0.3333333333333333,
              "#9c179e"
             ],
             [
              0.4444444444444444,
              "#bd3786"
             ],
             [
              0.5555555555555556,
              "#d8576b"
             ],
             [
              0.6666666666666666,
              "#ed7953"
             ],
             [
              0.7777777777777778,
              "#fb9f3a"
             ],
             [
              0.8888888888888888,
              "#fdca26"
             ],
             [
              1,
              "#f0f921"
             ]
            ],
            "type": "contour"
           }
          ],
          "contourcarpet": [
           {
            "colorbar": {
             "outlinewidth": 0,
             "ticks": ""
            },
            "type": "contourcarpet"
           }
          ],
          "heatmap": [
           {
            "colorbar": {
             "outlinewidth": 0,
             "ticks": ""
            },
            "colorscale": [
             [
              0,
              "#0d0887"
             ],
             [
              0.1111111111111111,
              "#46039f"
             ],
             [
              0.2222222222222222,
              "#7201a8"
             ],
             [
              0.3333333333333333,
              "#9c179e"
             ],
             [
              0.4444444444444444,
              "#bd3786"
             ],
             [
              0.5555555555555556,
              "#d8576b"
             ],
             [
              0.6666666666666666,
              "#ed7953"
             ],
             [
              0.7777777777777778,
              "#fb9f3a"
             ],
             [
              0.8888888888888888,
              "#fdca26"
             ],
             [
              1,
              "#f0f921"
             ]
            ],
            "type": "heatmap"
           }
          ],
          "heatmapgl": [
           {
            "colorbar": {
             "outlinewidth": 0,
             "ticks": ""
            },
            "colorscale": [
             [
              0,
              "#0d0887"
             ],
             [
              0.1111111111111111,
              "#46039f"
             ],
             [
              0.2222222222222222,
              "#7201a8"
             ],
             [
              0.3333333333333333,
              "#9c179e"
             ],
             [
              0.4444444444444444,
              "#bd3786"
             ],
             [
              0.5555555555555556,
              "#d8576b"
             ],
             [
              0.6666666666666666,
              "#ed7953"
             ],
             [
              0.7777777777777778,
              "#fb9f3a"
             ],
             [
              0.8888888888888888,
              "#fdca26"
             ],
             [
              1,
              "#f0f921"
             ]
            ],
            "type": "heatmapgl"
           }
          ],
          "histogram": [
           {
            "marker": {
             "pattern": {
              "fillmode": "overlay",
              "size": 10,
              "solidity": 0.2
             }
            },
            "type": "histogram"
           }
          ],
          "histogram2d": [
           {
            "colorbar": {
             "outlinewidth": 0,
             "ticks": ""
            },
            "colorscale": [
             [
              0,
              "#0d0887"
             ],
             [
              0.1111111111111111,
              "#46039f"
             ],
             [
              0.2222222222222222,
              "#7201a8"
             ],
             [
              0.3333333333333333,
              "#9c179e"
             ],
             [
              0.4444444444444444,
              "#bd3786"
             ],
             [
              0.5555555555555556,
              "#d8576b"
             ],
             [
              0.6666666666666666,
              "#ed7953"
             ],
             [
              0.7777777777777778,
              "#fb9f3a"
             ],
             [
              0.8888888888888888,
              "#fdca26"
             ],
             [
              1,
              "#f0f921"
             ]
            ],
            "type": "histogram2d"
           }
          ],
          "histogram2dcontour": [
           {
            "colorbar": {
             "outlinewidth": 0,
             "ticks": ""
            },
            "colorscale": [
             [
              0,
              "#0d0887"
             ],
             [
              0.1111111111111111,
              "#46039f"
             ],
             [
              0.2222222222222222,
              "#7201a8"
             ],
             [
              0.3333333333333333,
              "#9c179e"
             ],
             [
              0.4444444444444444,
              "#bd3786"
             ],
             [
              0.5555555555555556,
              "#d8576b"
             ],
             [
              0.6666666666666666,
              "#ed7953"
             ],
             [
              0.7777777777777778,
              "#fb9f3a"
             ],
             [
              0.8888888888888888,
              "#fdca26"
             ],
             [
              1,
              "#f0f921"
             ]
            ],
            "type": "histogram2dcontour"
           }
          ],
          "mesh3d": [
           {
            "colorbar": {
             "outlinewidth": 0,
             "ticks": ""
            },
            "type": "mesh3d"
           }
          ],
          "parcoords": [
           {
            "line": {
             "colorbar": {
              "outlinewidth": 0,
              "ticks": ""
             }
            },
            "type": "parcoords"
           }
          ],
          "pie": [
           {
            "automargin": true,
            "type": "pie"
           }
          ],
          "scatter": [
           {
            "marker": {
             "colorbar": {
              "outlinewidth": 0,
              "ticks": ""
             }
            },
            "type": "scatter"
           }
          ],
          "scatter3d": [
           {
            "line": {
             "colorbar": {
              "outlinewidth": 0,
              "ticks": ""
             }
            },
            "marker": {
             "colorbar": {
              "outlinewidth": 0,
              "ticks": ""
             }
            },
            "type": "scatter3d"
           }
          ],
          "scattercarpet": [
           {
            "marker": {
             "colorbar": {
              "outlinewidth": 0,
              "ticks": ""
             }
            },
            "type": "scattercarpet"
           }
          ],
          "scattergeo": [
           {
            "marker": {
             "colorbar": {
              "outlinewidth": 0,
              "ticks": ""
             }
            },
            "type": "scattergeo"
           }
          ],
          "scattergl": [
           {
            "marker": {
             "colorbar": {
              "outlinewidth": 0,
              "ticks": ""
             }
            },
            "type": "scattergl"
           }
          ],
          "scattermapbox": [
           {
            "marker": {
             "colorbar": {
              "outlinewidth": 0,
              "ticks": ""
             }
            },
            "type": "scattermapbox"
           }
          ],
          "scatterpolar": [
           {
            "marker": {
             "colorbar": {
              "outlinewidth": 0,
              "ticks": ""
             }
            },
            "type": "scatterpolar"
           }
          ],
          "scatterpolargl": [
           {
            "marker": {
             "colorbar": {
              "outlinewidth": 0,
              "ticks": ""
             }
            },
            "type": "scatterpolargl"
           }
          ],
          "scatterternary": [
           {
            "marker": {
             "colorbar": {
              "outlinewidth": 0,
              "ticks": ""
             }
            },
            "type": "scatterternary"
           }
          ],
          "surface": [
           {
            "colorbar": {
             "outlinewidth": 0,
             "ticks": ""
            },
            "colorscale": [
             [
              0,
              "#0d0887"
             ],
             [
              0.1111111111111111,
              "#46039f"
             ],
             [
              0.2222222222222222,
              "#7201a8"
             ],
             [
              0.3333333333333333,
              "#9c179e"
             ],
             [
              0.4444444444444444,
              "#bd3786"
             ],
             [
              0.5555555555555556,
              "#d8576b"
             ],
             [
              0.6666666666666666,
              "#ed7953"
             ],
             [
              0.7777777777777778,
              "#fb9f3a"
             ],
             [
              0.8888888888888888,
              "#fdca26"
             ],
             [
              1,
              "#f0f921"
             ]
            ],
            "type": "surface"
           }
          ],
          "table": [
           {
            "cells": {
             "fill": {
              "color": "#EBF0F8"
             },
             "line": {
              "color": "white"
             }
            },
            "header": {
             "fill": {
              "color": "#C8D4E3"
             },
             "line": {
              "color": "white"
             }
            },
            "type": "table"
           }
          ]
         },
         "layout": {
          "annotationdefaults": {
           "arrowcolor": "#2a3f5f",
           "arrowhead": 0,
           "arrowwidth": 1
          },
          "autotypenumbers": "strict",
          "coloraxis": {
           "colorbar": {
            "outlinewidth": 0,
            "ticks": ""
           }
          },
          "colorscale": {
           "diverging": [
            [
             0,
             "#8e0152"
            ],
            [
             0.1,
             "#c51b7d"
            ],
            [
             0.2,
             "#de77ae"
            ],
            [
             0.3,
             "#f1b6da"
            ],
            [
             0.4,
             "#fde0ef"
            ],
            [
             0.5,
             "#f7f7f7"
            ],
            [
             0.6,
             "#e6f5d0"
            ],
            [
             0.7,
             "#b8e186"
            ],
            [
             0.8,
             "#7fbc41"
            ],
            [
             0.9,
             "#4d9221"
            ],
            [
             1,
             "#276419"
            ]
           ],
           "sequential": [
            [
             0,
             "#0d0887"
            ],
            [
             0.1111111111111111,
             "#46039f"
            ],
            [
             0.2222222222222222,
             "#7201a8"
            ],
            [
             0.3333333333333333,
             "#9c179e"
            ],
            [
             0.4444444444444444,
             "#bd3786"
            ],
            [
             0.5555555555555556,
             "#d8576b"
            ],
            [
             0.6666666666666666,
             "#ed7953"
            ],
            [
             0.7777777777777778,
             "#fb9f3a"
            ],
            [
             0.8888888888888888,
             "#fdca26"
            ],
            [
             1,
             "#f0f921"
            ]
           ],
           "sequentialminus": [
            [
             0,
             "#0d0887"
            ],
            [
             0.1111111111111111,
             "#46039f"
            ],
            [
             0.2222222222222222,
             "#7201a8"
            ],
            [
             0.3333333333333333,
             "#9c179e"
            ],
            [
             0.4444444444444444,
             "#bd3786"
            ],
            [
             0.5555555555555556,
             "#d8576b"
            ],
            [
             0.6666666666666666,
             "#ed7953"
            ],
            [
             0.7777777777777778,
             "#fb9f3a"
            ],
            [
             0.8888888888888888,
             "#fdca26"
            ],
            [
             1,
             "#f0f921"
            ]
           ]
          },
          "colorway": [
           "#636efa",
           "#EF553B",
           "#00cc96",
           "#ab63fa",
           "#FFA15A",
           "#19d3f3",
           "#FF6692",
           "#B6E880",
           "#FF97FF",
           "#FECB52"
          ],
          "font": {
           "color": "#2a3f5f"
          },
          "geo": {
           "bgcolor": "white",
           "lakecolor": "white",
           "landcolor": "#E5ECF6",
           "showlakes": true,
           "showland": true,
           "subunitcolor": "white"
          },
          "hoverlabel": {
           "align": "left"
          },
          "hovermode": "closest",
          "mapbox": {
           "style": "light"
          },
          "paper_bgcolor": "white",
          "plot_bgcolor": "#E5ECF6",
          "polar": {
           "angularaxis": {
            "gridcolor": "white",
            "linecolor": "white",
            "ticks": ""
           },
           "bgcolor": "#E5ECF6",
           "radialaxis": {
            "gridcolor": "white",
            "linecolor": "white",
            "ticks": ""
           }
          },
          "scene": {
           "xaxis": {
            "backgroundcolor": "#E5ECF6",
            "gridcolor": "white",
            "gridwidth": 2,
            "linecolor": "white",
            "showbackground": true,
            "ticks": "",
            "zerolinecolor": "white"
           },
           "yaxis": {
            "backgroundcolor": "#E5ECF6",
            "gridcolor": "white",
            "gridwidth": 2,
            "linecolor": "white",
            "showbackground": true,
            "ticks": "",
            "zerolinecolor": "white"
           },
           "zaxis": {
            "backgroundcolor": "#E5ECF6",
            "gridcolor": "white",
            "gridwidth": 2,
            "linecolor": "white",
            "showbackground": true,
            "ticks": "",
            "zerolinecolor": "white"
           }
          },
          "shapedefaults": {
           "line": {
            "color": "#2a3f5f"
           }
          },
          "ternary": {
           "aaxis": {
            "gridcolor": "white",
            "linecolor": "white",
            "ticks": ""
           },
           "baxis": {
            "gridcolor": "white",
            "linecolor": "white",
            "ticks": ""
           },
           "bgcolor": "#E5ECF6",
           "caxis": {
            "gridcolor": "white",
            "linecolor": "white",
            "ticks": ""
           }
          },
          "title": {
           "x": 0.05
          },
          "xaxis": {
           "automargin": true,
           "gridcolor": "white",
           "linecolor": "white",
           "ticks": "",
           "title": {
            "standoff": 15
           },
           "zerolinecolor": "white",
           "zerolinewidth": 2
          },
          "yaxis": {
           "automargin": true,
           "gridcolor": "white",
           "linecolor": "white",
           "ticks": "",
           "title": {
            "standoff": 15
           },
           "zerolinecolor": "white",
           "zerolinewidth": 2
          }
         }
        },
        "title": {
         "text": "Pricing across Stores"
        }
       }
      }
     },
     "metadata": {},
     "output_type": "display_data"
    }
   ],
   "source": [
    "fig = go.Figure(data=[\n",
    "    go.Bar(name='Same', x=branch_pricing['Store'], y=branch_pricing['Same']),\n",
    "    go.Bar(name='Worse', x=branch_pricing['Store'], y=branch_pricing['Worse']),\n",
    "    go.Bar(name='Better', x=branch_pricing['Store'], y=branch_pricing['Better'])\n",
    "\n",
    "])\n",
    "\n",
    "fig.update_layout(barmode='stack', title = 'Pricing across Stores')\n",
    "fig.show()"
   ]
  },
  {
   "cell_type": "markdown",
   "metadata": {},
   "source": [
    "## Analysing Availability of Products among branches \n",
    "### Seems like the case with Availability of the products is in a similar situation to that of Pricing, meaning customers find the availabilty to be worse more often than better or same compared to the competitors."
   ]
  },
  {
   "cell_type": "code",
   "execution_count": 30,
   "metadata": {},
   "outputs": [],
   "source": [
    "branch_availability = branch_data[['Store','Availability']]\n",
    "branch_availability = pd.concat([branch_availability, pd.get_dummies(branch_availability.Availability)], axis = 1)\n",
    "branch_availability = branch_availability.drop('Availability', axis = 1)\n",
    "branch_availability = branch_availability.groupby(branch_availability['Store']).sum().reset_index()"
   ]
  },
  {
   "cell_type": "code",
   "execution_count": 31,
   "metadata": {},
   "outputs": [
    {
     "data": {
      "application/vnd.plotly.v1+json": {
       "config": {
        "plotlyServerURL": "https://plot.ly"
       },
       "data": [
        {
         "name": "Same",
         "type": "bar",
         "x": [
          "5000-Unknown",
          "5224-Unknown",
          "5648-Unknown",
          "5827-Unknown",
          "5991-Unknown",
          "6386-Unknown",
          "6491-Unknown",
          "6545-Unknown",
          "6548-Unknown",
          "Airport West",
          "Albany",
          "Albury",
          "Ararat",
          "Armadale",
          "Ayr",
          "Bairnsdale",
          "Ballarat",
          "Ballina",
          "Bankstown",
          "Bass Hill",
          "Batemans Bay",
          "Bathurst",
          "Bega",
          "Belconnen",
          "Benalla",
          "Bendigo",
          "Bentleigh",
          "Berri",
          "Blacktown",
          "Bondi",
          "Bowen",
          "Bribie Island",
          "Brisbane CBD",
          "Broadmeadows",
          "Broadway",
          "Broome",
          "Browns Plains",
          "Bullcreek",
          "Bunbury",
          "Bundaberg",
          "Buranda",
          "Burnie",
          "Burwood",
          "Busselton",
          "Cairns",
          "Camberwell",
          "Camden",
          "Campbelltown",
          "Canberra",
          "Cannonvale",
          "Cannot find store",
          "Capalaba",
          "Carindale",
          "Carlingford",
          "Caroline Springs",
          "Carousel",
          "Casino",
          "Castle Hill",
          "Castlemaine",
          "Castletown",
          "Centrepoint",
          "Chadstone",
          "Charlestown",
          "Charleville",
          "Charters Towers",
          "Chatswood",
          "Chermside",
          "Chirnside Park",
          "Clare",
          "Cobram",
          "Coffs Harbour",
          "Colac",
          "Cowra",
          "Craigieburn",
          "Dalby",
          "Dandenong",
          "Deniliquin",
          "Doncaster",
          "Dubbo",
          "Earlville",
          "Eastgardens",
          "Echuca",
          "Edwardstown",
          "Elizabeth",
          "Epping",
          "Erina",
          "Esperance",
          "Flemington",
          "Forbes",
          "Forest Hill",
          "Forest Lake",
          "Fountain Gate",
          "Frankston",
          "Fremantle",
          "Fulham Gardens",
          "Gawler",
          "Geelong",
          "Geraldton",
          "Gilgandra",
          "Gladstone",
          "Glen Waverley",
          "Glendale",
          "Glenn Innes",
          "Glenorchy",
          "Glenquarie",
          "Golden Grove",
          "Goulburn",
          "Grafton",
          "Greensborough",
          "Griffith",
          "Gunnedah",
          "Gympie",
          "Hamilton",
          "Harbourtown (SA Outlet)",
          "Helensvale",
          "Hervey Bay",
          "Highpoint",
          "Hobart",
          "Hollywood Plaza",
          "Hoppers Crossing",
          "Hornsby",
          "Hurstville",
          "Indooroopilly",
          "Ingham",
          "Innaloo",
          "Innisfail",
          "Inverell",
          "Ipswich",
          "Joondalup",
          "Kadina",
          "Kalgoorlie",
          "Katanning",
          "Katherine",
          "Katoomba",
          "Kempsey",
          "Kippa Ring",
          "Knox City",
          "Kotara",
          "Langwarrin",
          "Launceston",
          "Leichhardt",
          "Leongatha",
          "Lismore City",
          "Lithgow",
          "Liverpool",
          "Macarthur Square",
          "Mackay",
          "Macquarie",
          "Manjimup",
          "Mareeba",
          "Marion",
          "Maroochydore",
          "Mawson Lakes",
          "McLaren Vale",
          "Meadow Springs",
          "Melbourne CBD",
          "Merimbula",
          "Merrylands",
          "Midland",
          "Mildura",
          "Miranda",
          "Morayfield",
          "Moree",
          "Morisset",
          "Morley",
          "Mornington",
          "Morwell",
          "Mowbray",
          "Mt. Druitt",
          "Mt. Gambier",
          "Mt. Gravatt",
          "Mt. Ommaney",
          "Myrtleford",
          "NT Outlet",
          "Narracoorte",
          "Newton",
          "Noosa Junction",
          "North Lakes",
          "Northland",
          "Nowra",
          "Ocean Grove",
          "Ocean Shores",
          "Pacific Fair",
          "Pakenham",
          "Palmerston",
          "Parramatta",
          "Penrith",
          "Perth CBD",
          "Picton",
          "Plenty Valley",
          "Point Cook",
          "Port Douglas",
          "Port Macquarie",
          "Port Pirie",
          "Portland",
          "Queanbeyan",
          "Reynella",
          "Rhodes",
          "Ringwood",
          "Robina",
          "Rockdale",
          "Rockhampton",
          "Rockingham",
          "Rosebud",
          "Roselands",
          "Rouse Hill",
          "Runaway Bay",
          "Sale",
          "Sarina",
          "Sefton Park",
          "Seymour",
          "Shell Harbour",
          "Shepparton",
          "Somerville",
          "Southland",
          "Southport",
          "Springwood",
          "St Marys",
          "Stanthorpe",
          "Stirling",
          "Strathpine",
          "Sunbury",
          "Swan Hill",
          "Tamworth",
          "Taree",
          "Tea Tree Plaza",
          "Templestowe",
          "Tenterfield",
          "The Willows",
          "Toombul",
          "Toowoomba",
          "Tuggerah",
          "Tuggeranong",
          "Tumut",
          "Tweed Heads",
          "Ulladulla",
          "Unley",
          "Victor Harbor",
          "Victoria Park",
          "Wagga Wagga",
          "Warragul",
          "Warrawong",
          "Warringah Mall",
          "Warrnambool",
          "Watergardens",
          "Waurn Ponds",
          "Waverley Gardens",
          "West Lakes",
          "Weston Creek",
          "Wetherill Park",
          "Whitford City",
          "Whyalla",
          "Windsor",
          "Winmalee",
          "Wodonga",
          "Wonthaggi",
          "Woodend",
          "Yamba",
          "Yarrawonga",
          "Yass",
          "Yeppoon"
         ],
         "y": [
          0,
          0,
          0,
          0,
          0,
          0,
          0,
          0,
          0,
          3,
          3,
          3,
          1,
          3,
          1,
          0,
          1,
          1,
          1,
          0,
          0,
          0,
          0,
          6,
          1,
          3,
          4,
          0,
          1,
          6,
          0,
          0,
          5,
          1,
          2,
          0,
          2,
          2,
          1,
          4,
          0,
          1,
          8,
          1,
          1,
          1,
          0,
          5,
          1,
          0,
          1,
          1,
          4,
          3,
          0,
          3,
          0,
          2,
          0,
          5,
          3,
          5,
          3,
          0,
          0,
          7,
          6,
          4,
          0,
          0,
          1,
          0,
          0,
          0,
          2,
          0,
          1,
          2,
          0,
          4,
          5,
          0,
          8,
          5,
          1,
          1,
          0,
          2,
          0,
          3,
          2,
          3,
          3,
          0,
          2,
          1,
          5,
          1,
          0,
          0,
          2,
          1,
          0,
          7,
          0,
          3,
          1,
          0,
          6,
          0,
          0,
          0,
          1,
          1,
          3,
          1,
          9,
          3,
          0,
          4,
          1,
          0,
          1,
          1,
          3,
          0,
          0,
          4,
          5,
          3,
          2,
          1,
          0,
          2,
          0,
          0,
          2,
          2,
          0,
          2,
          2,
          0,
          0,
          0,
          3,
          0,
          2,
          3,
          0,
          1,
          1,
          1,
          1,
          4,
          1,
          7,
          0,
          0,
          4,
          1,
          2,
          3,
          0,
          2,
          4,
          2,
          0,
          2,
          0,
          1,
          4,
          0,
          0,
          1,
          1,
          3,
          1,
          6,
          9,
          1,
          0,
          0,
          2,
          0,
          5,
          1,
          2,
          5,
          2,
          1,
          5,
          0,
          2,
          1,
          0,
          1,
          1,
          5,
          2,
          3,
          0,
          6,
          8,
          1,
          3,
          0,
          0,
          2,
          1,
          6,
          0,
          2,
          0,
          1,
          7,
          4,
          1,
          1,
          1,
          1,
          1,
          1,
          0,
          1,
          2,
          3,
          1,
          0,
          3,
          4,
          3,
          9,
          1,
          0,
          5,
          2,
          2,
          0,
          3,
          2,
          3,
          3,
          2,
          4,
          2,
          1,
          3,
          4,
          0,
          3,
          4,
          1,
          1,
          1,
          0,
          2,
          0,
          1,
          2,
          1,
          1
         ]
        },
        {
         "name": "Worse",
         "type": "bar",
         "x": [
          "5000-Unknown",
          "5224-Unknown",
          "5648-Unknown",
          "5827-Unknown",
          "5991-Unknown",
          "6386-Unknown",
          "6491-Unknown",
          "6545-Unknown",
          "6548-Unknown",
          "Airport West",
          "Albany",
          "Albury",
          "Ararat",
          "Armadale",
          "Ayr",
          "Bairnsdale",
          "Ballarat",
          "Ballina",
          "Bankstown",
          "Bass Hill",
          "Batemans Bay",
          "Bathurst",
          "Bega",
          "Belconnen",
          "Benalla",
          "Bendigo",
          "Bentleigh",
          "Berri",
          "Blacktown",
          "Bondi",
          "Bowen",
          "Bribie Island",
          "Brisbane CBD",
          "Broadmeadows",
          "Broadway",
          "Broome",
          "Browns Plains",
          "Bullcreek",
          "Bunbury",
          "Bundaberg",
          "Buranda",
          "Burnie",
          "Burwood",
          "Busselton",
          "Cairns",
          "Camberwell",
          "Camden",
          "Campbelltown",
          "Canberra",
          "Cannonvale",
          "Cannot find store",
          "Capalaba",
          "Carindale",
          "Carlingford",
          "Caroline Springs",
          "Carousel",
          "Casino",
          "Castle Hill",
          "Castlemaine",
          "Castletown",
          "Centrepoint",
          "Chadstone",
          "Charlestown",
          "Charleville",
          "Charters Towers",
          "Chatswood",
          "Chermside",
          "Chirnside Park",
          "Clare",
          "Cobram",
          "Coffs Harbour",
          "Colac",
          "Cowra",
          "Craigieburn",
          "Dalby",
          "Dandenong",
          "Deniliquin",
          "Doncaster",
          "Dubbo",
          "Earlville",
          "Eastgardens",
          "Echuca",
          "Edwardstown",
          "Elizabeth",
          "Epping",
          "Erina",
          "Esperance",
          "Flemington",
          "Forbes",
          "Forest Hill",
          "Forest Lake",
          "Fountain Gate",
          "Frankston",
          "Fremantle",
          "Fulham Gardens",
          "Gawler",
          "Geelong",
          "Geraldton",
          "Gilgandra",
          "Gladstone",
          "Glen Waverley",
          "Glendale",
          "Glenn Innes",
          "Glenorchy",
          "Glenquarie",
          "Golden Grove",
          "Goulburn",
          "Grafton",
          "Greensborough",
          "Griffith",
          "Gunnedah",
          "Gympie",
          "Hamilton",
          "Harbourtown (SA Outlet)",
          "Helensvale",
          "Hervey Bay",
          "Highpoint",
          "Hobart",
          "Hollywood Plaza",
          "Hoppers Crossing",
          "Hornsby",
          "Hurstville",
          "Indooroopilly",
          "Ingham",
          "Innaloo",
          "Innisfail",
          "Inverell",
          "Ipswich",
          "Joondalup",
          "Kadina",
          "Kalgoorlie",
          "Katanning",
          "Katherine",
          "Katoomba",
          "Kempsey",
          "Kippa Ring",
          "Knox City",
          "Kotara",
          "Langwarrin",
          "Launceston",
          "Leichhardt",
          "Leongatha",
          "Lismore City",
          "Lithgow",
          "Liverpool",
          "Macarthur Square",
          "Mackay",
          "Macquarie",
          "Manjimup",
          "Mareeba",
          "Marion",
          "Maroochydore",
          "Mawson Lakes",
          "McLaren Vale",
          "Meadow Springs",
          "Melbourne CBD",
          "Merimbula",
          "Merrylands",
          "Midland",
          "Mildura",
          "Miranda",
          "Morayfield",
          "Moree",
          "Morisset",
          "Morley",
          "Mornington",
          "Morwell",
          "Mowbray",
          "Mt. Druitt",
          "Mt. Gambier",
          "Mt. Gravatt",
          "Mt. Ommaney",
          "Myrtleford",
          "NT Outlet",
          "Narracoorte",
          "Newton",
          "Noosa Junction",
          "North Lakes",
          "Northland",
          "Nowra",
          "Ocean Grove",
          "Ocean Shores",
          "Pacific Fair",
          "Pakenham",
          "Palmerston",
          "Parramatta",
          "Penrith",
          "Perth CBD",
          "Picton",
          "Plenty Valley",
          "Point Cook",
          "Port Douglas",
          "Port Macquarie",
          "Port Pirie",
          "Portland",
          "Queanbeyan",
          "Reynella",
          "Rhodes",
          "Ringwood",
          "Robina",
          "Rockdale",
          "Rockhampton",
          "Rockingham",
          "Rosebud",
          "Roselands",
          "Rouse Hill",
          "Runaway Bay",
          "Sale",
          "Sarina",
          "Sefton Park",
          "Seymour",
          "Shell Harbour",
          "Shepparton",
          "Somerville",
          "Southland",
          "Southport",
          "Springwood",
          "St Marys",
          "Stanthorpe",
          "Stirling",
          "Strathpine",
          "Sunbury",
          "Swan Hill",
          "Tamworth",
          "Taree",
          "Tea Tree Plaza",
          "Templestowe",
          "Tenterfield",
          "The Willows",
          "Toombul",
          "Toowoomba",
          "Tuggerah",
          "Tuggeranong",
          "Tumut",
          "Tweed Heads",
          "Ulladulla",
          "Unley",
          "Victor Harbor",
          "Victoria Park",
          "Wagga Wagga",
          "Warragul",
          "Warrawong",
          "Warringah Mall",
          "Warrnambool",
          "Watergardens",
          "Waurn Ponds",
          "Waverley Gardens",
          "West Lakes",
          "Weston Creek",
          "Wetherill Park",
          "Whitford City",
          "Whyalla",
          "Windsor",
          "Winmalee",
          "Wodonga",
          "Wonthaggi",
          "Woodend",
          "Yamba",
          "Yarrawonga",
          "Yass",
          "Yeppoon"
         ],
         "y": [
          1,
          1,
          1,
          1,
          3,
          2,
          1,
          2,
          1,
          10,
          20,
          7,
          7,
          13,
          2,
          2,
          10,
          1,
          6,
          1,
          2,
          5,
          2,
          11,
          3,
          8,
          6,
          3,
          4,
          8,
          1,
          3,
          25,
          4,
          8,
          2,
          5,
          23,
          9,
          17,
          9,
          17,
          15,
          1,
          7,
          6,
          2,
          11,
          3,
          2,
          8,
          6,
          12,
          18,
          1,
          17,
          3,
          6,
          4,
          14,
          7,
          34,
          15,
          0,
          4,
          14,
          14,
          7,
          2,
          2,
          4,
          1,
          1,
          2,
          9,
          7,
          1,
          8,
          2,
          8,
          8,
          1,
          23,
          8,
          1,
          6,
          1,
          4,
          1,
          17,
          9,
          20,
          6,
          10,
          6,
          0,
          9,
          7,
          0,
          2,
          8,
          8,
          1,
          9,
          2,
          7,
          3,
          3,
          8,
          1,
          1,
          3,
          1,
          1,
          8,
          7,
          13,
          17,
          4,
          19,
          15,
          5,
          9,
          1,
          14,
          2,
          5,
          10,
          10,
          7,
          2,
          3,
          0,
          8,
          1,
          2,
          11,
          10,
          9,
          7,
          8,
          2,
          1,
          6,
          16,
          8,
          11,
          13,
          0,
          7,
          6,
          13,
          4,
          13,
          4,
          20,
          1,
          4,
          11,
          9,
          10,
          12,
          1,
          4,
          31,
          5,
          5,
          1,
          3,
          3,
          8,
          5,
          2,
          2,
          1,
          10,
          1,
          25,
          16,
          0,
          1,
          3,
          6,
          6,
          4,
          10,
          8,
          16,
          3,
          11,
          12,
          1,
          20,
          2,
          2,
          9,
          10,
          12,
          9,
          15,
          2,
          16,
          19,
          1,
          4,
          7,
          3,
          12,
          1,
          12,
          1,
          12,
          1,
          12,
          19,
          7,
          6,
          3,
          2,
          7,
          7,
          9,
          2,
          2,
          0,
          7,
          3,
          6,
          6,
          5,
          7,
          15,
          10,
          2,
          5,
          1,
          6,
          5,
          10,
          1,
          3,
          9,
          16,
          6,
          13,
          15,
          4,
          11,
          2,
          3,
          7,
          2,
          1,
          2,
          3,
          7,
          1,
          3,
          1,
          7,
          6
         ]
        },
        {
         "name": "Better",
         "type": "bar",
         "x": [
          "5000-Unknown",
          "5224-Unknown",
          "5648-Unknown",
          "5827-Unknown",
          "5991-Unknown",
          "6386-Unknown",
          "6491-Unknown",
          "6545-Unknown",
          "6548-Unknown",
          "Airport West",
          "Albany",
          "Albury",
          "Ararat",
          "Armadale",
          "Ayr",
          "Bairnsdale",
          "Ballarat",
          "Ballina",
          "Bankstown",
          "Bass Hill",
          "Batemans Bay",
          "Bathurst",
          "Bega",
          "Belconnen",
          "Benalla",
          "Bendigo",
          "Bentleigh",
          "Berri",
          "Blacktown",
          "Bondi",
          "Bowen",
          "Bribie Island",
          "Brisbane CBD",
          "Broadmeadows",
          "Broadway",
          "Broome",
          "Browns Plains",
          "Bullcreek",
          "Bunbury",
          "Bundaberg",
          "Buranda",
          "Burnie",
          "Burwood",
          "Busselton",
          "Cairns",
          "Camberwell",
          "Camden",
          "Campbelltown",
          "Canberra",
          "Cannonvale",
          "Cannot find store",
          "Capalaba",
          "Carindale",
          "Carlingford",
          "Caroline Springs",
          "Carousel",
          "Casino",
          "Castle Hill",
          "Castlemaine",
          "Castletown",
          "Centrepoint",
          "Chadstone",
          "Charlestown",
          "Charleville",
          "Charters Towers",
          "Chatswood",
          "Chermside",
          "Chirnside Park",
          "Clare",
          "Cobram",
          "Coffs Harbour",
          "Colac",
          "Cowra",
          "Craigieburn",
          "Dalby",
          "Dandenong",
          "Deniliquin",
          "Doncaster",
          "Dubbo",
          "Earlville",
          "Eastgardens",
          "Echuca",
          "Edwardstown",
          "Elizabeth",
          "Epping",
          "Erina",
          "Esperance",
          "Flemington",
          "Forbes",
          "Forest Hill",
          "Forest Lake",
          "Fountain Gate",
          "Frankston",
          "Fremantle",
          "Fulham Gardens",
          "Gawler",
          "Geelong",
          "Geraldton",
          "Gilgandra",
          "Gladstone",
          "Glen Waverley",
          "Glendale",
          "Glenn Innes",
          "Glenorchy",
          "Glenquarie",
          "Golden Grove",
          "Goulburn",
          "Grafton",
          "Greensborough",
          "Griffith",
          "Gunnedah",
          "Gympie",
          "Hamilton",
          "Harbourtown (SA Outlet)",
          "Helensvale",
          "Hervey Bay",
          "Highpoint",
          "Hobart",
          "Hollywood Plaza",
          "Hoppers Crossing",
          "Hornsby",
          "Hurstville",
          "Indooroopilly",
          "Ingham",
          "Innaloo",
          "Innisfail",
          "Inverell",
          "Ipswich",
          "Joondalup",
          "Kadina",
          "Kalgoorlie",
          "Katanning",
          "Katherine",
          "Katoomba",
          "Kempsey",
          "Kippa Ring",
          "Knox City",
          "Kotara",
          "Langwarrin",
          "Launceston",
          "Leichhardt",
          "Leongatha",
          "Lismore City",
          "Lithgow",
          "Liverpool",
          "Macarthur Square",
          "Mackay",
          "Macquarie",
          "Manjimup",
          "Mareeba",
          "Marion",
          "Maroochydore",
          "Mawson Lakes",
          "McLaren Vale",
          "Meadow Springs",
          "Melbourne CBD",
          "Merimbula",
          "Merrylands",
          "Midland",
          "Mildura",
          "Miranda",
          "Morayfield",
          "Moree",
          "Morisset",
          "Morley",
          "Mornington",
          "Morwell",
          "Mowbray",
          "Mt. Druitt",
          "Mt. Gambier",
          "Mt. Gravatt",
          "Mt. Ommaney",
          "Myrtleford",
          "NT Outlet",
          "Narracoorte",
          "Newton",
          "Noosa Junction",
          "North Lakes",
          "Northland",
          "Nowra",
          "Ocean Grove",
          "Ocean Shores",
          "Pacific Fair",
          "Pakenham",
          "Palmerston",
          "Parramatta",
          "Penrith",
          "Perth CBD",
          "Picton",
          "Plenty Valley",
          "Point Cook",
          "Port Douglas",
          "Port Macquarie",
          "Port Pirie",
          "Portland",
          "Queanbeyan",
          "Reynella",
          "Rhodes",
          "Ringwood",
          "Robina",
          "Rockdale",
          "Rockhampton",
          "Rockingham",
          "Rosebud",
          "Roselands",
          "Rouse Hill",
          "Runaway Bay",
          "Sale",
          "Sarina",
          "Sefton Park",
          "Seymour",
          "Shell Harbour",
          "Shepparton",
          "Somerville",
          "Southland",
          "Southport",
          "Springwood",
          "St Marys",
          "Stanthorpe",
          "Stirling",
          "Strathpine",
          "Sunbury",
          "Swan Hill",
          "Tamworth",
          "Taree",
          "Tea Tree Plaza",
          "Templestowe",
          "Tenterfield",
          "The Willows",
          "Toombul",
          "Toowoomba",
          "Tuggerah",
          "Tuggeranong",
          "Tumut",
          "Tweed Heads",
          "Ulladulla",
          "Unley",
          "Victor Harbor",
          "Victoria Park",
          "Wagga Wagga",
          "Warragul",
          "Warrawong",
          "Warringah Mall",
          "Warrnambool",
          "Watergardens",
          "Waurn Ponds",
          "Waverley Gardens",
          "West Lakes",
          "Weston Creek",
          "Wetherill Park",
          "Whitford City",
          "Whyalla",
          "Windsor",
          "Winmalee",
          "Wodonga",
          "Wonthaggi",
          "Woodend",
          "Yamba",
          "Yarrawonga",
          "Yass",
          "Yeppoon"
         ],
         "y": [
          2,
          1,
          1,
          1,
          1,
          0,
          1,
          1,
          3,
          4,
          8,
          1,
          1,
          4,
          0,
          3,
          4,
          1,
          6,
          1,
          5,
          4,
          0,
          4,
          0,
          3,
          2,
          0,
          2,
          14,
          2,
          1,
          13,
          0,
          8,
          0,
          2,
          10,
          1,
          5,
          3,
          4,
          6,
          2,
          7,
          6,
          3,
          5,
          5,
          0,
          6,
          5,
          9,
          13,
          0,
          4,
          0,
          5,
          6,
          10,
          5,
          17,
          9,
          2,
          1,
          18,
          13,
          10,
          0,
          0,
          3,
          1,
          3,
          3,
          3,
          2,
          0,
          6,
          0,
          4,
          8,
          1,
          10,
          9,
          0,
          9,
          1,
          0,
          2,
          4,
          3,
          2,
          6,
          8,
          4,
          0,
          4,
          3,
          2,
          2,
          2,
          2,
          1,
          6,
          0,
          4,
          0,
          3,
          6,
          1,
          1,
          1,
          0,
          0,
          6,
          3,
          9,
          5,
          4,
          8,
          7,
          3,
          1,
          0,
          4,
          2,
          0,
          6,
          12,
          1,
          5,
          3,
          1,
          1,
          0,
          3,
          3,
          3,
          2,
          6,
          6,
          0,
          0,
          1,
          8,
          6,
          6,
          6,
          1,
          1,
          5,
          9,
          1,
          9,
          4,
          8,
          1,
          1,
          9,
          4,
          3,
          5,
          1,
          3,
          10,
          3,
          1,
          3,
          2,
          1,
          5,
          0,
          3,
          0,
          0,
          2,
          0,
          11,
          7,
          2,
          1,
          4,
          5,
          5,
          3,
          6,
          7,
          13,
          1,
          3,
          7,
          0,
          4,
          1,
          0,
          2,
          6,
          6,
          4,
          9,
          2,
          5,
          13,
          0,
          5,
          0,
          0,
          3,
          0,
          3,
          1,
          2,
          1,
          3,
          10,
          2,
          3,
          1,
          0,
          3,
          5,
          6,
          0,
          6,
          3,
          4,
          1,
          7,
          4,
          6,
          5,
          7,
          7,
          0,
          3,
          1,
          5,
          2,
          1,
          1,
          0,
          6,
          11,
          0,
          7,
          6,
          3,
          10,
          0,
          1,
          4,
          0,
          0,
          1,
          2,
          2,
          1,
          1,
          0,
          5,
          4
         ]
        }
       ],
       "layout": {
        "barmode": "stack",
        "template": {
         "data": {
          "bar": [
           {
            "error_x": {
             "color": "#2a3f5f"
            },
            "error_y": {
             "color": "#2a3f5f"
            },
            "marker": {
             "line": {
              "color": "#E5ECF6",
              "width": 0.5
             },
             "pattern": {
              "fillmode": "overlay",
              "size": 10,
              "solidity": 0.2
             }
            },
            "type": "bar"
           }
          ],
          "barpolar": [
           {
            "marker": {
             "line": {
              "color": "#E5ECF6",
              "width": 0.5
             },
             "pattern": {
              "fillmode": "overlay",
              "size": 10,
              "solidity": 0.2
             }
            },
            "type": "barpolar"
           }
          ],
          "carpet": [
           {
            "aaxis": {
             "endlinecolor": "#2a3f5f",
             "gridcolor": "white",
             "linecolor": "white",
             "minorgridcolor": "white",
             "startlinecolor": "#2a3f5f"
            },
            "baxis": {
             "endlinecolor": "#2a3f5f",
             "gridcolor": "white",
             "linecolor": "white",
             "minorgridcolor": "white",
             "startlinecolor": "#2a3f5f"
            },
            "type": "carpet"
           }
          ],
          "choropleth": [
           {
            "colorbar": {
             "outlinewidth": 0,
             "ticks": ""
            },
            "type": "choropleth"
           }
          ],
          "contour": [
           {
            "colorbar": {
             "outlinewidth": 0,
             "ticks": ""
            },
            "colorscale": [
             [
              0,
              "#0d0887"
             ],
             [
              0.1111111111111111,
              "#46039f"
             ],
             [
              0.2222222222222222,
              "#7201a8"
             ],
             [
              0.3333333333333333,
              "#9c179e"
             ],
             [
              0.4444444444444444,
              "#bd3786"
             ],
             [
              0.5555555555555556,
              "#d8576b"
             ],
             [
              0.6666666666666666,
              "#ed7953"
             ],
             [
              0.7777777777777778,
              "#fb9f3a"
             ],
             [
              0.8888888888888888,
              "#fdca26"
             ],
             [
              1,
              "#f0f921"
             ]
            ],
            "type": "contour"
           }
          ],
          "contourcarpet": [
           {
            "colorbar": {
             "outlinewidth": 0,
             "ticks": ""
            },
            "type": "contourcarpet"
           }
          ],
          "heatmap": [
           {
            "colorbar": {
             "outlinewidth": 0,
             "ticks": ""
            },
            "colorscale": [
             [
              0,
              "#0d0887"
             ],
             [
              0.1111111111111111,
              "#46039f"
             ],
             [
              0.2222222222222222,
              "#7201a8"
             ],
             [
              0.3333333333333333,
              "#9c179e"
             ],
             [
              0.4444444444444444,
              "#bd3786"
             ],
             [
              0.5555555555555556,
              "#d8576b"
             ],
             [
              0.6666666666666666,
              "#ed7953"
             ],
             [
              0.7777777777777778,
              "#fb9f3a"
             ],
             [
              0.8888888888888888,
              "#fdca26"
             ],
             [
              1,
              "#f0f921"
             ]
            ],
            "type": "heatmap"
           }
          ],
          "heatmapgl": [
           {
            "colorbar": {
             "outlinewidth": 0,
             "ticks": ""
            },
            "colorscale": [
             [
              0,
              "#0d0887"
             ],
             [
              0.1111111111111111,
              "#46039f"
             ],
             [
              0.2222222222222222,
              "#7201a8"
             ],
             [
              0.3333333333333333,
              "#9c179e"
             ],
             [
              0.4444444444444444,
              "#bd3786"
             ],
             [
              0.5555555555555556,
              "#d8576b"
             ],
             [
              0.6666666666666666,
              "#ed7953"
             ],
             [
              0.7777777777777778,
              "#fb9f3a"
             ],
             [
              0.8888888888888888,
              "#fdca26"
             ],
             [
              1,
              "#f0f921"
             ]
            ],
            "type": "heatmapgl"
           }
          ],
          "histogram": [
           {
            "marker": {
             "pattern": {
              "fillmode": "overlay",
              "size": 10,
              "solidity": 0.2
             }
            },
            "type": "histogram"
           }
          ],
          "histogram2d": [
           {
            "colorbar": {
             "outlinewidth": 0,
             "ticks": ""
            },
            "colorscale": [
             [
              0,
              "#0d0887"
             ],
             [
              0.1111111111111111,
              "#46039f"
             ],
             [
              0.2222222222222222,
              "#7201a8"
             ],
             [
              0.3333333333333333,
              "#9c179e"
             ],
             [
              0.4444444444444444,
              "#bd3786"
             ],
             [
              0.5555555555555556,
              "#d8576b"
             ],
             [
              0.6666666666666666,
              "#ed7953"
             ],
             [
              0.7777777777777778,
              "#fb9f3a"
             ],
             [
              0.8888888888888888,
              "#fdca26"
             ],
             [
              1,
              "#f0f921"
             ]
            ],
            "type": "histogram2d"
           }
          ],
          "histogram2dcontour": [
           {
            "colorbar": {
             "outlinewidth": 0,
             "ticks": ""
            },
            "colorscale": [
             [
              0,
              "#0d0887"
             ],
             [
              0.1111111111111111,
              "#46039f"
             ],
             [
              0.2222222222222222,
              "#7201a8"
             ],
             [
              0.3333333333333333,
              "#9c179e"
             ],
             [
              0.4444444444444444,
              "#bd3786"
             ],
             [
              0.5555555555555556,
              "#d8576b"
             ],
             [
              0.6666666666666666,
              "#ed7953"
             ],
             [
              0.7777777777777778,
              "#fb9f3a"
             ],
             [
              0.8888888888888888,
              "#fdca26"
             ],
             [
              1,
              "#f0f921"
             ]
            ],
            "type": "histogram2dcontour"
           }
          ],
          "mesh3d": [
           {
            "colorbar": {
             "outlinewidth": 0,
             "ticks": ""
            },
            "type": "mesh3d"
           }
          ],
          "parcoords": [
           {
            "line": {
             "colorbar": {
              "outlinewidth": 0,
              "ticks": ""
             }
            },
            "type": "parcoords"
           }
          ],
          "pie": [
           {
            "automargin": true,
            "type": "pie"
           }
          ],
          "scatter": [
           {
            "marker": {
             "colorbar": {
              "outlinewidth": 0,
              "ticks": ""
             }
            },
            "type": "scatter"
           }
          ],
          "scatter3d": [
           {
            "line": {
             "colorbar": {
              "outlinewidth": 0,
              "ticks": ""
             }
            },
            "marker": {
             "colorbar": {
              "outlinewidth": 0,
              "ticks": ""
             }
            },
            "type": "scatter3d"
           }
          ],
          "scattercarpet": [
           {
            "marker": {
             "colorbar": {
              "outlinewidth": 0,
              "ticks": ""
             }
            },
            "type": "scattercarpet"
           }
          ],
          "scattergeo": [
           {
            "marker": {
             "colorbar": {
              "outlinewidth": 0,
              "ticks": ""
             }
            },
            "type": "scattergeo"
           }
          ],
          "scattergl": [
           {
            "marker": {
             "colorbar": {
              "outlinewidth": 0,
              "ticks": ""
             }
            },
            "type": "scattergl"
           }
          ],
          "scattermapbox": [
           {
            "marker": {
             "colorbar": {
              "outlinewidth": 0,
              "ticks": ""
             }
            },
            "type": "scattermapbox"
           }
          ],
          "scatterpolar": [
           {
            "marker": {
             "colorbar": {
              "outlinewidth": 0,
              "ticks": ""
             }
            },
            "type": "scatterpolar"
           }
          ],
          "scatterpolargl": [
           {
            "marker": {
             "colorbar": {
              "outlinewidth": 0,
              "ticks": ""
             }
            },
            "type": "scatterpolargl"
           }
          ],
          "scatterternary": [
           {
            "marker": {
             "colorbar": {
              "outlinewidth": 0,
              "ticks": ""
             }
            },
            "type": "scatterternary"
           }
          ],
          "surface": [
           {
            "colorbar": {
             "outlinewidth": 0,
             "ticks": ""
            },
            "colorscale": [
             [
              0,
              "#0d0887"
             ],
             [
              0.1111111111111111,
              "#46039f"
             ],
             [
              0.2222222222222222,
              "#7201a8"
             ],
             [
              0.3333333333333333,
              "#9c179e"
             ],
             [
              0.4444444444444444,
              "#bd3786"
             ],
             [
              0.5555555555555556,
              "#d8576b"
             ],
             [
              0.6666666666666666,
              "#ed7953"
             ],
             [
              0.7777777777777778,
              "#fb9f3a"
             ],
             [
              0.8888888888888888,
              "#fdca26"
             ],
             [
              1,
              "#f0f921"
             ]
            ],
            "type": "surface"
           }
          ],
          "table": [
           {
            "cells": {
             "fill": {
              "color": "#EBF0F8"
             },
             "line": {
              "color": "white"
             }
            },
            "header": {
             "fill": {
              "color": "#C8D4E3"
             },
             "line": {
              "color": "white"
             }
            },
            "type": "table"
           }
          ]
         },
         "layout": {
          "annotationdefaults": {
           "arrowcolor": "#2a3f5f",
           "arrowhead": 0,
           "arrowwidth": 1
          },
          "autotypenumbers": "strict",
          "coloraxis": {
           "colorbar": {
            "outlinewidth": 0,
            "ticks": ""
           }
          },
          "colorscale": {
           "diverging": [
            [
             0,
             "#8e0152"
            ],
            [
             0.1,
             "#c51b7d"
            ],
            [
             0.2,
             "#de77ae"
            ],
            [
             0.3,
             "#f1b6da"
            ],
            [
             0.4,
             "#fde0ef"
            ],
            [
             0.5,
             "#f7f7f7"
            ],
            [
             0.6,
             "#e6f5d0"
            ],
            [
             0.7,
             "#b8e186"
            ],
            [
             0.8,
             "#7fbc41"
            ],
            [
             0.9,
             "#4d9221"
            ],
            [
             1,
             "#276419"
            ]
           ],
           "sequential": [
            [
             0,
             "#0d0887"
            ],
            [
             0.1111111111111111,
             "#46039f"
            ],
            [
             0.2222222222222222,
             "#7201a8"
            ],
            [
             0.3333333333333333,
             "#9c179e"
            ],
            [
             0.4444444444444444,
             "#bd3786"
            ],
            [
             0.5555555555555556,
             "#d8576b"
            ],
            [
             0.6666666666666666,
             "#ed7953"
            ],
            [
             0.7777777777777778,
             "#fb9f3a"
            ],
            [
             0.8888888888888888,
             "#fdca26"
            ],
            [
             1,
             "#f0f921"
            ]
           ],
           "sequentialminus": [
            [
             0,
             "#0d0887"
            ],
            [
             0.1111111111111111,
             "#46039f"
            ],
            [
             0.2222222222222222,
             "#7201a8"
            ],
            [
             0.3333333333333333,
             "#9c179e"
            ],
            [
             0.4444444444444444,
             "#bd3786"
            ],
            [
             0.5555555555555556,
             "#d8576b"
            ],
            [
             0.6666666666666666,
             "#ed7953"
            ],
            [
             0.7777777777777778,
             "#fb9f3a"
            ],
            [
             0.8888888888888888,
             "#fdca26"
            ],
            [
             1,
             "#f0f921"
            ]
           ]
          },
          "colorway": [
           "#636efa",
           "#EF553B",
           "#00cc96",
           "#ab63fa",
           "#FFA15A",
           "#19d3f3",
           "#FF6692",
           "#B6E880",
           "#FF97FF",
           "#FECB52"
          ],
          "font": {
           "color": "#2a3f5f"
          },
          "geo": {
           "bgcolor": "white",
           "lakecolor": "white",
           "landcolor": "#E5ECF6",
           "showlakes": true,
           "showland": true,
           "subunitcolor": "white"
          },
          "hoverlabel": {
           "align": "left"
          },
          "hovermode": "closest",
          "mapbox": {
           "style": "light"
          },
          "paper_bgcolor": "white",
          "plot_bgcolor": "#E5ECF6",
          "polar": {
           "angularaxis": {
            "gridcolor": "white",
            "linecolor": "white",
            "ticks": ""
           },
           "bgcolor": "#E5ECF6",
           "radialaxis": {
            "gridcolor": "white",
            "linecolor": "white",
            "ticks": ""
           }
          },
          "scene": {
           "xaxis": {
            "backgroundcolor": "#E5ECF6",
            "gridcolor": "white",
            "gridwidth": 2,
            "linecolor": "white",
            "showbackground": true,
            "ticks": "",
            "zerolinecolor": "white"
           },
           "yaxis": {
            "backgroundcolor": "#E5ECF6",
            "gridcolor": "white",
            "gridwidth": 2,
            "linecolor": "white",
            "showbackground": true,
            "ticks": "",
            "zerolinecolor": "white"
           },
           "zaxis": {
            "backgroundcolor": "#E5ECF6",
            "gridcolor": "white",
            "gridwidth": 2,
            "linecolor": "white",
            "showbackground": true,
            "ticks": "",
            "zerolinecolor": "white"
           }
          },
          "shapedefaults": {
           "line": {
            "color": "#2a3f5f"
           }
          },
          "ternary": {
           "aaxis": {
            "gridcolor": "white",
            "linecolor": "white",
            "ticks": ""
           },
           "baxis": {
            "gridcolor": "white",
            "linecolor": "white",
            "ticks": ""
           },
           "bgcolor": "#E5ECF6",
           "caxis": {
            "gridcolor": "white",
            "linecolor": "white",
            "ticks": ""
           }
          },
          "title": {
           "x": 0.05
          },
          "xaxis": {
           "automargin": true,
           "gridcolor": "white",
           "linecolor": "white",
           "ticks": "",
           "title": {
            "standoff": 15
           },
           "zerolinecolor": "white",
           "zerolinewidth": 2
          },
          "yaxis": {
           "automargin": true,
           "gridcolor": "white",
           "linecolor": "white",
           "ticks": "",
           "title": {
            "standoff": 15
           },
           "zerolinecolor": "white",
           "zerolinewidth": 2
          }
         }
        },
        "title": {
         "text": "Availability across Stores"
        }
       }
      }
     },
     "metadata": {},
     "output_type": "display_data"
    }
   ],
   "source": [
    "fig = go.Figure(data=[\n",
    "    go.Bar(name='Same', x=branch_availability['Store'], y=branch_availability['Same']),\n",
    "    go.Bar(name='Worse', x=branch_availability['Store'], y=branch_availability['Worse']),\n",
    "    go.Bar(name='Better', x=branch_availability['Store'], y=branch_availability['Better'])\n",
    "\n",
    "])\n",
    "\n",
    "fig.update_layout(barmode='stack', title = 'Availability across Stores')\n",
    "fig.show()"
   ]
  },
  {
   "cell_type": "markdown",
   "metadata": {},
   "source": [
    "## Analysing Customer Service across Stores\n",
    "### No surpise here, as expected. If the pricing and availability are worse then it is expected that the customers find it annyoing and aren't happy with the customer service being provided. That being said, customers often find the customer service to be worse than better or same compared to the competitors. "
   ]
  },
  {
   "cell_type": "code",
   "execution_count": 32,
   "metadata": {},
   "outputs": [],
   "source": [
    "branch_service = branch_data[['Store', 'Service']]\n",
    "branch_service = pd.concat([branch_service.iloc[:,0], pd.get_dummies(branch_service.Service)], axis = 1)\n",
    "branch_service = branch_service.groupby(branch_service['Store']).sum().reset_index()"
   ]
  },
  {
   "cell_type": "code",
   "execution_count": 33,
   "metadata": {},
   "outputs": [
    {
     "data": {
      "application/vnd.plotly.v1+json": {
       "config": {
        "plotlyServerURL": "https://plot.ly"
       },
       "data": [
        {
         "name": "Same",
         "type": "bar",
         "x": [
          "5000-Unknown",
          "5224-Unknown",
          "5648-Unknown",
          "5827-Unknown",
          "5991-Unknown",
          "6386-Unknown",
          "6491-Unknown",
          "6545-Unknown",
          "6548-Unknown",
          "Airport West",
          "Albany",
          "Albury",
          "Ararat",
          "Armadale",
          "Ayr",
          "Bairnsdale",
          "Ballarat",
          "Ballina",
          "Bankstown",
          "Bass Hill",
          "Batemans Bay",
          "Bathurst",
          "Bega",
          "Belconnen",
          "Benalla",
          "Bendigo",
          "Bentleigh",
          "Berri",
          "Blacktown",
          "Bondi",
          "Bowen",
          "Bribie Island",
          "Brisbane CBD",
          "Broadmeadows",
          "Broadway",
          "Broome",
          "Browns Plains",
          "Bullcreek",
          "Bunbury",
          "Bundaberg",
          "Buranda",
          "Burnie",
          "Burwood",
          "Busselton",
          "Cairns",
          "Camberwell",
          "Camden",
          "Campbelltown",
          "Canberra",
          "Cannonvale",
          "Cannot find store",
          "Capalaba",
          "Carindale",
          "Carlingford",
          "Caroline Springs",
          "Carousel",
          "Casino",
          "Castle Hill",
          "Castlemaine",
          "Castletown",
          "Centrepoint",
          "Chadstone",
          "Charlestown",
          "Charleville",
          "Charters Towers",
          "Chatswood",
          "Chermside",
          "Chirnside Park",
          "Clare",
          "Cobram",
          "Coffs Harbour",
          "Colac",
          "Cowra",
          "Craigieburn",
          "Dalby",
          "Dandenong",
          "Deniliquin",
          "Doncaster",
          "Dubbo",
          "Earlville",
          "Eastgardens",
          "Echuca",
          "Edwardstown",
          "Elizabeth",
          "Epping",
          "Erina",
          "Esperance",
          "Flemington",
          "Forbes",
          "Forest Hill",
          "Forest Lake",
          "Fountain Gate",
          "Frankston",
          "Fremantle",
          "Fulham Gardens",
          "Gawler",
          "Geelong",
          "Geraldton",
          "Gilgandra",
          "Gladstone",
          "Glen Waverley",
          "Glendale",
          "Glenn Innes",
          "Glenorchy",
          "Glenquarie",
          "Golden Grove",
          "Goulburn",
          "Grafton",
          "Greensborough",
          "Griffith",
          "Gunnedah",
          "Gympie",
          "Hamilton",
          "Harbourtown (SA Outlet)",
          "Helensvale",
          "Hervey Bay",
          "Highpoint",
          "Hobart",
          "Hollywood Plaza",
          "Hoppers Crossing",
          "Hornsby",
          "Hurstville",
          "Indooroopilly",
          "Ingham",
          "Innaloo",
          "Innisfail",
          "Inverell",
          "Ipswich",
          "Joondalup",
          "Kadina",
          "Kalgoorlie",
          "Katanning",
          "Katherine",
          "Katoomba",
          "Kempsey",
          "Kippa Ring",
          "Knox City",
          "Kotara",
          "Langwarrin",
          "Launceston",
          "Leichhardt",
          "Leongatha",
          "Lismore City",
          "Lithgow",
          "Liverpool",
          "Macarthur Square",
          "Mackay",
          "Macquarie",
          "Manjimup",
          "Mareeba",
          "Marion",
          "Maroochydore",
          "Mawson Lakes",
          "McLaren Vale",
          "Meadow Springs",
          "Melbourne CBD",
          "Merimbula",
          "Merrylands",
          "Midland",
          "Mildura",
          "Miranda",
          "Morayfield",
          "Moree",
          "Morisset",
          "Morley",
          "Mornington",
          "Morwell",
          "Mowbray",
          "Mt. Druitt",
          "Mt. Gambier",
          "Mt. Gravatt",
          "Mt. Ommaney",
          "Myrtleford",
          "NT Outlet",
          "Narracoorte",
          "Newton",
          "Noosa Junction",
          "North Lakes",
          "Northland",
          "Nowra",
          "Ocean Grove",
          "Ocean Shores",
          "Pacific Fair",
          "Pakenham",
          "Palmerston",
          "Parramatta",
          "Penrith",
          "Perth CBD",
          "Picton",
          "Plenty Valley",
          "Point Cook",
          "Port Douglas",
          "Port Macquarie",
          "Port Pirie",
          "Portland",
          "Queanbeyan",
          "Reynella",
          "Rhodes",
          "Ringwood",
          "Robina",
          "Rockdale",
          "Rockhampton",
          "Rockingham",
          "Rosebud",
          "Roselands",
          "Rouse Hill",
          "Runaway Bay",
          "Sale",
          "Sarina",
          "Sefton Park",
          "Seymour",
          "Shell Harbour",
          "Shepparton",
          "Somerville",
          "Southland",
          "Southport",
          "Springwood",
          "St Marys",
          "Stanthorpe",
          "Stirling",
          "Strathpine",
          "Sunbury",
          "Swan Hill",
          "Tamworth",
          "Taree",
          "Tea Tree Plaza",
          "Templestowe",
          "Tenterfield",
          "The Willows",
          "Toombul",
          "Toowoomba",
          "Tuggerah",
          "Tuggeranong",
          "Tumut",
          "Tweed Heads",
          "Ulladulla",
          "Unley",
          "Victor Harbor",
          "Victoria Park",
          "Wagga Wagga",
          "Warragul",
          "Warrawong",
          "Warringah Mall",
          "Warrnambool",
          "Watergardens",
          "Waurn Ponds",
          "Waverley Gardens",
          "West Lakes",
          "Weston Creek",
          "Wetherill Park",
          "Whitford City",
          "Whyalla",
          "Windsor",
          "Winmalee",
          "Wodonga",
          "Wonthaggi",
          "Woodend",
          "Yamba",
          "Yarrawonga",
          "Yass",
          "Yeppoon"
         ],
         "y": [
          1,
          0,
          0,
          0,
          0,
          1,
          1,
          1,
          1,
          3,
          6,
          0,
          2,
          3,
          2,
          0,
          5,
          2,
          2,
          1,
          2,
          1,
          0,
          2,
          0,
          1,
          1,
          0,
          0,
          1,
          0,
          1,
          8,
          0,
          2,
          0,
          1,
          4,
          2,
          5,
          1,
          2,
          3,
          0,
          1,
          1,
          0,
          2,
          2,
          0,
          1,
          5,
          2,
          2,
          0,
          3,
          0,
          3,
          2,
          3,
          1,
          9,
          1,
          0,
          0,
          6,
          5,
          2,
          1,
          0,
          1,
          0,
          0,
          1,
          2,
          0,
          0,
          1,
          0,
          1,
          5,
          1,
          2,
          5,
          0,
          3,
          0,
          0,
          1,
          0,
          1,
          3,
          0,
          3,
          2,
          0,
          1,
          1,
          0,
          1,
          2,
          1,
          0,
          3,
          0,
          1,
          0,
          0,
          6,
          0,
          1,
          1,
          0,
          1,
          3,
          1,
          2,
          6,
          2,
          4,
          3,
          0,
          1,
          1,
          4,
          0,
          0,
          2,
          3,
          4,
          1,
          0,
          0,
          0,
          0,
          0,
          2,
          2,
          2,
          4,
          1,
          1,
          0,
          2,
          7,
          2,
          2,
          2,
          0,
          3,
          1,
          3,
          1,
          3,
          1,
          6,
          0,
          0,
          5,
          2,
          4,
          2,
          0,
          1,
          7,
          1,
          0,
          0,
          1,
          1,
          3,
          1,
          0,
          0,
          0,
          4,
          1,
          5,
          5,
          0,
          0,
          0,
          3,
          3,
          3,
          2,
          2,
          5,
          2,
          4,
          4,
          1,
          3,
          0,
          0,
          2,
          3,
          4,
          1,
          2,
          1,
          2,
          7,
          1,
          1,
          0,
          1,
          1,
          0,
          3,
          0,
          4,
          0,
          2,
          5,
          3,
          1,
          0,
          1,
          3,
          2,
          5,
          0,
          0,
          0,
          2,
          2,
          1,
          2,
          3,
          0,
          3,
          7,
          0,
          2,
          0,
          3,
          1,
          0,
          2,
          0,
          4,
          3,
          0,
          3,
          2,
          0,
          7,
          1,
          1,
          1,
          1,
          0,
          0,
          2,
          1,
          0,
          0,
          0,
          3,
          2
         ]
        },
        {
         "name": "Worse",
         "type": "bar",
         "x": [
          "5000-Unknown",
          "5224-Unknown",
          "5648-Unknown",
          "5827-Unknown",
          "5991-Unknown",
          "6386-Unknown",
          "6491-Unknown",
          "6545-Unknown",
          "6548-Unknown",
          "Airport West",
          "Albany",
          "Albury",
          "Ararat",
          "Armadale",
          "Ayr",
          "Bairnsdale",
          "Ballarat",
          "Ballina",
          "Bankstown",
          "Bass Hill",
          "Batemans Bay",
          "Bathurst",
          "Bega",
          "Belconnen",
          "Benalla",
          "Bendigo",
          "Bentleigh",
          "Berri",
          "Blacktown",
          "Bondi",
          "Bowen",
          "Bribie Island",
          "Brisbane CBD",
          "Broadmeadows",
          "Broadway",
          "Broome",
          "Browns Plains",
          "Bullcreek",
          "Bunbury",
          "Bundaberg",
          "Buranda",
          "Burnie",
          "Burwood",
          "Busselton",
          "Cairns",
          "Camberwell",
          "Camden",
          "Campbelltown",
          "Canberra",
          "Cannonvale",
          "Cannot find store",
          "Capalaba",
          "Carindale",
          "Carlingford",
          "Caroline Springs",
          "Carousel",
          "Casino",
          "Castle Hill",
          "Castlemaine",
          "Castletown",
          "Centrepoint",
          "Chadstone",
          "Charlestown",
          "Charleville",
          "Charters Towers",
          "Chatswood",
          "Chermside",
          "Chirnside Park",
          "Clare",
          "Cobram",
          "Coffs Harbour",
          "Colac",
          "Cowra",
          "Craigieburn",
          "Dalby",
          "Dandenong",
          "Deniliquin",
          "Doncaster",
          "Dubbo",
          "Earlville",
          "Eastgardens",
          "Echuca",
          "Edwardstown",
          "Elizabeth",
          "Epping",
          "Erina",
          "Esperance",
          "Flemington",
          "Forbes",
          "Forest Hill",
          "Forest Lake",
          "Fountain Gate",
          "Frankston",
          "Fremantle",
          "Fulham Gardens",
          "Gawler",
          "Geelong",
          "Geraldton",
          "Gilgandra",
          "Gladstone",
          "Glen Waverley",
          "Glendale",
          "Glenn Innes",
          "Glenorchy",
          "Glenquarie",
          "Golden Grove",
          "Goulburn",
          "Grafton",
          "Greensborough",
          "Griffith",
          "Gunnedah",
          "Gympie",
          "Hamilton",
          "Harbourtown (SA Outlet)",
          "Helensvale",
          "Hervey Bay",
          "Highpoint",
          "Hobart",
          "Hollywood Plaza",
          "Hoppers Crossing",
          "Hornsby",
          "Hurstville",
          "Indooroopilly",
          "Ingham",
          "Innaloo",
          "Innisfail",
          "Inverell",
          "Ipswich",
          "Joondalup",
          "Kadina",
          "Kalgoorlie",
          "Katanning",
          "Katherine",
          "Katoomba",
          "Kempsey",
          "Kippa Ring",
          "Knox City",
          "Kotara",
          "Langwarrin",
          "Launceston",
          "Leichhardt",
          "Leongatha",
          "Lismore City",
          "Lithgow",
          "Liverpool",
          "Macarthur Square",
          "Mackay",
          "Macquarie",
          "Manjimup",
          "Mareeba",
          "Marion",
          "Maroochydore",
          "Mawson Lakes",
          "McLaren Vale",
          "Meadow Springs",
          "Melbourne CBD",
          "Merimbula",
          "Merrylands",
          "Midland",
          "Mildura",
          "Miranda",
          "Morayfield",
          "Moree",
          "Morisset",
          "Morley",
          "Mornington",
          "Morwell",
          "Mowbray",
          "Mt. Druitt",
          "Mt. Gambier",
          "Mt. Gravatt",
          "Mt. Ommaney",
          "Myrtleford",
          "NT Outlet",
          "Narracoorte",
          "Newton",
          "Noosa Junction",
          "North Lakes",
          "Northland",
          "Nowra",
          "Ocean Grove",
          "Ocean Shores",
          "Pacific Fair",
          "Pakenham",
          "Palmerston",
          "Parramatta",
          "Penrith",
          "Perth CBD",
          "Picton",
          "Plenty Valley",
          "Point Cook",
          "Port Douglas",
          "Port Macquarie",
          "Port Pirie",
          "Portland",
          "Queanbeyan",
          "Reynella",
          "Rhodes",
          "Ringwood",
          "Robina",
          "Rockdale",
          "Rockhampton",
          "Rockingham",
          "Rosebud",
          "Roselands",
          "Rouse Hill",
          "Runaway Bay",
          "Sale",
          "Sarina",
          "Sefton Park",
          "Seymour",
          "Shell Harbour",
          "Shepparton",
          "Somerville",
          "Southland",
          "Southport",
          "Springwood",
          "St Marys",
          "Stanthorpe",
          "Stirling",
          "Strathpine",
          "Sunbury",
          "Swan Hill",
          "Tamworth",
          "Taree",
          "Tea Tree Plaza",
          "Templestowe",
          "Tenterfield",
          "The Willows",
          "Toombul",
          "Toowoomba",
          "Tuggerah",
          "Tuggeranong",
          "Tumut",
          "Tweed Heads",
          "Ulladulla",
          "Unley",
          "Victor Harbor",
          "Victoria Park",
          "Wagga Wagga",
          "Warragul",
          "Warrawong",
          "Warringah Mall",
          "Warrnambool",
          "Watergardens",
          "Waurn Ponds",
          "Waverley Gardens",
          "West Lakes",
          "Weston Creek",
          "Wetherill Park",
          "Whitford City",
          "Whyalla",
          "Windsor",
          "Winmalee",
          "Wodonga",
          "Wonthaggi",
          "Woodend",
          "Yamba",
          "Yarrawonga",
          "Yass",
          "Yeppoon"
         ],
         "y": [
          1,
          1,
          2,
          1,
          2,
          0,
          1,
          1,
          2,
          8,
          15,
          8,
          6,
          15,
          1,
          4,
          6,
          1,
          7,
          1,
          4,
          6,
          2,
          14,
          3,
          9,
          5,
          1,
          5,
          17,
          3,
          2,
          27,
          2,
          10,
          0,
          6,
          16,
          6,
          12,
          11,
          11,
          18,
          4,
          8,
          9,
          5,
          14,
          4,
          2,
          11,
          4,
          15,
          22,
          1,
          15,
          3,
          5,
          7,
          16,
          10,
          34,
          15,
          2,
          3,
          20,
          20,
          15,
          0,
          2,
          4,
          2,
          2,
          4,
          11,
          6,
          2,
          14,
          1,
          10,
          12,
          1,
          26,
          9,
          1,
          7,
          2,
          5,
          1,
          16,
          11,
          16,
          10,
          10,
          8,
          0,
          12,
          7,
          1,
          3,
          5,
          8,
          1,
          13,
          1,
          9,
          3,
          4,
          10,
          1,
          1,
          1,
          2,
          0,
          8,
          5,
          21,
          13,
          4,
          15,
          15,
          6,
          8,
          1,
          11,
          4,
          2,
          12,
          10,
          4,
          4,
          4,
          1,
          10,
          1,
          2,
          8,
          7,
          5,
          10,
          9,
          0,
          1,
          4,
          15,
          9,
          13,
          14,
          0,
          4,
          7,
          14,
          4,
          16,
          7,
          14,
          2,
          3,
          14,
          7,
          6,
          11,
          2,
          5,
          26,
          6,
          5,
          5,
          4,
          3,
          9,
          2,
          3,
          1,
          2,
          7,
          1,
          27,
          13,
          2,
          0,
          6,
          10,
          6,
          4,
          7,
          11,
          18,
          3,
          7,
          13,
          0,
          18,
          1,
          1,
          8,
          8,
          12,
          8,
          16,
          2,
          16,
          19,
          1,
          6,
          4,
          1,
          11,
          1,
          12,
          2,
          11,
          2,
          11,
          21,
          8,
          6,
          4,
          1,
          7,
          8,
          9,
          1,
          5,
          3,
          6,
          3,
          7,
          6,
          8,
          12,
          19,
          6,
          1,
          8,
          1,
          9,
          4,
          10,
          1,
          3,
          9,
          15,
          8,
          12,
          15,
          7,
          12,
          1,
          3,
          8,
          2,
          1,
          1,
          2,
          7,
          2,
          4,
          1,
          8,
          4
         ]
        },
        {
         "name": "Better",
         "type": "bar",
         "x": [
          "5000-Unknown",
          "5224-Unknown",
          "5648-Unknown",
          "5827-Unknown",
          "5991-Unknown",
          "6386-Unknown",
          "6491-Unknown",
          "6545-Unknown",
          "6548-Unknown",
          "Airport West",
          "Albany",
          "Albury",
          "Ararat",
          "Armadale",
          "Ayr",
          "Bairnsdale",
          "Ballarat",
          "Ballina",
          "Bankstown",
          "Bass Hill",
          "Batemans Bay",
          "Bathurst",
          "Bega",
          "Belconnen",
          "Benalla",
          "Bendigo",
          "Bentleigh",
          "Berri",
          "Blacktown",
          "Bondi",
          "Bowen",
          "Bribie Island",
          "Brisbane CBD",
          "Broadmeadows",
          "Broadway",
          "Broome",
          "Browns Plains",
          "Bullcreek",
          "Bunbury",
          "Bundaberg",
          "Buranda",
          "Burnie",
          "Burwood",
          "Busselton",
          "Cairns",
          "Camberwell",
          "Camden",
          "Campbelltown",
          "Canberra",
          "Cannonvale",
          "Cannot find store",
          "Capalaba",
          "Carindale",
          "Carlingford",
          "Caroline Springs",
          "Carousel",
          "Casino",
          "Castle Hill",
          "Castlemaine",
          "Castletown",
          "Centrepoint",
          "Chadstone",
          "Charlestown",
          "Charleville",
          "Charters Towers",
          "Chatswood",
          "Chermside",
          "Chirnside Park",
          "Clare",
          "Cobram",
          "Coffs Harbour",
          "Colac",
          "Cowra",
          "Craigieburn",
          "Dalby",
          "Dandenong",
          "Deniliquin",
          "Doncaster",
          "Dubbo",
          "Earlville",
          "Eastgardens",
          "Echuca",
          "Edwardstown",
          "Elizabeth",
          "Epping",
          "Erina",
          "Esperance",
          "Flemington",
          "Forbes",
          "Forest Hill",
          "Forest Lake",
          "Fountain Gate",
          "Frankston",
          "Fremantle",
          "Fulham Gardens",
          "Gawler",
          "Geelong",
          "Geraldton",
          "Gilgandra",
          "Gladstone",
          "Glen Waverley",
          "Glendale",
          "Glenn Innes",
          "Glenorchy",
          "Glenquarie",
          "Golden Grove",
          "Goulburn",
          "Grafton",
          "Greensborough",
          "Griffith",
          "Gunnedah",
          "Gympie",
          "Hamilton",
          "Harbourtown (SA Outlet)",
          "Helensvale",
          "Hervey Bay",
          "Highpoint",
          "Hobart",
          "Hollywood Plaza",
          "Hoppers Crossing",
          "Hornsby",
          "Hurstville",
          "Indooroopilly",
          "Ingham",
          "Innaloo",
          "Innisfail",
          "Inverell",
          "Ipswich",
          "Joondalup",
          "Kadina",
          "Kalgoorlie",
          "Katanning",
          "Katherine",
          "Katoomba",
          "Kempsey",
          "Kippa Ring",
          "Knox City",
          "Kotara",
          "Langwarrin",
          "Launceston",
          "Leichhardt",
          "Leongatha",
          "Lismore City",
          "Lithgow",
          "Liverpool",
          "Macarthur Square",
          "Mackay",
          "Macquarie",
          "Manjimup",
          "Mareeba",
          "Marion",
          "Maroochydore",
          "Mawson Lakes",
          "McLaren Vale",
          "Meadow Springs",
          "Melbourne CBD",
          "Merimbula",
          "Merrylands",
          "Midland",
          "Mildura",
          "Miranda",
          "Morayfield",
          "Moree",
          "Morisset",
          "Morley",
          "Mornington",
          "Morwell",
          "Mowbray",
          "Mt. Druitt",
          "Mt. Gambier",
          "Mt. Gravatt",
          "Mt. Ommaney",
          "Myrtleford",
          "NT Outlet",
          "Narracoorte",
          "Newton",
          "Noosa Junction",
          "North Lakes",
          "Northland",
          "Nowra",
          "Ocean Grove",
          "Ocean Shores",
          "Pacific Fair",
          "Pakenham",
          "Palmerston",
          "Parramatta",
          "Penrith",
          "Perth CBD",
          "Picton",
          "Plenty Valley",
          "Point Cook",
          "Port Douglas",
          "Port Macquarie",
          "Port Pirie",
          "Portland",
          "Queanbeyan",
          "Reynella",
          "Rhodes",
          "Ringwood",
          "Robina",
          "Rockdale",
          "Rockhampton",
          "Rockingham",
          "Rosebud",
          "Roselands",
          "Rouse Hill",
          "Runaway Bay",
          "Sale",
          "Sarina",
          "Sefton Park",
          "Seymour",
          "Shell Harbour",
          "Shepparton",
          "Somerville",
          "Southland",
          "Southport",
          "Springwood",
          "St Marys",
          "Stanthorpe",
          "Stirling",
          "Strathpine",
          "Sunbury",
          "Swan Hill",
          "Tamworth",
          "Taree",
          "Tea Tree Plaza",
          "Templestowe",
          "Tenterfield",
          "The Willows",
          "Toombul",
          "Toowoomba",
          "Tuggerah",
          "Tuggeranong",
          "Tumut",
          "Tweed Heads",
          "Ulladulla",
          "Unley",
          "Victor Harbor",
          "Victoria Park",
          "Wagga Wagga",
          "Warragul",
          "Warrawong",
          "Warringah Mall",
          "Warrnambool",
          "Watergardens",
          "Waurn Ponds",
          "Waverley Gardens",
          "West Lakes",
          "Weston Creek",
          "Wetherill Park",
          "Whitford City",
          "Whyalla",
          "Windsor",
          "Winmalee",
          "Wodonga",
          "Wonthaggi",
          "Woodend",
          "Yamba",
          "Yarrawonga",
          "Yass",
          "Yeppoon"
         ],
         "y": [
          1,
          1,
          0,
          1,
          2,
          1,
          0,
          1,
          1,
          6,
          10,
          3,
          1,
          2,
          0,
          1,
          4,
          0,
          4,
          0,
          1,
          2,
          0,
          5,
          1,
          4,
          6,
          2,
          2,
          10,
          0,
          1,
          8,
          3,
          6,
          2,
          2,
          15,
          3,
          9,
          0,
          9,
          8,
          0,
          6,
          3,
          0,
          5,
          3,
          0,
          3,
          3,
          8,
          10,
          0,
          6,
          0,
          5,
          1,
          10,
          4,
          13,
          11,
          0,
          2,
          13,
          8,
          4,
          1,
          0,
          3,
          0,
          2,
          0,
          1,
          3,
          0,
          1,
          1,
          5,
          4,
          0,
          13,
          8,
          1,
          6,
          0,
          1,
          1,
          8,
          2,
          6,
          5,
          5,
          2,
          1,
          5,
          3,
          1,
          0,
          5,
          2,
          1,
          6,
          1,
          4,
          1,
          2,
          4,
          1,
          0,
          2,
          0,
          1,
          6,
          5,
          8,
          6,
          2,
          12,
          5,
          2,
          2,
          0,
          6,
          0,
          3,
          6,
          14,
          3,
          4,
          3,
          0,
          1,
          0,
          3,
          6,
          6,
          4,
          1,
          6,
          1,
          0,
          1,
          5,
          3,
          4,
          6,
          1,
          2,
          4,
          6,
          1,
          7,
          1,
          15,
          0,
          2,
          5,
          5,
          5,
          7,
          0,
          3,
          12,
          3,
          1,
          1,
          0,
          1,
          5,
          2,
          2,
          2,
          0,
          4,
          0,
          10,
          14,
          1,
          2,
          1,
          0,
          2,
          5,
          8,
          4,
          11,
          1,
          4,
          7,
          0,
          5,
          3,
          1,
          2,
          6,
          7,
          6,
          9,
          1,
          9,
          14,
          0,
          5,
          3,
          1,
          5,
          1,
          6,
          0,
          1,
          0,
          3,
          10,
          2,
          3,
          1,
          1,
          1,
          3,
          2,
          1,
          4,
          2,
          6,
          0,
          5,
          5,
          4,
          3,
          9,
          5,
          1,
          3,
          3,
          1,
          2,
          4,
          1,
          3,
          5,
          11,
          2,
          7,
          5,
          3,
          6,
          0,
          3,
          6,
          0,
          1,
          3,
          1,
          3,
          0,
          1,
          2,
          2,
          5
         ]
        }
       ],
       "layout": {
        "barmode": "stack",
        "template": {
         "data": {
          "bar": [
           {
            "error_x": {
             "color": "#2a3f5f"
            },
            "error_y": {
             "color": "#2a3f5f"
            },
            "marker": {
             "line": {
              "color": "#E5ECF6",
              "width": 0.5
             },
             "pattern": {
              "fillmode": "overlay",
              "size": 10,
              "solidity": 0.2
             }
            },
            "type": "bar"
           }
          ],
          "barpolar": [
           {
            "marker": {
             "line": {
              "color": "#E5ECF6",
              "width": 0.5
             },
             "pattern": {
              "fillmode": "overlay",
              "size": 10,
              "solidity": 0.2
             }
            },
            "type": "barpolar"
           }
          ],
          "carpet": [
           {
            "aaxis": {
             "endlinecolor": "#2a3f5f",
             "gridcolor": "white",
             "linecolor": "white",
             "minorgridcolor": "white",
             "startlinecolor": "#2a3f5f"
            },
            "baxis": {
             "endlinecolor": "#2a3f5f",
             "gridcolor": "white",
             "linecolor": "white",
             "minorgridcolor": "white",
             "startlinecolor": "#2a3f5f"
            },
            "type": "carpet"
           }
          ],
          "choropleth": [
           {
            "colorbar": {
             "outlinewidth": 0,
             "ticks": ""
            },
            "type": "choropleth"
           }
          ],
          "contour": [
           {
            "colorbar": {
             "outlinewidth": 0,
             "ticks": ""
            },
            "colorscale": [
             [
              0,
              "#0d0887"
             ],
             [
              0.1111111111111111,
              "#46039f"
             ],
             [
              0.2222222222222222,
              "#7201a8"
             ],
             [
              0.3333333333333333,
              "#9c179e"
             ],
             [
              0.4444444444444444,
              "#bd3786"
             ],
             [
              0.5555555555555556,
              "#d8576b"
             ],
             [
              0.6666666666666666,
              "#ed7953"
             ],
             [
              0.7777777777777778,
              "#fb9f3a"
             ],
             [
              0.8888888888888888,
              "#fdca26"
             ],
             [
              1,
              "#f0f921"
             ]
            ],
            "type": "contour"
           }
          ],
          "contourcarpet": [
           {
            "colorbar": {
             "outlinewidth": 0,
             "ticks": ""
            },
            "type": "contourcarpet"
           }
          ],
          "heatmap": [
           {
            "colorbar": {
             "outlinewidth": 0,
             "ticks": ""
            },
            "colorscale": [
             [
              0,
              "#0d0887"
             ],
             [
              0.1111111111111111,
              "#46039f"
             ],
             [
              0.2222222222222222,
              "#7201a8"
             ],
             [
              0.3333333333333333,
              "#9c179e"
             ],
             [
              0.4444444444444444,
              "#bd3786"
             ],
             [
              0.5555555555555556,
              "#d8576b"
             ],
             [
              0.6666666666666666,
              "#ed7953"
             ],
             [
              0.7777777777777778,
              "#fb9f3a"
             ],
             [
              0.8888888888888888,
              "#fdca26"
             ],
             [
              1,
              "#f0f921"
             ]
            ],
            "type": "heatmap"
           }
          ],
          "heatmapgl": [
           {
            "colorbar": {
             "outlinewidth": 0,
             "ticks": ""
            },
            "colorscale": [
             [
              0,
              "#0d0887"
             ],
             [
              0.1111111111111111,
              "#46039f"
             ],
             [
              0.2222222222222222,
              "#7201a8"
             ],
             [
              0.3333333333333333,
              "#9c179e"
             ],
             [
              0.4444444444444444,
              "#bd3786"
             ],
             [
              0.5555555555555556,
              "#d8576b"
             ],
             [
              0.6666666666666666,
              "#ed7953"
             ],
             [
              0.7777777777777778,
              "#fb9f3a"
             ],
             [
              0.8888888888888888,
              "#fdca26"
             ],
             [
              1,
              "#f0f921"
             ]
            ],
            "type": "heatmapgl"
           }
          ],
          "histogram": [
           {
            "marker": {
             "pattern": {
              "fillmode": "overlay",
              "size": 10,
              "solidity": 0.2
             }
            },
            "type": "histogram"
           }
          ],
          "histogram2d": [
           {
            "colorbar": {
             "outlinewidth": 0,
             "ticks": ""
            },
            "colorscale": [
             [
              0,
              "#0d0887"
             ],
             [
              0.1111111111111111,
              "#46039f"
             ],
             [
              0.2222222222222222,
              "#7201a8"
             ],
             [
              0.3333333333333333,
              "#9c179e"
             ],
             [
              0.4444444444444444,
              "#bd3786"
             ],
             [
              0.5555555555555556,
              "#d8576b"
             ],
             [
              0.6666666666666666,
              "#ed7953"
             ],
             [
              0.7777777777777778,
              "#fb9f3a"
             ],
             [
              0.8888888888888888,
              "#fdca26"
             ],
             [
              1,
              "#f0f921"
             ]
            ],
            "type": "histogram2d"
           }
          ],
          "histogram2dcontour": [
           {
            "colorbar": {
             "outlinewidth": 0,
             "ticks": ""
            },
            "colorscale": [
             [
              0,
              "#0d0887"
             ],
             [
              0.1111111111111111,
              "#46039f"
             ],
             [
              0.2222222222222222,
              "#7201a8"
             ],
             [
              0.3333333333333333,
              "#9c179e"
             ],
             [
              0.4444444444444444,
              "#bd3786"
             ],
             [
              0.5555555555555556,
              "#d8576b"
             ],
             [
              0.6666666666666666,
              "#ed7953"
             ],
             [
              0.7777777777777778,
              "#fb9f3a"
             ],
             [
              0.8888888888888888,
              "#fdca26"
             ],
             [
              1,
              "#f0f921"
             ]
            ],
            "type": "histogram2dcontour"
           }
          ],
          "mesh3d": [
           {
            "colorbar": {
             "outlinewidth": 0,
             "ticks": ""
            },
            "type": "mesh3d"
           }
          ],
          "parcoords": [
           {
            "line": {
             "colorbar": {
              "outlinewidth": 0,
              "ticks": ""
             }
            },
            "type": "parcoords"
           }
          ],
          "pie": [
           {
            "automargin": true,
            "type": "pie"
           }
          ],
          "scatter": [
           {
            "marker": {
             "colorbar": {
              "outlinewidth": 0,
              "ticks": ""
             }
            },
            "type": "scatter"
           }
          ],
          "scatter3d": [
           {
            "line": {
             "colorbar": {
              "outlinewidth": 0,
              "ticks": ""
             }
            },
            "marker": {
             "colorbar": {
              "outlinewidth": 0,
              "ticks": ""
             }
            },
            "type": "scatter3d"
           }
          ],
          "scattercarpet": [
           {
            "marker": {
             "colorbar": {
              "outlinewidth": 0,
              "ticks": ""
             }
            },
            "type": "scattercarpet"
           }
          ],
          "scattergeo": [
           {
            "marker": {
             "colorbar": {
              "outlinewidth": 0,
              "ticks": ""
             }
            },
            "type": "scattergeo"
           }
          ],
          "scattergl": [
           {
            "marker": {
             "colorbar": {
              "outlinewidth": 0,
              "ticks": ""
             }
            },
            "type": "scattergl"
           }
          ],
          "scattermapbox": [
           {
            "marker": {
             "colorbar": {
              "outlinewidth": 0,
              "ticks": ""
             }
            },
            "type": "scattermapbox"
           }
          ],
          "scatterpolar": [
           {
            "marker": {
             "colorbar": {
              "outlinewidth": 0,
              "ticks": ""
             }
            },
            "type": "scatterpolar"
           }
          ],
          "scatterpolargl": [
           {
            "marker": {
             "colorbar": {
              "outlinewidth": 0,
              "ticks": ""
             }
            },
            "type": "scatterpolargl"
           }
          ],
          "scatterternary": [
           {
            "marker": {
             "colorbar": {
              "outlinewidth": 0,
              "ticks": ""
             }
            },
            "type": "scatterternary"
           }
          ],
          "surface": [
           {
            "colorbar": {
             "outlinewidth": 0,
             "ticks": ""
            },
            "colorscale": [
             [
              0,
              "#0d0887"
             ],
             [
              0.1111111111111111,
              "#46039f"
             ],
             [
              0.2222222222222222,
              "#7201a8"
             ],
             [
              0.3333333333333333,
              "#9c179e"
             ],
             [
              0.4444444444444444,
              "#bd3786"
             ],
             [
              0.5555555555555556,
              "#d8576b"
             ],
             [
              0.6666666666666666,
              "#ed7953"
             ],
             [
              0.7777777777777778,
              "#fb9f3a"
             ],
             [
              0.8888888888888888,
              "#fdca26"
             ],
             [
              1,
              "#f0f921"
             ]
            ],
            "type": "surface"
           }
          ],
          "table": [
           {
            "cells": {
             "fill": {
              "color": "#EBF0F8"
             },
             "line": {
              "color": "white"
             }
            },
            "header": {
             "fill": {
              "color": "#C8D4E3"
             },
             "line": {
              "color": "white"
             }
            },
            "type": "table"
           }
          ]
         },
         "layout": {
          "annotationdefaults": {
           "arrowcolor": "#2a3f5f",
           "arrowhead": 0,
           "arrowwidth": 1
          },
          "autotypenumbers": "strict",
          "coloraxis": {
           "colorbar": {
            "outlinewidth": 0,
            "ticks": ""
           }
          },
          "colorscale": {
           "diverging": [
            [
             0,
             "#8e0152"
            ],
            [
             0.1,
             "#c51b7d"
            ],
            [
             0.2,
             "#de77ae"
            ],
            [
             0.3,
             "#f1b6da"
            ],
            [
             0.4,
             "#fde0ef"
            ],
            [
             0.5,
             "#f7f7f7"
            ],
            [
             0.6,
             "#e6f5d0"
            ],
            [
             0.7,
             "#b8e186"
            ],
            [
             0.8,
             "#7fbc41"
            ],
            [
             0.9,
             "#4d9221"
            ],
            [
             1,
             "#276419"
            ]
           ],
           "sequential": [
            [
             0,
             "#0d0887"
            ],
            [
             0.1111111111111111,
             "#46039f"
            ],
            [
             0.2222222222222222,
             "#7201a8"
            ],
            [
             0.3333333333333333,
             "#9c179e"
            ],
            [
             0.4444444444444444,
             "#bd3786"
            ],
            [
             0.5555555555555556,
             "#d8576b"
            ],
            [
             0.6666666666666666,
             "#ed7953"
            ],
            [
             0.7777777777777778,
             "#fb9f3a"
            ],
            [
             0.8888888888888888,
             "#fdca26"
            ],
            [
             1,
             "#f0f921"
            ]
           ],
           "sequentialminus": [
            [
             0,
             "#0d0887"
            ],
            [
             0.1111111111111111,
             "#46039f"
            ],
            [
             0.2222222222222222,
             "#7201a8"
            ],
            [
             0.3333333333333333,
             "#9c179e"
            ],
            [
             0.4444444444444444,
             "#bd3786"
            ],
            [
             0.5555555555555556,
             "#d8576b"
            ],
            [
             0.6666666666666666,
             "#ed7953"
            ],
            [
             0.7777777777777778,
             "#fb9f3a"
            ],
            [
             0.8888888888888888,
             "#fdca26"
            ],
            [
             1,
             "#f0f921"
            ]
           ]
          },
          "colorway": [
           "#636efa",
           "#EF553B",
           "#00cc96",
           "#ab63fa",
           "#FFA15A",
           "#19d3f3",
           "#FF6692",
           "#B6E880",
           "#FF97FF",
           "#FECB52"
          ],
          "font": {
           "color": "#2a3f5f"
          },
          "geo": {
           "bgcolor": "white",
           "lakecolor": "white",
           "landcolor": "#E5ECF6",
           "showlakes": true,
           "showland": true,
           "subunitcolor": "white"
          },
          "hoverlabel": {
           "align": "left"
          },
          "hovermode": "closest",
          "mapbox": {
           "style": "light"
          },
          "paper_bgcolor": "white",
          "plot_bgcolor": "#E5ECF6",
          "polar": {
           "angularaxis": {
            "gridcolor": "white",
            "linecolor": "white",
            "ticks": ""
           },
           "bgcolor": "#E5ECF6",
           "radialaxis": {
            "gridcolor": "white",
            "linecolor": "white",
            "ticks": ""
           }
          },
          "scene": {
           "xaxis": {
            "backgroundcolor": "#E5ECF6",
            "gridcolor": "white",
            "gridwidth": 2,
            "linecolor": "white",
            "showbackground": true,
            "ticks": "",
            "zerolinecolor": "white"
           },
           "yaxis": {
            "backgroundcolor": "#E5ECF6",
            "gridcolor": "white",
            "gridwidth": 2,
            "linecolor": "white",
            "showbackground": true,
            "ticks": "",
            "zerolinecolor": "white"
           },
           "zaxis": {
            "backgroundcolor": "#E5ECF6",
            "gridcolor": "white",
            "gridwidth": 2,
            "linecolor": "white",
            "showbackground": true,
            "ticks": "",
            "zerolinecolor": "white"
           }
          },
          "shapedefaults": {
           "line": {
            "color": "#2a3f5f"
           }
          },
          "ternary": {
           "aaxis": {
            "gridcolor": "white",
            "linecolor": "white",
            "ticks": ""
           },
           "baxis": {
            "gridcolor": "white",
            "linecolor": "white",
            "ticks": ""
           },
           "bgcolor": "#E5ECF6",
           "caxis": {
            "gridcolor": "white",
            "linecolor": "white",
            "ticks": ""
           }
          },
          "title": {
           "x": 0.05
          },
          "xaxis": {
           "automargin": true,
           "gridcolor": "white",
           "linecolor": "white",
           "ticks": "",
           "title": {
            "standoff": 15
           },
           "zerolinecolor": "white",
           "zerolinewidth": 2
          },
          "yaxis": {
           "automargin": true,
           "gridcolor": "white",
           "linecolor": "white",
           "ticks": "",
           "title": {
            "standoff": 15
           },
           "zerolinecolor": "white",
           "zerolinewidth": 2
          }
         }
        },
        "title": {
         "text": "Customer Service across Stores"
        }
       }
      }
     },
     "metadata": {},
     "output_type": "display_data"
    }
   ],
   "source": [
    "fig = go.Figure(data=[\n",
    "    go.Bar(name='Same', x=branch_service['Store'], y=branch_service['Same']),\n",
    "    go.Bar(name='Worse', x=branch_service['Store'], y=branch_service['Worse']),\n",
    "    go.Bar(name='Better', x=branch_service['Store'], y=branch_service['Better'])\n",
    "\n",
    "])\n",
    "\n",
    "fig.update_layout(barmode='stack', title = 'Customer Service across Stores')\n",
    "fig.show()"
   ]
  },
  {
   "cell_type": "markdown",
   "metadata": {},
   "source": [
    "## Analysing access to Information across Stores\n",
    "### As expected, customers find it hard(worse) in most cases, accessing to information across almost all the Stores. "
   ]
  },
  {
   "cell_type": "code",
   "execution_count": 34,
   "metadata": {},
   "outputs": [],
   "source": [
    "branch_information = branch_data[['Store','Information']]\n",
    "branch_information = pd.concat([branch_information.iloc[:,0], pd.get_dummies(branch_information.Information)], axis = 1)\n",
    "branch_information = branch_information.groupby(branch_information['Store']).sum().reset_index()"
   ]
  },
  {
   "cell_type": "code",
   "execution_count": 35,
   "metadata": {},
   "outputs": [
    {
     "data": {
      "application/vnd.plotly.v1+json": {
       "config": {
        "plotlyServerURL": "https://plot.ly"
       },
       "data": [
        {
         "name": "Same",
         "type": "bar",
         "x": [
          "5000-Unknown",
          "5224-Unknown",
          "5648-Unknown",
          "5827-Unknown",
          "5991-Unknown",
          "6386-Unknown",
          "6491-Unknown",
          "6545-Unknown",
          "6548-Unknown",
          "Airport West",
          "Albany",
          "Albury",
          "Ararat",
          "Armadale",
          "Ayr",
          "Bairnsdale",
          "Ballarat",
          "Ballina",
          "Bankstown",
          "Bass Hill",
          "Batemans Bay",
          "Bathurst",
          "Bega",
          "Belconnen",
          "Benalla",
          "Bendigo",
          "Bentleigh",
          "Berri",
          "Blacktown",
          "Bondi",
          "Bowen",
          "Bribie Island",
          "Brisbane CBD",
          "Broadmeadows",
          "Broadway",
          "Broome",
          "Browns Plains",
          "Bullcreek",
          "Bunbury",
          "Bundaberg",
          "Buranda",
          "Burnie",
          "Burwood",
          "Busselton",
          "Cairns",
          "Camberwell",
          "Camden",
          "Campbelltown",
          "Canberra",
          "Cannonvale",
          "Cannot find store",
          "Capalaba",
          "Carindale",
          "Carlingford",
          "Caroline Springs",
          "Carousel",
          "Casino",
          "Castle Hill",
          "Castlemaine",
          "Castletown",
          "Centrepoint",
          "Chadstone",
          "Charlestown",
          "Charleville",
          "Charters Towers",
          "Chatswood",
          "Chermside",
          "Chirnside Park",
          "Clare",
          "Cobram",
          "Coffs Harbour",
          "Colac",
          "Cowra",
          "Craigieburn",
          "Dalby",
          "Dandenong",
          "Deniliquin",
          "Doncaster",
          "Dubbo",
          "Earlville",
          "Eastgardens",
          "Echuca",
          "Edwardstown",
          "Elizabeth",
          "Epping",
          "Erina",
          "Esperance",
          "Flemington",
          "Forbes",
          "Forest Hill",
          "Forest Lake",
          "Fountain Gate",
          "Frankston",
          "Fremantle",
          "Fulham Gardens",
          "Gawler",
          "Geelong",
          "Geraldton",
          "Gilgandra",
          "Gladstone",
          "Glen Waverley",
          "Glendale",
          "Glenn Innes",
          "Glenorchy",
          "Glenquarie",
          "Golden Grove",
          "Goulburn",
          "Grafton",
          "Greensborough",
          "Griffith",
          "Gunnedah",
          "Gympie",
          "Hamilton",
          "Harbourtown (SA Outlet)",
          "Helensvale",
          "Hervey Bay",
          "Highpoint",
          "Hobart",
          "Hollywood Plaza",
          "Hoppers Crossing",
          "Hornsby",
          "Hurstville",
          "Indooroopilly",
          "Ingham",
          "Innaloo",
          "Innisfail",
          "Inverell",
          "Ipswich",
          "Joondalup",
          "Kadina",
          "Kalgoorlie",
          "Katanning",
          "Katherine",
          "Katoomba",
          "Kempsey",
          "Kippa Ring",
          "Knox City",
          "Kotara",
          "Langwarrin",
          "Launceston",
          "Leichhardt",
          "Leongatha",
          "Lismore City",
          "Lithgow",
          "Liverpool",
          "Macarthur Square",
          "Mackay",
          "Macquarie",
          "Manjimup",
          "Mareeba",
          "Marion",
          "Maroochydore",
          "Mawson Lakes",
          "McLaren Vale",
          "Meadow Springs",
          "Melbourne CBD",
          "Merimbula",
          "Merrylands",
          "Midland",
          "Mildura",
          "Miranda",
          "Morayfield",
          "Moree",
          "Morisset",
          "Morley",
          "Mornington",
          "Morwell",
          "Mowbray",
          "Mt. Druitt",
          "Mt. Gambier",
          "Mt. Gravatt",
          "Mt. Ommaney",
          "Myrtleford",
          "NT Outlet",
          "Narracoorte",
          "Newton",
          "Noosa Junction",
          "North Lakes",
          "Northland",
          "Nowra",
          "Ocean Grove",
          "Ocean Shores",
          "Pacific Fair",
          "Pakenham",
          "Palmerston",
          "Parramatta",
          "Penrith",
          "Perth CBD",
          "Picton",
          "Plenty Valley",
          "Point Cook",
          "Port Douglas",
          "Port Macquarie",
          "Port Pirie",
          "Portland",
          "Queanbeyan",
          "Reynella",
          "Rhodes",
          "Ringwood",
          "Robina",
          "Rockdale",
          "Rockhampton",
          "Rockingham",
          "Rosebud",
          "Roselands",
          "Rouse Hill",
          "Runaway Bay",
          "Sale",
          "Sarina",
          "Sefton Park",
          "Seymour",
          "Shell Harbour",
          "Shepparton",
          "Somerville",
          "Southland",
          "Southport",
          "Springwood",
          "St Marys",
          "Stanthorpe",
          "Stirling",
          "Strathpine",
          "Sunbury",
          "Swan Hill",
          "Tamworth",
          "Taree",
          "Tea Tree Plaza",
          "Templestowe",
          "Tenterfield",
          "The Willows",
          "Toombul",
          "Toowoomba",
          "Tuggerah",
          "Tuggeranong",
          "Tumut",
          "Tweed Heads",
          "Ulladulla",
          "Unley",
          "Victor Harbor",
          "Victoria Park",
          "Wagga Wagga",
          "Warragul",
          "Warrawong",
          "Warringah Mall",
          "Warrnambool",
          "Watergardens",
          "Waurn Ponds",
          "Waverley Gardens",
          "West Lakes",
          "Weston Creek",
          "Wetherill Park",
          "Whitford City",
          "Whyalla",
          "Windsor",
          "Winmalee",
          "Wodonga",
          "Wonthaggi",
          "Woodend",
          "Yamba",
          "Yarrawonga",
          "Yass",
          "Yeppoon"
         ],
         "y": [
          0,
          0,
          0,
          0,
          0,
          0,
          1,
          0,
          0,
          2,
          4,
          3,
          0,
          3,
          1,
          0,
          2,
          2,
          2,
          1,
          1,
          1,
          0,
          5,
          1,
          4,
          1,
          1,
          2,
          1,
          2,
          0,
          2,
          0,
          1,
          0,
          0,
          0,
          1,
          5,
          3,
          5,
          4,
          1,
          2,
          0,
          0,
          2,
          2,
          0,
          2,
          1,
          4,
          4,
          1,
          2,
          2,
          2,
          1,
          5,
          3,
          12,
          2,
          0,
          1,
          10,
          2,
          2,
          0,
          0,
          2,
          0,
          0,
          0,
          2,
          1,
          0,
          1,
          1,
          3,
          6,
          0,
          4,
          5,
          0,
          0,
          0,
          1,
          0,
          2,
          1,
          4,
          4,
          1,
          2,
          0,
          2,
          2,
          0,
          0,
          1,
          1,
          0,
          2,
          0,
          4,
          0,
          0,
          2,
          0,
          0,
          1,
          0,
          0,
          4,
          2,
          4,
          0,
          1,
          6,
          3,
          1,
          1,
          1,
          0,
          0,
          0,
          5,
          3,
          1,
          0,
          2,
          0,
          2,
          0,
          0,
          3,
          1,
          3,
          2,
          2,
          0,
          0,
          2,
          6,
          4,
          2,
          1,
          0,
          2,
          0,
          5,
          0,
          5,
          1,
          6,
          0,
          0,
          2,
          0,
          0,
          3,
          0,
          1,
          5,
          5,
          1,
          0,
          1,
          2,
          4,
          0,
          0,
          0,
          1,
          3,
          1,
          8,
          6,
          2,
          0,
          3,
          5,
          3,
          3,
          2,
          3,
          3,
          2,
          1,
          4,
          1,
          5,
          0,
          0,
          3,
          2,
          2,
          2,
          5,
          2,
          6,
          11,
          0,
          1,
          0,
          1,
          3,
          0,
          4,
          1,
          2,
          0,
          0,
          5,
          1,
          0,
          0,
          0,
          3,
          4,
          2,
          1,
          1,
          2,
          2,
          2,
          1,
          3,
          2,
          3,
          5,
          2,
          0,
          1,
          1,
          0,
          1,
          4,
          0,
          3,
          1,
          3,
          1,
          1,
          5,
          3,
          6,
          0,
          0,
          3,
          1,
          0,
          2,
          1,
          1,
          0,
          1,
          0,
          0,
          1
         ]
        },
        {
         "name": "Worse",
         "type": "bar",
         "x": [
          "5000-Unknown",
          "5224-Unknown",
          "5648-Unknown",
          "5827-Unknown",
          "5991-Unknown",
          "6386-Unknown",
          "6491-Unknown",
          "6545-Unknown",
          "6548-Unknown",
          "Airport West",
          "Albany",
          "Albury",
          "Ararat",
          "Armadale",
          "Ayr",
          "Bairnsdale",
          "Ballarat",
          "Ballina",
          "Bankstown",
          "Bass Hill",
          "Batemans Bay",
          "Bathurst",
          "Bega",
          "Belconnen",
          "Benalla",
          "Bendigo",
          "Bentleigh",
          "Berri",
          "Blacktown",
          "Bondi",
          "Bowen",
          "Bribie Island",
          "Brisbane CBD",
          "Broadmeadows",
          "Broadway",
          "Broome",
          "Browns Plains",
          "Bullcreek",
          "Bunbury",
          "Bundaberg",
          "Buranda",
          "Burnie",
          "Burwood",
          "Busselton",
          "Cairns",
          "Camberwell",
          "Camden",
          "Campbelltown",
          "Canberra",
          "Cannonvale",
          "Cannot find store",
          "Capalaba",
          "Carindale",
          "Carlingford",
          "Caroline Springs",
          "Carousel",
          "Casino",
          "Castle Hill",
          "Castlemaine",
          "Castletown",
          "Centrepoint",
          "Chadstone",
          "Charlestown",
          "Charleville",
          "Charters Towers",
          "Chatswood",
          "Chermside",
          "Chirnside Park",
          "Clare",
          "Cobram",
          "Coffs Harbour",
          "Colac",
          "Cowra",
          "Craigieburn",
          "Dalby",
          "Dandenong",
          "Deniliquin",
          "Doncaster",
          "Dubbo",
          "Earlville",
          "Eastgardens",
          "Echuca",
          "Edwardstown",
          "Elizabeth",
          "Epping",
          "Erina",
          "Esperance",
          "Flemington",
          "Forbes",
          "Forest Hill",
          "Forest Lake",
          "Fountain Gate",
          "Frankston",
          "Fremantle",
          "Fulham Gardens",
          "Gawler",
          "Geelong",
          "Geraldton",
          "Gilgandra",
          "Gladstone",
          "Glen Waverley",
          "Glendale",
          "Glenn Innes",
          "Glenorchy",
          "Glenquarie",
          "Golden Grove",
          "Goulburn",
          "Grafton",
          "Greensborough",
          "Griffith",
          "Gunnedah",
          "Gympie",
          "Hamilton",
          "Harbourtown (SA Outlet)",
          "Helensvale",
          "Hervey Bay",
          "Highpoint",
          "Hobart",
          "Hollywood Plaza",
          "Hoppers Crossing",
          "Hornsby",
          "Hurstville",
          "Indooroopilly",
          "Ingham",
          "Innaloo",
          "Innisfail",
          "Inverell",
          "Ipswich",
          "Joondalup",
          "Kadina",
          "Kalgoorlie",
          "Katanning",
          "Katherine",
          "Katoomba",
          "Kempsey",
          "Kippa Ring",
          "Knox City",
          "Kotara",
          "Langwarrin",
          "Launceston",
          "Leichhardt",
          "Leongatha",
          "Lismore City",
          "Lithgow",
          "Liverpool",
          "Macarthur Square",
          "Mackay",
          "Macquarie",
          "Manjimup",
          "Mareeba",
          "Marion",
          "Maroochydore",
          "Mawson Lakes",
          "McLaren Vale",
          "Meadow Springs",
          "Melbourne CBD",
          "Merimbula",
          "Merrylands",
          "Midland",
          "Mildura",
          "Miranda",
          "Morayfield",
          "Moree",
          "Morisset",
          "Morley",
          "Mornington",
          "Morwell",
          "Mowbray",
          "Mt. Druitt",
          "Mt. Gambier",
          "Mt. Gravatt",
          "Mt. Ommaney",
          "Myrtleford",
          "NT Outlet",
          "Narracoorte",
          "Newton",
          "Noosa Junction",
          "North Lakes",
          "Northland",
          "Nowra",
          "Ocean Grove",
          "Ocean Shores",
          "Pacific Fair",
          "Pakenham",
          "Palmerston",
          "Parramatta",
          "Penrith",
          "Perth CBD",
          "Picton",
          "Plenty Valley",
          "Point Cook",
          "Port Douglas",
          "Port Macquarie",
          "Port Pirie",
          "Portland",
          "Queanbeyan",
          "Reynella",
          "Rhodes",
          "Ringwood",
          "Robina",
          "Rockdale",
          "Rockhampton",
          "Rockingham",
          "Rosebud",
          "Roselands",
          "Rouse Hill",
          "Runaway Bay",
          "Sale",
          "Sarina",
          "Sefton Park",
          "Seymour",
          "Shell Harbour",
          "Shepparton",
          "Somerville",
          "Southland",
          "Southport",
          "Springwood",
          "St Marys",
          "Stanthorpe",
          "Stirling",
          "Strathpine",
          "Sunbury",
          "Swan Hill",
          "Tamworth",
          "Taree",
          "Tea Tree Plaza",
          "Templestowe",
          "Tenterfield",
          "The Willows",
          "Toombul",
          "Toowoomba",
          "Tuggerah",
          "Tuggeranong",
          "Tumut",
          "Tweed Heads",
          "Ulladulla",
          "Unley",
          "Victor Harbor",
          "Victoria Park",
          "Wagga Wagga",
          "Warragul",
          "Warrawong",
          "Warringah Mall",
          "Warrnambool",
          "Watergardens",
          "Waurn Ponds",
          "Waverley Gardens",
          "West Lakes",
          "Weston Creek",
          "Wetherill Park",
          "Whitford City",
          "Whyalla",
          "Windsor",
          "Winmalee",
          "Wodonga",
          "Wonthaggi",
          "Woodend",
          "Yamba",
          "Yarrawonga",
          "Yass",
          "Yeppoon"
         ],
         "y": [
          2,
          2,
          1,
          2,
          2,
          1,
          1,
          0,
          4,
          11,
          17,
          5,
          8,
          12,
          2,
          1,
          9,
          1,
          8,
          1,
          3,
          5,
          1,
          14,
          2,
          7,
          5,
          1,
          4,
          15,
          1,
          2,
          25,
          2,
          7,
          0,
          5,
          26,
          5,
          12,
          7,
          12,
          20,
          3,
          6,
          9,
          4,
          13,
          5,
          1,
          12,
          6,
          13,
          13,
          0,
          17,
          1,
          5,
          4,
          17,
          5,
          30,
          18,
          2,
          3,
          21,
          20,
          11,
          2,
          1,
          5,
          0,
          4,
          3,
          6,
          4,
          1,
          10,
          0,
          9,
          10,
          0,
          22,
          11,
          1,
          11,
          1,
          3,
          2,
          14,
          8,
          15,
          8,
          12,
          6,
          1,
          11,
          3,
          2,
          1,
          7,
          8,
          1,
          10,
          1,
          7,
          3,
          1,
          14,
          2,
          2,
          1,
          2,
          2,
          8,
          8,
          19,
          18,
          3,
          16,
          9,
          5,
          5,
          1,
          15,
          2,
          3,
          7,
          18,
          8,
          7,
          4,
          1,
          5,
          0,
          5,
          8,
          11,
          5,
          8,
          9,
          1,
          1,
          2,
          15,
          7,
          13,
          13,
          1,
          5,
          8,
          17,
          5,
          14,
          4,
          23,
          1,
          3,
          14,
          9,
          7,
          9,
          1,
          6,
          31,
          4,
          3,
          3,
          4,
          3,
          9,
          4,
          4,
          0,
          1,
          7,
          1,
          22,
          17,
          0,
          2,
          1,
          6,
          6,
          4,
          12,
          10,
          22,
          2,
          10,
          14,
          0,
          15,
          3,
          2,
          7,
          8,
          14,
          9,
          17,
          1,
          16,
          23,
          1,
          7,
          3,
          2,
          13,
          1,
          13,
          1,
          12,
          2,
          9,
          22,
          8,
          5,
          4,
          2,
          4,
          5,
          9,
          1,
          7,
          2,
          11,
          2,
          6,
          6,
          8,
          7,
          17,
          12,
          2,
          10,
          2,
          9,
          3,
          6,
          3,
          1,
          13,
          21,
          6,
          13,
          13,
          5,
          10,
          2,
          5,
          8,
          2,
          2,
          2,
          2,
          7,
          1,
          4,
          3,
          10,
          7
         ]
        },
        {
         "name": "Better",
         "type": "bar",
         "x": [
          "5000-Unknown",
          "5224-Unknown",
          "5648-Unknown",
          "5827-Unknown",
          "5991-Unknown",
          "6386-Unknown",
          "6491-Unknown",
          "6545-Unknown",
          "6548-Unknown",
          "Airport West",
          "Albany",
          "Albury",
          "Ararat",
          "Armadale",
          "Ayr",
          "Bairnsdale",
          "Ballarat",
          "Ballina",
          "Bankstown",
          "Bass Hill",
          "Batemans Bay",
          "Bathurst",
          "Bega",
          "Belconnen",
          "Benalla",
          "Bendigo",
          "Bentleigh",
          "Berri",
          "Blacktown",
          "Bondi",
          "Bowen",
          "Bribie Island",
          "Brisbane CBD",
          "Broadmeadows",
          "Broadway",
          "Broome",
          "Browns Plains",
          "Bullcreek",
          "Bunbury",
          "Bundaberg",
          "Buranda",
          "Burnie",
          "Burwood",
          "Busselton",
          "Cairns",
          "Camberwell",
          "Camden",
          "Campbelltown",
          "Canberra",
          "Cannonvale",
          "Cannot find store",
          "Capalaba",
          "Carindale",
          "Carlingford",
          "Caroline Springs",
          "Carousel",
          "Casino",
          "Castle Hill",
          "Castlemaine",
          "Castletown",
          "Centrepoint",
          "Chadstone",
          "Charlestown",
          "Charleville",
          "Charters Towers",
          "Chatswood",
          "Chermside",
          "Chirnside Park",
          "Clare",
          "Cobram",
          "Coffs Harbour",
          "Colac",
          "Cowra",
          "Craigieburn",
          "Dalby",
          "Dandenong",
          "Deniliquin",
          "Doncaster",
          "Dubbo",
          "Earlville",
          "Eastgardens",
          "Echuca",
          "Edwardstown",
          "Elizabeth",
          "Epping",
          "Erina",
          "Esperance",
          "Flemington",
          "Forbes",
          "Forest Hill",
          "Forest Lake",
          "Fountain Gate",
          "Frankston",
          "Fremantle",
          "Fulham Gardens",
          "Gawler",
          "Geelong",
          "Geraldton",
          "Gilgandra",
          "Gladstone",
          "Glen Waverley",
          "Glendale",
          "Glenn Innes",
          "Glenorchy",
          "Glenquarie",
          "Golden Grove",
          "Goulburn",
          "Grafton",
          "Greensborough",
          "Griffith",
          "Gunnedah",
          "Gympie",
          "Hamilton",
          "Harbourtown (SA Outlet)",
          "Helensvale",
          "Hervey Bay",
          "Highpoint",
          "Hobart",
          "Hollywood Plaza",
          "Hoppers Crossing",
          "Hornsby",
          "Hurstville",
          "Indooroopilly",
          "Ingham",
          "Innaloo",
          "Innisfail",
          "Inverell",
          "Ipswich",
          "Joondalup",
          "Kadina",
          "Kalgoorlie",
          "Katanning",
          "Katherine",
          "Katoomba",
          "Kempsey",
          "Kippa Ring",
          "Knox City",
          "Kotara",
          "Langwarrin",
          "Launceston",
          "Leichhardt",
          "Leongatha",
          "Lismore City",
          "Lithgow",
          "Liverpool",
          "Macarthur Square",
          "Mackay",
          "Macquarie",
          "Manjimup",
          "Mareeba",
          "Marion",
          "Maroochydore",
          "Mawson Lakes",
          "McLaren Vale",
          "Meadow Springs",
          "Melbourne CBD",
          "Merimbula",
          "Merrylands",
          "Midland",
          "Mildura",
          "Miranda",
          "Morayfield",
          "Moree",
          "Morisset",
          "Morley",
          "Mornington",
          "Morwell",
          "Mowbray",
          "Mt. Druitt",
          "Mt. Gambier",
          "Mt. Gravatt",
          "Mt. Ommaney",
          "Myrtleford",
          "NT Outlet",
          "Narracoorte",
          "Newton",
          "Noosa Junction",
          "North Lakes",
          "Northland",
          "Nowra",
          "Ocean Grove",
          "Ocean Shores",
          "Pacific Fair",
          "Pakenham",
          "Palmerston",
          "Parramatta",
          "Penrith",
          "Perth CBD",
          "Picton",
          "Plenty Valley",
          "Point Cook",
          "Port Douglas",
          "Port Macquarie",
          "Port Pirie",
          "Portland",
          "Queanbeyan",
          "Reynella",
          "Rhodes",
          "Ringwood",
          "Robina",
          "Rockdale",
          "Rockhampton",
          "Rockingham",
          "Rosebud",
          "Roselands",
          "Rouse Hill",
          "Runaway Bay",
          "Sale",
          "Sarina",
          "Sefton Park",
          "Seymour",
          "Shell Harbour",
          "Shepparton",
          "Somerville",
          "Southland",
          "Southport",
          "Springwood",
          "St Marys",
          "Stanthorpe",
          "Stirling",
          "Strathpine",
          "Sunbury",
          "Swan Hill",
          "Tamworth",
          "Taree",
          "Tea Tree Plaza",
          "Templestowe",
          "Tenterfield",
          "The Willows",
          "Toombul",
          "Toowoomba",
          "Tuggerah",
          "Tuggeranong",
          "Tumut",
          "Tweed Heads",
          "Ulladulla",
          "Unley",
          "Victor Harbor",
          "Victoria Park",
          "Wagga Wagga",
          "Warragul",
          "Warrawong",
          "Warringah Mall",
          "Warrnambool",
          "Watergardens",
          "Waurn Ponds",
          "Waverley Gardens",
          "West Lakes",
          "Weston Creek",
          "Wetherill Park",
          "Whitford City",
          "Whyalla",
          "Windsor",
          "Winmalee",
          "Wodonga",
          "Wonthaggi",
          "Woodend",
          "Yamba",
          "Yarrawonga",
          "Yass",
          "Yeppoon"
         ],
         "y": [
          1,
          0,
          1,
          0,
          2,
          1,
          0,
          3,
          0,
          4,
          10,
          3,
          1,
          5,
          0,
          4,
          4,
          0,
          3,
          0,
          3,
          3,
          1,
          2,
          1,
          3,
          6,
          1,
          1,
          12,
          0,
          2,
          16,
          3,
          10,
          2,
          4,
          9,
          5,
          9,
          2,
          5,
          5,
          0,
          7,
          4,
          1,
          6,
          2,
          1,
          1,
          5,
          8,
          17,
          0,
          5,
          0,
          6,
          5,
          7,
          7,
          14,
          7,
          0,
          1,
          8,
          11,
          8,
          0,
          1,
          1,
          2,
          0,
          2,
          6,
          4,
          1,
          5,
          1,
          4,
          5,
          2,
          15,
          6,
          1,
          5,
          1,
          2,
          1,
          8,
          5,
          6,
          3,
          5,
          4,
          0,
          5,
          6,
          0,
          3,
          4,
          2,
          1,
          10,
          1,
          3,
          1,
          5,
          4,
          0,
          0,
          2,
          0,
          0,
          5,
          1,
          8,
          7,
          4,
          9,
          11,
          2,
          5,
          0,
          6,
          2,
          2,
          8,
          6,
          2,
          2,
          1,
          0,
          4,
          1,
          0,
          5,
          3,
          3,
          5,
          5,
          1,
          0,
          3,
          6,
          3,
          4,
          8,
          0,
          2,
          4,
          1,
          1,
          7,
          4,
          6,
          1,
          2,
          8,
          5,
          8,
          8,
          1,
          2,
          9,
          1,
          2,
          3,
          0,
          0,
          4,
          1,
          1,
          3,
          0,
          5,
          0,
          12,
          9,
          1,
          0,
          3,
          2,
          2,
          5,
          3,
          4,
          9,
          2,
          4,
          6,
          0,
          6,
          1,
          0,
          2,
          7,
          7,
          4,
          5,
          1,
          5,
          6,
          1,
          4,
          4,
          0,
          1,
          1,
          4,
          0,
          2,
          0,
          7,
          9,
          4,
          5,
          1,
          1,
          4,
          4,
          5,
          0,
          1,
          1,
          1,
          1,
          6,
          4,
          5,
          5,
          9,
          4,
          0,
          2,
          1,
          4,
          3,
          4,
          1,
          2,
          4,
          5,
          3,
          8,
          4,
          2,
          9,
          0,
          2,
          4,
          0,
          0,
          0,
          2,
          3,
          1,
          0,
          0,
          3,
          3
         ]
        }
       ],
       "layout": {
        "barmode": "stack",
        "template": {
         "data": {
          "bar": [
           {
            "error_x": {
             "color": "#2a3f5f"
            },
            "error_y": {
             "color": "#2a3f5f"
            },
            "marker": {
             "line": {
              "color": "#E5ECF6",
              "width": 0.5
             },
             "pattern": {
              "fillmode": "overlay",
              "size": 10,
              "solidity": 0.2
             }
            },
            "type": "bar"
           }
          ],
          "barpolar": [
           {
            "marker": {
             "line": {
              "color": "#E5ECF6",
              "width": 0.5
             },
             "pattern": {
              "fillmode": "overlay",
              "size": 10,
              "solidity": 0.2
             }
            },
            "type": "barpolar"
           }
          ],
          "carpet": [
           {
            "aaxis": {
             "endlinecolor": "#2a3f5f",
             "gridcolor": "white",
             "linecolor": "white",
             "minorgridcolor": "white",
             "startlinecolor": "#2a3f5f"
            },
            "baxis": {
             "endlinecolor": "#2a3f5f",
             "gridcolor": "white",
             "linecolor": "white",
             "minorgridcolor": "white",
             "startlinecolor": "#2a3f5f"
            },
            "type": "carpet"
           }
          ],
          "choropleth": [
           {
            "colorbar": {
             "outlinewidth": 0,
             "ticks": ""
            },
            "type": "choropleth"
           }
          ],
          "contour": [
           {
            "colorbar": {
             "outlinewidth": 0,
             "ticks": ""
            },
            "colorscale": [
             [
              0,
              "#0d0887"
             ],
             [
              0.1111111111111111,
              "#46039f"
             ],
             [
              0.2222222222222222,
              "#7201a8"
             ],
             [
              0.3333333333333333,
              "#9c179e"
             ],
             [
              0.4444444444444444,
              "#bd3786"
             ],
             [
              0.5555555555555556,
              "#d8576b"
             ],
             [
              0.6666666666666666,
              "#ed7953"
             ],
             [
              0.7777777777777778,
              "#fb9f3a"
             ],
             [
              0.8888888888888888,
              "#fdca26"
             ],
             [
              1,
              "#f0f921"
             ]
            ],
            "type": "contour"
           }
          ],
          "contourcarpet": [
           {
            "colorbar": {
             "outlinewidth": 0,
             "ticks": ""
            },
            "type": "contourcarpet"
           }
          ],
          "heatmap": [
           {
            "colorbar": {
             "outlinewidth": 0,
             "ticks": ""
            },
            "colorscale": [
             [
              0,
              "#0d0887"
             ],
             [
              0.1111111111111111,
              "#46039f"
             ],
             [
              0.2222222222222222,
              "#7201a8"
             ],
             [
              0.3333333333333333,
              "#9c179e"
             ],
             [
              0.4444444444444444,
              "#bd3786"
             ],
             [
              0.5555555555555556,
              "#d8576b"
             ],
             [
              0.6666666666666666,
              "#ed7953"
             ],
             [
              0.7777777777777778,
              "#fb9f3a"
             ],
             [
              0.8888888888888888,
              "#fdca26"
             ],
             [
              1,
              "#f0f921"
             ]
            ],
            "type": "heatmap"
           }
          ],
          "heatmapgl": [
           {
            "colorbar": {
             "outlinewidth": 0,
             "ticks": ""
            },
            "colorscale": [
             [
              0,
              "#0d0887"
             ],
             [
              0.1111111111111111,
              "#46039f"
             ],
             [
              0.2222222222222222,
              "#7201a8"
             ],
             [
              0.3333333333333333,
              "#9c179e"
             ],
             [
              0.4444444444444444,
              "#bd3786"
             ],
             [
              0.5555555555555556,
              "#d8576b"
             ],
             [
              0.6666666666666666,
              "#ed7953"
             ],
             [
              0.7777777777777778,
              "#fb9f3a"
             ],
             [
              0.8888888888888888,
              "#fdca26"
             ],
             [
              1,
              "#f0f921"
             ]
            ],
            "type": "heatmapgl"
           }
          ],
          "histogram": [
           {
            "marker": {
             "pattern": {
              "fillmode": "overlay",
              "size": 10,
              "solidity": 0.2
             }
            },
            "type": "histogram"
           }
          ],
          "histogram2d": [
           {
            "colorbar": {
             "outlinewidth": 0,
             "ticks": ""
            },
            "colorscale": [
             [
              0,
              "#0d0887"
             ],
             [
              0.1111111111111111,
              "#46039f"
             ],
             [
              0.2222222222222222,
              "#7201a8"
             ],
             [
              0.3333333333333333,
              "#9c179e"
             ],
             [
              0.4444444444444444,
              "#bd3786"
             ],
             [
              0.5555555555555556,
              "#d8576b"
             ],
             [
              0.6666666666666666,
              "#ed7953"
             ],
             [
              0.7777777777777778,
              "#fb9f3a"
             ],
             [
              0.8888888888888888,
              "#fdca26"
             ],
             [
              1,
              "#f0f921"
             ]
            ],
            "type": "histogram2d"
           }
          ],
          "histogram2dcontour": [
           {
            "colorbar": {
             "outlinewidth": 0,
             "ticks": ""
            },
            "colorscale": [
             [
              0,
              "#0d0887"
             ],
             [
              0.1111111111111111,
              "#46039f"
             ],
             [
              0.2222222222222222,
              "#7201a8"
             ],
             [
              0.3333333333333333,
              "#9c179e"
             ],
             [
              0.4444444444444444,
              "#bd3786"
             ],
             [
              0.5555555555555556,
              "#d8576b"
             ],
             [
              0.6666666666666666,
              "#ed7953"
             ],
             [
              0.7777777777777778,
              "#fb9f3a"
             ],
             [
              0.8888888888888888,
              "#fdca26"
             ],
             [
              1,
              "#f0f921"
             ]
            ],
            "type": "histogram2dcontour"
           }
          ],
          "mesh3d": [
           {
            "colorbar": {
             "outlinewidth": 0,
             "ticks": ""
            },
            "type": "mesh3d"
           }
          ],
          "parcoords": [
           {
            "line": {
             "colorbar": {
              "outlinewidth": 0,
              "ticks": ""
             }
            },
            "type": "parcoords"
           }
          ],
          "pie": [
           {
            "automargin": true,
            "type": "pie"
           }
          ],
          "scatter": [
           {
            "marker": {
             "colorbar": {
              "outlinewidth": 0,
              "ticks": ""
             }
            },
            "type": "scatter"
           }
          ],
          "scatter3d": [
           {
            "line": {
             "colorbar": {
              "outlinewidth": 0,
              "ticks": ""
             }
            },
            "marker": {
             "colorbar": {
              "outlinewidth": 0,
              "ticks": ""
             }
            },
            "type": "scatter3d"
           }
          ],
          "scattercarpet": [
           {
            "marker": {
             "colorbar": {
              "outlinewidth": 0,
              "ticks": ""
             }
            },
            "type": "scattercarpet"
           }
          ],
          "scattergeo": [
           {
            "marker": {
             "colorbar": {
              "outlinewidth": 0,
              "ticks": ""
             }
            },
            "type": "scattergeo"
           }
          ],
          "scattergl": [
           {
            "marker": {
             "colorbar": {
              "outlinewidth": 0,
              "ticks": ""
             }
            },
            "type": "scattergl"
           }
          ],
          "scattermapbox": [
           {
            "marker": {
             "colorbar": {
              "outlinewidth": 0,
              "ticks": ""
             }
            },
            "type": "scattermapbox"
           }
          ],
          "scatterpolar": [
           {
            "marker": {
             "colorbar": {
              "outlinewidth": 0,
              "ticks": ""
             }
            },
            "type": "scatterpolar"
           }
          ],
          "scatterpolargl": [
           {
            "marker": {
             "colorbar": {
              "outlinewidth": 0,
              "ticks": ""
             }
            },
            "type": "scatterpolargl"
           }
          ],
          "scatterternary": [
           {
            "marker": {
             "colorbar": {
              "outlinewidth": 0,
              "ticks": ""
             }
            },
            "type": "scatterternary"
           }
          ],
          "surface": [
           {
            "colorbar": {
             "outlinewidth": 0,
             "ticks": ""
            },
            "colorscale": [
             [
              0,
              "#0d0887"
             ],
             [
              0.1111111111111111,
              "#46039f"
             ],
             [
              0.2222222222222222,
              "#7201a8"
             ],
             [
              0.3333333333333333,
              "#9c179e"
             ],
             [
              0.4444444444444444,
              "#bd3786"
             ],
             [
              0.5555555555555556,
              "#d8576b"
             ],
             [
              0.6666666666666666,
              "#ed7953"
             ],
             [
              0.7777777777777778,
              "#fb9f3a"
             ],
             [
              0.8888888888888888,
              "#fdca26"
             ],
             [
              1,
              "#f0f921"
             ]
            ],
            "type": "surface"
           }
          ],
          "table": [
           {
            "cells": {
             "fill": {
              "color": "#EBF0F8"
             },
             "line": {
              "color": "white"
             }
            },
            "header": {
             "fill": {
              "color": "#C8D4E3"
             },
             "line": {
              "color": "white"
             }
            },
            "type": "table"
           }
          ]
         },
         "layout": {
          "annotationdefaults": {
           "arrowcolor": "#2a3f5f",
           "arrowhead": 0,
           "arrowwidth": 1
          },
          "autotypenumbers": "strict",
          "coloraxis": {
           "colorbar": {
            "outlinewidth": 0,
            "ticks": ""
           }
          },
          "colorscale": {
           "diverging": [
            [
             0,
             "#8e0152"
            ],
            [
             0.1,
             "#c51b7d"
            ],
            [
             0.2,
             "#de77ae"
            ],
            [
             0.3,
             "#f1b6da"
            ],
            [
             0.4,
             "#fde0ef"
            ],
            [
             0.5,
             "#f7f7f7"
            ],
            [
             0.6,
             "#e6f5d0"
            ],
            [
             0.7,
             "#b8e186"
            ],
            [
             0.8,
             "#7fbc41"
            ],
            [
             0.9,
             "#4d9221"
            ],
            [
             1,
             "#276419"
            ]
           ],
           "sequential": [
            [
             0,
             "#0d0887"
            ],
            [
             0.1111111111111111,
             "#46039f"
            ],
            [
             0.2222222222222222,
             "#7201a8"
            ],
            [
             0.3333333333333333,
             "#9c179e"
            ],
            [
             0.4444444444444444,
             "#bd3786"
            ],
            [
             0.5555555555555556,
             "#d8576b"
            ],
            [
             0.6666666666666666,
             "#ed7953"
            ],
            [
             0.7777777777777778,
             "#fb9f3a"
            ],
            [
             0.8888888888888888,
             "#fdca26"
            ],
            [
             1,
             "#f0f921"
            ]
           ],
           "sequentialminus": [
            [
             0,
             "#0d0887"
            ],
            [
             0.1111111111111111,
             "#46039f"
            ],
            [
             0.2222222222222222,
             "#7201a8"
            ],
            [
             0.3333333333333333,
             "#9c179e"
            ],
            [
             0.4444444444444444,
             "#bd3786"
            ],
            [
             0.5555555555555556,
             "#d8576b"
            ],
            [
             0.6666666666666666,
             "#ed7953"
            ],
            [
             0.7777777777777778,
             "#fb9f3a"
            ],
            [
             0.8888888888888888,
             "#fdca26"
            ],
            [
             1,
             "#f0f921"
            ]
           ]
          },
          "colorway": [
           "#636efa",
           "#EF553B",
           "#00cc96",
           "#ab63fa",
           "#FFA15A",
           "#19d3f3",
           "#FF6692",
           "#B6E880",
           "#FF97FF",
           "#FECB52"
          ],
          "font": {
           "color": "#2a3f5f"
          },
          "geo": {
           "bgcolor": "white",
           "lakecolor": "white",
           "landcolor": "#E5ECF6",
           "showlakes": true,
           "showland": true,
           "subunitcolor": "white"
          },
          "hoverlabel": {
           "align": "left"
          },
          "hovermode": "closest",
          "mapbox": {
           "style": "light"
          },
          "paper_bgcolor": "white",
          "plot_bgcolor": "#E5ECF6",
          "polar": {
           "angularaxis": {
            "gridcolor": "white",
            "linecolor": "white",
            "ticks": ""
           },
           "bgcolor": "#E5ECF6",
           "radialaxis": {
            "gridcolor": "white",
            "linecolor": "white",
            "ticks": ""
           }
          },
          "scene": {
           "xaxis": {
            "backgroundcolor": "#E5ECF6",
            "gridcolor": "white",
            "gridwidth": 2,
            "linecolor": "white",
            "showbackground": true,
            "ticks": "",
            "zerolinecolor": "white"
           },
           "yaxis": {
            "backgroundcolor": "#E5ECF6",
            "gridcolor": "white",
            "gridwidth": 2,
            "linecolor": "white",
            "showbackground": true,
            "ticks": "",
            "zerolinecolor": "white"
           },
           "zaxis": {
            "backgroundcolor": "#E5ECF6",
            "gridcolor": "white",
            "gridwidth": 2,
            "linecolor": "white",
            "showbackground": true,
            "ticks": "",
            "zerolinecolor": "white"
           }
          },
          "shapedefaults": {
           "line": {
            "color": "#2a3f5f"
           }
          },
          "ternary": {
           "aaxis": {
            "gridcolor": "white",
            "linecolor": "white",
            "ticks": ""
           },
           "baxis": {
            "gridcolor": "white",
            "linecolor": "white",
            "ticks": ""
           },
           "bgcolor": "#E5ECF6",
           "caxis": {
            "gridcolor": "white",
            "linecolor": "white",
            "ticks": ""
           }
          },
          "title": {
           "x": 0.05
          },
          "xaxis": {
           "automargin": true,
           "gridcolor": "white",
           "linecolor": "white",
           "ticks": "",
           "title": {
            "standoff": 15
           },
           "zerolinecolor": "white",
           "zerolinewidth": 2
          },
          "yaxis": {
           "automargin": true,
           "gridcolor": "white",
           "linecolor": "white",
           "ticks": "",
           "title": {
            "standoff": 15
           },
           "zerolinecolor": "white",
           "zerolinewidth": 2
          }
         }
        },
        "title": {
         "text": "Access to Information across Stores"
        }
       }
      }
     },
     "metadata": {},
     "output_type": "display_data"
    }
   ],
   "source": [
    "fig = go.Figure(data=[\n",
    "    go.Bar(name='Same', x=branch_information['Store'], y=branch_information['Same']),\n",
    "    go.Bar(name='Worse', x=branch_information['Store'], y=branch_information['Worse']),\n",
    "    go.Bar(name='Better', x=branch_information['Store'], y=branch_information['Better'])\n",
    "\n",
    "])\n",
    "\n",
    "fig.update_layout(barmode='stack', title = 'Access to Information across Stores')\n",
    "fig.show()"
   ]
  },
  {
   "cell_type": "markdown",
   "metadata": {},
   "source": [
    "## Analyzing Sales of Division across branches\n",
    "### There is almost an even distribution among the quantity of sales among house, baby and other divisions with apparel variying across stores. \n",
    "### Seems like products that belong to House, Baby and Other divison generate more revenue compared to Apparels "
   ]
  },
  {
   "cell_type": "code",
   "execution_count": 36,
   "metadata": {},
   "outputs": [],
   "source": [
    "branch_division = branch_data[['Store','Total Spend', 'Division']]\n",
    "branch_division['Total Spend'] = pd.to_numeric(branch_division['Total Spend'].str.strip('$'))\n",
    "branch_division = pd.concat([branch_division.iloc[:,0:2], pd.get_dummies(branch_division.Division)], axis = 1)\n",
    "branch_division['Apparel'] = branch_division['Apparel'] * branch_division['Total Spend']\n",
    "branch_division['Baby'] = branch_division['Baby'] * branch_division['Total Spend']\n",
    "branch_division['House'] = branch_division['House'] * branch_division['Total Spend']\n",
    "branch_division['Other'] = branch_division['Other'] * branch_division['Total Spend']\n",
    "branch_division = branch_division.groupby(branch_division['Store']).sum().reset_index()"
   ]
  },
  {
   "cell_type": "code",
   "execution_count": 37,
   "metadata": {},
   "outputs": [
    {
     "data": {
      "application/vnd.plotly.v1+json": {
       "config": {
        "plotlyServerURL": "https://plot.ly"
       },
       "data": [
        {
         "name": "Apparel",
         "type": "bar",
         "x": [
          "5000-Unknown",
          "5224-Unknown",
          "5648-Unknown",
          "5827-Unknown",
          "5991-Unknown",
          "6386-Unknown",
          "6491-Unknown",
          "6545-Unknown",
          "6548-Unknown",
          "Airport West",
          "Albany",
          "Albury",
          "Ararat",
          "Armadale",
          "Ayr",
          "Bairnsdale",
          "Ballarat",
          "Ballina",
          "Bankstown",
          "Bass Hill",
          "Batemans Bay",
          "Bathurst",
          "Bega",
          "Belconnen",
          "Benalla",
          "Bendigo",
          "Bentleigh",
          "Berri",
          "Blacktown",
          "Bondi",
          "Bowen",
          "Bribie Island",
          "Brisbane CBD",
          "Broadmeadows",
          "Broadway",
          "Broome",
          "Browns Plains",
          "Bullcreek",
          "Bunbury",
          "Bundaberg",
          "Buranda",
          "Burnie",
          "Burwood",
          "Busselton",
          "Cairns",
          "Camberwell",
          "Camden",
          "Campbelltown",
          "Canberra",
          "Cannonvale",
          "Cannot find store",
          "Capalaba",
          "Carindale",
          "Carlingford",
          "Caroline Springs",
          "Carousel",
          "Casino",
          "Castle Hill",
          "Castlemaine",
          "Castletown",
          "Centrepoint",
          "Chadstone",
          "Charlestown",
          "Charleville",
          "Charters Towers",
          "Chatswood",
          "Chermside",
          "Chirnside Park",
          "Clare",
          "Cobram",
          "Coffs Harbour",
          "Colac",
          "Cowra",
          "Craigieburn",
          "Dalby",
          "Dandenong",
          "Deniliquin",
          "Doncaster",
          "Dubbo",
          "Earlville",
          "Eastgardens",
          "Echuca",
          "Edwardstown",
          "Elizabeth",
          "Epping",
          "Erina",
          "Esperance",
          "Flemington",
          "Forbes",
          "Forest Hill",
          "Forest Lake",
          "Fountain Gate",
          "Frankston",
          "Fremantle",
          "Fulham Gardens",
          "Gawler",
          "Geelong",
          "Geraldton",
          "Gilgandra",
          "Gladstone",
          "Glen Waverley",
          "Glendale",
          "Glenn Innes",
          "Glenorchy",
          "Glenquarie",
          "Golden Grove",
          "Goulburn",
          "Grafton",
          "Greensborough",
          "Griffith",
          "Gunnedah",
          "Gympie",
          "Hamilton",
          "Harbourtown (SA Outlet)",
          "Helensvale",
          "Hervey Bay",
          "Highpoint",
          "Hobart",
          "Hollywood Plaza",
          "Hoppers Crossing",
          "Hornsby",
          "Hurstville",
          "Indooroopilly",
          "Ingham",
          "Innaloo",
          "Innisfail",
          "Inverell",
          "Ipswich",
          "Joondalup",
          "Kadina",
          "Kalgoorlie",
          "Katanning",
          "Katherine",
          "Katoomba",
          "Kempsey",
          "Kippa Ring",
          "Knox City",
          "Kotara",
          "Langwarrin",
          "Launceston",
          "Leichhardt",
          "Leongatha",
          "Lismore City",
          "Lithgow",
          "Liverpool",
          "Macarthur Square",
          "Mackay",
          "Macquarie",
          "Manjimup",
          "Mareeba",
          "Marion",
          "Maroochydore",
          "Mawson Lakes",
          "McLaren Vale",
          "Meadow Springs",
          "Melbourne CBD",
          "Merimbula",
          "Merrylands",
          "Midland",
          "Mildura",
          "Miranda",
          "Morayfield",
          "Moree",
          "Morisset",
          "Morley",
          "Mornington",
          "Morwell",
          "Mowbray",
          "Mt. Druitt",
          "Mt. Gambier",
          "Mt. Gravatt",
          "Mt. Ommaney",
          "Myrtleford",
          "NT Outlet",
          "Narracoorte",
          "Newton",
          "Noosa Junction",
          "North Lakes",
          "Northland",
          "Nowra",
          "Ocean Grove",
          "Ocean Shores",
          "Pacific Fair",
          "Pakenham",
          "Palmerston",
          "Parramatta",
          "Penrith",
          "Perth CBD",
          "Picton",
          "Plenty Valley",
          "Point Cook",
          "Port Douglas",
          "Port Macquarie",
          "Port Pirie",
          "Portland",
          "Queanbeyan",
          "Reynella",
          "Rhodes",
          "Ringwood",
          "Robina",
          "Rockdale",
          "Rockhampton",
          "Rockingham",
          "Rosebud",
          "Roselands",
          "Rouse Hill",
          "Runaway Bay",
          "Sale",
          "Sarina",
          "Sefton Park",
          "Seymour",
          "Shell Harbour",
          "Shepparton",
          "Somerville",
          "Southland",
          "Southport",
          "Springwood",
          "St Marys",
          "Stanthorpe",
          "Stirling",
          "Strathpine",
          "Sunbury",
          "Swan Hill",
          "Tamworth",
          "Taree",
          "Tea Tree Plaza",
          "Templestowe",
          "Tenterfield",
          "The Willows",
          "Toombul",
          "Toowoomba",
          "Tuggerah",
          "Tuggeranong",
          "Tumut",
          "Tweed Heads",
          "Ulladulla",
          "Unley",
          "Victor Harbor",
          "Victoria Park",
          "Wagga Wagga",
          "Warragul",
          "Warrawong",
          "Warringah Mall",
          "Warrnambool",
          "Watergardens",
          "Waurn Ponds",
          "Waverley Gardens",
          "West Lakes",
          "Weston Creek",
          "Wetherill Park",
          "Whitford City",
          "Whyalla",
          "Windsor",
          "Winmalee",
          "Wodonga",
          "Wonthaggi",
          "Woodend",
          "Yamba",
          "Yarrawonga",
          "Yass",
          "Yeppoon"
         ],
         "y": [
          0,
          0,
          648.39,
          0,
          105.96,
          0,
          974.52,
          794.48,
          0,
          1244.0700000000002,
          2552.92,
          3567.7200000000003,
          1199.93,
          4819.53,
          691.01,
          82.84,
          2152.01,
          0,
          4465.16,
          209.3,
          551.92,
          2839.44,
          272.2,
          2306.39,
          623.57,
          1406.2,
          1612.79,
          663.32,
          0,
          491.42,
          0,
          0,
          6438.14,
          1209.92,
          1522.63,
          0,
          1495.52,
          6461.09,
          1085.24,
          2525.7,
          2564.21,
          2494.4,
          2163.41,
          0,
          2926.49,
          2651.2,
          641.58,
          3357.19,
          879.61,
          0,
          388.46,
          1164.83,
          4473.01,
          4666.06,
          0,
          2182.36,
          211.72,
          2204.45,
          732.41,
          4646,
          2255.3399999999997,
          6322.49,
          3745.93,
          0,
          664.48,
          4551.969999999999,
          4582.95,
          2316.0099999999998,
          0,
          0,
          881.6700000000001,
          398.92,
          0,
          1016.33,
          1328.57,
          605.08,
          0,
          2285.69,
          842.54,
          2564.6,
          2026.12,
          0,
          5356.469999999999,
          1007.5,
          466.36,
          2306.7799999999997,
          45.28,
          765.94,
          190.06,
          880.76,
          1203.52,
          3583.25,
          2501.08,
          3019.63,
          1523,
          0,
          2113.15,
          1441.88,
          0,
          44.09,
          0,
          0,
          0,
          4298.05,
          0,
          2856.95,
          0,
          1964.79,
          54.8,
          0,
          903.95,
          0,
          720.44,
          635.63,
          3191.3199999999997,
          2217.88,
          2803.87,
          5839.75,
          591.74,
          6009.29,
          1775.28,
          0,
          1923.1,
          0,
          607.8,
          1164.14,
          1414.6599999999999,
          1694.62,
          6534.16,
          1008.39,
          1155.27,
          1546.8799999999999,
          128.12,
          2078.66,
          0,
          1488.68,
          1720.29,
          2932.8,
          353.28,
          2598.64,
          2651.71,
          652.78,
          0,
          0,
          2510.09,
          1017.56,
          4472.26,
          4387.24,
          167.96,
          204.23,
          2710.77,
          3845.3,
          363.45,
          3558.89,
          1046.27,
          4636.51,
          0,
          314.45,
          3339.77,
          643.5999999999999,
          1069.49,
          3173.2200000000003,
          389.41,
          1469.1,
          4752.75,
          1858.07,
          1177.75,
          0,
          0,
          266.05,
          2195.41,
          0,
          876.79,
          0,
          667.51,
          675.25,
          196.43,
          6925.59,
          3442.3599999999997,
          343.01,
          574.67,
          961.06,
          1031.6100000000001,
          21.6,
          2479.59,
          2385.2,
          1225.08,
          2914.7200000000003,
          0,
          2152.93,
          5745.62,
          0,
          2621.65,
          1476.95,
          748.61,
          656.81,
          2201.94,
          5929.83,
          3618.51,
          3000.9,
          1788.7800000000002,
          3670.08,
          7397.19,
          655.2,
          2342.99,
          1388.07,
          0,
          1045.6100000000001,
          0,
          3203.9900000000002,
          882.91,
          2042.54,
          1009.13,
          2739.6099999999997,
          6748.5,
          123.24,
          2541.66,
          424.75,
          697.58,
          1937.75,
          1889.53,
          751.58,
          0,
          1797.89,
          2201.17,
          872.24,
          525.35,
          2534.44,
          1281.9099999999999,
          1926.0300000000002,
          2348.96,
          4964.21,
          3317.38,
          0,
          909.3499999999999,
          1126.3899999999999,
          2169.95,
          1236.56,
          1360.71,
          0,
          359.76,
          2809.4,
          1676.33,
          913.04,
          2521.84,
          2423.88,
          444.87,
          3812.94,
          609.18,
          938.58,
          192.39,
          0,
          0,
          1019.91,
          827.36,
          2270.86,
          0,
          1390.02,
          344.74,
          3794.01,
          2889.2200000000003
         ]
        },
        {
         "name": "Baby",
         "type": "bar",
         "x": [
          "5000-Unknown",
          "5224-Unknown",
          "5648-Unknown",
          "5827-Unknown",
          "5991-Unknown",
          "6386-Unknown",
          "6491-Unknown",
          "6545-Unknown",
          "6548-Unknown",
          "Airport West",
          "Albany",
          "Albury",
          "Ararat",
          "Armadale",
          "Ayr",
          "Bairnsdale",
          "Ballarat",
          "Ballina",
          "Bankstown",
          "Bass Hill",
          "Batemans Bay",
          "Bathurst",
          "Bega",
          "Belconnen",
          "Benalla",
          "Bendigo",
          "Bentleigh",
          "Berri",
          "Blacktown",
          "Bondi",
          "Bowen",
          "Bribie Island",
          "Brisbane CBD",
          "Broadmeadows",
          "Broadway",
          "Broome",
          "Browns Plains",
          "Bullcreek",
          "Bunbury",
          "Bundaberg",
          "Buranda",
          "Burnie",
          "Burwood",
          "Busselton",
          "Cairns",
          "Camberwell",
          "Camden",
          "Campbelltown",
          "Canberra",
          "Cannonvale",
          "Cannot find store",
          "Capalaba",
          "Carindale",
          "Carlingford",
          "Caroline Springs",
          "Carousel",
          "Casino",
          "Castle Hill",
          "Castlemaine",
          "Castletown",
          "Centrepoint",
          "Chadstone",
          "Charlestown",
          "Charleville",
          "Charters Towers",
          "Chatswood",
          "Chermside",
          "Chirnside Park",
          "Clare",
          "Cobram",
          "Coffs Harbour",
          "Colac",
          "Cowra",
          "Craigieburn",
          "Dalby",
          "Dandenong",
          "Deniliquin",
          "Doncaster",
          "Dubbo",
          "Earlville",
          "Eastgardens",
          "Echuca",
          "Edwardstown",
          "Elizabeth",
          "Epping",
          "Erina",
          "Esperance",
          "Flemington",
          "Forbes",
          "Forest Hill",
          "Forest Lake",
          "Fountain Gate",
          "Frankston",
          "Fremantle",
          "Fulham Gardens",
          "Gawler",
          "Geelong",
          "Geraldton",
          "Gilgandra",
          "Gladstone",
          "Glen Waverley",
          "Glendale",
          "Glenn Innes",
          "Glenorchy",
          "Glenquarie",
          "Golden Grove",
          "Goulburn",
          "Grafton",
          "Greensborough",
          "Griffith",
          "Gunnedah",
          "Gympie",
          "Hamilton",
          "Harbourtown (SA Outlet)",
          "Helensvale",
          "Hervey Bay",
          "Highpoint",
          "Hobart",
          "Hollywood Plaza",
          "Hoppers Crossing",
          "Hornsby",
          "Hurstville",
          "Indooroopilly",
          "Ingham",
          "Innaloo",
          "Innisfail",
          "Inverell",
          "Ipswich",
          "Joondalup",
          "Kadina",
          "Kalgoorlie",
          "Katanning",
          "Katherine",
          "Katoomba",
          "Kempsey",
          "Kippa Ring",
          "Knox City",
          "Kotara",
          "Langwarrin",
          "Launceston",
          "Leichhardt",
          "Leongatha",
          "Lismore City",
          "Lithgow",
          "Liverpool",
          "Macarthur Square",
          "Mackay",
          "Macquarie",
          "Manjimup",
          "Mareeba",
          "Marion",
          "Maroochydore",
          "Mawson Lakes",
          "McLaren Vale",
          "Meadow Springs",
          "Melbourne CBD",
          "Merimbula",
          "Merrylands",
          "Midland",
          "Mildura",
          "Miranda",
          "Morayfield",
          "Moree",
          "Morisset",
          "Morley",
          "Mornington",
          "Morwell",
          "Mowbray",
          "Mt. Druitt",
          "Mt. Gambier",
          "Mt. Gravatt",
          "Mt. Ommaney",
          "Myrtleford",
          "NT Outlet",
          "Narracoorte",
          "Newton",
          "Noosa Junction",
          "North Lakes",
          "Northland",
          "Nowra",
          "Ocean Grove",
          "Ocean Shores",
          "Pacific Fair",
          "Pakenham",
          "Palmerston",
          "Parramatta",
          "Penrith",
          "Perth CBD",
          "Picton",
          "Plenty Valley",
          "Point Cook",
          "Port Douglas",
          "Port Macquarie",
          "Port Pirie",
          "Portland",
          "Queanbeyan",
          "Reynella",
          "Rhodes",
          "Ringwood",
          "Robina",
          "Rockdale",
          "Rockhampton",
          "Rockingham",
          "Rosebud",
          "Roselands",
          "Rouse Hill",
          "Runaway Bay",
          "Sale",
          "Sarina",
          "Sefton Park",
          "Seymour",
          "Shell Harbour",
          "Shepparton",
          "Somerville",
          "Southland",
          "Southport",
          "Springwood",
          "St Marys",
          "Stanthorpe",
          "Stirling",
          "Strathpine",
          "Sunbury",
          "Swan Hill",
          "Tamworth",
          "Taree",
          "Tea Tree Plaza",
          "Templestowe",
          "Tenterfield",
          "The Willows",
          "Toombul",
          "Toowoomba",
          "Tuggerah",
          "Tuggeranong",
          "Tumut",
          "Tweed Heads",
          "Ulladulla",
          "Unley",
          "Victor Harbor",
          "Victoria Park",
          "Wagga Wagga",
          "Warragul",
          "Warrawong",
          "Warringah Mall",
          "Warrnambool",
          "Watergardens",
          "Waurn Ponds",
          "Waverley Gardens",
          "West Lakes",
          "Weston Creek",
          "Wetherill Park",
          "Whitford City",
          "Whyalla",
          "Windsor",
          "Winmalee",
          "Wodonga",
          "Wonthaggi",
          "Woodend",
          "Yamba",
          "Yarrawonga",
          "Yass",
          "Yeppoon"
         ],
         "y": [
          378.99,
          0,
          0,
          0,
          759.18,
          0,
          837.07,
          892.1,
          824.91,
          3350.0699999999997,
          8094.72,
          1305.78,
          1790.25,
          2068.94,
          0,
          0,
          885.87,
          0,
          1313.71,
          0,
          1270.1799999999998,
          1122.3400000000001,
          0,
          1657.59,
          0,
          4258.79,
          1265.54,
          502.99,
          1003.16,
          1062.24,
          1019.45,
          624.37,
          4102.3,
          0,
          3395.17,
          0,
          1172.81,
          4426.78,
          1313.73,
          4000.29,
          2423.46,
          2146.08,
          2366.14,
          1584.29,
          1263.52,
          3797.83,
          1036.6,
          3098.6800000000003,
          683.94,
          586.88,
          2805.34,
          10.4,
          2191.81,
          2792.28,
          0,
          4065.46,
          951.81,
          1112.07,
          1393.38,
          3556.5099999999998,
          248.5,
          7336.400000000001,
          5155.25,
          0,
          0,
          4784.82,
          7227.79,
          2069.73,
          0,
          551.13,
          1681.5,
          0,
          704.83,
          209.84,
          2193.91,
          293.65000000000003,
          389.69,
          3170.95,
          0,
          3764.38,
          1689.29,
          1090.19,
          1531.63,
          1647.74,
          0,
          4285.88,
          0,
          853.56,
          0,
          3056.36,
          2066.9300000000003,
          2502.21,
          1390.43,
          1764.92,
          3700.34,
          0,
          4622.32,
          101.51,
          1435.46,
          0,
          4471.9,
          1640.65,
          730.92,
          3600.71,
          0,
          235.53,
          1218.31,
          0,
          1645.01,
          491.86,
          0,
          455.18999999999994,
          0,
          0,
          1525.6200000000001,
          2005.28,
          7510.110000000001,
          2939.58,
          268.45,
          6349.13,
          2457.9300000000003,
          2014.07,
          1993.95,
          0,
          2974.46,
          0,
          884.32,
          2910.2,
          2670.03,
          943.19,
          1705.13,
          0,
          0,
          1158.4,
          289.67,
          0,
          676.12,
          1765.22,
          2249.4700000000003,
          2536.87,
          2141.85,
          360.24,
          321.04,
          1745.87,
          1425.1399999999999,
          1693.59,
          1833.25,
          3526.8199999999997,
          0,
          887.89,
          506.74,
          1545.1599999999999,
          1147.99,
          2385.85,
          1701.75,
          4417.7,
          0,
          1416.4,
          1579.4,
          1570.54,
          1768.0800000000002,
          1025.28,
          0,
          2063.69,
          4690.87,
          1395.71,
          52.13,
          928.44,
          1529.7,
          0,
          3152.66,
          1525.8400000000001,
          0,
          0,
          0,
          2525.84,
          0,
          7463.44,
          3380.92,
          705.57,
          898.37,
          2967.78,
          1905.07,
          2659.3999999999996,
          3360.63,
          1852.96,
          2892.54,
          1521.77,
          371.56,
          2367.58,
          1671.08,
          0,
          3264.4199999999996,
          98.23,
          0,
          3026.02,
          1156.14,
          1812.1,
          164.78,
          2843.29,
          0,
          3279.21,
          6067.46,
          115.77,
          1716.37,
          1937.1999999999998,
          887.82,
          4539.86,
          557.59,
          2891.07,
          716.9,
          1355.8600000000001,
          11.7,
          2124.87,
          1822.9899999999998,
          2129.74,
          1499.83,
          1098.87,
          0,
          2541.58,
          998.4,
          1746.2,
          1581.38,
          940.75,
          0,
          2905.71,
          980.0500000000001,
          865.7499999999999,
          3299.49,
          657.91,
          3141.56,
          4991.53,
          3092.8,
          0,
          1808.1100000000001,
          0,
          1758.3600000000001,
          1137.01,
          585.14,
          0,
          1185.06,
          4355.38,
          4247.87,
          1794.71,
          2838.21,
          2864.25,
          349.69,
          1323.85,
          0,
          0,
          2708.37,
          0,
          192.3,
          73.52,
          451.59,
          92.29,
          137.49,
          353.94,
          668.01,
          324.71,
          0
         ]
        },
        {
         "name": "House",
         "type": "bar",
         "x": [
          "5000-Unknown",
          "5224-Unknown",
          "5648-Unknown",
          "5827-Unknown",
          "5991-Unknown",
          "6386-Unknown",
          "6491-Unknown",
          "6545-Unknown",
          "6548-Unknown",
          "Airport West",
          "Albany",
          "Albury",
          "Ararat",
          "Armadale",
          "Ayr",
          "Bairnsdale",
          "Ballarat",
          "Ballina",
          "Bankstown",
          "Bass Hill",
          "Batemans Bay",
          "Bathurst",
          "Bega",
          "Belconnen",
          "Benalla",
          "Bendigo",
          "Bentleigh",
          "Berri",
          "Blacktown",
          "Bondi",
          "Bowen",
          "Bribie Island",
          "Brisbane CBD",
          "Broadmeadows",
          "Broadway",
          "Broome",
          "Browns Plains",
          "Bullcreek",
          "Bunbury",
          "Bundaberg",
          "Buranda",
          "Burnie",
          "Burwood",
          "Busselton",
          "Cairns",
          "Camberwell",
          "Camden",
          "Campbelltown",
          "Canberra",
          "Cannonvale",
          "Cannot find store",
          "Capalaba",
          "Carindale",
          "Carlingford",
          "Caroline Springs",
          "Carousel",
          "Casino",
          "Castle Hill",
          "Castlemaine",
          "Castletown",
          "Centrepoint",
          "Chadstone",
          "Charlestown",
          "Charleville",
          "Charters Towers",
          "Chatswood",
          "Chermside",
          "Chirnside Park",
          "Clare",
          "Cobram",
          "Coffs Harbour",
          "Colac",
          "Cowra",
          "Craigieburn",
          "Dalby",
          "Dandenong",
          "Deniliquin",
          "Doncaster",
          "Dubbo",
          "Earlville",
          "Eastgardens",
          "Echuca",
          "Edwardstown",
          "Elizabeth",
          "Epping",
          "Erina",
          "Esperance",
          "Flemington",
          "Forbes",
          "Forest Hill",
          "Forest Lake",
          "Fountain Gate",
          "Frankston",
          "Fremantle",
          "Fulham Gardens",
          "Gawler",
          "Geelong",
          "Geraldton",
          "Gilgandra",
          "Gladstone",
          "Glen Waverley",
          "Glendale",
          "Glenn Innes",
          "Glenorchy",
          "Glenquarie",
          "Golden Grove",
          "Goulburn",
          "Grafton",
          "Greensborough",
          "Griffith",
          "Gunnedah",
          "Gympie",
          "Hamilton",
          "Harbourtown (SA Outlet)",
          "Helensvale",
          "Hervey Bay",
          "Highpoint",
          "Hobart",
          "Hollywood Plaza",
          "Hoppers Crossing",
          "Hornsby",
          "Hurstville",
          "Indooroopilly",
          "Ingham",
          "Innaloo",
          "Innisfail",
          "Inverell",
          "Ipswich",
          "Joondalup",
          "Kadina",
          "Kalgoorlie",
          "Katanning",
          "Katherine",
          "Katoomba",
          "Kempsey",
          "Kippa Ring",
          "Knox City",
          "Kotara",
          "Langwarrin",
          "Launceston",
          "Leichhardt",
          "Leongatha",
          "Lismore City",
          "Lithgow",
          "Liverpool",
          "Macarthur Square",
          "Mackay",
          "Macquarie",
          "Manjimup",
          "Mareeba",
          "Marion",
          "Maroochydore",
          "Mawson Lakes",
          "McLaren Vale",
          "Meadow Springs",
          "Melbourne CBD",
          "Merimbula",
          "Merrylands",
          "Midland",
          "Mildura",
          "Miranda",
          "Morayfield",
          "Moree",
          "Morisset",
          "Morley",
          "Mornington",
          "Morwell",
          "Mowbray",
          "Mt. Druitt",
          "Mt. Gambier",
          "Mt. Gravatt",
          "Mt. Ommaney",
          "Myrtleford",
          "NT Outlet",
          "Narracoorte",
          "Newton",
          "Noosa Junction",
          "North Lakes",
          "Northland",
          "Nowra",
          "Ocean Grove",
          "Ocean Shores",
          "Pacific Fair",
          "Pakenham",
          "Palmerston",
          "Parramatta",
          "Penrith",
          "Perth CBD",
          "Picton",
          "Plenty Valley",
          "Point Cook",
          "Port Douglas",
          "Port Macquarie",
          "Port Pirie",
          "Portland",
          "Queanbeyan",
          "Reynella",
          "Rhodes",
          "Ringwood",
          "Robina",
          "Rockdale",
          "Rockhampton",
          "Rockingham",
          "Rosebud",
          "Roselands",
          "Rouse Hill",
          "Runaway Bay",
          "Sale",
          "Sarina",
          "Sefton Park",
          "Seymour",
          "Shell Harbour",
          "Shepparton",
          "Somerville",
          "Southland",
          "Southport",
          "Springwood",
          "St Marys",
          "Stanthorpe",
          "Stirling",
          "Strathpine",
          "Sunbury",
          "Swan Hill",
          "Tamworth",
          "Taree",
          "Tea Tree Plaza",
          "Templestowe",
          "Tenterfield",
          "The Willows",
          "Toombul",
          "Toowoomba",
          "Tuggerah",
          "Tuggeranong",
          "Tumut",
          "Tweed Heads",
          "Ulladulla",
          "Unley",
          "Victor Harbor",
          "Victoria Park",
          "Wagga Wagga",
          "Warragul",
          "Warrawong",
          "Warringah Mall",
          "Warrnambool",
          "Watergardens",
          "Waurn Ponds",
          "Waverley Gardens",
          "West Lakes",
          "Weston Creek",
          "Wetherill Park",
          "Whitford City",
          "Whyalla",
          "Windsor",
          "Winmalee",
          "Wodonga",
          "Wonthaggi",
          "Woodend",
          "Yamba",
          "Yarrawonga",
          "Yass",
          "Yeppoon"
         ],
         "y": [
          805.05,
          482.9,
          55.85,
          953.48,
          0,
          622.94,
          0,
          875.05,
          1731.88,
          2890.24,
          2649.8,
          1339.5700000000002,
          518.08,
          1847.3400000000001,
          0,
          887.72,
          630.44,
          1406.35,
          1336.19,
          0,
          1193.78,
          1352.1,
          894.48,
          4308.61,
          810.98,
          706.18,
          1892.82,
          899.9,
          1558.6399999999999,
          6173.03,
          0,
          0,
          6806.389999999999,
          951.55,
          855.95,
          702.93,
          105.35,
          3280.83,
          2358.27,
          2292.52,
          545.41,
          3969.36,
          5198.24,
          146.42,
          1798.64,
          826.11,
          524.06,
          1228.3600000000001,
          869.4200000000001,
          847.65,
          1940.35,
          1010.9300000000001,
          2144.45,
          4112.21,
          0,
          2227.32,
          0,
          1570.72,
          1726.4399999999998,
          5188.3,
          2072.86,
          9164.97,
          1907.99,
          867.29,
          303.7,
          3583.0099999999998,
          3330.08,
          3631.9700000000003,
          0,
          0,
          409.17,
          208.38,
          252.32,
          506.40999999999997,
          2302.4300000000003,
          1483.6200000000001,
          0,
          1898.76,
          0,
          1826.94,
          1598.66,
          0,
          7976.01,
          2306.5099999999998,
          740.19,
          1872.01,
          878.25,
          818.51,
          1663.3,
          4018.32,
          1121.65,
          3341.88,
          1214.89,
          1248.1,
          712.29,
          515.45,
          1040.49,
          3691.94,
          0,
          1506.56,
          0,
          896.74,
          1003.64,
          1101.81,
          0,
          1638.1799999999998,
          737.48,
          429.38,
          3441.56,
          401.52,
          0,
          0,
          541.61,
          0,
          3009.26,
          759.8,
          5420.85,
          2099.78,
          1653.28,
          1983.24,
          2782.73,
          1232.99,
          692.06,
          0,
          3191.14,
          0,
          548.99,
          5710.53,
          3563.81,
          803.72,
          1260.01,
          1380.0100000000002,
          0,
          1824.7,
          0,
          156.6,
          1525.4,
          1483.46,
          465.92,
          1353.97,
          2630.96,
          0,
          0,
          1053.3,
          6020.54,
          2535.6800000000003,
          3354.23,
          1853.94,
          0,
          688.04,
          897.6,
          1062.52,
          862.57,
          2124.46,
          929.93,
          3411.26,
          1066.3200000000002,
          1244.6,
          3724.52,
          3360.6400000000003,
          1831.1799999999998,
          4576.64,
          679.83,
          0,
          5767.33,
          375.35,
          831.89,
          870.22,
          806.06,
          1875.99,
          3168.48,
          0,
          596.29,
          766.98,
          0,
          2760.94,
          261.43,
          6030.41,
          6590.27,
          0,
          0,
          734.2,
          810.63,
          1666.12,
          1105.31,
          3397.21,
          1262.04,
          1397.8799999999999,
          639.93,
          965.69,
          4152.15,
          0,
          3839.53,
          0,
          438.73,
          254.24,
          2577.29,
          2005.6499999999999,
          1727.83,
          4370.74,
          0,
          3865.88,
          5162.03,
          0,
          1100.1599999999999,
          837.84,
          0,
          1500.07,
          290.03,
          3559,
          0,
          1946.48,
          0,
          2449.52,
          9083.27,
          1040.6200000000001,
          1003.32,
          229.63,
          1304.1100000000001,
          110.16,
          3682.83,
          1801.77,
          0,
          841.1400000000001,
          0,
          3182.23,
          1162.85,
          2094.04,
          2303.11,
          0,
          841.22,
          3899.38,
          1609.46,
          18.11,
          1926.9099999999999,
          1184.17,
          838.8,
          619.06,
          4228.46,
          557.68,
          229.31,
          1452.5500000000002,
          6512.13,
          1637.45,
          3331.1,
          2240.78,
          2187.85,
          3590.9700000000003,
          0,
          2977.04,
          2232.35,
          590.65,
          0,
          1459.88,
          0,
          1202.3899999999999,
          525.27,
          0,
          0,
          2122.33,
          1539.71
         ]
        },
        {
         "name": "Other",
         "type": "bar",
         "x": [
          "5000-Unknown",
          "5224-Unknown",
          "5648-Unknown",
          "5827-Unknown",
          "5991-Unknown",
          "6386-Unknown",
          "6491-Unknown",
          "6545-Unknown",
          "6548-Unknown",
          "Airport West",
          "Albany",
          "Albury",
          "Ararat",
          "Armadale",
          "Ayr",
          "Bairnsdale",
          "Ballarat",
          "Ballina",
          "Bankstown",
          "Bass Hill",
          "Batemans Bay",
          "Bathurst",
          "Bega",
          "Belconnen",
          "Benalla",
          "Bendigo",
          "Bentleigh",
          "Berri",
          "Blacktown",
          "Bondi",
          "Bowen",
          "Bribie Island",
          "Brisbane CBD",
          "Broadmeadows",
          "Broadway",
          "Broome",
          "Browns Plains",
          "Bullcreek",
          "Bunbury",
          "Bundaberg",
          "Buranda",
          "Burnie",
          "Burwood",
          "Busselton",
          "Cairns",
          "Camberwell",
          "Camden",
          "Campbelltown",
          "Canberra",
          "Cannonvale",
          "Cannot find store",
          "Capalaba",
          "Carindale",
          "Carlingford",
          "Caroline Springs",
          "Carousel",
          "Casino",
          "Castle Hill",
          "Castlemaine",
          "Castletown",
          "Centrepoint",
          "Chadstone",
          "Charlestown",
          "Charleville",
          "Charters Towers",
          "Chatswood",
          "Chermside",
          "Chirnside Park",
          "Clare",
          "Cobram",
          "Coffs Harbour",
          "Colac",
          "Cowra",
          "Craigieburn",
          "Dalby",
          "Dandenong",
          "Deniliquin",
          "Doncaster",
          "Dubbo",
          "Earlville",
          "Eastgardens",
          "Echuca",
          "Edwardstown",
          "Elizabeth",
          "Epping",
          "Erina",
          "Esperance",
          "Flemington",
          "Forbes",
          "Forest Hill",
          "Forest Lake",
          "Fountain Gate",
          "Frankston",
          "Fremantle",
          "Fulham Gardens",
          "Gawler",
          "Geelong",
          "Geraldton",
          "Gilgandra",
          "Gladstone",
          "Glen Waverley",
          "Glendale",
          "Glenn Innes",
          "Glenorchy",
          "Glenquarie",
          "Golden Grove",
          "Goulburn",
          "Grafton",
          "Greensborough",
          "Griffith",
          "Gunnedah",
          "Gympie",
          "Hamilton",
          "Harbourtown (SA Outlet)",
          "Helensvale",
          "Hervey Bay",
          "Highpoint",
          "Hobart",
          "Hollywood Plaza",
          "Hoppers Crossing",
          "Hornsby",
          "Hurstville",
          "Indooroopilly",
          "Ingham",
          "Innaloo",
          "Innisfail",
          "Inverell",
          "Ipswich",
          "Joondalup",
          "Kadina",
          "Kalgoorlie",
          "Katanning",
          "Katherine",
          "Katoomba",
          "Kempsey",
          "Kippa Ring",
          "Knox City",
          "Kotara",
          "Langwarrin",
          "Launceston",
          "Leichhardt",
          "Leongatha",
          "Lismore City",
          "Lithgow",
          "Liverpool",
          "Macarthur Square",
          "Mackay",
          "Macquarie",
          "Manjimup",
          "Mareeba",
          "Marion",
          "Maroochydore",
          "Mawson Lakes",
          "McLaren Vale",
          "Meadow Springs",
          "Melbourne CBD",
          "Merimbula",
          "Merrylands",
          "Midland",
          "Mildura",
          "Miranda",
          "Morayfield",
          "Moree",
          "Morisset",
          "Morley",
          "Mornington",
          "Morwell",
          "Mowbray",
          "Mt. Druitt",
          "Mt. Gambier",
          "Mt. Gravatt",
          "Mt. Ommaney",
          "Myrtleford",
          "NT Outlet",
          "Narracoorte",
          "Newton",
          "Noosa Junction",
          "North Lakes",
          "Northland",
          "Nowra",
          "Ocean Grove",
          "Ocean Shores",
          "Pacific Fair",
          "Pakenham",
          "Palmerston",
          "Parramatta",
          "Penrith",
          "Perth CBD",
          "Picton",
          "Plenty Valley",
          "Point Cook",
          "Port Douglas",
          "Port Macquarie",
          "Port Pirie",
          "Portland",
          "Queanbeyan",
          "Reynella",
          "Rhodes",
          "Ringwood",
          "Robina",
          "Rockdale",
          "Rockhampton",
          "Rockingham",
          "Rosebud",
          "Roselands",
          "Rouse Hill",
          "Runaway Bay",
          "Sale",
          "Sarina",
          "Sefton Park",
          "Seymour",
          "Shell Harbour",
          "Shepparton",
          "Somerville",
          "Southland",
          "Southport",
          "Springwood",
          "St Marys",
          "Stanthorpe",
          "Stirling",
          "Strathpine",
          "Sunbury",
          "Swan Hill",
          "Tamworth",
          "Taree",
          "Tea Tree Plaza",
          "Templestowe",
          "Tenterfield",
          "The Willows",
          "Toombul",
          "Toowoomba",
          "Tuggerah",
          "Tuggeranong",
          "Tumut",
          "Tweed Heads",
          "Ulladulla",
          "Unley",
          "Victor Harbor",
          "Victoria Park",
          "Wagga Wagga",
          "Warragul",
          "Warrawong",
          "Warringah Mall",
          "Warrnambool",
          "Watergardens",
          "Waurn Ponds",
          "Waverley Gardens",
          "West Lakes",
          "Weston Creek",
          "Wetherill Park",
          "Whitford City",
          "Whyalla",
          "Windsor",
          "Winmalee",
          "Wodonga",
          "Wonthaggi",
          "Woodend",
          "Yamba",
          "Yarrawonga",
          "Yass",
          "Yeppoon"
         ],
         "y": [
          790.47,
          115.5,
          0,
          0,
          745.5699999999999,
          139.68,
          0,
          0,
          0,
          3266.98,
          1850,
          939.56,
          806.27,
          1768.88,
          308.72,
          1257.12,
          2331.53,
          0,
          2531.08,
          336.75,
          383.52,
          62.53,
          0,
          2730.05,
          287.64,
          934.1,
          855.5699999999999,
          0,
          2300.19,
          8404.54,
          643.36,
          1250.76,
          4394.75,
          364.45,
          4384.13,
          693.22,
          767.17,
          3530.7799999999997,
          976.69,
          4722.51,
          0,
          2944.1,
          5274.42,
          836.94,
          671.64,
          774.8,
          889.89,
          3012.84,
          1735.66,
          0,
          1701.1,
          921.92,
          4382.72,
          4579.5,
          203.64,
          1166.41,
          0,
          1772.3600000000001,
          1265.67,
          2546.2200000000003,
          1010.74,
          5113.8099999999995,
          2082.37,
          0,
          413.57000000000005,
          4534.29,
          2892.5,
          2075.41,
          1116.95,
          421.83,
          1625.95,
          0,
          396.76,
          605.17,
          3179.07,
          2222.82,
          621.73,
          1140.65,
          0,
          262.41,
          4153.12,
          0,
          6924.18,
          1853.4099999999999,
          0,
          1877.19,
          0,
          1440.8899999999999,
          0,
          4655.42,
          3599.98,
          3219.99,
          1866,
          3880.0499999999997,
          1063.31,
          0,
          843.45,
          1367.27,
          0,
          575.14,
          2589.57,
          3599.88,
          0,
          2390.08,
          894.6999999999999,
          948.3,
          0,
          1479.88,
          4719.27,
          0,
          551.81,
          1447.5,
          0,
          253.23,
          2518.36,
          629.13,
          3791.38,
          3907.14,
          488.57000000000005,
          2608.15,
          3706.05,
          1035.77,
          1818.7800000000002,
          1143.15,
          3653.2200000000003,
          279.88,
          0,
          1921.75,
          1542.1399999999999,
          2714.21,
          892.78,
          0,
          0,
          300.98,
          0,
          1052.06,
          2429.33,
          1837,
          2145.92,
          1097.37,
          1301.19,
          0,
          0,
          902.73,
          3347.6499999999996,
          2287.79,
          2593.08,
          1592.81,
          0,
          1937.7800000000002,
          1137.1,
          4138.58,
          178.46,
          4668.42,
          1524.9299999999998,
          5284.77,
          0,
          0,
          1610.28,
          1564.1,
          2038.26,
          2046.94,
          0,
          1312.38,
          6730.76,
          1190.45,
          1175.03,
          1631.21,
          0,
          468.09,
          1680.32,
          1494.18,
          1567.5500000000002,
          1115.22,
          691.75,
          1990.21,
          0,
          2608.58,
          4833.8099999999995,
          809.12,
          0,
          0,
          1275.4099999999999,
          250.98,
          971.48,
          2340.81,
          2915.01,
          6347.4,
          1816.85,
          3144.2799999999997,
          1128.2,
          933.47,
          4365.3099999999995,
          0,
          0,
          2723.23,
          2433.81,
          3455.36,
          1930.24,
          2612.74,
          0,
          3290.3799999999997,
          3819.15,
          0,
          0,
          464.35,
          1543.16,
          3360.63,
          0,
          1754.68,
          0,
          2355.22,
          0,
          925.29,
          2235.3,
          2912.25,
          833.87,
          49.6,
          0,
          552.77,
          1024.33,
          3985.21,
          0,
          0,
          276.91,
          834.46,
          0,
          1919.0500000000002,
          1739.63,
          4452.46,
          772.96,
          2781.45,
          2183.29,
          66.17,
          1861.8899999999999,
          0,
          2132.19,
          1198.98,
          1348.27,
          366.04,
          754.44,
          3696.91,
          1758.74,
          473.83,
          2373.58,
          2520.5699999999997,
          1953.64,
          2630.24,
          356.87,
          757.23,
          1483.68,
          1165.4099999999999,
          309.08,
          0,
          1148.68,
          1384.32,
          0,
          853.8,
          643.96,
          534.22,
          2354.2
         ]
        }
       ],
       "layout": {
        "barmode": "stack",
        "template": {
         "data": {
          "bar": [
           {
            "error_x": {
             "color": "#2a3f5f"
            },
            "error_y": {
             "color": "#2a3f5f"
            },
            "marker": {
             "line": {
              "color": "#E5ECF6",
              "width": 0.5
             },
             "pattern": {
              "fillmode": "overlay",
              "size": 10,
              "solidity": 0.2
             }
            },
            "type": "bar"
           }
          ],
          "barpolar": [
           {
            "marker": {
             "line": {
              "color": "#E5ECF6",
              "width": 0.5
             },
             "pattern": {
              "fillmode": "overlay",
              "size": 10,
              "solidity": 0.2
             }
            },
            "type": "barpolar"
           }
          ],
          "carpet": [
           {
            "aaxis": {
             "endlinecolor": "#2a3f5f",
             "gridcolor": "white",
             "linecolor": "white",
             "minorgridcolor": "white",
             "startlinecolor": "#2a3f5f"
            },
            "baxis": {
             "endlinecolor": "#2a3f5f",
             "gridcolor": "white",
             "linecolor": "white",
             "minorgridcolor": "white",
             "startlinecolor": "#2a3f5f"
            },
            "type": "carpet"
           }
          ],
          "choropleth": [
           {
            "colorbar": {
             "outlinewidth": 0,
             "ticks": ""
            },
            "type": "choropleth"
           }
          ],
          "contour": [
           {
            "colorbar": {
             "outlinewidth": 0,
             "ticks": ""
            },
            "colorscale": [
             [
              0,
              "#0d0887"
             ],
             [
              0.1111111111111111,
              "#46039f"
             ],
             [
              0.2222222222222222,
              "#7201a8"
             ],
             [
              0.3333333333333333,
              "#9c179e"
             ],
             [
              0.4444444444444444,
              "#bd3786"
             ],
             [
              0.5555555555555556,
              "#d8576b"
             ],
             [
              0.6666666666666666,
              "#ed7953"
             ],
             [
              0.7777777777777778,
              "#fb9f3a"
             ],
             [
              0.8888888888888888,
              "#fdca26"
             ],
             [
              1,
              "#f0f921"
             ]
            ],
            "type": "contour"
           }
          ],
          "contourcarpet": [
           {
            "colorbar": {
             "outlinewidth": 0,
             "ticks": ""
            },
            "type": "contourcarpet"
           }
          ],
          "heatmap": [
           {
            "colorbar": {
             "outlinewidth": 0,
             "ticks": ""
            },
            "colorscale": [
             [
              0,
              "#0d0887"
             ],
             [
              0.1111111111111111,
              "#46039f"
             ],
             [
              0.2222222222222222,
              "#7201a8"
             ],
             [
              0.3333333333333333,
              "#9c179e"
             ],
             [
              0.4444444444444444,
              "#bd3786"
             ],
             [
              0.5555555555555556,
              "#d8576b"
             ],
             [
              0.6666666666666666,
              "#ed7953"
             ],
             [
              0.7777777777777778,
              "#fb9f3a"
             ],
             [
              0.8888888888888888,
              "#fdca26"
             ],
             [
              1,
              "#f0f921"
             ]
            ],
            "type": "heatmap"
           }
          ],
          "heatmapgl": [
           {
            "colorbar": {
             "outlinewidth": 0,
             "ticks": ""
            },
            "colorscale": [
             [
              0,
              "#0d0887"
             ],
             [
              0.1111111111111111,
              "#46039f"
             ],
             [
              0.2222222222222222,
              "#7201a8"
             ],
             [
              0.3333333333333333,
              "#9c179e"
             ],
             [
              0.4444444444444444,
              "#bd3786"
             ],
             [
              0.5555555555555556,
              "#d8576b"
             ],
             [
              0.6666666666666666,
              "#ed7953"
             ],
             [
              0.7777777777777778,
              "#fb9f3a"
             ],
             [
              0.8888888888888888,
              "#fdca26"
             ],
             [
              1,
              "#f0f921"
             ]
            ],
            "type": "heatmapgl"
           }
          ],
          "histogram": [
           {
            "marker": {
             "pattern": {
              "fillmode": "overlay",
              "size": 10,
              "solidity": 0.2
             }
            },
            "type": "histogram"
           }
          ],
          "histogram2d": [
           {
            "colorbar": {
             "outlinewidth": 0,
             "ticks": ""
            },
            "colorscale": [
             [
              0,
              "#0d0887"
             ],
             [
              0.1111111111111111,
              "#46039f"
             ],
             [
              0.2222222222222222,
              "#7201a8"
             ],
             [
              0.3333333333333333,
              "#9c179e"
             ],
             [
              0.4444444444444444,
              "#bd3786"
             ],
             [
              0.5555555555555556,
              "#d8576b"
             ],
             [
              0.6666666666666666,
              "#ed7953"
             ],
             [
              0.7777777777777778,
              "#fb9f3a"
             ],
             [
              0.8888888888888888,
              "#fdca26"
             ],
             [
              1,
              "#f0f921"
             ]
            ],
            "type": "histogram2d"
           }
          ],
          "histogram2dcontour": [
           {
            "colorbar": {
             "outlinewidth": 0,
             "ticks": ""
            },
            "colorscale": [
             [
              0,
              "#0d0887"
             ],
             [
              0.1111111111111111,
              "#46039f"
             ],
             [
              0.2222222222222222,
              "#7201a8"
             ],
             [
              0.3333333333333333,
              "#9c179e"
             ],
             [
              0.4444444444444444,
              "#bd3786"
             ],
             [
              0.5555555555555556,
              "#d8576b"
             ],
             [
              0.6666666666666666,
              "#ed7953"
             ],
             [
              0.7777777777777778,
              "#fb9f3a"
             ],
             [
              0.8888888888888888,
              "#fdca26"
             ],
             [
              1,
              "#f0f921"
             ]
            ],
            "type": "histogram2dcontour"
           }
          ],
          "mesh3d": [
           {
            "colorbar": {
             "outlinewidth": 0,
             "ticks": ""
            },
            "type": "mesh3d"
           }
          ],
          "parcoords": [
           {
            "line": {
             "colorbar": {
              "outlinewidth": 0,
              "ticks": ""
             }
            },
            "type": "parcoords"
           }
          ],
          "pie": [
           {
            "automargin": true,
            "type": "pie"
           }
          ],
          "scatter": [
           {
            "marker": {
             "colorbar": {
              "outlinewidth": 0,
              "ticks": ""
             }
            },
            "type": "scatter"
           }
          ],
          "scatter3d": [
           {
            "line": {
             "colorbar": {
              "outlinewidth": 0,
              "ticks": ""
             }
            },
            "marker": {
             "colorbar": {
              "outlinewidth": 0,
              "ticks": ""
             }
            },
            "type": "scatter3d"
           }
          ],
          "scattercarpet": [
           {
            "marker": {
             "colorbar": {
              "outlinewidth": 0,
              "ticks": ""
             }
            },
            "type": "scattercarpet"
           }
          ],
          "scattergeo": [
           {
            "marker": {
             "colorbar": {
              "outlinewidth": 0,
              "ticks": ""
             }
            },
            "type": "scattergeo"
           }
          ],
          "scattergl": [
           {
            "marker": {
             "colorbar": {
              "outlinewidth": 0,
              "ticks": ""
             }
            },
            "type": "scattergl"
           }
          ],
          "scattermapbox": [
           {
            "marker": {
             "colorbar": {
              "outlinewidth": 0,
              "ticks": ""
             }
            },
            "type": "scattermapbox"
           }
          ],
          "scatterpolar": [
           {
            "marker": {
             "colorbar": {
              "outlinewidth": 0,
              "ticks": ""
             }
            },
            "type": "scatterpolar"
           }
          ],
          "scatterpolargl": [
           {
            "marker": {
             "colorbar": {
              "outlinewidth": 0,
              "ticks": ""
             }
            },
            "type": "scatterpolargl"
           }
          ],
          "scatterternary": [
           {
            "marker": {
             "colorbar": {
              "outlinewidth": 0,
              "ticks": ""
             }
            },
            "type": "scatterternary"
           }
          ],
          "surface": [
           {
            "colorbar": {
             "outlinewidth": 0,
             "ticks": ""
            },
            "colorscale": [
             [
              0,
              "#0d0887"
             ],
             [
              0.1111111111111111,
              "#46039f"
             ],
             [
              0.2222222222222222,
              "#7201a8"
             ],
             [
              0.3333333333333333,
              "#9c179e"
             ],
             [
              0.4444444444444444,
              "#bd3786"
             ],
             [
              0.5555555555555556,
              "#d8576b"
             ],
             [
              0.6666666666666666,
              "#ed7953"
             ],
             [
              0.7777777777777778,
              "#fb9f3a"
             ],
             [
              0.8888888888888888,
              "#fdca26"
             ],
             [
              1,
              "#f0f921"
             ]
            ],
            "type": "surface"
           }
          ],
          "table": [
           {
            "cells": {
             "fill": {
              "color": "#EBF0F8"
             },
             "line": {
              "color": "white"
             }
            },
            "header": {
             "fill": {
              "color": "#C8D4E3"
             },
             "line": {
              "color": "white"
             }
            },
            "type": "table"
           }
          ]
         },
         "layout": {
          "annotationdefaults": {
           "arrowcolor": "#2a3f5f",
           "arrowhead": 0,
           "arrowwidth": 1
          },
          "autotypenumbers": "strict",
          "coloraxis": {
           "colorbar": {
            "outlinewidth": 0,
            "ticks": ""
           }
          },
          "colorscale": {
           "diverging": [
            [
             0,
             "#8e0152"
            ],
            [
             0.1,
             "#c51b7d"
            ],
            [
             0.2,
             "#de77ae"
            ],
            [
             0.3,
             "#f1b6da"
            ],
            [
             0.4,
             "#fde0ef"
            ],
            [
             0.5,
             "#f7f7f7"
            ],
            [
             0.6,
             "#e6f5d0"
            ],
            [
             0.7,
             "#b8e186"
            ],
            [
             0.8,
             "#7fbc41"
            ],
            [
             0.9,
             "#4d9221"
            ],
            [
             1,
             "#276419"
            ]
           ],
           "sequential": [
            [
             0,
             "#0d0887"
            ],
            [
             0.1111111111111111,
             "#46039f"
            ],
            [
             0.2222222222222222,
             "#7201a8"
            ],
            [
             0.3333333333333333,
             "#9c179e"
            ],
            [
             0.4444444444444444,
             "#bd3786"
            ],
            [
             0.5555555555555556,
             "#d8576b"
            ],
            [
             0.6666666666666666,
             "#ed7953"
            ],
            [
             0.7777777777777778,
             "#fb9f3a"
            ],
            [
             0.8888888888888888,
             "#fdca26"
            ],
            [
             1,
             "#f0f921"
            ]
           ],
           "sequentialminus": [
            [
             0,
             "#0d0887"
            ],
            [
             0.1111111111111111,
             "#46039f"
            ],
            [
             0.2222222222222222,
             "#7201a8"
            ],
            [
             0.3333333333333333,
             "#9c179e"
            ],
            [
             0.4444444444444444,
             "#bd3786"
            ],
            [
             0.5555555555555556,
             "#d8576b"
            ],
            [
             0.6666666666666666,
             "#ed7953"
            ],
            [
             0.7777777777777778,
             "#fb9f3a"
            ],
            [
             0.8888888888888888,
             "#fdca26"
            ],
            [
             1,
             "#f0f921"
            ]
           ]
          },
          "colorway": [
           "#636efa",
           "#EF553B",
           "#00cc96",
           "#ab63fa",
           "#FFA15A",
           "#19d3f3",
           "#FF6692",
           "#B6E880",
           "#FF97FF",
           "#FECB52"
          ],
          "font": {
           "color": "#2a3f5f"
          },
          "geo": {
           "bgcolor": "white",
           "lakecolor": "white",
           "landcolor": "#E5ECF6",
           "showlakes": true,
           "showland": true,
           "subunitcolor": "white"
          },
          "hoverlabel": {
           "align": "left"
          },
          "hovermode": "closest",
          "mapbox": {
           "style": "light"
          },
          "paper_bgcolor": "white",
          "plot_bgcolor": "#E5ECF6",
          "polar": {
           "angularaxis": {
            "gridcolor": "white",
            "linecolor": "white",
            "ticks": ""
           },
           "bgcolor": "#E5ECF6",
           "radialaxis": {
            "gridcolor": "white",
            "linecolor": "white",
            "ticks": ""
           }
          },
          "scene": {
           "xaxis": {
            "backgroundcolor": "#E5ECF6",
            "gridcolor": "white",
            "gridwidth": 2,
            "linecolor": "white",
            "showbackground": true,
            "ticks": "",
            "zerolinecolor": "white"
           },
           "yaxis": {
            "backgroundcolor": "#E5ECF6",
            "gridcolor": "white",
            "gridwidth": 2,
            "linecolor": "white",
            "showbackground": true,
            "ticks": "",
            "zerolinecolor": "white"
           },
           "zaxis": {
            "backgroundcolor": "#E5ECF6",
            "gridcolor": "white",
            "gridwidth": 2,
            "linecolor": "white",
            "showbackground": true,
            "ticks": "",
            "zerolinecolor": "white"
           }
          },
          "shapedefaults": {
           "line": {
            "color": "#2a3f5f"
           }
          },
          "ternary": {
           "aaxis": {
            "gridcolor": "white",
            "linecolor": "white",
            "ticks": ""
           },
           "baxis": {
            "gridcolor": "white",
            "linecolor": "white",
            "ticks": ""
           },
           "bgcolor": "#E5ECF6",
           "caxis": {
            "gridcolor": "white",
            "linecolor": "white",
            "ticks": ""
           }
          },
          "title": {
           "x": 0.05
          },
          "xaxis": {
           "automargin": true,
           "gridcolor": "white",
           "linecolor": "white",
           "ticks": "",
           "title": {
            "standoff": 15
           },
           "zerolinecolor": "white",
           "zerolinewidth": 2
          },
          "yaxis": {
           "automargin": true,
           "gridcolor": "white",
           "linecolor": "white",
           "ticks": "",
           "title": {
            "standoff": 15
           },
           "zerolinecolor": "white",
           "zerolinewidth": 2
          }
         }
        },
        "title": {
         "text": "Sales of Products by Division across Stores"
        }
       }
      }
     },
     "metadata": {},
     "output_type": "display_data"
    }
   ],
   "source": [
    "fig = go.Figure(data=[\n",
    "    go.Bar(name='Apparel', x=branch_division['Store'], y=branch_division['Apparel']),\n",
    "    go.Bar(name='Baby', x=branch_division['Store'], y=branch_division['Baby']),\n",
    "    go.Bar(name='House', x=branch_division['Store'], y=branch_division['House']),\n",
    "    go.Bar(name='Other', x=branch_division['Store'], y=branch_division['Other'])\n",
    "\n",
    "])\n",
    "\n",
    "fig.update_layout(barmode='stack', title = 'Sales of Products by Division across Stores')\n",
    "fig.show()"
   ]
  },
  {
   "cell_type": "markdown",
   "metadata": {},
   "source": [
    "### Let's find out how customers find the availability of the products, this time based on divisions"
   ]
  },
  {
   "cell_type": "code",
   "execution_count": 38,
   "metadata": {},
   "outputs": [],
   "source": [
    "division_availability = branch_data[['Division','Availability']]\n",
    "division_availability = pd.concat([division_availability.iloc[:,0] , pd.get_dummies(division_availability.Availability)], axis= 1 )\n",
    "division_availability = division_availability.groupby(division_availability['Division']).sum().reset_index()"
   ]
  },
  {
   "cell_type": "markdown",
   "metadata": {},
   "source": [
    "### The availability across all divisons seems to be a major issue and needs to be improved in-order to generate more revenue and positive feedback from the customers. \n",
    "### From the plot, it is evident that customers majorly look for apparales but often find the avaialability worse compared to the competitors. "
   ]
  },
  {
   "cell_type": "code",
   "execution_count": 53,
   "metadata": {},
   "outputs": [
    {
     "data": {
      "application/vnd.plotly.v1+json": {
       "config": {
        "plotlyServerURL": "https://plot.ly"
       },
       "data": [
        {
         "name": "Same",
         "type": "bar",
         "x": [
          "Apparel",
          "Baby",
          "House",
          "Other"
         ],
         "y": [
          122,
          125,
          123,
          111
         ]
        },
        {
         "name": "Worse",
         "type": "bar",
         "x": [
          "Apparel",
          "Baby",
          "House",
          "Other"
         ],
         "y": [
          458,
          455,
          440,
          426
         ]
        },
        {
         "name": "Better",
         "type": "bar",
         "x": [
          "Apparel",
          "Baby",
          "House",
          "Other"
         ],
         "y": [
          247,
          221,
          237,
          247
         ]
        }
       ],
       "layout": {
        "barmode": "group",
        "template": {
         "data": {
          "bar": [
           {
            "error_x": {
             "color": "#2a3f5f"
            },
            "error_y": {
             "color": "#2a3f5f"
            },
            "marker": {
             "line": {
              "color": "#E5ECF6",
              "width": 0.5
             },
             "pattern": {
              "fillmode": "overlay",
              "size": 10,
              "solidity": 0.2
             }
            },
            "type": "bar"
           }
          ],
          "barpolar": [
           {
            "marker": {
             "line": {
              "color": "#E5ECF6",
              "width": 0.5
             },
             "pattern": {
              "fillmode": "overlay",
              "size": 10,
              "solidity": 0.2
             }
            },
            "type": "barpolar"
           }
          ],
          "carpet": [
           {
            "aaxis": {
             "endlinecolor": "#2a3f5f",
             "gridcolor": "white",
             "linecolor": "white",
             "minorgridcolor": "white",
             "startlinecolor": "#2a3f5f"
            },
            "baxis": {
             "endlinecolor": "#2a3f5f",
             "gridcolor": "white",
             "linecolor": "white",
             "minorgridcolor": "white",
             "startlinecolor": "#2a3f5f"
            },
            "type": "carpet"
           }
          ],
          "choropleth": [
           {
            "colorbar": {
             "outlinewidth": 0,
             "ticks": ""
            },
            "type": "choropleth"
           }
          ],
          "contour": [
           {
            "colorbar": {
             "outlinewidth": 0,
             "ticks": ""
            },
            "colorscale": [
             [
              0,
              "#0d0887"
             ],
             [
              0.1111111111111111,
              "#46039f"
             ],
             [
              0.2222222222222222,
              "#7201a8"
             ],
             [
              0.3333333333333333,
              "#9c179e"
             ],
             [
              0.4444444444444444,
              "#bd3786"
             ],
             [
              0.5555555555555556,
              "#d8576b"
             ],
             [
              0.6666666666666666,
              "#ed7953"
             ],
             [
              0.7777777777777778,
              "#fb9f3a"
             ],
             [
              0.8888888888888888,
              "#fdca26"
             ],
             [
              1,
              "#f0f921"
             ]
            ],
            "type": "contour"
           }
          ],
          "contourcarpet": [
           {
            "colorbar": {
             "outlinewidth": 0,
             "ticks": ""
            },
            "type": "contourcarpet"
           }
          ],
          "heatmap": [
           {
            "colorbar": {
             "outlinewidth": 0,
             "ticks": ""
            },
            "colorscale": [
             [
              0,
              "#0d0887"
             ],
             [
              0.1111111111111111,
              "#46039f"
             ],
             [
              0.2222222222222222,
              "#7201a8"
             ],
             [
              0.3333333333333333,
              "#9c179e"
             ],
             [
              0.4444444444444444,
              "#bd3786"
             ],
             [
              0.5555555555555556,
              "#d8576b"
             ],
             [
              0.6666666666666666,
              "#ed7953"
             ],
             [
              0.7777777777777778,
              "#fb9f3a"
             ],
             [
              0.8888888888888888,
              "#fdca26"
             ],
             [
              1,
              "#f0f921"
             ]
            ],
            "type": "heatmap"
           }
          ],
          "heatmapgl": [
           {
            "colorbar": {
             "outlinewidth": 0,
             "ticks": ""
            },
            "colorscale": [
             [
              0,
              "#0d0887"
             ],
             [
              0.1111111111111111,
              "#46039f"
             ],
             [
              0.2222222222222222,
              "#7201a8"
             ],
             [
              0.3333333333333333,
              "#9c179e"
             ],
             [
              0.4444444444444444,
              "#bd3786"
             ],
             [
              0.5555555555555556,
              "#d8576b"
             ],
             [
              0.6666666666666666,
              "#ed7953"
             ],
             [
              0.7777777777777778,
              "#fb9f3a"
             ],
             [
              0.8888888888888888,
              "#fdca26"
             ],
             [
              1,
              "#f0f921"
             ]
            ],
            "type": "heatmapgl"
           }
          ],
          "histogram": [
           {
            "marker": {
             "pattern": {
              "fillmode": "overlay",
              "size": 10,
              "solidity": 0.2
             }
            },
            "type": "histogram"
           }
          ],
          "histogram2d": [
           {
            "colorbar": {
             "outlinewidth": 0,
             "ticks": ""
            },
            "colorscale": [
             [
              0,
              "#0d0887"
             ],
             [
              0.1111111111111111,
              "#46039f"
             ],
             [
              0.2222222222222222,
              "#7201a8"
             ],
             [
              0.3333333333333333,
              "#9c179e"
             ],
             [
              0.4444444444444444,
              "#bd3786"
             ],
             [
              0.5555555555555556,
              "#d8576b"
             ],
             [
              0.6666666666666666,
              "#ed7953"
             ],
             [
              0.7777777777777778,
              "#fb9f3a"
             ],
             [
              0.8888888888888888,
              "#fdca26"
             ],
             [
              1,
              "#f0f921"
             ]
            ],
            "type": "histogram2d"
           }
          ],
          "histogram2dcontour": [
           {
            "colorbar": {
             "outlinewidth": 0,
             "ticks": ""
            },
            "colorscale": [
             [
              0,
              "#0d0887"
             ],
             [
              0.1111111111111111,
              "#46039f"
             ],
             [
              0.2222222222222222,
              "#7201a8"
             ],
             [
              0.3333333333333333,
              "#9c179e"
             ],
             [
              0.4444444444444444,
              "#bd3786"
             ],
             [
              0.5555555555555556,
              "#d8576b"
             ],
             [
              0.6666666666666666,
              "#ed7953"
             ],
             [
              0.7777777777777778,
              "#fb9f3a"
             ],
             [
              0.8888888888888888,
              "#fdca26"
             ],
             [
              1,
              "#f0f921"
             ]
            ],
            "type": "histogram2dcontour"
           }
          ],
          "mesh3d": [
           {
            "colorbar": {
             "outlinewidth": 0,
             "ticks": ""
            },
            "type": "mesh3d"
           }
          ],
          "parcoords": [
           {
            "line": {
             "colorbar": {
              "outlinewidth": 0,
              "ticks": ""
             }
            },
            "type": "parcoords"
           }
          ],
          "pie": [
           {
            "automargin": true,
            "type": "pie"
           }
          ],
          "scatter": [
           {
            "marker": {
             "colorbar": {
              "outlinewidth": 0,
              "ticks": ""
             }
            },
            "type": "scatter"
           }
          ],
          "scatter3d": [
           {
            "line": {
             "colorbar": {
              "outlinewidth": 0,
              "ticks": ""
             }
            },
            "marker": {
             "colorbar": {
              "outlinewidth": 0,
              "ticks": ""
             }
            },
            "type": "scatter3d"
           }
          ],
          "scattercarpet": [
           {
            "marker": {
             "colorbar": {
              "outlinewidth": 0,
              "ticks": ""
             }
            },
            "type": "scattercarpet"
           }
          ],
          "scattergeo": [
           {
            "marker": {
             "colorbar": {
              "outlinewidth": 0,
              "ticks": ""
             }
            },
            "type": "scattergeo"
           }
          ],
          "scattergl": [
           {
            "marker": {
             "colorbar": {
              "outlinewidth": 0,
              "ticks": ""
             }
            },
            "type": "scattergl"
           }
          ],
          "scattermapbox": [
           {
            "marker": {
             "colorbar": {
              "outlinewidth": 0,
              "ticks": ""
             }
            },
            "type": "scattermapbox"
           }
          ],
          "scatterpolar": [
           {
            "marker": {
             "colorbar": {
              "outlinewidth": 0,
              "ticks": ""
             }
            },
            "type": "scatterpolar"
           }
          ],
          "scatterpolargl": [
           {
            "marker": {
             "colorbar": {
              "outlinewidth": 0,
              "ticks": ""
             }
            },
            "type": "scatterpolargl"
           }
          ],
          "scatterternary": [
           {
            "marker": {
             "colorbar": {
              "outlinewidth": 0,
              "ticks": ""
             }
            },
            "type": "scatterternary"
           }
          ],
          "surface": [
           {
            "colorbar": {
             "outlinewidth": 0,
             "ticks": ""
            },
            "colorscale": [
             [
              0,
              "#0d0887"
             ],
             [
              0.1111111111111111,
              "#46039f"
             ],
             [
              0.2222222222222222,
              "#7201a8"
             ],
             [
              0.3333333333333333,
              "#9c179e"
             ],
             [
              0.4444444444444444,
              "#bd3786"
             ],
             [
              0.5555555555555556,
              "#d8576b"
             ],
             [
              0.6666666666666666,
              "#ed7953"
             ],
             [
              0.7777777777777778,
              "#fb9f3a"
             ],
             [
              0.8888888888888888,
              "#fdca26"
             ],
             [
              1,
              "#f0f921"
             ]
            ],
            "type": "surface"
           }
          ],
          "table": [
           {
            "cells": {
             "fill": {
              "color": "#EBF0F8"
             },
             "line": {
              "color": "white"
             }
            },
            "header": {
             "fill": {
              "color": "#C8D4E3"
             },
             "line": {
              "color": "white"
             }
            },
            "type": "table"
           }
          ]
         },
         "layout": {
          "annotationdefaults": {
           "arrowcolor": "#2a3f5f",
           "arrowhead": 0,
           "arrowwidth": 1
          },
          "autotypenumbers": "strict",
          "coloraxis": {
           "colorbar": {
            "outlinewidth": 0,
            "ticks": ""
           }
          },
          "colorscale": {
           "diverging": [
            [
             0,
             "#8e0152"
            ],
            [
             0.1,
             "#c51b7d"
            ],
            [
             0.2,
             "#de77ae"
            ],
            [
             0.3,
             "#f1b6da"
            ],
            [
             0.4,
             "#fde0ef"
            ],
            [
             0.5,
             "#f7f7f7"
            ],
            [
             0.6,
             "#e6f5d0"
            ],
            [
             0.7,
             "#b8e186"
            ],
            [
             0.8,
             "#7fbc41"
            ],
            [
             0.9,
             "#4d9221"
            ],
            [
             1,
             "#276419"
            ]
           ],
           "sequential": [
            [
             0,
             "#0d0887"
            ],
            [
             0.1111111111111111,
             "#46039f"
            ],
            [
             0.2222222222222222,
             "#7201a8"
            ],
            [
             0.3333333333333333,
             "#9c179e"
            ],
            [
             0.4444444444444444,
             "#bd3786"
            ],
            [
             0.5555555555555556,
             "#d8576b"
            ],
            [
             0.6666666666666666,
             "#ed7953"
            ],
            [
             0.7777777777777778,
             "#fb9f3a"
            ],
            [
             0.8888888888888888,
             "#fdca26"
            ],
            [
             1,
             "#f0f921"
            ]
           ],
           "sequentialminus": [
            [
             0,
             "#0d0887"
            ],
            [
             0.1111111111111111,
             "#46039f"
            ],
            [
             0.2222222222222222,
             "#7201a8"
            ],
            [
             0.3333333333333333,
             "#9c179e"
            ],
            [
             0.4444444444444444,
             "#bd3786"
            ],
            [
             0.5555555555555556,
             "#d8576b"
            ],
            [
             0.6666666666666666,
             "#ed7953"
            ],
            [
             0.7777777777777778,
             "#fb9f3a"
            ],
            [
             0.8888888888888888,
             "#fdca26"
            ],
            [
             1,
             "#f0f921"
            ]
           ]
          },
          "colorway": [
           "#636efa",
           "#EF553B",
           "#00cc96",
           "#ab63fa",
           "#FFA15A",
           "#19d3f3",
           "#FF6692",
           "#B6E880",
           "#FF97FF",
           "#FECB52"
          ],
          "font": {
           "color": "#2a3f5f"
          },
          "geo": {
           "bgcolor": "white",
           "lakecolor": "white",
           "landcolor": "#E5ECF6",
           "showlakes": true,
           "showland": true,
           "subunitcolor": "white"
          },
          "hoverlabel": {
           "align": "left"
          },
          "hovermode": "closest",
          "mapbox": {
           "style": "light"
          },
          "paper_bgcolor": "white",
          "plot_bgcolor": "#E5ECF6",
          "polar": {
           "angularaxis": {
            "gridcolor": "white",
            "linecolor": "white",
            "ticks": ""
           },
           "bgcolor": "#E5ECF6",
           "radialaxis": {
            "gridcolor": "white",
            "linecolor": "white",
            "ticks": ""
           }
          },
          "scene": {
           "xaxis": {
            "backgroundcolor": "#E5ECF6",
            "gridcolor": "white",
            "gridwidth": 2,
            "linecolor": "white",
            "showbackground": true,
            "ticks": "",
            "zerolinecolor": "white"
           },
           "yaxis": {
            "backgroundcolor": "#E5ECF6",
            "gridcolor": "white",
            "gridwidth": 2,
            "linecolor": "white",
            "showbackground": true,
            "ticks": "",
            "zerolinecolor": "white"
           },
           "zaxis": {
            "backgroundcolor": "#E5ECF6",
            "gridcolor": "white",
            "gridwidth": 2,
            "linecolor": "white",
            "showbackground": true,
            "ticks": "",
            "zerolinecolor": "white"
           }
          },
          "shapedefaults": {
           "line": {
            "color": "#2a3f5f"
           }
          },
          "ternary": {
           "aaxis": {
            "gridcolor": "white",
            "linecolor": "white",
            "ticks": ""
           },
           "baxis": {
            "gridcolor": "white",
            "linecolor": "white",
            "ticks": ""
           },
           "bgcolor": "#E5ECF6",
           "caxis": {
            "gridcolor": "white",
            "linecolor": "white",
            "ticks": ""
           }
          },
          "title": {
           "x": 0.05
          },
          "xaxis": {
           "automargin": true,
           "gridcolor": "white",
           "linecolor": "white",
           "ticks": "",
           "title": {
            "standoff": 15
           },
           "zerolinecolor": "white",
           "zerolinewidth": 2
          },
          "yaxis": {
           "automargin": true,
           "gridcolor": "white",
           "linecolor": "white",
           "ticks": "",
           "title": {
            "standoff": 15
           },
           "zerolinecolor": "white",
           "zerolinewidth": 2
          }
         }
        },
        "title": {
         "text": "Availability of Products across Divisons"
        }
       }
      }
     },
     "metadata": {},
     "output_type": "display_data"
    }
   ],
   "source": [
    "fig = go.Figure(data=[\n",
    "    go.Bar(name='Same', x=division_availability['Division'], y=division_availability['Same']),\n",
    "    go.Bar(name='Worse', x=division_availability['Division'], y=division_availability['Worse']),\n",
    "    go.Bar(name='Better', x=division_availability['Division'], y=division_availability['Better'])\n",
    "\n",
    "])\n",
    "\n",
    "fig.update_layout(barmode='group', title = 'Availability of Products across Divisons')\n",
    "fig.show()"
   ]
  },
  {
   "cell_type": "markdown",
   "metadata": {},
   "source": [
    "## Finally, lets anaylze how customers find the service and information segmented by their age groups. This could give an insight on what age group needs to be focused on more. "
   ]
  },
  {
   "cell_type": "code",
   "execution_count": 40,
   "metadata": {},
   "outputs": [],
   "source": [
    "def get_age_data(x): \n",
    "    df = customer_data[['Age Group', x]]\n",
    "    df = pd.concat([df.iloc[:,0], pd.get_dummies(df[x])], axis = 1)\n",
    "    df = df.groupby(df['Age Group']).sum().reset_index()\n",
    "    return df"
   ]
  },
  {
   "cell_type": "code",
   "execution_count": 50,
   "metadata": {},
   "outputs": [],
   "source": [
    "def plot_age(df, text): \n",
    "    fig = go.Figure(data=[\n",
    "    go.Bar(name='Same', x=df['Age Group'], y=df['Same']),\n",
    "    go.Bar(name='Worse', x=df['Age Group'], y=df['Worse']),\n",
    "    go.Bar(name='Better', x=df['Age Group'], y=df['Better'])\n",
    "\n",
    "    ])\n",
    "\n",
    "    fig.update_layout(barmode='group', title = text)\n",
    "    fig.show()"
   ]
  },
  {
   "cell_type": "markdown",
   "metadata": {},
   "source": [
    "# Analysis from the below two plots: \n",
    "### After looking at the two plots, looks like the Customer Service is found to be worse when the access to the Information is worse in the Stores. This is also something to keep in mind in order to help improve the customer relations.\n",
    "### With more focus put towards the 60+ age group as they visit the store more often than other age groups.\n",
    "### And also as elderly customers find it hard to locate information and are easily dissatisfied with the customer service. "
   ]
  },
  {
   "cell_type": "code",
   "execution_count": 51,
   "metadata": {},
   "outputs": [
    {
     "data": {
      "application/vnd.plotly.v1+json": {
       "config": {
        "plotlyServerURL": "https://plot.ly"
       },
       "data": [
        {
         "name": "Same",
         "type": "bar",
         "x": [
          "18-24",
          "25-29",
          "30-39",
          "40-49",
          "50-59",
          "60+"
         ],
         "y": [
          49,
          38,
          61,
          60,
          107,
          127
         ]
        },
        {
         "name": "Worse",
         "type": "bar",
         "x": [
          "18-24",
          "25-29",
          "30-39",
          "40-49",
          "50-59",
          "60+"
         ],
         "y": [
          204,
          162,
          289,
          327,
          286,
          587
         ]
        },
        {
         "name": "Better",
         "type": "bar",
         "x": [
          "18-24",
          "25-29",
          "30-39",
          "40-49",
          "50-59",
          "60+"
         ],
         "y": [
          108,
          69,
          143,
          168,
          131,
          296
         ]
        }
       ],
       "layout": {
        "barmode": "group",
        "template": {
         "data": {
          "bar": [
           {
            "error_x": {
             "color": "#2a3f5f"
            },
            "error_y": {
             "color": "#2a3f5f"
            },
            "marker": {
             "line": {
              "color": "#E5ECF6",
              "width": 0.5
             },
             "pattern": {
              "fillmode": "overlay",
              "size": 10,
              "solidity": 0.2
             }
            },
            "type": "bar"
           }
          ],
          "barpolar": [
           {
            "marker": {
             "line": {
              "color": "#E5ECF6",
              "width": 0.5
             },
             "pattern": {
              "fillmode": "overlay",
              "size": 10,
              "solidity": 0.2
             }
            },
            "type": "barpolar"
           }
          ],
          "carpet": [
           {
            "aaxis": {
             "endlinecolor": "#2a3f5f",
             "gridcolor": "white",
             "linecolor": "white",
             "minorgridcolor": "white",
             "startlinecolor": "#2a3f5f"
            },
            "baxis": {
             "endlinecolor": "#2a3f5f",
             "gridcolor": "white",
             "linecolor": "white",
             "minorgridcolor": "white",
             "startlinecolor": "#2a3f5f"
            },
            "type": "carpet"
           }
          ],
          "choropleth": [
           {
            "colorbar": {
             "outlinewidth": 0,
             "ticks": ""
            },
            "type": "choropleth"
           }
          ],
          "contour": [
           {
            "colorbar": {
             "outlinewidth": 0,
             "ticks": ""
            },
            "colorscale": [
             [
              0,
              "#0d0887"
             ],
             [
              0.1111111111111111,
              "#46039f"
             ],
             [
              0.2222222222222222,
              "#7201a8"
             ],
             [
              0.3333333333333333,
              "#9c179e"
             ],
             [
              0.4444444444444444,
              "#bd3786"
             ],
             [
              0.5555555555555556,
              "#d8576b"
             ],
             [
              0.6666666666666666,
              "#ed7953"
             ],
             [
              0.7777777777777778,
              "#fb9f3a"
             ],
             [
              0.8888888888888888,
              "#fdca26"
             ],
             [
              1,
              "#f0f921"
             ]
            ],
            "type": "contour"
           }
          ],
          "contourcarpet": [
           {
            "colorbar": {
             "outlinewidth": 0,
             "ticks": ""
            },
            "type": "contourcarpet"
           }
          ],
          "heatmap": [
           {
            "colorbar": {
             "outlinewidth": 0,
             "ticks": ""
            },
            "colorscale": [
             [
              0,
              "#0d0887"
             ],
             [
              0.1111111111111111,
              "#46039f"
             ],
             [
              0.2222222222222222,
              "#7201a8"
             ],
             [
              0.3333333333333333,
              "#9c179e"
             ],
             [
              0.4444444444444444,
              "#bd3786"
             ],
             [
              0.5555555555555556,
              "#d8576b"
             ],
             [
              0.6666666666666666,
              "#ed7953"
             ],
             [
              0.7777777777777778,
              "#fb9f3a"
             ],
             [
              0.8888888888888888,
              "#fdca26"
             ],
             [
              1,
              "#f0f921"
             ]
            ],
            "type": "heatmap"
           }
          ],
          "heatmapgl": [
           {
            "colorbar": {
             "outlinewidth": 0,
             "ticks": ""
            },
            "colorscale": [
             [
              0,
              "#0d0887"
             ],
             [
              0.1111111111111111,
              "#46039f"
             ],
             [
              0.2222222222222222,
              "#7201a8"
             ],
             [
              0.3333333333333333,
              "#9c179e"
             ],
             [
              0.4444444444444444,
              "#bd3786"
             ],
             [
              0.5555555555555556,
              "#d8576b"
             ],
             [
              0.6666666666666666,
              "#ed7953"
             ],
             [
              0.7777777777777778,
              "#fb9f3a"
             ],
             [
              0.8888888888888888,
              "#fdca26"
             ],
             [
              1,
              "#f0f921"
             ]
            ],
            "type": "heatmapgl"
           }
          ],
          "histogram": [
           {
            "marker": {
             "pattern": {
              "fillmode": "overlay",
              "size": 10,
              "solidity": 0.2
             }
            },
            "type": "histogram"
           }
          ],
          "histogram2d": [
           {
            "colorbar": {
             "outlinewidth": 0,
             "ticks": ""
            },
            "colorscale": [
             [
              0,
              "#0d0887"
             ],
             [
              0.1111111111111111,
              "#46039f"
             ],
             [
              0.2222222222222222,
              "#7201a8"
             ],
             [
              0.3333333333333333,
              "#9c179e"
             ],
             [
              0.4444444444444444,
              "#bd3786"
             ],
             [
              0.5555555555555556,
              "#d8576b"
             ],
             [
              0.6666666666666666,
              "#ed7953"
             ],
             [
              0.7777777777777778,
              "#fb9f3a"
             ],
             [
              0.8888888888888888,
              "#fdca26"
             ],
             [
              1,
              "#f0f921"
             ]
            ],
            "type": "histogram2d"
           }
          ],
          "histogram2dcontour": [
           {
            "colorbar": {
             "outlinewidth": 0,
             "ticks": ""
            },
            "colorscale": [
             [
              0,
              "#0d0887"
             ],
             [
              0.1111111111111111,
              "#46039f"
             ],
             [
              0.2222222222222222,
              "#7201a8"
             ],
             [
              0.3333333333333333,
              "#9c179e"
             ],
             [
              0.4444444444444444,
              "#bd3786"
             ],
             [
              0.5555555555555556,
              "#d8576b"
             ],
             [
              0.6666666666666666,
              "#ed7953"
             ],
             [
              0.7777777777777778,
              "#fb9f3a"
             ],
             [
              0.8888888888888888,
              "#fdca26"
             ],
             [
              1,
              "#f0f921"
             ]
            ],
            "type": "histogram2dcontour"
           }
          ],
          "mesh3d": [
           {
            "colorbar": {
             "outlinewidth": 0,
             "ticks": ""
            },
            "type": "mesh3d"
           }
          ],
          "parcoords": [
           {
            "line": {
             "colorbar": {
              "outlinewidth": 0,
              "ticks": ""
             }
            },
            "type": "parcoords"
           }
          ],
          "pie": [
           {
            "automargin": true,
            "type": "pie"
           }
          ],
          "scatter": [
           {
            "marker": {
             "colorbar": {
              "outlinewidth": 0,
              "ticks": ""
             }
            },
            "type": "scatter"
           }
          ],
          "scatter3d": [
           {
            "line": {
             "colorbar": {
              "outlinewidth": 0,
              "ticks": ""
             }
            },
            "marker": {
             "colorbar": {
              "outlinewidth": 0,
              "ticks": ""
             }
            },
            "type": "scatter3d"
           }
          ],
          "scattercarpet": [
           {
            "marker": {
             "colorbar": {
              "outlinewidth": 0,
              "ticks": ""
             }
            },
            "type": "scattercarpet"
           }
          ],
          "scattergeo": [
           {
            "marker": {
             "colorbar": {
              "outlinewidth": 0,
              "ticks": ""
             }
            },
            "type": "scattergeo"
           }
          ],
          "scattergl": [
           {
            "marker": {
             "colorbar": {
              "outlinewidth": 0,
              "ticks": ""
             }
            },
            "type": "scattergl"
           }
          ],
          "scattermapbox": [
           {
            "marker": {
             "colorbar": {
              "outlinewidth": 0,
              "ticks": ""
             }
            },
            "type": "scattermapbox"
           }
          ],
          "scatterpolar": [
           {
            "marker": {
             "colorbar": {
              "outlinewidth": 0,
              "ticks": ""
             }
            },
            "type": "scatterpolar"
           }
          ],
          "scatterpolargl": [
           {
            "marker": {
             "colorbar": {
              "outlinewidth": 0,
              "ticks": ""
             }
            },
            "type": "scatterpolargl"
           }
          ],
          "scatterternary": [
           {
            "marker": {
             "colorbar": {
              "outlinewidth": 0,
              "ticks": ""
             }
            },
            "type": "scatterternary"
           }
          ],
          "surface": [
           {
            "colorbar": {
             "outlinewidth": 0,
             "ticks": ""
            },
            "colorscale": [
             [
              0,
              "#0d0887"
             ],
             [
              0.1111111111111111,
              "#46039f"
             ],
             [
              0.2222222222222222,
              "#7201a8"
             ],
             [
              0.3333333333333333,
              "#9c179e"
             ],
             [
              0.4444444444444444,
              "#bd3786"
             ],
             [
              0.5555555555555556,
              "#d8576b"
             ],
             [
              0.6666666666666666,
              "#ed7953"
             ],
             [
              0.7777777777777778,
              "#fb9f3a"
             ],
             [
              0.8888888888888888,
              "#fdca26"
             ],
             [
              1,
              "#f0f921"
             ]
            ],
            "type": "surface"
           }
          ],
          "table": [
           {
            "cells": {
             "fill": {
              "color": "#EBF0F8"
             },
             "line": {
              "color": "white"
             }
            },
            "header": {
             "fill": {
              "color": "#C8D4E3"
             },
             "line": {
              "color": "white"
             }
            },
            "type": "table"
           }
          ]
         },
         "layout": {
          "annotationdefaults": {
           "arrowcolor": "#2a3f5f",
           "arrowhead": 0,
           "arrowwidth": 1
          },
          "autotypenumbers": "strict",
          "coloraxis": {
           "colorbar": {
            "outlinewidth": 0,
            "ticks": ""
           }
          },
          "colorscale": {
           "diverging": [
            [
             0,
             "#8e0152"
            ],
            [
             0.1,
             "#c51b7d"
            ],
            [
             0.2,
             "#de77ae"
            ],
            [
             0.3,
             "#f1b6da"
            ],
            [
             0.4,
             "#fde0ef"
            ],
            [
             0.5,
             "#f7f7f7"
            ],
            [
             0.6,
             "#e6f5d0"
            ],
            [
             0.7,
             "#b8e186"
            ],
            [
             0.8,
             "#7fbc41"
            ],
            [
             0.9,
             "#4d9221"
            ],
            [
             1,
             "#276419"
            ]
           ],
           "sequential": [
            [
             0,
             "#0d0887"
            ],
            [
             0.1111111111111111,
             "#46039f"
            ],
            [
             0.2222222222222222,
             "#7201a8"
            ],
            [
             0.3333333333333333,
             "#9c179e"
            ],
            [
             0.4444444444444444,
             "#bd3786"
            ],
            [
             0.5555555555555556,
             "#d8576b"
            ],
            [
             0.6666666666666666,
             "#ed7953"
            ],
            [
             0.7777777777777778,
             "#fb9f3a"
            ],
            [
             0.8888888888888888,
             "#fdca26"
            ],
            [
             1,
             "#f0f921"
            ]
           ],
           "sequentialminus": [
            [
             0,
             "#0d0887"
            ],
            [
             0.1111111111111111,
             "#46039f"
            ],
            [
             0.2222222222222222,
             "#7201a8"
            ],
            [
             0.3333333333333333,
             "#9c179e"
            ],
            [
             0.4444444444444444,
             "#bd3786"
            ],
            [
             0.5555555555555556,
             "#d8576b"
            ],
            [
             0.6666666666666666,
             "#ed7953"
            ],
            [
             0.7777777777777778,
             "#fb9f3a"
            ],
            [
             0.8888888888888888,
             "#fdca26"
            ],
            [
             1,
             "#f0f921"
            ]
           ]
          },
          "colorway": [
           "#636efa",
           "#EF553B",
           "#00cc96",
           "#ab63fa",
           "#FFA15A",
           "#19d3f3",
           "#FF6692",
           "#B6E880",
           "#FF97FF",
           "#FECB52"
          ],
          "font": {
           "color": "#2a3f5f"
          },
          "geo": {
           "bgcolor": "white",
           "lakecolor": "white",
           "landcolor": "#E5ECF6",
           "showlakes": true,
           "showland": true,
           "subunitcolor": "white"
          },
          "hoverlabel": {
           "align": "left"
          },
          "hovermode": "closest",
          "mapbox": {
           "style": "light"
          },
          "paper_bgcolor": "white",
          "plot_bgcolor": "#E5ECF6",
          "polar": {
           "angularaxis": {
            "gridcolor": "white",
            "linecolor": "white",
            "ticks": ""
           },
           "bgcolor": "#E5ECF6",
           "radialaxis": {
            "gridcolor": "white",
            "linecolor": "white",
            "ticks": ""
           }
          },
          "scene": {
           "xaxis": {
            "backgroundcolor": "#E5ECF6",
            "gridcolor": "white",
            "gridwidth": 2,
            "linecolor": "white",
            "showbackground": true,
            "ticks": "",
            "zerolinecolor": "white"
           },
           "yaxis": {
            "backgroundcolor": "#E5ECF6",
            "gridcolor": "white",
            "gridwidth": 2,
            "linecolor": "white",
            "showbackground": true,
            "ticks": "",
            "zerolinecolor": "white"
           },
           "zaxis": {
            "backgroundcolor": "#E5ECF6",
            "gridcolor": "white",
            "gridwidth": 2,
            "linecolor": "white",
            "showbackground": true,
            "ticks": "",
            "zerolinecolor": "white"
           }
          },
          "shapedefaults": {
           "line": {
            "color": "#2a3f5f"
           }
          },
          "ternary": {
           "aaxis": {
            "gridcolor": "white",
            "linecolor": "white",
            "ticks": ""
           },
           "baxis": {
            "gridcolor": "white",
            "linecolor": "white",
            "ticks": ""
           },
           "bgcolor": "#E5ECF6",
           "caxis": {
            "gridcolor": "white",
            "linecolor": "white",
            "ticks": ""
           }
          },
          "title": {
           "x": 0.05
          },
          "xaxis": {
           "automargin": true,
           "gridcolor": "white",
           "linecolor": "white",
           "ticks": "",
           "title": {
            "standoff": 15
           },
           "zerolinecolor": "white",
           "zerolinewidth": 2
          },
          "yaxis": {
           "automargin": true,
           "gridcolor": "white",
           "linecolor": "white",
           "ticks": "",
           "title": {
            "standoff": 15
           },
           "zerolinecolor": "white",
           "zerolinewidth": 2
          }
         }
        },
        "title": {
         "text": "Customer Service segmented by Age Groups"
        }
       }
      }
     },
     "metadata": {},
     "output_type": "display_data"
    }
   ],
   "source": [
    "age_service = get_age_data('Service')\n",
    "plot_age(age_service, \"Customer Service segmented by Age Groups\")"
   ]
  },
  {
   "cell_type": "code",
   "execution_count": 52,
   "metadata": {},
   "outputs": [
    {
     "data": {
      "application/vnd.plotly.v1+json": {
       "config": {
        "plotlyServerURL": "https://plot.ly"
       },
       "data": [
        {
         "name": "Same",
         "type": "bar",
         "x": [
          "18-24",
          "25-29",
          "30-39",
          "40-49",
          "50-59",
          "60+"
         ],
         "y": [
          49,
          40,
          64,
          76,
          85,
          150
         ]
        },
        {
         "name": "Worse",
         "type": "bar",
         "x": [
          "18-24",
          "25-29",
          "30-39",
          "40-49",
          "50-59",
          "60+"
         ],
         "y": [
          223,
          144,
          263,
          339,
          293,
          574
         ]
        },
        {
         "name": "Better",
         "type": "bar",
         "x": [
          "18-24",
          "25-29",
          "30-39",
          "40-49",
          "50-59",
          "60+"
         ],
         "y": [
          89,
          85,
          166,
          140,
          146,
          286
         ]
        }
       ],
       "layout": {
        "barmode": "group",
        "template": {
         "data": {
          "bar": [
           {
            "error_x": {
             "color": "#2a3f5f"
            },
            "error_y": {
             "color": "#2a3f5f"
            },
            "marker": {
             "line": {
              "color": "#E5ECF6",
              "width": 0.5
             },
             "pattern": {
              "fillmode": "overlay",
              "size": 10,
              "solidity": 0.2
             }
            },
            "type": "bar"
           }
          ],
          "barpolar": [
           {
            "marker": {
             "line": {
              "color": "#E5ECF6",
              "width": 0.5
             },
             "pattern": {
              "fillmode": "overlay",
              "size": 10,
              "solidity": 0.2
             }
            },
            "type": "barpolar"
           }
          ],
          "carpet": [
           {
            "aaxis": {
             "endlinecolor": "#2a3f5f",
             "gridcolor": "white",
             "linecolor": "white",
             "minorgridcolor": "white",
             "startlinecolor": "#2a3f5f"
            },
            "baxis": {
             "endlinecolor": "#2a3f5f",
             "gridcolor": "white",
             "linecolor": "white",
             "minorgridcolor": "white",
             "startlinecolor": "#2a3f5f"
            },
            "type": "carpet"
           }
          ],
          "choropleth": [
           {
            "colorbar": {
             "outlinewidth": 0,
             "ticks": ""
            },
            "type": "choropleth"
           }
          ],
          "contour": [
           {
            "colorbar": {
             "outlinewidth": 0,
             "ticks": ""
            },
            "colorscale": [
             [
              0,
              "#0d0887"
             ],
             [
              0.1111111111111111,
              "#46039f"
             ],
             [
              0.2222222222222222,
              "#7201a8"
             ],
             [
              0.3333333333333333,
              "#9c179e"
             ],
             [
              0.4444444444444444,
              "#bd3786"
             ],
             [
              0.5555555555555556,
              "#d8576b"
             ],
             [
              0.6666666666666666,
              "#ed7953"
             ],
             [
              0.7777777777777778,
              "#fb9f3a"
             ],
             [
              0.8888888888888888,
              "#fdca26"
             ],
             [
              1,
              "#f0f921"
             ]
            ],
            "type": "contour"
           }
          ],
          "contourcarpet": [
           {
            "colorbar": {
             "outlinewidth": 0,
             "ticks": ""
            },
            "type": "contourcarpet"
           }
          ],
          "heatmap": [
           {
            "colorbar": {
             "outlinewidth": 0,
             "ticks": ""
            },
            "colorscale": [
             [
              0,
              "#0d0887"
             ],
             [
              0.1111111111111111,
              "#46039f"
             ],
             [
              0.2222222222222222,
              "#7201a8"
             ],
             [
              0.3333333333333333,
              "#9c179e"
             ],
             [
              0.4444444444444444,
              "#bd3786"
             ],
             [
              0.5555555555555556,
              "#d8576b"
             ],
             [
              0.6666666666666666,
              "#ed7953"
             ],
             [
              0.7777777777777778,
              "#fb9f3a"
             ],
             [
              0.8888888888888888,
              "#fdca26"
             ],
             [
              1,
              "#f0f921"
             ]
            ],
            "type": "heatmap"
           }
          ],
          "heatmapgl": [
           {
            "colorbar": {
             "outlinewidth": 0,
             "ticks": ""
            },
            "colorscale": [
             [
              0,
              "#0d0887"
             ],
             [
              0.1111111111111111,
              "#46039f"
             ],
             [
              0.2222222222222222,
              "#7201a8"
             ],
             [
              0.3333333333333333,
              "#9c179e"
             ],
             [
              0.4444444444444444,
              "#bd3786"
             ],
             [
              0.5555555555555556,
              "#d8576b"
             ],
             [
              0.6666666666666666,
              "#ed7953"
             ],
             [
              0.7777777777777778,
              "#fb9f3a"
             ],
             [
              0.8888888888888888,
              "#fdca26"
             ],
             [
              1,
              "#f0f921"
             ]
            ],
            "type": "heatmapgl"
           }
          ],
          "histogram": [
           {
            "marker": {
             "pattern": {
              "fillmode": "overlay",
              "size": 10,
              "solidity": 0.2
             }
            },
            "type": "histogram"
           }
          ],
          "histogram2d": [
           {
            "colorbar": {
             "outlinewidth": 0,
             "ticks": ""
            },
            "colorscale": [
             [
              0,
              "#0d0887"
             ],
             [
              0.1111111111111111,
              "#46039f"
             ],
             [
              0.2222222222222222,
              "#7201a8"
             ],
             [
              0.3333333333333333,
              "#9c179e"
             ],
             [
              0.4444444444444444,
              "#bd3786"
             ],
             [
              0.5555555555555556,
              "#d8576b"
             ],
             [
              0.6666666666666666,
              "#ed7953"
             ],
             [
              0.7777777777777778,
              "#fb9f3a"
             ],
             [
              0.8888888888888888,
              "#fdca26"
             ],
             [
              1,
              "#f0f921"
             ]
            ],
            "type": "histogram2d"
           }
          ],
          "histogram2dcontour": [
           {
            "colorbar": {
             "outlinewidth": 0,
             "ticks": ""
            },
            "colorscale": [
             [
              0,
              "#0d0887"
             ],
             [
              0.1111111111111111,
              "#46039f"
             ],
             [
              0.2222222222222222,
              "#7201a8"
             ],
             [
              0.3333333333333333,
              "#9c179e"
             ],
             [
              0.4444444444444444,
              "#bd3786"
             ],
             [
              0.5555555555555556,
              "#d8576b"
             ],
             [
              0.6666666666666666,
              "#ed7953"
             ],
             [
              0.7777777777777778,
              "#fb9f3a"
             ],
             [
              0.8888888888888888,
              "#fdca26"
             ],
             [
              1,
              "#f0f921"
             ]
            ],
            "type": "histogram2dcontour"
           }
          ],
          "mesh3d": [
           {
            "colorbar": {
             "outlinewidth": 0,
             "ticks": ""
            },
            "type": "mesh3d"
           }
          ],
          "parcoords": [
           {
            "line": {
             "colorbar": {
              "outlinewidth": 0,
              "ticks": ""
             }
            },
            "type": "parcoords"
           }
          ],
          "pie": [
           {
            "automargin": true,
            "type": "pie"
           }
          ],
          "scatter": [
           {
            "marker": {
             "colorbar": {
              "outlinewidth": 0,
              "ticks": ""
             }
            },
            "type": "scatter"
           }
          ],
          "scatter3d": [
           {
            "line": {
             "colorbar": {
              "outlinewidth": 0,
              "ticks": ""
             }
            },
            "marker": {
             "colorbar": {
              "outlinewidth": 0,
              "ticks": ""
             }
            },
            "type": "scatter3d"
           }
          ],
          "scattercarpet": [
           {
            "marker": {
             "colorbar": {
              "outlinewidth": 0,
              "ticks": ""
             }
            },
            "type": "scattercarpet"
           }
          ],
          "scattergeo": [
           {
            "marker": {
             "colorbar": {
              "outlinewidth": 0,
              "ticks": ""
             }
            },
            "type": "scattergeo"
           }
          ],
          "scattergl": [
           {
            "marker": {
             "colorbar": {
              "outlinewidth": 0,
              "ticks": ""
             }
            },
            "type": "scattergl"
           }
          ],
          "scattermapbox": [
           {
            "marker": {
             "colorbar": {
              "outlinewidth": 0,
              "ticks": ""
             }
            },
            "type": "scattermapbox"
           }
          ],
          "scatterpolar": [
           {
            "marker": {
             "colorbar": {
              "outlinewidth": 0,
              "ticks": ""
             }
            },
            "type": "scatterpolar"
           }
          ],
          "scatterpolargl": [
           {
            "marker": {
             "colorbar": {
              "outlinewidth": 0,
              "ticks": ""
             }
            },
            "type": "scatterpolargl"
           }
          ],
          "scatterternary": [
           {
            "marker": {
             "colorbar": {
              "outlinewidth": 0,
              "ticks": ""
             }
            },
            "type": "scatterternary"
           }
          ],
          "surface": [
           {
            "colorbar": {
             "outlinewidth": 0,
             "ticks": ""
            },
            "colorscale": [
             [
              0,
              "#0d0887"
             ],
             [
              0.1111111111111111,
              "#46039f"
             ],
             [
              0.2222222222222222,
              "#7201a8"
             ],
             [
              0.3333333333333333,
              "#9c179e"
             ],
             [
              0.4444444444444444,
              "#bd3786"
             ],
             [
              0.5555555555555556,
              "#d8576b"
             ],
             [
              0.6666666666666666,
              "#ed7953"
             ],
             [
              0.7777777777777778,
              "#fb9f3a"
             ],
             [
              0.8888888888888888,
              "#fdca26"
             ],
             [
              1,
              "#f0f921"
             ]
            ],
            "type": "surface"
           }
          ],
          "table": [
           {
            "cells": {
             "fill": {
              "color": "#EBF0F8"
             },
             "line": {
              "color": "white"
             }
            },
            "header": {
             "fill": {
              "color": "#C8D4E3"
             },
             "line": {
              "color": "white"
             }
            },
            "type": "table"
           }
          ]
         },
         "layout": {
          "annotationdefaults": {
           "arrowcolor": "#2a3f5f",
           "arrowhead": 0,
           "arrowwidth": 1
          },
          "autotypenumbers": "strict",
          "coloraxis": {
           "colorbar": {
            "outlinewidth": 0,
            "ticks": ""
           }
          },
          "colorscale": {
           "diverging": [
            [
             0,
             "#8e0152"
            ],
            [
             0.1,
             "#c51b7d"
            ],
            [
             0.2,
             "#de77ae"
            ],
            [
             0.3,
             "#f1b6da"
            ],
            [
             0.4,
             "#fde0ef"
            ],
            [
             0.5,
             "#f7f7f7"
            ],
            [
             0.6,
             "#e6f5d0"
            ],
            [
             0.7,
             "#b8e186"
            ],
            [
             0.8,
             "#7fbc41"
            ],
            [
             0.9,
             "#4d9221"
            ],
            [
             1,
             "#276419"
            ]
           ],
           "sequential": [
            [
             0,
             "#0d0887"
            ],
            [
             0.1111111111111111,
             "#46039f"
            ],
            [
             0.2222222222222222,
             "#7201a8"
            ],
            [
             0.3333333333333333,
             "#9c179e"
            ],
            [
             0.4444444444444444,
             "#bd3786"
            ],
            [
             0.5555555555555556,
             "#d8576b"
            ],
            [
             0.6666666666666666,
             "#ed7953"
            ],
            [
             0.7777777777777778,
             "#fb9f3a"
            ],
            [
             0.8888888888888888,
             "#fdca26"
            ],
            [
             1,
             "#f0f921"
            ]
           ],
           "sequentialminus": [
            [
             0,
             "#0d0887"
            ],
            [
             0.1111111111111111,
             "#46039f"
            ],
            [
             0.2222222222222222,
             "#7201a8"
            ],
            [
             0.3333333333333333,
             "#9c179e"
            ],
            [
             0.4444444444444444,
             "#bd3786"
            ],
            [
             0.5555555555555556,
             "#d8576b"
            ],
            [
             0.6666666666666666,
             "#ed7953"
            ],
            [
             0.7777777777777778,
             "#fb9f3a"
            ],
            [
             0.8888888888888888,
             "#fdca26"
            ],
            [
             1,
             "#f0f921"
            ]
           ]
          },
          "colorway": [
           "#636efa",
           "#EF553B",
           "#00cc96",
           "#ab63fa",
           "#FFA15A",
           "#19d3f3",
           "#FF6692",
           "#B6E880",
           "#FF97FF",
           "#FECB52"
          ],
          "font": {
           "color": "#2a3f5f"
          },
          "geo": {
           "bgcolor": "white",
           "lakecolor": "white",
           "landcolor": "#E5ECF6",
           "showlakes": true,
           "showland": true,
           "subunitcolor": "white"
          },
          "hoverlabel": {
           "align": "left"
          },
          "hovermode": "closest",
          "mapbox": {
           "style": "light"
          },
          "paper_bgcolor": "white",
          "plot_bgcolor": "#E5ECF6",
          "polar": {
           "angularaxis": {
            "gridcolor": "white",
            "linecolor": "white",
            "ticks": ""
           },
           "bgcolor": "#E5ECF6",
           "radialaxis": {
            "gridcolor": "white",
            "linecolor": "white",
            "ticks": ""
           }
          },
          "scene": {
           "xaxis": {
            "backgroundcolor": "#E5ECF6",
            "gridcolor": "white",
            "gridwidth": 2,
            "linecolor": "white",
            "showbackground": true,
            "ticks": "",
            "zerolinecolor": "white"
           },
           "yaxis": {
            "backgroundcolor": "#E5ECF6",
            "gridcolor": "white",
            "gridwidth": 2,
            "linecolor": "white",
            "showbackground": true,
            "ticks": "",
            "zerolinecolor": "white"
           },
           "zaxis": {
            "backgroundcolor": "#E5ECF6",
            "gridcolor": "white",
            "gridwidth": 2,
            "linecolor": "white",
            "showbackground": true,
            "ticks": "",
            "zerolinecolor": "white"
           }
          },
          "shapedefaults": {
           "line": {
            "color": "#2a3f5f"
           }
          },
          "ternary": {
           "aaxis": {
            "gridcolor": "white",
            "linecolor": "white",
            "ticks": ""
           },
           "baxis": {
            "gridcolor": "white",
            "linecolor": "white",
            "ticks": ""
           },
           "bgcolor": "#E5ECF6",
           "caxis": {
            "gridcolor": "white",
            "linecolor": "white",
            "ticks": ""
           }
          },
          "title": {
           "x": 0.05
          },
          "xaxis": {
           "automargin": true,
           "gridcolor": "white",
           "linecolor": "white",
           "ticks": "",
           "title": {
            "standoff": 15
           },
           "zerolinecolor": "white",
           "zerolinewidth": 2
          },
          "yaxis": {
           "automargin": true,
           "gridcolor": "white",
           "linecolor": "white",
           "ticks": "",
           "title": {
            "standoff": 15
           },
           "zerolinecolor": "white",
           "zerolinewidth": 2
          }
         }
        },
        "title": {
         "text": "Access to Information segmented by Age Groups"
        }
       }
      }
     },
     "metadata": {},
     "output_type": "display_data"
    }
   ],
   "source": [
    "age_information = get_age_data('Information')\n",
    "plot_age(age_information, \"Access to Information segmented by Age Groups\")"
   ]
  },
  {
   "cell_type": "markdown",
   "metadata": {},
   "source": [
    "## Anlaysis on Customer Comments \n",
    "### Customers seem to be satisfied with the Prodcut Quality, given the product's availability.(As availabilty of products was proven to be worse from previous analysis done on Availability.)\n",
    "### Customers seem to be dissatisfied in general with the service being provided by the Stores. \n",
    "### Coming to the major area of dissatisfaction of customers, it seems that customers are not satisfied by their In-Store shopping experiences. Most of the comments are based on making or suggesting In-Store Improvements across all divisions of products. This could again involve the lower availability of prodcuts across the divisions. "
   ]
  },
  {
   "cell_type": "code",
   "execution_count": 47,
   "metadata": {},
   "outputs": [],
   "source": [
    "question_division = customer_data[['Question','Division']]\n",
    "question_division = pd.concat([question_division.iloc[:,0], pd.get_dummies(question_division.Division)], axis = 1)\n",
    "question_division = question_division.groupby(question_division['Question']).sum().reset_index()"
   ]
  },
  {
   "cell_type": "code",
   "execution_count": 49,
   "metadata": {},
   "outputs": [
    {
     "data": {
      "application/vnd.plotly.v1+json": {
       "config": {
        "plotlyServerURL": "https://plot.ly"
       },
       "data": [
        {
         "name": "Apparel",
         "type": "bar",
         "x": [
          "Dissatisfaction Comments",
          "In-store Shopping Improvement Comments",
          "Product Quality Dissatisfaction Comments",
          "Product Quality Satisfaction Comments",
          "Satisfaction Comments"
         ],
         "y": [
          107,
          350,
          32,
          72,
          266
         ]
        },
        {
         "name": "Baby",
         "type": "bar",
         "x": [
          "Dissatisfaction Comments",
          "In-store Shopping Improvement Comments",
          "Product Quality Dissatisfaction Comments",
          "Product Quality Satisfaction Comments",
          "Satisfaction Comments"
         ],
         "y": [
          121,
          318,
          35,
          78,
          249
         ]
        },
        {
         "name": "House",
         "type": "bar",
         "x": [
          "Dissatisfaction Comments",
          "In-store Shopping Improvement Comments",
          "Product Quality Dissatisfaction Comments",
          "Product Quality Satisfaction Comments",
          "Satisfaction Comments"
         ],
         "y": [
          119,
          314,
          27,
          71,
          269
         ]
        },
        {
         "name": "Other",
         "type": "bar",
         "x": [
          "Dissatisfaction Comments",
          "In-store Shopping Improvement Comments",
          "Product Quality Dissatisfaction Comments",
          "Product Quality Satisfaction Comments",
          "Satisfaction Comments"
         ],
         "y": [
          103,
          315,
          32,
          73,
          261
         ]
        }
       ],
       "layout": {
        "barmode": "group",
        "template": {
         "data": {
          "bar": [
           {
            "error_x": {
             "color": "#2a3f5f"
            },
            "error_y": {
             "color": "#2a3f5f"
            },
            "marker": {
             "line": {
              "color": "#E5ECF6",
              "width": 0.5
             },
             "pattern": {
              "fillmode": "overlay",
              "size": 10,
              "solidity": 0.2
             }
            },
            "type": "bar"
           }
          ],
          "barpolar": [
           {
            "marker": {
             "line": {
              "color": "#E5ECF6",
              "width": 0.5
             },
             "pattern": {
              "fillmode": "overlay",
              "size": 10,
              "solidity": 0.2
             }
            },
            "type": "barpolar"
           }
          ],
          "carpet": [
           {
            "aaxis": {
             "endlinecolor": "#2a3f5f",
             "gridcolor": "white",
             "linecolor": "white",
             "minorgridcolor": "white",
             "startlinecolor": "#2a3f5f"
            },
            "baxis": {
             "endlinecolor": "#2a3f5f",
             "gridcolor": "white",
             "linecolor": "white",
             "minorgridcolor": "white",
             "startlinecolor": "#2a3f5f"
            },
            "type": "carpet"
           }
          ],
          "choropleth": [
           {
            "colorbar": {
             "outlinewidth": 0,
             "ticks": ""
            },
            "type": "choropleth"
           }
          ],
          "contour": [
           {
            "colorbar": {
             "outlinewidth": 0,
             "ticks": ""
            },
            "colorscale": [
             [
              0,
              "#0d0887"
             ],
             [
              0.1111111111111111,
              "#46039f"
             ],
             [
              0.2222222222222222,
              "#7201a8"
             ],
             [
              0.3333333333333333,
              "#9c179e"
             ],
             [
              0.4444444444444444,
              "#bd3786"
             ],
             [
              0.5555555555555556,
              "#d8576b"
             ],
             [
              0.6666666666666666,
              "#ed7953"
             ],
             [
              0.7777777777777778,
              "#fb9f3a"
             ],
             [
              0.8888888888888888,
              "#fdca26"
             ],
             [
              1,
              "#f0f921"
             ]
            ],
            "type": "contour"
           }
          ],
          "contourcarpet": [
           {
            "colorbar": {
             "outlinewidth": 0,
             "ticks": ""
            },
            "type": "contourcarpet"
           }
          ],
          "heatmap": [
           {
            "colorbar": {
             "outlinewidth": 0,
             "ticks": ""
            },
            "colorscale": [
             [
              0,
              "#0d0887"
             ],
             [
              0.1111111111111111,
              "#46039f"
             ],
             [
              0.2222222222222222,
              "#7201a8"
             ],
             [
              0.3333333333333333,
              "#9c179e"
             ],
             [
              0.4444444444444444,
              "#bd3786"
             ],
             [
              0.5555555555555556,
              "#d8576b"
             ],
             [
              0.6666666666666666,
              "#ed7953"
             ],
             [
              0.7777777777777778,
              "#fb9f3a"
             ],
             [
              0.8888888888888888,
              "#fdca26"
             ],
             [
              1,
              "#f0f921"
             ]
            ],
            "type": "heatmap"
           }
          ],
          "heatmapgl": [
           {
            "colorbar": {
             "outlinewidth": 0,
             "ticks": ""
            },
            "colorscale": [
             [
              0,
              "#0d0887"
             ],
             [
              0.1111111111111111,
              "#46039f"
             ],
             [
              0.2222222222222222,
              "#7201a8"
             ],
             [
              0.3333333333333333,
              "#9c179e"
             ],
             [
              0.4444444444444444,
              "#bd3786"
             ],
             [
              0.5555555555555556,
              "#d8576b"
             ],
             [
              0.6666666666666666,
              "#ed7953"
             ],
             [
              0.7777777777777778,
              "#fb9f3a"
             ],
             [
              0.8888888888888888,
              "#fdca26"
             ],
             [
              1,
              "#f0f921"
             ]
            ],
            "type": "heatmapgl"
           }
          ],
          "histogram": [
           {
            "marker": {
             "pattern": {
              "fillmode": "overlay",
              "size": 10,
              "solidity": 0.2
             }
            },
            "type": "histogram"
           }
          ],
          "histogram2d": [
           {
            "colorbar": {
             "outlinewidth": 0,
             "ticks": ""
            },
            "colorscale": [
             [
              0,
              "#0d0887"
             ],
             [
              0.1111111111111111,
              "#46039f"
             ],
             [
              0.2222222222222222,
              "#7201a8"
             ],
             [
              0.3333333333333333,
              "#9c179e"
             ],
             [
              0.4444444444444444,
              "#bd3786"
             ],
             [
              0.5555555555555556,
              "#d8576b"
             ],
             [
              0.6666666666666666,
              "#ed7953"
             ],
             [
              0.7777777777777778,
              "#fb9f3a"
             ],
             [
              0.8888888888888888,
              "#fdca26"
             ],
             [
              1,
              "#f0f921"
             ]
            ],
            "type": "histogram2d"
           }
          ],
          "histogram2dcontour": [
           {
            "colorbar": {
             "outlinewidth": 0,
             "ticks": ""
            },
            "colorscale": [
             [
              0,
              "#0d0887"
             ],
             [
              0.1111111111111111,
              "#46039f"
             ],
             [
              0.2222222222222222,
              "#7201a8"
             ],
             [
              0.3333333333333333,
              "#9c179e"
             ],
             [
              0.4444444444444444,
              "#bd3786"
             ],
             [
              0.5555555555555556,
              "#d8576b"
             ],
             [
              0.6666666666666666,
              "#ed7953"
             ],
             [
              0.7777777777777778,
              "#fb9f3a"
             ],
             [
              0.8888888888888888,
              "#fdca26"
             ],
             [
              1,
              "#f0f921"
             ]
            ],
            "type": "histogram2dcontour"
           }
          ],
          "mesh3d": [
           {
            "colorbar": {
             "outlinewidth": 0,
             "ticks": ""
            },
            "type": "mesh3d"
           }
          ],
          "parcoords": [
           {
            "line": {
             "colorbar": {
              "outlinewidth": 0,
              "ticks": ""
             }
            },
            "type": "parcoords"
           }
          ],
          "pie": [
           {
            "automargin": true,
            "type": "pie"
           }
          ],
          "scatter": [
           {
            "marker": {
             "colorbar": {
              "outlinewidth": 0,
              "ticks": ""
             }
            },
            "type": "scatter"
           }
          ],
          "scatter3d": [
           {
            "line": {
             "colorbar": {
              "outlinewidth": 0,
              "ticks": ""
             }
            },
            "marker": {
             "colorbar": {
              "outlinewidth": 0,
              "ticks": ""
             }
            },
            "type": "scatter3d"
           }
          ],
          "scattercarpet": [
           {
            "marker": {
             "colorbar": {
              "outlinewidth": 0,
              "ticks": ""
             }
            },
            "type": "scattercarpet"
           }
          ],
          "scattergeo": [
           {
            "marker": {
             "colorbar": {
              "outlinewidth": 0,
              "ticks": ""
             }
            },
            "type": "scattergeo"
           }
          ],
          "scattergl": [
           {
            "marker": {
             "colorbar": {
              "outlinewidth": 0,
              "ticks": ""
             }
            },
            "type": "scattergl"
           }
          ],
          "scattermapbox": [
           {
            "marker": {
             "colorbar": {
              "outlinewidth": 0,
              "ticks": ""
             }
            },
            "type": "scattermapbox"
           }
          ],
          "scatterpolar": [
           {
            "marker": {
             "colorbar": {
              "outlinewidth": 0,
              "ticks": ""
             }
            },
            "type": "scatterpolar"
           }
          ],
          "scatterpolargl": [
           {
            "marker": {
             "colorbar": {
              "outlinewidth": 0,
              "ticks": ""
             }
            },
            "type": "scatterpolargl"
           }
          ],
          "scatterternary": [
           {
            "marker": {
             "colorbar": {
              "outlinewidth": 0,
              "ticks": ""
             }
            },
            "type": "scatterternary"
           }
          ],
          "surface": [
           {
            "colorbar": {
             "outlinewidth": 0,
             "ticks": ""
            },
            "colorscale": [
             [
              0,
              "#0d0887"
             ],
             [
              0.1111111111111111,
              "#46039f"
             ],
             [
              0.2222222222222222,
              "#7201a8"
             ],
             [
              0.3333333333333333,
              "#9c179e"
             ],
             [
              0.4444444444444444,
              "#bd3786"
             ],
             [
              0.5555555555555556,
              "#d8576b"
             ],
             [
              0.6666666666666666,
              "#ed7953"
             ],
             [
              0.7777777777777778,
              "#fb9f3a"
             ],
             [
              0.8888888888888888,
              "#fdca26"
             ],
             [
              1,
              "#f0f921"
             ]
            ],
            "type": "surface"
           }
          ],
          "table": [
           {
            "cells": {
             "fill": {
              "color": "#EBF0F8"
             },
             "line": {
              "color": "white"
             }
            },
            "header": {
             "fill": {
              "color": "#C8D4E3"
             },
             "line": {
              "color": "white"
             }
            },
            "type": "table"
           }
          ]
         },
         "layout": {
          "annotationdefaults": {
           "arrowcolor": "#2a3f5f",
           "arrowhead": 0,
           "arrowwidth": 1
          },
          "autotypenumbers": "strict",
          "coloraxis": {
           "colorbar": {
            "outlinewidth": 0,
            "ticks": ""
           }
          },
          "colorscale": {
           "diverging": [
            [
             0,
             "#8e0152"
            ],
            [
             0.1,
             "#c51b7d"
            ],
            [
             0.2,
             "#de77ae"
            ],
            [
             0.3,
             "#f1b6da"
            ],
            [
             0.4,
             "#fde0ef"
            ],
            [
             0.5,
             "#f7f7f7"
            ],
            [
             0.6,
             "#e6f5d0"
            ],
            [
             0.7,
             "#b8e186"
            ],
            [
             0.8,
             "#7fbc41"
            ],
            [
             0.9,
             "#4d9221"
            ],
            [
             1,
             "#276419"
            ]
           ],
           "sequential": [
            [
             0,
             "#0d0887"
            ],
            [
             0.1111111111111111,
             "#46039f"
            ],
            [
             0.2222222222222222,
             "#7201a8"
            ],
            [
             0.3333333333333333,
             "#9c179e"
            ],
            [
             0.4444444444444444,
             "#bd3786"
            ],
            [
             0.5555555555555556,
             "#d8576b"
            ],
            [
             0.6666666666666666,
             "#ed7953"
            ],
            [
             0.7777777777777778,
             "#fb9f3a"
            ],
            [
             0.8888888888888888,
             "#fdca26"
            ],
            [
             1,
             "#f0f921"
            ]
           ],
           "sequentialminus": [
            [
             0,
             "#0d0887"
            ],
            [
             0.1111111111111111,
             "#46039f"
            ],
            [
             0.2222222222222222,
             "#7201a8"
            ],
            [
             0.3333333333333333,
             "#9c179e"
            ],
            [
             0.4444444444444444,
             "#bd3786"
            ],
            [
             0.5555555555555556,
             "#d8576b"
            ],
            [
             0.6666666666666666,
             "#ed7953"
            ],
            [
             0.7777777777777778,
             "#fb9f3a"
            ],
            [
             0.8888888888888888,
             "#fdca26"
            ],
            [
             1,
             "#f0f921"
            ]
           ]
          },
          "colorway": [
           "#636efa",
           "#EF553B",
           "#00cc96",
           "#ab63fa",
           "#FFA15A",
           "#19d3f3",
           "#FF6692",
           "#B6E880",
           "#FF97FF",
           "#FECB52"
          ],
          "font": {
           "color": "#2a3f5f"
          },
          "geo": {
           "bgcolor": "white",
           "lakecolor": "white",
           "landcolor": "#E5ECF6",
           "showlakes": true,
           "showland": true,
           "subunitcolor": "white"
          },
          "hoverlabel": {
           "align": "left"
          },
          "hovermode": "closest",
          "mapbox": {
           "style": "light"
          },
          "paper_bgcolor": "white",
          "plot_bgcolor": "#E5ECF6",
          "polar": {
           "angularaxis": {
            "gridcolor": "white",
            "linecolor": "white",
            "ticks": ""
           },
           "bgcolor": "#E5ECF6",
           "radialaxis": {
            "gridcolor": "white",
            "linecolor": "white",
            "ticks": ""
           }
          },
          "scene": {
           "xaxis": {
            "backgroundcolor": "#E5ECF6",
            "gridcolor": "white",
            "gridwidth": 2,
            "linecolor": "white",
            "showbackground": true,
            "ticks": "",
            "zerolinecolor": "white"
           },
           "yaxis": {
            "backgroundcolor": "#E5ECF6",
            "gridcolor": "white",
            "gridwidth": 2,
            "linecolor": "white",
            "showbackground": true,
            "ticks": "",
            "zerolinecolor": "white"
           },
           "zaxis": {
            "backgroundcolor": "#E5ECF6",
            "gridcolor": "white",
            "gridwidth": 2,
            "linecolor": "white",
            "showbackground": true,
            "ticks": "",
            "zerolinecolor": "white"
           }
          },
          "shapedefaults": {
           "line": {
            "color": "#2a3f5f"
           }
          },
          "ternary": {
           "aaxis": {
            "gridcolor": "white",
            "linecolor": "white",
            "ticks": ""
           },
           "baxis": {
            "gridcolor": "white",
            "linecolor": "white",
            "ticks": ""
           },
           "bgcolor": "#E5ECF6",
           "caxis": {
            "gridcolor": "white",
            "linecolor": "white",
            "ticks": ""
           }
          },
          "title": {
           "x": 0.05
          },
          "xaxis": {
           "automargin": true,
           "gridcolor": "white",
           "linecolor": "white",
           "ticks": "",
           "title": {
            "standoff": 15
           },
           "zerolinecolor": "white",
           "zerolinewidth": 2
          },
          "yaxis": {
           "automargin": true,
           "gridcolor": "white",
           "linecolor": "white",
           "ticks": "",
           "title": {
            "standoff": 15
           },
           "zerolinecolor": "white",
           "zerolinewidth": 2
          }
         }
        },
        "title": {
         "text": "Customer Comments by Division"
        }
       }
      }
     },
     "metadata": {},
     "output_type": "display_data"
    }
   ],
   "source": [
    "fig = go.Figure(data=[\n",
    "    go.Bar(name='Apparel', x=question_division['Question'], y=question_division['Apparel']),\n",
    "    go.Bar(name='Baby', x=question_division['Question'], y=question_division['Baby']),\n",
    "    go.Bar(name='House', x=question_division['Question'], y=question_division['House']),\n",
    "    go.Bar(name='Other', x=question_division['Question'], y=question_division['Other'])\n",
    "\n",
    "])\n",
    "\n",
    "fig.update_layout(barmode='group', title = 'Customer Comments by Division')\n",
    "fig.show()"
   ]
  },
  {
   "cell_type": "markdown",
   "metadata": {},
   "source": [
    "## Analyzing if Bad Availability of products is due to not being restocked\n",
    "### From the plot below, it is evident that the availability is just poor at all business times. If the poor(worse) availability were to spike at certain time of the day, then that could be because of not restocking the shelves. But seems as though, the prodcuts are not in stock to be restocked, hence customers tend to find the availability to be poor at all times of the day. "
   ]
  },
  {
   "cell_type": "code",
   "execution_count": 55,
   "metadata": {},
   "outputs": [],
   "source": [
    "timeofday_availability = customer_data[['Time Of Day', 'Availability']]\n",
    "timeofday_availability = pd.concat([timeofday_availability.iloc[:,0], pd.get_dummies(timeofday_availability.Availability)], axis = 1)\n",
    "timeofday_availability = timeofday_availability.groupby(timeofday_availability['Time Of Day']).sum().reset_index()"
   ]
  },
  {
   "cell_type": "code",
   "execution_count": 56,
   "metadata": {},
   "outputs": [
    {
     "data": {
      "application/vnd.plotly.v1+json": {
       "config": {
        "plotlyServerURL": "https://plot.ly"
       },
       "data": [
        {
         "name": "Same",
         "type": "bar",
         "x": [
          "10am",
          "11am",
          "12pm",
          "1pm",
          "2pm",
          "3pm",
          "4pm",
          "5pm",
          "6pm",
          "8am",
          "9am"
         ],
         "y": [
          50,
          53,
          32,
          36,
          38,
          46,
          46,
          44,
          37,
          57,
          42
         ]
        },
        {
         "name": "Worse",
         "type": "bar",
         "x": [
          "10am",
          "11am",
          "12pm",
          "1pm",
          "2pm",
          "3pm",
          "4pm",
          "5pm",
          "6pm",
          "8am",
          "9am"
         ],
         "y": [
          190,
          157,
          167,
          169,
          162,
          142,
          150,
          144,
          153,
          175,
          170
         ]
        },
        {
         "name": "Better",
         "type": "bar",
         "x": [
          "10am",
          "11am",
          "12pm",
          "1pm",
          "2pm",
          "3pm",
          "4pm",
          "5pm",
          "6pm",
          "8am",
          "9am"
         ],
         "y": [
          86,
          101,
          90,
          78,
          79,
          88,
          94,
          78,
          91,
          68,
          99
         ]
        }
       ],
       "layout": {
        "barmode": "group",
        "template": {
         "data": {
          "bar": [
           {
            "error_x": {
             "color": "#2a3f5f"
            },
            "error_y": {
             "color": "#2a3f5f"
            },
            "marker": {
             "line": {
              "color": "#E5ECF6",
              "width": 0.5
             },
             "pattern": {
              "fillmode": "overlay",
              "size": 10,
              "solidity": 0.2
             }
            },
            "type": "bar"
           }
          ],
          "barpolar": [
           {
            "marker": {
             "line": {
              "color": "#E5ECF6",
              "width": 0.5
             },
             "pattern": {
              "fillmode": "overlay",
              "size": 10,
              "solidity": 0.2
             }
            },
            "type": "barpolar"
           }
          ],
          "carpet": [
           {
            "aaxis": {
             "endlinecolor": "#2a3f5f",
             "gridcolor": "white",
             "linecolor": "white",
             "minorgridcolor": "white",
             "startlinecolor": "#2a3f5f"
            },
            "baxis": {
             "endlinecolor": "#2a3f5f",
             "gridcolor": "white",
             "linecolor": "white",
             "minorgridcolor": "white",
             "startlinecolor": "#2a3f5f"
            },
            "type": "carpet"
           }
          ],
          "choropleth": [
           {
            "colorbar": {
             "outlinewidth": 0,
             "ticks": ""
            },
            "type": "choropleth"
           }
          ],
          "contour": [
           {
            "colorbar": {
             "outlinewidth": 0,
             "ticks": ""
            },
            "colorscale": [
             [
              0,
              "#0d0887"
             ],
             [
              0.1111111111111111,
              "#46039f"
             ],
             [
              0.2222222222222222,
              "#7201a8"
             ],
             [
              0.3333333333333333,
              "#9c179e"
             ],
             [
              0.4444444444444444,
              "#bd3786"
             ],
             [
              0.5555555555555556,
              "#d8576b"
             ],
             [
              0.6666666666666666,
              "#ed7953"
             ],
             [
              0.7777777777777778,
              "#fb9f3a"
             ],
             [
              0.8888888888888888,
              "#fdca26"
             ],
             [
              1,
              "#f0f921"
             ]
            ],
            "type": "contour"
           }
          ],
          "contourcarpet": [
           {
            "colorbar": {
             "outlinewidth": 0,
             "ticks": ""
            },
            "type": "contourcarpet"
           }
          ],
          "heatmap": [
           {
            "colorbar": {
             "outlinewidth": 0,
             "ticks": ""
            },
            "colorscale": [
             [
              0,
              "#0d0887"
             ],
             [
              0.1111111111111111,
              "#46039f"
             ],
             [
              0.2222222222222222,
              "#7201a8"
             ],
             [
              0.3333333333333333,
              "#9c179e"
             ],
             [
              0.4444444444444444,
              "#bd3786"
             ],
             [
              0.5555555555555556,
              "#d8576b"
             ],
             [
              0.6666666666666666,
              "#ed7953"
             ],
             [
              0.7777777777777778,
              "#fb9f3a"
             ],
             [
              0.8888888888888888,
              "#fdca26"
             ],
             [
              1,
              "#f0f921"
             ]
            ],
            "type": "heatmap"
           }
          ],
          "heatmapgl": [
           {
            "colorbar": {
             "outlinewidth": 0,
             "ticks": ""
            },
            "colorscale": [
             [
              0,
              "#0d0887"
             ],
             [
              0.1111111111111111,
              "#46039f"
             ],
             [
              0.2222222222222222,
              "#7201a8"
             ],
             [
              0.3333333333333333,
              "#9c179e"
             ],
             [
              0.4444444444444444,
              "#bd3786"
             ],
             [
              0.5555555555555556,
              "#d8576b"
             ],
             [
              0.6666666666666666,
              "#ed7953"
             ],
             [
              0.7777777777777778,
              "#fb9f3a"
             ],
             [
              0.8888888888888888,
              "#fdca26"
             ],
             [
              1,
              "#f0f921"
             ]
            ],
            "type": "heatmapgl"
           }
          ],
          "histogram": [
           {
            "marker": {
             "pattern": {
              "fillmode": "overlay",
              "size": 10,
              "solidity": 0.2
             }
            },
            "type": "histogram"
           }
          ],
          "histogram2d": [
           {
            "colorbar": {
             "outlinewidth": 0,
             "ticks": ""
            },
            "colorscale": [
             [
              0,
              "#0d0887"
             ],
             [
              0.1111111111111111,
              "#46039f"
             ],
             [
              0.2222222222222222,
              "#7201a8"
             ],
             [
              0.3333333333333333,
              "#9c179e"
             ],
             [
              0.4444444444444444,
              "#bd3786"
             ],
             [
              0.5555555555555556,
              "#d8576b"
             ],
             [
              0.6666666666666666,
              "#ed7953"
             ],
             [
              0.7777777777777778,
              "#fb9f3a"
             ],
             [
              0.8888888888888888,
              "#fdca26"
             ],
             [
              1,
              "#f0f921"
             ]
            ],
            "type": "histogram2d"
           }
          ],
          "histogram2dcontour": [
           {
            "colorbar": {
             "outlinewidth": 0,
             "ticks": ""
            },
            "colorscale": [
             [
              0,
              "#0d0887"
             ],
             [
              0.1111111111111111,
              "#46039f"
             ],
             [
              0.2222222222222222,
              "#7201a8"
             ],
             [
              0.3333333333333333,
              "#9c179e"
             ],
             [
              0.4444444444444444,
              "#bd3786"
             ],
             [
              0.5555555555555556,
              "#d8576b"
             ],
             [
              0.6666666666666666,
              "#ed7953"
             ],
             [
              0.7777777777777778,
              "#fb9f3a"
             ],
             [
              0.8888888888888888,
              "#fdca26"
             ],
             [
              1,
              "#f0f921"
             ]
            ],
            "type": "histogram2dcontour"
           }
          ],
          "mesh3d": [
           {
            "colorbar": {
             "outlinewidth": 0,
             "ticks": ""
            },
            "type": "mesh3d"
           }
          ],
          "parcoords": [
           {
            "line": {
             "colorbar": {
              "outlinewidth": 0,
              "ticks": ""
             }
            },
            "type": "parcoords"
           }
          ],
          "pie": [
           {
            "automargin": true,
            "type": "pie"
           }
          ],
          "scatter": [
           {
            "marker": {
             "colorbar": {
              "outlinewidth": 0,
              "ticks": ""
             }
            },
            "type": "scatter"
           }
          ],
          "scatter3d": [
           {
            "line": {
             "colorbar": {
              "outlinewidth": 0,
              "ticks": ""
             }
            },
            "marker": {
             "colorbar": {
              "outlinewidth": 0,
              "ticks": ""
             }
            },
            "type": "scatter3d"
           }
          ],
          "scattercarpet": [
           {
            "marker": {
             "colorbar": {
              "outlinewidth": 0,
              "ticks": ""
             }
            },
            "type": "scattercarpet"
           }
          ],
          "scattergeo": [
           {
            "marker": {
             "colorbar": {
              "outlinewidth": 0,
              "ticks": ""
             }
            },
            "type": "scattergeo"
           }
          ],
          "scattergl": [
           {
            "marker": {
             "colorbar": {
              "outlinewidth": 0,
              "ticks": ""
             }
            },
            "type": "scattergl"
           }
          ],
          "scattermapbox": [
           {
            "marker": {
             "colorbar": {
              "outlinewidth": 0,
              "ticks": ""
             }
            },
            "type": "scattermapbox"
           }
          ],
          "scatterpolar": [
           {
            "marker": {
             "colorbar": {
              "outlinewidth": 0,
              "ticks": ""
             }
            },
            "type": "scatterpolar"
           }
          ],
          "scatterpolargl": [
           {
            "marker": {
             "colorbar": {
              "outlinewidth": 0,
              "ticks": ""
             }
            },
            "type": "scatterpolargl"
           }
          ],
          "scatterternary": [
           {
            "marker": {
             "colorbar": {
              "outlinewidth": 0,
              "ticks": ""
             }
            },
            "type": "scatterternary"
           }
          ],
          "surface": [
           {
            "colorbar": {
             "outlinewidth": 0,
             "ticks": ""
            },
            "colorscale": [
             [
              0,
              "#0d0887"
             ],
             [
              0.1111111111111111,
              "#46039f"
             ],
             [
              0.2222222222222222,
              "#7201a8"
             ],
             [
              0.3333333333333333,
              "#9c179e"
             ],
             [
              0.4444444444444444,
              "#bd3786"
             ],
             [
              0.5555555555555556,
              "#d8576b"
             ],
             [
              0.6666666666666666,
              "#ed7953"
             ],
             [
              0.7777777777777778,
              "#fb9f3a"
             ],
             [
              0.8888888888888888,
              "#fdca26"
             ],
             [
              1,
              "#f0f921"
             ]
            ],
            "type": "surface"
           }
          ],
          "table": [
           {
            "cells": {
             "fill": {
              "color": "#EBF0F8"
             },
             "line": {
              "color": "white"
             }
            },
            "header": {
             "fill": {
              "color": "#C8D4E3"
             },
             "line": {
              "color": "white"
             }
            },
            "type": "table"
           }
          ]
         },
         "layout": {
          "annotationdefaults": {
           "arrowcolor": "#2a3f5f",
           "arrowhead": 0,
           "arrowwidth": 1
          },
          "autotypenumbers": "strict",
          "coloraxis": {
           "colorbar": {
            "outlinewidth": 0,
            "ticks": ""
           }
          },
          "colorscale": {
           "diverging": [
            [
             0,
             "#8e0152"
            ],
            [
             0.1,
             "#c51b7d"
            ],
            [
             0.2,
             "#de77ae"
            ],
            [
             0.3,
             "#f1b6da"
            ],
            [
             0.4,
             "#fde0ef"
            ],
            [
             0.5,
             "#f7f7f7"
            ],
            [
             0.6,
             "#e6f5d0"
            ],
            [
             0.7,
             "#b8e186"
            ],
            [
             0.8,
             "#7fbc41"
            ],
            [
             0.9,
             "#4d9221"
            ],
            [
             1,
             "#276419"
            ]
           ],
           "sequential": [
            [
             0,
             "#0d0887"
            ],
            [
             0.1111111111111111,
             "#46039f"
            ],
            [
             0.2222222222222222,
             "#7201a8"
            ],
            [
             0.3333333333333333,
             "#9c179e"
            ],
            [
             0.4444444444444444,
             "#bd3786"
            ],
            [
             0.5555555555555556,
             "#d8576b"
            ],
            [
             0.6666666666666666,
             "#ed7953"
            ],
            [
             0.7777777777777778,
             "#fb9f3a"
            ],
            [
             0.8888888888888888,
             "#fdca26"
            ],
            [
             1,
             "#f0f921"
            ]
           ],
           "sequentialminus": [
            [
             0,
             "#0d0887"
            ],
            [
             0.1111111111111111,
             "#46039f"
            ],
            [
             0.2222222222222222,
             "#7201a8"
            ],
            [
             0.3333333333333333,
             "#9c179e"
            ],
            [
             0.4444444444444444,
             "#bd3786"
            ],
            [
             0.5555555555555556,
             "#d8576b"
            ],
            [
             0.6666666666666666,
             "#ed7953"
            ],
            [
             0.7777777777777778,
             "#fb9f3a"
            ],
            [
             0.8888888888888888,
             "#fdca26"
            ],
            [
             1,
             "#f0f921"
            ]
           ]
          },
          "colorway": [
           "#636efa",
           "#EF553B",
           "#00cc96",
           "#ab63fa",
           "#FFA15A",
           "#19d3f3",
           "#FF6692",
           "#B6E880",
           "#FF97FF",
           "#FECB52"
          ],
          "font": {
           "color": "#2a3f5f"
          },
          "geo": {
           "bgcolor": "white",
           "lakecolor": "white",
           "landcolor": "#E5ECF6",
           "showlakes": true,
           "showland": true,
           "subunitcolor": "white"
          },
          "hoverlabel": {
           "align": "left"
          },
          "hovermode": "closest",
          "mapbox": {
           "style": "light"
          },
          "paper_bgcolor": "white",
          "plot_bgcolor": "#E5ECF6",
          "polar": {
           "angularaxis": {
            "gridcolor": "white",
            "linecolor": "white",
            "ticks": ""
           },
           "bgcolor": "#E5ECF6",
           "radialaxis": {
            "gridcolor": "white",
            "linecolor": "white",
            "ticks": ""
           }
          },
          "scene": {
           "xaxis": {
            "backgroundcolor": "#E5ECF6",
            "gridcolor": "white",
            "gridwidth": 2,
            "linecolor": "white",
            "showbackground": true,
            "ticks": "",
            "zerolinecolor": "white"
           },
           "yaxis": {
            "backgroundcolor": "#E5ECF6",
            "gridcolor": "white",
            "gridwidth": 2,
            "linecolor": "white",
            "showbackground": true,
            "ticks": "",
            "zerolinecolor": "white"
           },
           "zaxis": {
            "backgroundcolor": "#E5ECF6",
            "gridcolor": "white",
            "gridwidth": 2,
            "linecolor": "white",
            "showbackground": true,
            "ticks": "",
            "zerolinecolor": "white"
           }
          },
          "shapedefaults": {
           "line": {
            "color": "#2a3f5f"
           }
          },
          "ternary": {
           "aaxis": {
            "gridcolor": "white",
            "linecolor": "white",
            "ticks": ""
           },
           "baxis": {
            "gridcolor": "white",
            "linecolor": "white",
            "ticks": ""
           },
           "bgcolor": "#E5ECF6",
           "caxis": {
            "gridcolor": "white",
            "linecolor": "white",
            "ticks": ""
           }
          },
          "title": {
           "x": 0.05
          },
          "xaxis": {
           "automargin": true,
           "gridcolor": "white",
           "linecolor": "white",
           "ticks": "",
           "title": {
            "standoff": 15
           },
           "zerolinecolor": "white",
           "zerolinewidth": 2
          },
          "yaxis": {
           "automargin": true,
           "gridcolor": "white",
           "linecolor": "white",
           "ticks": "",
           "title": {
            "standoff": 15
           },
           "zerolinecolor": "white",
           "zerolinewidth": 2
          }
         }
        },
        "title": {
         "text": "Availability of Products VS Time Of Day"
        }
       }
      }
     },
     "metadata": {},
     "output_type": "display_data"
    }
   ],
   "source": [
    "fig = go.Figure(data=[\n",
    "    go.Bar(name='Same', x=timeofday_availability['Time Of Day'], y=timeofday_availability['Same']),\n",
    "    go.Bar(name='Worse', x=timeofday_availability['Time Of Day'], y=timeofday_availability['Worse']),\n",
    "    go.Bar(name='Better', x=timeofday_availability['Time Of Day'], y=timeofday_availability['Better'])\n",
    "\n",
    "])\n",
    "\n",
    "fig.update_layout(barmode='group', title = 'Availability of Products VS Time Of Day')\n",
    "fig.show()"
   ]
  }
 ],
 "metadata": {
  "interpreter": {
   "hash": "07efdcd4b820c98a756949507a4d29d7862823915ec7477944641bea022f4f62"
  },
  "kernelspec": {
   "display_name": "Python 3.8.8 64-bit ('base': conda)",
   "language": "python",
   "name": "python3"
  },
  "language_info": {
   "codemirror_mode": {
    "name": "ipython",
    "version": 3
   },
   "file_extension": ".py",
   "mimetype": "text/x-python",
   "name": "python",
   "nbconvert_exporter": "python",
   "pygments_lexer": "ipython3",
   "version": "3.8.8"
  },
  "orig_nbformat": 4
 },
 "nbformat": 4,
 "nbformat_minor": 2
}
